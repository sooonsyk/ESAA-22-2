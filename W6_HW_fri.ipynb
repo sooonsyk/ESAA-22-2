{
  "nbformat": 4,
  "nbformat_minor": 0,
  "metadata": {
    "colab": {
      "provenance": [],
      "authorship_tag": "ABX9TyPGDPoXKv5mkhPbgHnQfoLX",
      "include_colab_link": true
    },
    "kernelspec": {
      "name": "python3",
      "display_name": "Python 3"
    },
    "language_info": {
      "name": "python"
    }
  },
  "cells": [
    {
      "cell_type": "markdown",
      "metadata": {
        "id": "view-in-github",
        "colab_type": "text"
      },
      "source": [
        "<a href=\"https://colab.research.google.com/github/sooonsyk/ESAA-22-2/blob/main/W6_HW_fri.ipynb\" target=\"_parent\"><img src=\"https://colab.research.google.com/assets/colab-badge.svg\" alt=\"Open In Colab\"/></a>"
      ]
    },
    {
      "cell_type": "markdown",
      "source": [
        "#**텍스트 분석**\n",
        "- NLP(National Language Processing) : 머신이 인간의 언어를 이해하고 해석하는 데 중점\n",
        "  - 텍스트 분석을 향상하게 하는 기반 기술\n",
        "- 텍스트 분석(Text analytics, Text Mining) : 비정형 텍스트에서 의미 있는 정보를 추출하는 것에 더 중점\n",
        "  - 머신러닝, 언어 이해, 통계 등을 활용해 모델을 수립하고 정보를 추출해 비즈니스 인텔리전스나 예측 분석 등의 분석 작업 주로 수행\n",
        "  - 텍스트 분류 Text classification : text categorization 문서가 특정 분류 또는 카테고리에 속하는 것을 예측하는 기법, 지도학습 적용\n",
        "  - 감성 분석 Sentiment analysis : 텍스트에서 나타나는 주관적인 요소를 분석하는 기법 총칭\n",
        "  - 텍스트 요약 summarization : 텍스트 내에서 중요한 주제나 중심 사상을 추출하는 기법\n",
        "  - 텍스트 군집화와 유사도 측정 : 비슷한 유형의 문서에 대해 군집화 수행하는 기법, 텍스트 분류를 비지도 학습으로 수행하는 방법의 일환으로 사용, 유사도 측정 역시 문서들간의 유사도 측정해 비슷한 문서끼리\n",
        "\n",
        "  "
      ],
      "metadata": {
        "id": "OEbvuvY54qXg"
      }
    },
    {
      "cell_type": "markdown",
      "source": [
        "##1. 텍스트 분석 이해\n",
        "- 비정형 데이터인 텍스트를 분석하는 것\n",
        "- 머신러닝 알고리즘은 숫자형의 피처 기반 데이터만 입력받을 수 있기 때문에 텍스트를 머신러닝에 적용하기 위해서는 비정형 텍스트 데이터를 어떻게 피처 형태로 추출하고 추출된 피처에 의미 있는 값을 부여하는가가 매우 중요\n",
        "  - 피처 벡터화 feature vectorization/ 피처 추출 feature extraction : 텍스트를 word 기반의 다수의 피처로 추출하고 이 피처에 단어 빈도수와 같은 숫자 값을 부여하면 텍스트는 단어의 조합인 벡터값으로 변환할 수 있음 - BOW bag of words 방식 사용\n",
        "- 텍스트 분석 수행 프로세스\n",
        "  1. 텍스트 사전 준비작업(텍스트 전처리) : 텍스트를 피처로 만들기 전에 미리 클렌징, 대/소문자 변경, 특수문자 삭제 등의 클렌징 작업, 단어 등의 토큰화 작업, 의미 없는 단어 stop word 제거 작업, 어근 추출 stemming/lemmatization 등의 텍스트 정규화 작업 수행 통칭\n",
        "  2. 피처 벡터화/추출 : 사전 준비 작업으로 가공된 텍스트에서 피처를 추출하고 여기에 벡터값 할당\n",
        "  3. ML 모델 수립 및 학습/예측/평가 : 피처 벡터화된 데이터 세트에 ML 모델을 적용해 학습/예측/ 및 평가 수행\n",
        "- 파이썬 기반의 NLP, 텍스트 분석 패키지\n",
        "  - NTLK Natural language toolkit for python : 파이썬의 가장 대표적인 NLP 패키지, 방대한 데이터 세트와 서브 모듈을 가지고 있으며 NLP의 거의 모든 영역을 커버하고 있음, 많은 NLP 패키지가 NTLK의 영향을 받아 작성되고 잇음, 수행 속도가 아쉬워서 실제 대량의 데이터 기반에서는 제대로 활용되지 못 함\n",
        "  - Gensim : 토픽 모델링 분야에서 가장 두각을 나타냄, 오래전부터 토픽 모델링을 쉽게 구혀할 수 있는 기능을 제공해왔으며 Word2Vec 구현 등의 다양한 신기능 제공, SpaCy와 함께 가장 많이 쓰임\n",
        "  - SpaCy : 뛰어난 수행 성능으로 가장 주목,\n",
        "- 사이킷런은 머신러닝 위주의 라이브러리여서 NLP를 위한 다양한 라이브러리, NLP 패키지에 특화된 라이브러리 가지고 있지 않음, 하지만 텍스트를 일정 수준으로 가공하고 머신러닝 알고리즘에 텍스트 데이터를 피처로 처리하기 위한 편리한 기능 제공하고 있어 사이킷런으로도 텍스트 분석 기능 수행 가능"
      ],
      "metadata": {
        "id": "IF8YJJgE6F8K"
      }
    },
    {
      "cell_type": "markdown",
      "source": [
        "##2. 텍스트 사전 준비 작업(텍스트 전처리) - 텍스트 정규화\n",
        "- 텍스트 자체를 바로 피처로 만들 수 없음 - 가공하는 준비 작업 필요\n",
        "- **클렌징** : 텍스트에서 분석에 오히려 방해가 되는 불필요한 문자, 기호 등을 사전에 제거\n",
        "- **텍스트 토큰화** : 문서에서 문장을 분리하는 문장 토큰화와 문장에서 단어를 토큰으로 분리하는 단어 토큰화\n",
        "  - 문장 토큰화 : 문장의 마침표, 개행문자 등 문장의 마지막을 뜻하는 기호에 따라 분리하는 것이 일반적, 정규 표현식에 따른 문장 토큰화도 가능\n",
        "  - 단어 토큰화 : 문장을 단어로 토큰화, 공백 컴마 마침표 개행문자 등으로 단어를 문리하지만 정규 표현식을 이용해 다양한 유형으로 토큰화 수행할 수 있음\n",
        "      - 문장을 분리하는 구분자를 이용해 단어를 토큰화할 수 있으므로 Bag of Word와 같이 단어의 순서가 중요하지 않은 경우 단어 토큰화만 사용해도 충분\n",
        "      - 일반적으로 문장 토큰화 는 각 문장이 가지는 시맨틱적인 의미가 중요한 요소로 사용될 때 사용"
      ],
      "metadata": {
        "id": "Fjp1KWLK9HUI"
      }
    },
    {
      "cell_type": "code",
      "source": [
        "#3개의 문장으로 이루어진 텍스트 문서를 문장으로 각각 분리\n",
        "\n",
        "from nltk import sent_tokenize\n",
        "import nltk\n",
        "nltk.download('punkt')\n",
        "# NLTK의 경우 단어 사전과 같이 참조가 필요한 데이터 세트의 경우 인터넷으로 다운 받을 수 있음, 최초 다운로드만 필요\n",
        "# punkt 는 마침표 개행 문자등의 데이터 세트 다운로드\n",
        "\n",
        "text_sample = 'The Matrix is everywhere its all around us, here even in this room. \\\n",
        "              You can see it out your window or on your television. \\\n",
        "              You feel it when you go to work, or go to church or pay your taxes'\n",
        "sentences = sent_tokenize(text=text_sample)\n",
        "print(type(sentences), len(sentences))\n",
        "print(sentences)"
      ],
      "metadata": {
        "id": "vr2rPcWm4hAT",
        "colab": {
          "base_uri": "https://localhost:8080/"
        },
        "outputId": "1c17c81b-efdc-4154-ae29-fe1336b228fb"
      },
      "execution_count": 19,
      "outputs": [
        {
          "output_type": "stream",
          "name": "stdout",
          "text": [
            "<class 'list'> 3\n",
            "['The Matrix is everywhere its all around us, here even in this room.', 'You can see it out your window or on your television.', 'You feel it when you go to work, or go to church or pay your taxes']\n"
          ]
        },
        {
          "output_type": "stream",
          "name": "stderr",
          "text": [
            "[nltk_data] Downloading package punkt to /root/nltk_data...\n",
            "[nltk_data]   Package punkt is already up-to-date!\n"
          ]
        }
      ]
    },
    {
      "cell_type": "markdown",
      "source": [
        "      - sent_tokenize()가 반환하는 것은 각각의 문장으로 구성된 list 객체"
      ],
      "metadata": {
        "id": "dlsF5q8_-wIt"
      }
    },
    {
      "cell_type": "code",
      "execution_count": 20,
      "metadata": {
        "id": "hjBcrOCz3oc2",
        "colab": {
          "base_uri": "https://localhost:8080/"
        },
        "outputId": "8631727e-36aa-4ab2-d6b8-b76706f5c93a"
      },
      "outputs": [
        {
          "output_type": "stream",
          "name": "stdout",
          "text": [
            "<class 'list'> 15\n",
            "['The', 'Matrix', 'is', 'everywhere', 'its', 'all', 'around', 'us', ',', 'here', 'even', 'in', 'this', 'room', '.']\n"
          ]
        }
      ],
      "source": [
        "# 단어 토큰화\n",
        "\n",
        "from nltk import word_tokenize\n",
        "\n",
        "sentence = 'The Matrix is everywhere its all around us, here even in this room.'\n",
        "words = word_tokenize(sentence)\n",
        "print(type(words), len(words))\n",
        "print(words)"
      ]
    },
    {
      "cell_type": "code",
      "source": [
        "#조합해서 문서에 대해서 모든 단어 토큰화\n",
        "\n",
        "#여러 개의 문장으로 된 입력 데이터를 문장별로 단어 토큰화하게 만드는 함수 생성\n",
        "def tokenize_text(text):\n",
        "  #문장별로 분리\n",
        "  sentences = sent_tokenize(text)\n",
        "  #분리된 문장별 단어 토큰화\n",
        "  word_tokens = [word_tokenize(sentence) for sentence in sentences]\n",
        "  return word_tokens\n",
        "\n",
        "#여러 문장에 대해 문장별 단어 토큰화 수행\n",
        "word_tokens = tokenize_text(text_sample)\n",
        "print(type(word_tokens), len(word_tokens))\n",
        "print(word_tokens)"
      ],
      "metadata": {
        "colab": {
          "base_uri": "https://localhost:8080/"
        },
        "id": "UjDAKL4mANZK",
        "outputId": "10be07f9-4873-4350-dcb5-befd5a4f2ab3"
      },
      "execution_count": 21,
      "outputs": [
        {
          "output_type": "stream",
          "name": "stdout",
          "text": [
            "<class 'list'> 3\n",
            "[['The', 'Matrix', 'is', 'everywhere', 'its', 'all', 'around', 'us', ',', 'here', 'even', 'in', 'this', 'room', '.'], ['You', 'can', 'see', 'it', 'out', 'your', 'window', 'or', 'on', 'your', 'television', '.'], ['You', 'feel', 'it', 'when', 'you', 'go', 'to', 'work', ',', 'or', 'go', 'to', 'church', 'or', 'pay', 'your', 'taxes']]\n"
          ]
        }
      ]
    },
    {
      "cell_type": "markdown",
      "source": [
        "  - 문장을 단어별로 하나씩 토큰화할 경우 문맥적인 의미는 무시될 수밖에 없음 - n-gram 도입\n",
        "  - n-gram : 연속된 n개의 단어를 하나의 토큰화 단위로 분리해 내는 것\n",
        "    - n개 단어 크기 윈도우를 만들어 문장의 처음부터 오른쪽으로 움직이면서 토큰화 수행"
      ],
      "metadata": {
        "id": "bT8r9_Vp-2hB"
      }
    },
    {
      "cell_type": "markdown",
      "source": [
        "  - **스톱 워드 제거** : 스톱워드는 분석에 큰 의미가 없는 단어, 가령 영어에서 is, the, a, will 등 문장을 구성하는 필수 문법 요소지만 문맥적으로 큰 의미가 없는 단어가 이에 해당, 문법적인 특성으로 인해 빈번하게 나타나므로 오히려 중요한 단어로 인지될 수 있으므로 제거해야 함\n",
        "    - 언어별로 목록화 돼있음"
      ],
      "metadata": {
        "id": "KPyG4v8sBgpx"
      }
    },
    {
      "cell_type": "code",
      "source": [
        "nltk.download('stopwords')\n",
        "\n",
        "print('영어 stop words 개수 : ', len(nltk.corpus.stopwords.words('english')))\n",
        "print(nltk.corpus.stopwords.words('english')[:20])"
      ],
      "metadata": {
        "colab": {
          "base_uri": "https://localhost:8080/"
        },
        "id": "3NLE0sHbBfXO",
        "outputId": "8b7f12a0-bb2f-49c3-83a5-79b845ffed2e"
      },
      "execution_count": 22,
      "outputs": [
        {
          "output_type": "stream",
          "name": "stdout",
          "text": [
            "영어 stop words 개수 :  179\n",
            "['i', 'me', 'my', 'myself', 'we', 'our', 'ours', 'ourselves', 'you', \"you're\", \"you've\", \"you'll\", \"you'd\", 'your', 'yours', 'yourself', 'yourselves', 'he', 'him', 'his']\n"
          ]
        },
        {
          "output_type": "stream",
          "name": "stderr",
          "text": [
            "[nltk_data] Downloading package stopwords to /root/nltk_data...\n",
            "[nltk_data]   Package stopwords is already up-to-date!\n"
          ]
        }
      ]
    },
    {
      "cell_type": "code",
      "source": [
        "#word_tokens 리스트에 대해서 stopwords 필터링으로 제거 \n",
        "\n",
        "stopwords = nltk.corpus.stopwords.words('english')\n",
        "all_tokens = []\n",
        "\n",
        "for sentence in word_tokens :\n",
        "  filtered_words = []\n",
        "\n",
        "  for word in sentence:\n",
        "    word = word.lower() #소문자로 변환\n",
        "    if word not in stopwords:\n",
        "      filtered_words.append(word)\n",
        "  all_tokens.append(filtered_words)\n",
        "\n",
        "print(all_tokens)"
      ],
      "metadata": {
        "colab": {
          "base_uri": "https://localhost:8080/"
        },
        "id": "ncS4HCAGDm34",
        "outputId": "cbafe4e5-6fb6-48de-86e4-a94bbe0908a2"
      },
      "execution_count": 23,
      "outputs": [
        {
          "output_type": "stream",
          "name": "stdout",
          "text": [
            "[['matrix', 'everywhere', 'around', 'us', ',', 'even', 'room', '.'], ['see', 'window', 'television', '.'], ['feel', 'go', 'work', ',', 'go', 'church', 'pay', 'taxes']]\n"
          ]
        }
      ]
    },
    {
      "cell_type": "markdown",
      "source": [
        "  - **Stemming 과 Lemmatization** : 문법적 또는 의미적으로 변화하는 단어의 원형을 찾는 것\n",
        "    - lemmatization 이 stemming 보다 정교, 의미론적인 기반에서 단어의 원형 찾음\n",
        "    - stemming은 원형 단어로 변환 시 일반적인 방법을 적용하거나 더 단순화된 방법을 적용해 원래 단어에서 일부 철자가 훼손된 어ㅓ근 단어를 추출하는 경향 있음\n",
        "    - lemmatization 은 품사와 같은 문법적인 요소와 더 의미적인 부분을 감안해 정확한 철자로 된 어근 찾아줌, 더 오랜 시간 필요\n",
        "    - NLTK는 porter, lancaster, snowball stemmerrhk rkxdms 다양한 stemmer 제공, lemmatization을 위해서는 WordNetLemmatizer 제공함"
      ],
      "metadata": {
        "id": "OVgfa0-ZFfVs"
      }
    },
    {
      "cell_type": "code",
      "source": [
        "#LancasterStemmer - 진행형, 3인칭 단수, 과거형에 따른 동사. 비교, 최상에 따른 형용사의 변화에 따라 더 단순하게 원형 단어 찾아줌\n",
        "\n",
        "from nltk.stem import LancasterStemmer\n",
        "stemmer = LancasterStemmer()\n",
        "\n",
        "print(stemmer.stem('working'), stemmer.stem('works'), stemmer.stem('worked'))\n",
        "print(stemmer.stem('amusing'), stemmer.stem('amuses'), stemmer.stem('amused'))\n",
        "print(stemmer.stem('happier'), stemmer.stem('happiest'))\n",
        "print(stemmer.stem('fancier'), stemmer.stem('fanciest'))"
      ],
      "metadata": {
        "colab": {
          "base_uri": "https://localhost:8080/"
        },
        "id": "EbdxYrNoFc_T",
        "outputId": "1c5c194a-9829-487d-ece9-d7e77435b79a"
      },
      "execution_count": 24,
      "outputs": [
        {
          "output_type": "stream",
          "name": "stdout",
          "text": [
            "work work work\n",
            "amus amus amus\n",
            "happy happiest\n",
            "fant fanciest\n"
          ]
        }
      ]
    },
    {
      "cell_type": "code",
      "source": [
        "#WordNetLemmatizer - 일반적으로 Lemmatization은 보다 정확한 원형 단어 추출을 위해 단어의 품사 입력해줘야 함, 동사 v 형용사 a\n",
        "\n",
        "from nltk.stem import WordNetLemmatizer\n",
        "nltk.download('wordnet')\n",
        "nltk.download('omw-1.4') #안 하면 오류뜸\n",
        "\n",
        "lemma = WordNetLemmatizer()\n",
        "print(lemma.lemmatize('amusing','v'), lemma.lemmatize('amuses','v'), lemma.lemmatize('amused','v'))\n",
        "print(lemma.lemmatize('happier','a'), lemma.lemmatize('happiest','a'))\n",
        "print(lemma.lemmatize('fancier','a'), lemma.lemmatize('fanciest','a'))"
      ],
      "metadata": {
        "colab": {
          "base_uri": "https://localhost:8080/"
        },
        "id": "PTOj814dNLb-",
        "outputId": "ba7739da-ff61-4855-e136-a061f6f3ea54"
      },
      "execution_count": 25,
      "outputs": [
        {
          "output_type": "stream",
          "name": "stdout",
          "text": [
            "amuse amuse amuse\n",
            "happy happy\n",
            "fancy fancy\n"
          ]
        },
        {
          "output_type": "stream",
          "name": "stderr",
          "text": [
            "[nltk_data] Downloading package wordnet to /root/nltk_data...\n",
            "[nltk_data]   Package wordnet is already up-to-date!\n",
            "[nltk_data] Downloading package omw-1.4 to /root/nltk_data...\n",
            "[nltk_data]   Package omw-1.4 is already up-to-date!\n"
          ]
        }
      ]
    },
    {
      "cell_type": "markdown",
      "source": [
        "##3.Bag of Words - BOW\n",
        "- 문서가 가지는 모든 단어를 문맥이나 순서를 무시하고 일괄적으로 단어에 대해 빈도 값을 부여해 피처 값을 추출하는 모델\n",
        "- 쉽고 빠름, 단순히 단어의 발생 횟수에 기반하고 있지만 예상보다 문서의 특징 잘 나타냄\n",
        "- 문맥 의미 반영 부족 : 단어의 순서 고려하지 않기 때문에 문장 내에서 단어의 문맥적인 의미 무시됨, n-gram 사용하더라도 제한적인 부분의 그침\n",
        "- 희소행렬문제 : 피처 벡터화를 수행하면 희소 행렬 형태의 데이터 세트가 만들어지기 쉬움, 희소 행렬은 일반적으로 ML 알고리즘의 수행 시간과 예측 성능을 떨어뜨림\n",
        "\n",
        "###BOW 피처 벡터화\n",
        "- 피처 벡터화는 기존 텍스트 데이터를 또 다른 형태의 피처의 조합으로 변경하기 때문에 넓은 범위의 피처 추출에 포함함\n",
        "-  모든 문서에서 단어를 칼럼 형태로 나열하고 각 문서에서 해당 단어의 횟수나 정규화된 빈도를 값으로 부여하는 데이터 세트 모델로 변경하는 것\n",
        "- 카운트 백터화 : 단어 피처에 값을 부여할 때 각 문서에서 해당 단어가 나타나는 횟수를 부여하는 경우, 값이 높을수록 중요한 단어로 인식됨\n",
        "  - 문서의 특징을 나타내기 보다는 언어의 특성상 문장에서 자주 사용될 수밖에 없는 단어까지 높은 값 부여\n",
        "- TF-IDF (Term frequency - inverse document frequency) : 개별 문서에서 자주 나타나는 단어에 높은 가중치를 주되, 모든 문서에서 전반적으로 자주 나타나는 단어에 대해서는 페널티를 주는 방식을 값 부여\n",
        "  - 문서마다 텍스트가 길고 문서의 개수가 많은 경우 카운트 방식보다 더 좋은 예측 성능 보장\n",
        "\n",
        "###사이킷런의 Count 및 TF-IDF 구현 : CountVectorizer, TfidfVectorizer\n",
        "- CountVectorizer : 단지 피처 벡터화만 수행하지는 않고 소문자 일괄 변환, 토큰화, 스톱 위드 필터링 등의 텍스트 전처리도 함께 수행\n",
        "  - 텍스트 전처리 및 피처 벡터화를 위한 입력 파라미터를 설정해 동작\n",
        "  - fit()과 transform()을 통해 피처 벡터화된 객치 반환함\n",
        "  1. 영어의 경우 모든 문자를 소문자를 변경하는 등의 전처리 작업 진행\n",
        "  2. 디폴트로 단어기준으로 n_gram_range를 반영해 각 단어 토큰화\n",
        "  3. 텍스트 정규화 수행\n",
        "    - 단, stop_words 주저진 경우 스톱워드 필터링(영어만 가능)만 가능\n",
        "    - 어근 변환은 직접 지원하지 않으나 tokenizer 파라미터에 커스텀 어근 변환 함수를 적용하여 수행할 수 있음\n",
        "- TfidVectorizor\n",
        "\n",
        "###BOW 벡터화를 위한 희소 행렬\n",
        "- BOW 형태를 가진 언어 모델의 피처 벡터화는 대부분 희소 행렬\n",
        "- 물리적으로 적은 메모리 공간을 차지할 수 잇도록 변환해야 함 - COO 형식, CSR 형식 활용\n",
        "- 파이썬은 희소 행렬 변환을 위해 주로 scipy 활용\n",
        "###희소행렬 - COO 형식\n",
        "- coordinate 형식은 0 이 아닌 데이터만 별도의 데이터 배열에 저장하고 그 데이터가 가리키는 행과 열의 위치를 별도의 배열로 저장하는 방식\n"
      ],
      "metadata": {
        "id": "0PGx32vkOoOF"
      }
    },
    {
      "cell_type": "code",
      "source": [
        "import numpy as np\n",
        "\n",
        "dense = np.array([[3,0,1],[0,2,0]])"
      ],
      "metadata": {
        "id": "YBz2fNDMN8B4"
      },
      "execution_count": 26,
      "outputs": []
    },
    {
      "cell_type": "code",
      "source": [
        "from scipy import sparse\n",
        "\n",
        "#0이 아닌 데이터 추출\n",
        "data = np.array([3,1,2])\n",
        "\n",
        "#행 위치와 열 위치를 각각 배열로 생성\n",
        "row_pos = np.array([0,0,1])\n",
        "col_pos = np.array([0,2,1])\n",
        "\n",
        "#sparse 패키지의 coo_matrix를 이용해 COO 형식으로 희소 행렬 생성\n",
        "sparse_coo = sparse.coo_matrix((data, (row_pos, col_pos))) #COO 형식 희소 행렬 객체 변수"
      ],
      "metadata": {
        "id": "7i1Zdv-pWvNs"
      },
      "execution_count": 27,
      "outputs": []
    },
    {
      "cell_type": "code",
      "source": [
        "sparse_coo.toarray() #다시 밀집 형태의 행렬로 출력"
      ],
      "metadata": {
        "colab": {
          "base_uri": "https://localhost:8080/"
        },
        "id": "UUosDrH5XSvF",
        "outputId": "7dd0fd1d-a64d-4e95-b5d1-e2634d6f7d20"
      },
      "execution_count": 28,
      "outputs": [
        {
          "output_type": "execute_result",
          "data": {
            "text/plain": [
              "array([[3, 0, 1],\n",
              "       [0, 2, 0]])"
            ]
          },
          "metadata": {},
          "execution_count": 28
        }
      ]
    },
    {
      "cell_type": "markdown",
      "source": [
        "###희소행렬 - CSR 형식\n",
        "  - COO 형식이 행과 열의 위치를 나타내기 위해서 반복적인 위치 데이터를 사용해야 하는 문제점 해결한 방식\n",
        "  - 행위치배열이 순차적인 값들의 반복적인 형태임을 활용해서 고유한 값의 시작 위치만 표시하는 방법으로 반복 제거, 그리고 마지막에 총 항목 개수 배열에 추가함"
      ],
      "metadata": {
        "id": "j6I846r_XuBl"
      }
    },
    {
      "cell_type": "code",
      "source": [
        "from scipy import sparse\n",
        "\n",
        "dense2 = np.array([[0,0,1,0,0,5],\n",
        "                   [1,4,0,3,2,5],\n",
        "                   [0,6,0,3,0,0],\n",
        "                   [2,0,0,0,0,0],\n",
        "                   [0,0,0,7,0,8],\n",
        "                   [1,0,0,0,0,0]])\n",
        "\n",
        "#0이 아닌 데이터 추출\n",
        "data2 = np.array([1,5,1,4,3,2,5,6,3,2,7,8,1])\n",
        "\n",
        "#행 위치와 열 위치 각각 array로 생성\n",
        "row_pos = np.array([0,0,1,1,1,1,1,2,2,3,4,4,5])\n",
        "col_pos = np.array([2,5,0,1,3,4,5,1,3,0,3,5,0])\n",
        "\n",
        "#COO방식으로 변환\n",
        "sparse_coo = sparse.coo_matrix((data2, (row_pos, col_pos)))\n",
        "\n",
        "#행 위치 배열의 고유한 값의 시작 위치 인덱스를 배열로 생성\n",
        "row_pos_ind = np.array([0,2,7,9,10,12,13])\n",
        "\n",
        "#CSR 형식으로 변환\n",
        "sparse_csr = sparse.csr_matrix((data2,col_pos, row_pos_ind))\n",
        "\n",
        "print('COO 변환된 데이터가 제대로 되었는지 다시 dense로 출력 확인')\n",
        "print(sparse_coo.toarray())\n",
        "print('CSR 변환된 데이터가 제대로 되었는지 다시 dense로 출력 확인')\n",
        "print(sparse_csr.toarray())"
      ],
      "metadata": {
        "colab": {
          "base_uri": "https://localhost:8080/"
        },
        "id": "z4Xgb8nCXaLd",
        "outputId": "4c03aca2-b11b-419c-aa25-68df0a8b0ec4"
      },
      "execution_count": 31,
      "outputs": [
        {
          "output_type": "stream",
          "name": "stdout",
          "text": [
            "COO 변환된 데이터가 제대로 되었는지 다시 dense로 출력 확인\n",
            "[[0 0 1 0 0 5]\n",
            " [1 4 0 3 2 5]\n",
            " [0 6 0 3 0 0]\n",
            " [2 0 0 0 0 0]\n",
            " [0 0 0 7 0 8]\n",
            " [1 0 0 0 0 0]]\n",
            "CSR 변환된 데이터가 제대로 되었는지 다시 dense로 출력 확인\n",
            "[[0 0 1 0 0 5]\n",
            " [1 4 0 3 2 5]\n",
            " [0 6 0 3 0 0]\n",
            " [2 0 0 0 0 0]\n",
            " [0 0 0 7 0 8]\n",
            " [1 0 0 0 0 0]]\n"
          ]
        }
      ]
    },
    {
      "cell_type": "code",
      "source": [
        "#실제 사용시 밀집 행렬을 생성 파라미터로 입력하면 희소행렬로 생성함\n",
        "dense3 = np.array([[0,0,1,0,0,5],\n",
        "                   [1,4,0,3,2,5],\n",
        "                   [0,6,0,3,0,0],\n",
        "                   [2,0,0,0,0,0],\n",
        "                   [0,0,0,7,0,8],\n",
        "                   [1,0,0,0,0,0]])\n",
        "\n",
        "coo = sparse.coo_matrix(dense3)\n",
        "csr = sparse.csr_matrix(dense3)"
      ],
      "metadata": {
        "id": "vBsKFIudZtsD"
      },
      "execution_count": 32,
      "outputs": []
    },
    {
      "cell_type": "markdown",
      "source": [
        "- 사이킷런의 CountVectorizer 나 TfidfVectorizer 클래스로 변환된 피처 벡터화 행렬은 모두 사이파이의 CSR 형태의 희소 행렬"
      ],
      "metadata": {
        "id": "KGul7nFMa5YX"
      }
    }
  ]
}
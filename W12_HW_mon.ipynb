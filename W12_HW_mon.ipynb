{
  "nbformat": 4,
  "nbformat_minor": 0,
  "metadata": {
    "colab": {
      "provenance": [],
      "authorship_tag": "ABX9TyN24oIkMeS0qgjfJJvYCYN6",
      "include_colab_link": true
    },
    "kernelspec": {
      "name": "python3",
      "display_name": "Python 3"
    },
    "language_info": {
      "name": "python"
    }
  },
  "cells": [
    {
      "cell_type": "markdown",
      "metadata": {
        "id": "view-in-github",
        "colab_type": "text"
      },
      "source": [
        "<a href=\"https://colab.research.google.com/github/sooonsyk/ESAA-22-2/blob/main/W12_HW_mon.ipynb\" target=\"_parent\"><img src=\"https://colab.research.google.com/assets/colab-badge.svg\" alt=\"Open In Colab\"/></a>"
      ]
    },
    {
      "cell_type": "markdown",
      "source": [
        "#9. 추천 시스템\n"
      ],
      "metadata": {
        "id": "KqaasMtzHoU_"
      }
    },
    {
      "cell_type": "markdown",
      "source": [
        "##01. 추천 시스템의 개요와 배경\n",
        "###추천 시스템의 개요\n",
        "- 하나의 콘텐츠를 선택했을 때 선택된 콘텐츠와 연관된 추천 콘텐츠가 얼마나 사용자의 관심을 끌고 개인에게 맞춘 콘텐츠를 추천했는지는 평판을 좌우하는 중요한 요소\n",
        "###온라인 스토어의 필수 요소, 추천 시스템\n",
        "- 좋은 추천 시스템은 사용자가 무엇을 원하는지 빠르게 찾아내 사용자의 온라인 쇼핑의 즐거움을 배가\n",
        "###추천 시스템의 유형\n",
        "- 콘텐츠 기반 필터링\n",
        "- 협업 필터링\n",
        "  - 최근접 이웃 협업 필터링\n",
        "  - 잠재 요인 협업 필터링"
      ],
      "metadata": {
        "id": "PDB9AAKIHqqO"
      }
    },
    {
      "cell_type": "markdown",
      "source": [
        "##02.콘텐츠 기반 필터링 추천 시스템\n",
        "- 사용자가 특정한 아이템을 매우 선호하는 경우, 그 아이템과 비슷한 콘텐츠를 가진 다른아이템을 추천하는 방식\n"
      ],
      "metadata": {
        "id": "Thy0QadLIftP"
      }
    },
    {
      "cell_type": "markdown",
      "source": [
        "##03. 최근접 이웃 협업 필터링\n",
        "- 친구들에게 후기를 물어보는 것과 유사한 방식으로, 사용자가 아이템에 매긴 평점 정보나 상품 구매 이력과 같은 사용자 행동 양식만을 기반으로 추천을 수행하는 것\n",
        "- 사용자 아이템 평점 매트릭스와 같은 축적된 사용자 행동 데이터를 기반으로 사용자가 아직 평가하지 않은 아이템을 예측 평가하는 것이 목표\n",
        "- 사용자 아이템 평점 매트릭스 : 행은 개별 사용자, 열은 개별 아이템으로 구성되며 값이 평점을 나타내는 형태, 최근접 이웃 방식과 잠재 요인 방식 모두 사용\n",
        "  - 일반적으로 많은 아이템을 열로 가지는 다차원 행렬, 희소행렬\n",
        "- 메모리 협업 필터링이라고도 하며 일반적으로 사용자 기반과 아이템 기반으로 다시 나뉨\n",
        "  - 사용자 기반 : 당신과 비슷한 고객들이 다음 상품도 구매했다\n",
        "    - 특정 사용자와 유사한 다른 사용자를 top n으로 선정해 좋아하는 아이템 추천\n",
        "    - 즉 특정 사용자와 타 사용자 간의 유사도를 측정한 뒤 가장 유사도가 높은 사용자를 추출해 그들이 선호하는 이이템을 추천하는 것\n",
        "  - 아이템 기반 : 이 상품을 선택한 다른 고객들은 다음 상품도 구매했다\n",
        "    - 아이템이 가지는 속성과는 상관없이 사용자들이 그 아이템을 좋아하는지/싫어하는지의 평가 척도가 유사한 아이템을 추천하는 기준\n",
        "    - 행이 개별 아이템, 열이 개별 사용자 \n",
        "  - 일반적으로 사용자 기반보다는 아이템 기반 협업 필터링이 정확도가 높음 - 비슷한 상품을 좋아한다고 해서 사람들의 취향이 비슷하다고 판단하기 어려운 경우가 많기 때문\n",
        "  - 유사도 특정에 코사인 유사도 많이 적용됨 - 다차원 희소 행렬\n"
      ],
      "metadata": {
        "id": "xb2QYEhZIfmw"
      }
    },
    {
      "cell_type": "markdown",
      "source": [
        "##04. 잠재 요인 협업 필터링\n",
        "### 잠재 요인 협업 필터링의 이해\n",
        "- 사용자 아이템 평점 매트릭스 속에 숨어 있는 잠재 요인을 추출해 추천 예측을 할 수 있게 하는 기법 \n",
        "- 대규모 다차원 행렬을 SVD와 같은 차원 감소 기법으로 분해하는 과정에서 잠재 요인을 추출 - 행렬분해\n",
        "- 잠재 요인을 기반으로 다차원 희소 행렬인 사용자아이템 행렬 데이터를 저차원 밀집 행렬의 사용자잠재요인 행렬과 아이템잠재요인행렬의 전치 행렬로 분해할 수 있으며, 이렇게 분해된 두 행렬의 내적을 통해 새로운 에측 사용자 아이템 평점 행렬 데이터를 만들어서 사용자가 아직 평점을 부여하지 않은 아이템에 대한 예측 평점을 생성\n"
      ],
      "metadata": {
        "id": "liA15vKyItIY"
      }
    },
    {
      "cell_type": "markdown",
      "source": [
        "###행렬 분해의 이해\n",
        "- M개의 사용자 행과 N개의 아이템 열을 가진 평점 행렬 R은 MxN으로 구성되면 행렬 분해를 통해서 사용자-K 차원 잠재 요인 행렬 P(MxK) 와 K차원 잠재 요인 아이탬 행렬 Q.T(KxN)으로 분해\n",
        "- 주로 SVD 방식 이용 - 널값이 없는 행렬에만 적용할 수 있음\n",
        "- 확률적 경상 하강법 방식 이용해서 SVD 수행\n"
      ],
      "metadata": {
        "id": "GK1FG9OvLuXR"
      }
    },
    {
      "cell_type": "markdown",
      "source": [
        "###확률적 경사 하강법을 이용한 행렬 분해\n",
        "- P와 Q로 행렬로 계산된 예측 R행렬 값이 실제 R행렬 값과 가장 최소의 오류를 가질 수 있도록 반복적인 비용 함수 최적화를 통해 P와 Q를 유추해내는 것\n",
        "  1. P와 Q를 임의의 값을 가진 행렬로 설정\n",
        "  2. P와 Q.T를 곱해 예측 R행렬을 계산하고 예측 R행렬과 실제 R행렬에 해당하는 오류값 계산\n",
        "  3. 이 오류값을 최소화할 수 있도록 P와 Q 행렬을 적절한 값으로 각각 업데이트\n",
        "  4. 만족할 만한 오류값을 가질 때까지 반복하면서 업데이트해 그나화\n",
        "- 일반적으로 사용자아이템 평점 행렬의 경우 단순히 예측 오류값의 최소화와 학습시 과적합을 피하기 위해서 규제를 반영한 비용함수 적용\n",
        "-L2 규제를 반영해 실제 R행렬값과 예측 R행렬값의 차이를 최소화하는 방향성을 가지고 P행렬과 Q행렬에 업데이트 값을 반복적으로 수행하면서 최적화된 예측 R행렬을 구하는 방식"
      ],
      "metadata": {
        "id": "LMQeiXmPMbSP"
      }
    },
    {
      "cell_type": "code",
      "execution_count": 13,
      "metadata": {
        "id": "bT1FRgiyHne6"
      },
      "outputs": [],
      "source": [
        "import numpy as np\n",
        "\n",
        "#원본 행렬 R 생성, 분해 행렬 P, Q 초기화, 잠재 요인 차원 K는 3으로 설정\n",
        "R = np.array([[4, np.NaN, np.NaN, 2, np.NaN ],\n",
        "              [np.NaN, 5, np.NaN, 3, 1 ],\n",
        "              [np.NaN, np.NaN, 3, 4, 4 ],\n",
        "              [5, 2, 1, 2, np.NaN ]])\n",
        "num_users, num_items = R.shape\n",
        "K=3\n",
        "\n",
        "#행렬 크기 지정하고 정규 분포를 가진 임의의 값으로 입력\n",
        "np.random.seed(1)\n",
        "P = np.random.normal(scale=1./K, size=(num_users, K))\n",
        "Q = np.random.normal(scale=1./K, size=(num_items, K))"
      ]
    },
    {
      "cell_type": "code",
      "source": [
        "#실제 R행렬과 예측 행렬의 오차 구함\n",
        "from sklearn.metrics import mean_squared_error\n",
        "\n",
        "def get_rmse(R, P, Q, non_zeros):\n",
        "  error = 0\n",
        "  #두 개의 분해된 행렬 P와 Q.T의 내적으로 예측 행렬 R행렬 생성\n",
        "  full_pred_matrix = np.dot(P, Q.T)\n",
        "\n",
        "  #실제 R행렬에서 널이 아닌 값의 위치 인덱스 추출해 실제 R 행렬과 예측 행렬의 RMSE 추출\n",
        "  x_non_zero_ind = [non_zero[0] for non_zero in non_zeros]\n",
        "  y_non_zero_ind = [non_zero[1] for non_zero in non_zeros]\n",
        "  R_non_zeros = R[x_non_zero_ind, y_non_zero_ind]\n",
        "  full_pred_matrix_non_zeros = full_pred_matrix[x_non_zero_ind, y_non_zero_ind]\n",
        "  mse = mean_squared_error(R_non_zeros, full_pred_matrix_non_zeros)\n",
        "  rmse = np.sqrt(mse)\n",
        "\n",
        "  return rmse"
      ],
      "metadata": {
        "id": "o2YQRdPbOSjm"
      },
      "execution_count": 7,
      "outputs": []
    },
    {
      "cell_type": "code",
      "source": [
        "# R > 0 인 행, 열, 값을 non_zeros 리스트에 저장 \n",
        "non_zeros = [(i, j, R[i,j]) for i in range(num_users) for j in range(num_items) if R[i,j] > 0 ]\n",
        "\n",
        "steps=1000  #SGD를 반복해서 업데이트할 횟수\n",
        "learning_rate=0.01\n",
        "r_lambda=0.01  #L2 regulation 계수\n",
        "\n",
        "# SGD 기법으로 P와 Q 매트릭스를 계속 업데이트 \n",
        "for step in range(steps):  \n",
        "    for i, j, r in non_zeros:\n",
        "        # 실제 값과 예측 값의 차이인 오류 값 구함\n",
        "        eij = r - np.dot(P[i, :], Q[j, :].T)\n",
        "        # Regularization을 반영한 SGD 업데이트 공식 적용\n",
        "        P[i,:] = P[i,:] + learning_rate*(eij * Q[j, :] - r_lambda*P[i,:])\n",
        "        Q[j,:] = Q[j,:] + learning_rate*(eij * P[i, :] - r_lambda*Q[j,:])\n",
        "\n",
        "    rmse = get_rmse(R, P, Q, non_zeros)\n",
        "    if (step % 50) == 0 :  #50회 반복할 때마다 오류값 출력\n",
        "        print(\"### iteration step : \", step,\" rmse : \", rmse)"
      ],
      "metadata": {
        "colab": {
          "base_uri": "https://localhost:8080/"
        },
        "id": "ZxB1LaU9QnKn",
        "outputId": "46ee407c-7997-4a33-84e9-640e162a6043"
      },
      "execution_count": 14,
      "outputs": [
        {
          "output_type": "stream",
          "name": "stdout",
          "text": [
            "### iteration step :  0  rmse :  3.2388050277987723\n",
            "### iteration step :  50  rmse :  0.4876723101369648\n",
            "### iteration step :  100  rmse :  0.1564340384819247\n",
            "### iteration step :  150  rmse :  0.07455141311978046\n",
            "### iteration step :  200  rmse :  0.04325226798579314\n",
            "### iteration step :  250  rmse :  0.029248328780878973\n",
            "### iteration step :  300  rmse :  0.022621116143829466\n",
            "### iteration step :  350  rmse :  0.019493636196525135\n",
            "### iteration step :  400  rmse :  0.018022719092132704\n",
            "### iteration step :  450  rmse :  0.01731968595344266\n",
            "### iteration step :  500  rmse :  0.016973657887570753\n",
            "### iteration step :  550  rmse :  0.016796804595895633\n",
            "### iteration step :  600  rmse :  0.01670132290188466\n",
            "### iteration step :  650  rmse :  0.01664473691247669\n",
            "### iteration step :  700  rmse :  0.016605910068210026\n",
            "### iteration step :  750  rmse :  0.016574200475705\n",
            "### iteration step :  800  rmse :  0.01654431582921597\n",
            "### iteration step :  850  rmse :  0.01651375177473524\n",
            "### iteration step :  900  rmse :  0.01648146573819501\n",
            "### iteration step :  950  rmse :  0.016447171683479155\n"
          ]
        }
      ]
    },
    {
      "cell_type": "code",
      "source": [
        "#예측행렬\n",
        "pred_matrix = np.dot(P, Q.T)\n",
        "print('예측 행렬 : \\n', np.round(pred_matrix, 3))"
      ],
      "metadata": {
        "colab": {
          "base_uri": "https://localhost:8080/"
        },
        "id": "jmLC7PTNRNei",
        "outputId": "763cfad1-77c4-4edf-af13-21b7bf45259b"
      },
      "execution_count": 15,
      "outputs": [
        {
          "output_type": "stream",
          "name": "stdout",
          "text": [
            "예측 행렬 : \n",
            " [[3.991 0.897 1.306 2.002 1.663]\n",
            " [6.696 4.978 0.979 2.981 1.003]\n",
            " [6.677 0.391 2.987 3.977 3.986]\n",
            " [4.968 2.005 1.006 2.017 1.14 ]]\n"
          ]
        }
      ]
    },
    {
      "cell_type": "markdown",
      "source": [
        "- 원본 행렬과 비굑해 널이 아닌 값이 큰 차이 없고, 널인 값들은 새로운 예측값으로 채워짐"
      ],
      "metadata": {
        "id": "QyPeNGYYSOvV"
      }
    }
  ]
}
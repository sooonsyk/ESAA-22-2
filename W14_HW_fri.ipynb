{
  "nbformat": 4,
  "nbformat_minor": 0,
  "metadata": {
    "colab": {
      "provenance": [],
      "authorship_tag": "ABX9TyPvvsSTTbSQuT+394ex92c8",
      "include_colab_link": true
    },
    "kernelspec": {
      "name": "python3",
      "display_name": "Python 3"
    },
    "language_info": {
      "name": "python"
    }
  },
  "cells": [
    {
      "cell_type": "markdown",
      "metadata": {
        "id": "view-in-github",
        "colab_type": "text"
      },
      "source": [
        "<a href=\"https://colab.research.google.com/github/sooonsyk/ESAA-22-2/blob/main/W14_HW_fri.ipynb\" target=\"_parent\"><img src=\"https://colab.research.google.com/assets/colab-badge.svg\" alt=\"Open In Colab\"/></a>"
      ]
    },
    {
      "cell_type": "markdown",
      "source": [
        "파이썬 딥러닝 텐서플로 ch3. 6\\~7 pg. 105\\~115\n",
        "##06. 모델 저장 및 불러오기"
      ],
      "metadata": {
        "id": "izAgUberH-u6"
      }
    },
    {
      "cell_type": "code",
      "execution_count": 1,
      "metadata": {
        "colab": {
          "base_uri": "https://localhost:8080/"
        },
        "id": "gx5yTbzpHOTS",
        "outputId": "67f6a12b-e50e-4b44-8184-5f6d6fa215f1"
      },
      "outputs": [
        {
          "output_type": "stream",
          "name": "stdout",
          "text": [
            "Downloading data from https://storage.googleapis.com/tensorflow/tf-keras-datasets/mnist.npz\n",
            "11490434/11490434 [==============================] - 0s 0us/step\n",
            "train set:  (60000, 28, 28) (60000,)\n",
            "test set:  (10000, 28, 28) (10000,)\n",
            "Epoch 1/10\n",
            "1875/1875 [==============================] - 19s 9ms/step - loss: 0.2316 - accuracy: 0.9321 - val_loss: 0.1163 - val_accuracy: 0.9646\n",
            "Epoch 2/10\n",
            "1875/1875 [==============================] - 10s 5ms/step - loss: 0.0951 - accuracy: 0.9715 - val_loss: 0.0988 - val_accuracy: 0.9704\n",
            "Epoch 3/10\n",
            "1875/1875 [==============================] - 10s 5ms/step - loss: 0.0642 - accuracy: 0.9801 - val_loss: 0.1005 - val_accuracy: 0.9670\n",
            "Epoch 4/10\n",
            "1875/1875 [==============================] - 8s 5ms/step - loss: 0.0507 - accuracy: 0.9836 - val_loss: 0.0769 - val_accuracy: 0.9787\n",
            "Epoch 5/10\n",
            "1875/1875 [==============================] - 9s 5ms/step - loss: 0.0384 - accuracy: 0.9872 - val_loss: 0.0975 - val_accuracy: 0.9751\n",
            "Epoch 6/10\n",
            "1875/1875 [==============================] - 10s 5ms/step - loss: 0.0347 - accuracy: 0.9887 - val_loss: 0.0782 - val_accuracy: 0.9787\n",
            "Epoch 7/10\n",
            "1875/1875 [==============================] - 10s 5ms/step - loss: 0.0257 - accuracy: 0.9914 - val_loss: 0.0932 - val_accuracy: 0.9749\n",
            "Epoch 8/10\n",
            "1875/1875 [==============================] - 8s 5ms/step - loss: 0.0259 - accuracy: 0.9914 - val_loss: 0.0832 - val_accuracy: 0.9803\n",
            "Epoch 9/10\n",
            "1875/1875 [==============================] - 10s 5ms/step - loss: 0.0213 - accuracy: 0.9930 - val_loss: 0.0962 - val_accuracy: 0.9765\n",
            "Epoch 10/10\n",
            "1875/1875 [==============================] - 9s 5ms/step - loss: 0.0206 - accuracy: 0.9935 - val_loss: 0.0789 - val_accuracy: 0.9809\n"
          ]
        },
        {
          "output_type": "execute_result",
          "data": {
            "text/plain": [
              "<keras.callbacks.History at 0x7fba758b8b50>"
            ]
          },
          "metadata": {},
          "execution_count": 1
        }
      ],
      "source": [
        "import tensorflow as tf\n",
        "\n",
        "# 케라스의 내장 데이터셋에서 mnist 데이터셋 로드\n",
        "mnist = tf.keras.datasets.mnist\n",
        "\n",
        "# load_data()로 데이터셋 로드\n",
        "(x_train, y_train), (x_test, y_test) = mnist.load_data()\n",
        "\n",
        "# 로드된 데이터셋 확인\n",
        "print('train set: ', x_train.shape, y_train.shape)\n",
        "print('test set: ', x_test.shape, y_test.shape)\n",
        "\n",
        "# 데이터 정규화\n",
        "x_train = x_train/x_train.max()\n",
        "x_test = x_test/x_test.max()\n",
        "\n",
        "# 모델 정의\n",
        "model = tf.keras.Sequential([\n",
        "    tf.keras.layers.Flatten(input_shape=(28,28)),\n",
        "    tf.keras.layers.Dense(256, activation='relu'),\n",
        "    tf.keras.layers.Dense(64, activation='relu'),\n",
        "    tf.keras.layers.Dense(32, activation='relu'),\n",
        "    # 노드=10개가 되어야 한다\n",
        "    tf.keras.layers.Dense(10, activation='softmax'),\n",
        "])\n",
        "\n",
        "# 모델 컴파일\n",
        "model.compile(optimizer='adam', loss='sparse_categorical_crossentropy', metrics=['accuracy'])\n",
        "\n",
        "model.fit(x_train, y_train,validation_data=(x_test, y_test),epochs=10)"
      ]
    },
    {
      "cell_type": "markdown",
      "source": [
        "###6-1 모델을 파일로 저장\n",
        "- 저장할 파일명이 .h5 확장자를 포함하는 경우는 HDF5 포맷으으로 저장 - 대용량 데이터 저장용\n",
        "- .h5 확장자 생략하면 SavedModel 포맷으로 저장, HDF5와 같은 방식으로 복원"
      ],
      "metadata": {
        "id": "bgoD5oUgI-oM"
      }
    },
    {
      "cell_type": "code",
      "source": [
        "#모델을 h5 포맷으로 저장\n",
        "model.save('h5-model.h5')"
      ],
      "metadata": {
        "id": "74tMcOiMI05U"
      },
      "execution_count": 3,
      "outputs": []
    },
    {
      "cell_type": "markdown",
      "source": [
        "###6-2 저장된 모델 복원"
      ],
      "metadata": {
        "id": "s6H9_h9EJVwp"
      }
    },
    {
      "cell_type": "code",
      "source": [
        "h5_model = tf.keras.models.load_model('h5-model.h5')\n",
        "h5_model.summary()"
      ],
      "metadata": {
        "colab": {
          "base_uri": "https://localhost:8080/"
        },
        "id": "S4BossqsJVXz",
        "outputId": "1a3595cf-3ac0-41ad-f762-733a5cf20d5e"
      },
      "execution_count": 5,
      "outputs": [
        {
          "output_type": "stream",
          "name": "stdout",
          "text": [
            "Model: \"sequential\"\n",
            "_________________________________________________________________\n",
            " Layer (type)                Output Shape              Param #   \n",
            "=================================================================\n",
            " flatten (Flatten)           (None, 784)               0         \n",
            "                                                                 \n",
            " dense (Dense)               (None, 256)               200960    \n",
            "                                                                 \n",
            " dense_1 (Dense)             (None, 64)                16448     \n",
            "                                                                 \n",
            " dense_2 (Dense)             (None, 32)                2080      \n",
            "                                                                 \n",
            " dense_3 (Dense)             (None, 10)                330       \n",
            "                                                                 \n",
            "=================================================================\n",
            "Total params: 219,818\n",
            "Trainable params: 219,818\n",
            "Non-trainable params: 0\n",
            "_________________________________________________________________\n"
          ]
        }
      ]
    },
    {
      "cell_type": "code",
      "source": [
        "#복원한 모델 검증해서 복원 잘 됐는지 확인\n",
        "loss, acc = h5_model.evaluate(x_test, y_test, verbose=0)\n",
        "print(f'h5 model] loss : {loss:.5f}, acc:{acc:.5f}')"
      ],
      "metadata": {
        "colab": {
          "base_uri": "https://localhost:8080/"
        },
        "id": "bXz1QYNdJhAM",
        "outputId": "73775832-c15f-4425-e809-aeffcfa5d385"
      },
      "execution_count": 6,
      "outputs": [
        {
          "output_type": "stream",
          "name": "stdout",
          "text": [
            "h5 model] loss : 0.07890, acc:0.98090\n"
          ]
        }
      ]
    },
    {
      "cell_type": "code",
      "source": [
        "#모델을 SavedModel 포맷으로 저장\n",
        "model.save('saved-model')"
      ],
      "metadata": {
        "id": "SkVFIStKKDgf"
      },
      "execution_count": 7,
      "outputs": []
    },
    {
      "cell_type": "code",
      "source": [
        "#모델 복원\n",
        "saved_model = tf.keras.models.load_model('saved-model')\n",
        "saved_model.summary()"
      ],
      "metadata": {
        "colab": {
          "base_uri": "https://localhost:8080/"
        },
        "id": "D1JnmCSbKThf",
        "outputId": "75976f53-7f03-4471-eb8d-1bed5d2cbfd4"
      },
      "execution_count": 10,
      "outputs": [
        {
          "output_type": "stream",
          "name": "stdout",
          "text": [
            "Model: \"sequential\"\n",
            "_________________________________________________________________\n",
            " Layer (type)                Output Shape              Param #   \n",
            "=================================================================\n",
            " flatten (Flatten)           (None, 784)               0         \n",
            "                                                                 \n",
            " dense (Dense)               (None, 256)               200960    \n",
            "                                                                 \n",
            " dense_1 (Dense)             (None, 64)                16448     \n",
            "                                                                 \n",
            " dense_2 (Dense)             (None, 32)                2080      \n",
            "                                                                 \n",
            " dense_3 (Dense)             (None, 10)                330       \n",
            "                                                                 \n",
            "=================================================================\n",
            "Total params: 219,818\n",
            "Trainable params: 219,818\n",
            "Non-trainable params: 0\n",
            "_________________________________________________________________\n"
          ]
        }
      ]
    },
    {
      "cell_type": "code",
      "source": [
        "loss, acc = saved_model.evaluate(x_test, y_test, verbose=0)\n",
        "print(f'saved-model] loss : {loss:.5f}, acc:{acc:.5f}')\n",
        "#동일한 성능"
      ],
      "metadata": {
        "colab": {
          "base_uri": "https://localhost:8080/"
        },
        "id": "8jMhufLnKdzl",
        "outputId": "2e7dd315-c5a2-4d86-cad4-28a5b65da813"
      },
      "execution_count": 11,
      "outputs": [
        {
          "output_type": "stream",
          "name": "stdout",
          "text": [
            "saved-model] loss : 0.07890, acc:0.98090\n"
          ]
        }
      ]
    },
    {
      "cell_type": "markdown",
      "source": [
        "##07. 복잡한 모델 생성"
      ],
      "metadata": {
        "id": "qPvqU6wjLtpO"
      }
    },
    {
      "cell_type": "markdown",
      "source": [
        "###7-1 함수형 API\n",
        "- 함수 형태로 딥러닝 모델을 정의하면 다양한 모델 구조 구현할 수 있음, 여러 층을 시퀀스 형태로 연결하는 Sequential API 와 다르게 복잡한 모델 정의 가능\n",
        "- 다중입력, 다중출력, 입출력 공유도 가능\n",
        "- 함수형 API로 생성한 모델도 Sequential API로 생성한 모델과 동일한 방식으로 훈련하고 검증 가능"
      ],
      "metadata": {
        "id": "cwywiUrnLyil"
      }
    },
    {
      "cell_type": "code",
      "source": [
        "#Sequential API로 구현한 분류기 모델 함수형 API로 동일하게 구현\n",
        "\n",
        "#Input 레이어 정의\n",
        "input_layer = tf.keras.Input(shape=(28,28), name='InputLayer')\n",
        "\n",
        "#모델의 레이어를 체인 구조로 연결 \n",
        "x1 = tf.keras.layers.Flatten(name='Flatten')(input_layer)\n",
        "x2 = tf.keras.layers.Dense(256, activation='relu', name='Dense1')(x1)\n",
        "x3 = tf.keras.layers.Dense(64, activation='relu', name='Dense2')(x2)\n",
        "x4 = tf.keras.layers.Dense(10, activation='softmax', name='OutputLayer')(x3)"
      ],
      "metadata": {
        "id": "bTEC2S3gMI5w"
      },
      "execution_count": 13,
      "outputs": []
    },
    {
      "cell_type": "code",
      "source": [
        "#모델 생성 - tf.keras.Model()에 입력 레이어와 출력 레이어 정의\n",
        "func_model = tf.keras.Model(inputs=input_layer, outputs=x4, name='FunctionalModel')\n",
        "\n",
        "#모델 요약\n",
        "func_model.summary()"
      ],
      "metadata": {
        "colab": {
          "base_uri": "https://localhost:8080/"
        },
        "id": "JhWY-KaKN_8I",
        "outputId": "b6ba6e31-26ff-4d22-fd22-3efd8081ec70"
      },
      "execution_count": 15,
      "outputs": [
        {
          "output_type": "stream",
          "name": "stdout",
          "text": [
            "Model: \"FunctionalModel\"\n",
            "_________________________________________________________________\n",
            " Layer (type)                Output Shape              Param #   \n",
            "=================================================================\n",
            " InputLayer (InputLayer)     [(None, 28, 28)]          0         \n",
            "                                                                 \n",
            " Flatten (Flatten)           (None, 784)               0         \n",
            "                                                                 \n",
            " Dense1 (Dense)              (None, 256)               200960    \n",
            "                                                                 \n",
            " Dense2 (Dense)              (None, 64)                16448     \n",
            "                                                                 \n",
            " OutputLayer (Dense)         (None, 10)                650       \n",
            "                                                                 \n",
            "=================================================================\n",
            "Total params: 218,058\n",
            "Trainable params: 218,058\n",
            "Non-trainable params: 0\n",
            "_________________________________________________________________\n"
          ]
        }
      ]
    },
    {
      "cell_type": "code",
      "source": [
        "#복잡한 구조를 갖는 모델은 summary()보다 plot_model로 구조도 시각화\n",
        "from tensorflow.keras.utils import plot_model\n",
        "\n",
        "#구조도 시각화\n",
        "plot_model(func_model,            #모델 지정\n",
        "           show_shapes=True,      #입출력 shape 출력\n",
        "           show_layer_names=True, #레이어 이름 출력\n",
        "           to_file='model.png')   #이미지 파일로 저장"
      ],
      "metadata": {
        "colab": {
          "base_uri": "https://localhost:8080/",
          "height": 533
        },
        "id": "KsbNwy-YORIG",
        "outputId": "fd69e7ec-3799-476b-8ca5-41f01d6c63a6"
      },
      "execution_count": 16,
      "outputs": [
        {
          "output_type": "execute_result",
          "data": {
            "image/png": "[encoded data removed]",
            "text/plain": [
              "<IPython.core.display.Image object>"
            ]
          },
          "metadata": {},
          "execution_count": 16
        }
      ]
    },
    {
      "cell_type": "code",
      "source": [
        "#컴파일\n",
        "func_model.compile(optimizer='adam', loss='sparse_categorical_crossentropy', metrics=['accuracy'])\n",
        "\n",
        "#훈련\n",
        "func_model.fit(x_train, y_train, epochs=3)\n",
        "\n",
        "#검증\n",
        "loss, acc = func_model.evaluate(x_test, y_test, verbose=0)\n",
        "print(f'Functional Model] loss : {loss:.5f}, acc:{acc:.5f}')"
      ],
      "metadata": {
        "colab": {
          "base_uri": "https://localhost:8080/"
        },
        "id": "c4GNZnnDO9gG",
        "outputId": "799c935e-d0a2-40d0-f60d-69008ae5c8ac"
      },
      "execution_count": 18,
      "outputs": [
        {
          "output_type": "stream",
          "name": "stdout",
          "text": [
            "Epoch 1/3\n",
            "1875/1875 [==============================] - 8s 4ms/step - loss: 0.2197 - accuracy: 0.9344\n",
            "Epoch 2/3\n",
            "1875/1875 [==============================] - 8s 4ms/step - loss: 0.0890 - accuracy: 0.9727\n",
            "Epoch 3/3\n",
            "1875/1875 [==============================] - 8s 4ms/step - loss: 0.0616 - accuracy: 0.9803\n",
            "Functional Model] loss : 0.08633, acc:0.97350\n"
          ]
        }
      ]
    },
    {
      "cell_type": "markdown",
      "source": [
        "###7-2 모델 서브클래싱\n",
        "- 텐서플로 케라스는 Model 클래스를 제공하고 이를 기반으로 딥러닝 모델을 구현함, 이 클래스를 직접 상속받아 사용자가 직접 서브 클래스로 딥러닝 모델 만들 수 있음\n"
      ],
      "metadata": {
        "id": "v3zzKLZGRKvc"
      }
    },
    {
      "cell_type": "code",
      "source": [
        "#tf.keras.Model 상속받아 생성하고자 하는 모델 클래스 구현\n",
        "class MyModel(tf.keras.Model):\n",
        "  def __init__(self):\n",
        "    super(MyModel, self).__init__()\n",
        "    # 초기값 설정\n",
        "    self.flatten = tf.keras.layers.Flatten()\n",
        "    self.dense1 = tf.keras.layers.Dense(256, activation='relu')\n",
        "    self.dense2 = tf.keras.layers.Dense(64, activation='relu')\n",
        "    self.dense3 = tf.keras.layers.Dense(10, activation='softmax')\n",
        "\n",
        "    #method overiding\n",
        "    #훈련용 함수 정의 - fit() 메소드가 호출되어 훈련하는 경우 호출될 함수\n",
        "    #x는 input\n",
        "    #모델의 입력부터 출력까지의 흐름, forward propagation을 정의하고 함수형 API와같은 방식으로 모든 레이어를 체인 연결\n",
        "  def call(self, x):\n",
        "    x = self.flatten(x)\n",
        "    x = self.dense1(x)\n",
        "    x = self.dense2(x)\n",
        "    x = self.dense3(x)\n",
        "    return x"
      ],
      "metadata": {
        "id": "LZyv1oGmRas0"
      },
      "execution_count": 25,
      "outputs": []
    },
    {
      "cell_type": "code",
      "source": [
        "# 모델 생성\n",
        "mymodel = MyModel()\n",
        "\n",
        "# 모델의 이름 생성\n",
        "mymodel._name = 'subclass_model'\n",
        "\n",
        "# 모델의 input 정의\n",
        "mymodel(tf.keras.layers.Input(shape=(28,28)))\n",
        "\n",
        "# 모델 요약\n",
        "mymodel.summary()  "
      ],
      "metadata": {
        "colab": {
          "base_uri": "https://localhost:8080/"
        },
        "id": "4LxVibLuSODD",
        "outputId": "40864a6a-4625-49ad-8378-ae03ee3d48e6"
      },
      "execution_count": 26,
      "outputs": [
        {
          "output_type": "stream",
          "name": "stdout",
          "text": [
            "Model: \"subclass_model\"\n",
            "_________________________________________________________________\n",
            " Layer (type)                Output Shape              Param #   \n",
            "=================================================================\n",
            " flatten_4 (Flatten)         multiple                  0         \n",
            "                                                                 \n",
            " dense_13 (Dense)            multiple                  200960    \n",
            "                                                                 \n",
            " dense_14 (Dense)            multiple                  16448     \n",
            "                                                                 \n",
            " dense_15 (Dense)            multiple                  650       \n",
            "                                                                 \n",
            "=================================================================\n",
            "Total params: 218,058\n",
            "Trainable params: 218,058\n",
            "Non-trainable params: 0\n",
            "_________________________________________________________________\n"
          ]
        }
      ]
    },
    {
      "cell_type": "code",
      "source": [
        "#컴파일\n",
        "mymodel.compile(optimizer = 'adam', loss='sparse_categorical_crossentropy', metrics=['accuracy'])\n",
        "\n",
        "#훈련\n",
        "mymodel.fit(x_train, y_train, epochs=3)\n",
        "\n",
        "#검증\n",
        "loss, acc = mymodel.evaluate(x_test, y_test, verbose=0)\n",
        "print(f'Subclassing Model] loss:{loss:.5f}, acc: {acc:.5f}')"
      ],
      "metadata": {
        "colab": {
          "base_uri": "https://localhost:8080/"
        },
        "id": "K4OuzxolUY4B",
        "outputId": "2a52b5a2-17e2-4d52-d6f4-55b0090e98fd"
      },
      "execution_count": 27,
      "outputs": [
        {
          "output_type": "stream",
          "name": "stdout",
          "text": [
            "Epoch 1/3\n",
            "1875/1875 [==============================] - 8s 4ms/step - loss: 0.2144 - accuracy: 0.9362\n",
            "Epoch 2/3\n",
            "1875/1875 [==============================] - 8s 4ms/step - loss: 0.0900 - accuracy: 0.9720\n",
            "Epoch 3/3\n",
            "1875/1875 [==============================] - 8s 5ms/step - loss: 0.0622 - accuracy: 0.9799\n",
            "Subclassing Model] loss:0.08199, acc: 0.97620\n"
          ]
        }
      ]
    },
    {
      "cell_type": "markdown",
      "source": [
        "###7-3 서브클래싱 모델 파라미터를 활용한 생성\n",
        "- Model Subclassing으로 생성하는 장점은 생성자 파라미터로 모델 내부 레이어의 하이퍼 파라미터를 지정할 수 있다는 점"
      ],
      "metadata": {
        "id": "BLFCkSl5XX47"
      }
    },
    {
      "cell_type": "code",
      "source": [
        "#생성자 파라미터를 추가하여 동적으로 레이어의 유닛 개수 초기화\n",
        "class MyModel(tf.keras.Model):\n",
        "\n",
        "  #생성자 파라미터 추가\n",
        "  def __init__(self, units, num_classes): #모델의 생성자 파라미터로 기준이 되는 unit 개수를 입력받아 Dense 레이어의 유닛 개수를 계산\n",
        "    super(MyModel, self).__init__()\n",
        "    #초기값 설정\n",
        "    self.flatten = tf.keras.layers.Flatten()\n",
        "    self.dense1 = tf.keras.layers.Dense(units, activation='relu')\n",
        "    self.dense2 = tf.keras.layers.Dense(units/4, activation='relu')\n",
        "    self.dense3 = tf.keras.layers.Dense(num_classes, activation='softmax')\n",
        "\n",
        "  \n",
        "  #class overiding\n",
        "  #훈련용 함수 정의\n",
        "  #X는 input\n",
        "  def call(self, x):\n",
        "    x = self.flatten(x)\n",
        "    x = self.dense1(x)\n",
        "    x = self.dense2(x)\n",
        "    x = self.dense3(x)\n",
        "    return x"
      ],
      "metadata": {
        "id": "Enz9pl4EXTbP"
      },
      "execution_count": 28,
      "outputs": []
    },
    {
      "cell_type": "code",
      "source": [
        "#모델 생성\n",
        "mymodel = MyModel(256,10)\n",
        "\n",
        "#모델 input 정의\n",
        "mymodel(tf.keras.layers.Input(shape=(28,28)))\n",
        "\n",
        "#모델 요약\n",
        "mymodel.summary()"
      ],
      "metadata": {
        "colab": {
          "base_uri": "https://localhost:8080/"
        },
        "id": "ak2mngFEYfnM",
        "outputId": "eae0a852-6a0e-4c08-8c9a-413703f99af2"
      },
      "execution_count": 29,
      "outputs": [
        {
          "output_type": "stream",
          "name": "stdout",
          "text": [
            "Model: \"my_model_4\"\n",
            "_________________________________________________________________\n",
            " Layer (type)                Output Shape              Param #   \n",
            "=================================================================\n",
            " flatten_5 (Flatten)         multiple                  0         \n",
            "                                                                 \n",
            " dense_16 (Dense)            multiple                  200960    \n",
            "                                                                 \n",
            " dense_17 (Dense)            multiple                  16448     \n",
            "                                                                 \n",
            " dense_18 (Dense)            multiple                  650       \n",
            "                                                                 \n",
            "=================================================================\n",
            "Total params: 218,058\n",
            "Trainable params: 218,058\n",
            "Non-trainable params: 0\n",
            "_________________________________________________________________\n"
          ]
        }
      ]
    },
    {
      "cell_type": "code",
      "source": [],
      "metadata": {
        "id": "CW5oW4VKY233"
      },
      "execution_count": null,
      "outputs": []
    }
  ]
}
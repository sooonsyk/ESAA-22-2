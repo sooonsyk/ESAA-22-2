{
  "nbformat": 4,
  "nbformat_minor": 0,
  "metadata": {
    "colab": {
      "provenance": [],
      "authorship_tag": "ABX9TyMAVmpFPJES0AvIloTHHKXI",
      "include_colab_link": true
    },
    "kernelspec": {
      "name": "python3",
      "display_name": "Python 3"
    },
    "language_info": {
      "name": "python"
    }
  },
  "cells": [
    {
      "cell_type": "markdown",
      "metadata": {
        "id": "view-in-github",
        "colab_type": "text"
      },
      "source": [
        "<a href=\"https://colab.research.google.com/github/sooonsyk/ESAA-22-2/blob/main/W15_HW_mon.ipynb\" target=\"_parent\"><img src=\"https://colab.research.google.com/assets/colab-badge.svg\" alt=\"Open In Colab\"/></a>"
      ]
    },
    {
      "cell_type": "markdown",
      "source": [
        "#합성공 신경망\n",
        "##01. 합성곱 신경망 Convolutional Neural Network\n",
        ": 데이터가 가진 특징들의 패턴 학습 알고리즘\n",
        "  - 객체 탐지 :  이미지에서 특정한 객채를 인식하고 이미지의 어디에 있는지 위치까지 파악하는 기술\n",
        "  - 스타일 전이 : 콘텐츠 이미지와 스타일 참조 이미지를 이용해 콘텐츠의 기본 형태를 유지하고 스타일을 입혀서 새로운 이미지를 생성하는 기술\n",
        "  "
      ],
      "metadata": {
        "id": "FjQUrqFfgy-z"
      }
    },
    {
      "cell_type": "markdown",
      "source": [
        "###1-1 이미지 표현\n",
        "- 이미지 또는 영상을 컴퓨터가 이해할 수 있게 하려면 숫자로 표현해야 함\n",
        "  - 화소를 나타내는 숫자는 이미지의 강도를 나타내고 숫자가 클수록 더 강한 특성을 나타냄\n",
        "  - 컬러이미지는 RGB 채널로 구성된 3장의 이미지 겹쳐서 표현 "
      ],
      "metadata": {
        "id": "65mG77KChUYV"
      }
    },
    {
      "cell_type": "markdown",
      "source": [
        "###1-2 합성곱 convolution\n",
        "- 입력 이미지에 대하여 일반적으로 정방형 크기를 가지는 커널을 사용하여 입력 이미지에 대한 특성을 추출하는 방법\n",
        "  - 입력 이미지의 좌측 상단부터 커널과 같은 크기를 갖도록 입력이미지의 일부분에 커널이 겹치게 투영, 겹치는 부분에 대하여 합성곱 연산 수행\n",
        "  - 연산 값들이 모여 특성맵 구성\n",
        "- 특성맵 feature map : 합성곱 연산을 통해서 추출된 이미지\n",
        "- 커널 사이즈가 3x3인 경우 9개의 가중치를 가지며 오차 역전파시 커널의 가중치 업데이트\n",
        "- 커널의 공유 가중치 때문에 합성곱 신경망이 이미지 특성 추출에 효율적, 오차 역전파시 완전 연결층 사용할 때보다 연산량 훨씬 적음"
      ],
      "metadata": {
        "id": "HWHioYM1htx2"
      }
    },
    {
      "cell_type": "markdown",
      "source": [
        "###1-3 채널 Channel\n",
        "- 입력 이미지를 구성하는 2차원 배열의 개수\n",
        "- 입력이미지가 여러 개의 채널을 갖는 경우 그 개수만큼 커널이 생성되고 각 채널마다 하나씩 커널을 적용하여 합성곱 연산 수행, 개수만큼 생성된 특성맵을 element wise 덧셈으로 더해주면 최종 특성맵 생성"
      ],
      "metadata": {
        "id": "HE2owPTSiwwG"
      }
    },
    {
      "cell_type": "markdown",
      "source": [
        "###1-4 스트라이드 stride\n",
        "- 커널이 좌측 상단으로부터 입력 이미지를 기준으로 우측으로 이동하면서 합성곱 연산을 계속 수행하며 특성맵을 채워나갈 때 이동하는 간격, 주로 1 혹은 2로 설정\n",
        "  - 2로 설정하면 특성맵의 크기가 반으로 줄어듦"
      ],
      "metadata": {
        "id": "UIauKkoTje0D"
      }
    },
    {
      "cell_type": "markdown",
      "source": [
        "###1-5 패딩 padding\n",
        "- 추출된 특성맵의 크기가 입력 이미지 대비 줄어들지 않도록 설정\n",
        "- zero padding : 입력 이미지의 가장 자리에 0으로 채워진 패딩 값으로 채운 후 추출"
      ],
      "metadata": {
        "id": "fnAmQl3_jyVh"
      }
    },
    {
      "cell_type": "markdown",
      "source": [
        "###1-6 특성맵 사이즈\n",
        "$(Output Height, Output Width) = ( \\frac{Image Height + 2P - Kernel Height}{S}+1, \\frac{Image Width + 2P - Kernel Width}{S}+1)$"
      ],
      "metadata": {
        "id": "KklGIUJPkJfT"
      }
    },
    {
      "cell_type": "markdown",
      "source": [
        "###1-7 풀링 pooling\n",
        "- 풀링 레이어 : 추출된 특성맵에 대해 다운 샘플링하여 이미지의 크기를 축소하는 레이어\n",
        "- 이미지 축소를 통해 연산량을 감소하고 과대적합을 방지\n",
        "- max pooling : 특징의 값이 큰 값이 다른 특징들을 대표, 최댓값 사용\n",
        "  - 스트라이드 설정 가능, 2로 설정시 입력 이미지 대시 1/4로 크기 줆\n",
        "- average pooling : 평균값 사용"
      ],
      "metadata": {
        "id": "ib0bl1m1kSzt"
      }
    },
    {
      "cell_type": "markdown",
      "source": [
        "##02 간단한 모델 생성"
      ],
      "metadata": {
        "id": "xm07rqc8lHpz"
      }
    },
    {
      "cell_type": "markdown",
      "source": [
        "###2-1 데이터 로드 및 전처리"
      ],
      "metadata": {
        "id": "ux9hGx4blJ5g"
      }
    },
    {
      "cell_type": "code",
      "source": [
        "import tensorflow as tf\n",
        "import numpy as np\n",
        "\n",
        "mnist = tf.keras.datasets.mnist\n",
        "(x_train, y_train),(x_valid, y_valid) = mnist.load_data()\n",
        "\n",
        "print(x_train.shape, y_train.shape)\n",
        "print(x_valid.shape, y_valid.shape)"
      ],
      "metadata": {
        "colab": {
          "base_uri": "https://localhost:8080/"
        },
        "id": "2SLjb4t_lLqX",
        "outputId": "e0fd546b-4869-4a81-e5f5-e2c3df7fdfaf"
      },
      "execution_count": 32,
      "outputs": [
        {
          "output_type": "stream",
          "name": "stdout",
          "text": [
            "(60000, 28, 28) (60000,)\n",
            "(10000, 28, 28) (10000,)\n"
          ]
        }
      ]
    },
    {
      "cell_type": "code",
      "execution_count": null,
      "metadata": {
        "colab": {
          "base_uri": "https://localhost:8080/",
          "height": 303
        },
        "id": "ro3aRL62gvsY",
        "outputId": "b6d4977d-92e8-4755-deb3-72c0156823d9"
      },
      "outputs": [
        {
          "output_type": "display_data",
          "data": {
            "text/plain": [
              "<Figure size 360x360 with 1 Axes>"
            ],
            "image/png": "[encoded data removed]"
          },
          "metadata": {
            "needs_background": "light"
          }
        }
      ],
      "source": [
        "import matplotlib.pyplot as plt\n",
        "\n",
        "def plot_image(data,idx):\n",
        "  plt.figure(figsize=(5,5))\n",
        "  plt.imshow(data[idx], cmap='gray')\n",
        "  plt.axis('off')\n",
        "  plt.show()\n",
        "\n",
        "#첫번째 이미지\n",
        "plot_image(x_train,0)"
      ]
    },
    {
      "cell_type": "code",
      "source": [
        "#이미지 픽셀값 최대 최소\n",
        "print(x_train.min(), x_train.max())\n",
        "print(x_valid.min(), x_valid.max())"
      ],
      "metadata": {
        "colab": {
          "base_uri": "https://localhost:8080/"
        },
        "id": "5ygHWi_ul4z0",
        "outputId": "c21f7477-d2e0-4bb4-ff12-c2cb5bcb8bc5"
      },
      "execution_count": null,
      "outputs": [
        {
          "output_type": "stream",
          "name": "stdout",
          "text": [
            "0 255\n",
            "0 255\n"
          ]
        }
      ]
    },
    {
      "cell_type": "code",
      "source": [
        "#정규화 - 안정적인 학습\n",
        "x_train = x_train/255.0\n",
        "x_valid = x_valid/255.0\n",
        "\n",
        "print(x_train.min(), x_train.max())\n",
        "print(x_valid.min(), x_valid.max())"
      ],
      "metadata": {
        "colab": {
          "base_uri": "https://localhost:8080/"
        },
        "id": "oK8GKAqnmFhv",
        "outputId": "f7811f3e-80f8-4d93-f458-1722521f15b1"
      },
      "execution_count": null,
      "outputs": [
        {
          "output_type": "stream",
          "name": "stdout",
          "text": [
            "0.0 1.0\n",
            "0.0 1.0\n"
          ]
        }
      ]
    },
    {
      "cell_type": "code",
      "source": [
        "#모노 컬러 이미지 채널 추가\n",
        "print(x_train.shape, x_valid.shape)\n",
        "\n",
        "x_train_in = x_train[..., tf.newaxis] #마지막 축에 채널 추가\n",
        "x_valid_in = x_valid[..., tf.newaxis]\n",
        "\n",
        "print(x_train_in.shape, x_valid_in.shape)"
      ],
      "metadata": {
        "colab": {
          "base_uri": "https://localhost:8080/"
        },
        "id": "GVYo4dwHmPYt",
        "outputId": "fe5eaf04-4f53-4ed2-d124-e5138daf1a56"
      },
      "execution_count": null,
      "outputs": [
        {
          "output_type": "stream",
          "name": "stdout",
          "text": [
            "(60000, 28, 28) (10000, 28, 28)\n",
            "(60000, 28, 28, 1) (10000, 28, 28, 1)\n"
          ]
        }
      ]
    },
    {
      "cell_type": "markdown",
      "source": [
        "###2-2 Sequential API로 모델 생성 및 학습\n"
      ],
      "metadata": {
        "id": "vSz2kv8K8QVa"
      }
    },
    {
      "cell_type": "code",
      "source": [
        "model = tf.keras.Sequential([\n",
        "    #Convolution 적용(32 filters)\n",
        "    tf.keras.layers.Conv2D(32,(3,3),              #(3,3)크기의 서로 다른 32가지 종류의 커널\n",
        "                           activation='relu', \n",
        "                           input_shape=(28,28,1),\n",
        "                           name = 'conv'),\n",
        "    \n",
        "    #Max pooling 적용\n",
        "    tf.keras.layers.MaxPooling2D((2,2), name='pool'),\n",
        "    #Classifier 출력층\n",
        "    tf.keras.layers.Flatten(),\n",
        "    tf.keras.layers.Dense(10, activation='softmax')\n",
        "    \n",
        "    ])"
      ],
      "metadata": {
        "id": "-c4bio2smsEY"
      },
      "execution_count": null,
      "outputs": []
    },
    {
      "cell_type": "code",
      "source": [
        "#모델 컴파일\n",
        "model.compile(optimizer='adam', loss='sparse_categorical_crossentropy',metrics = ['accuracy'])\n",
        "\n",
        "#모델 훈련\n",
        "history = model.fit(x_train_in, y_train,\n",
        "                    validation_data = (x_valid_in, y_valid),\n",
        "                    epochs=10)"
      ],
      "metadata": {
        "colab": {
          "base_uri": "https://localhost:8080/"
        },
        "id": "LyWRdR1g9Ymx",
        "outputId": "d3962314-916e-4306-84ca-c009f3b219b8"
      },
      "execution_count": null,
      "outputs": [
        {
          "output_type": "stream",
          "name": "stdout",
          "text": [
            "Epoch 1/10\n",
            "1875/1875 [==============================] - 49s 25ms/step - loss: 0.2421 - accuracy: 0.9306 - val_loss: 0.1058 - val_accuracy: 0.9686\n",
            "Epoch 2/10\n",
            "1875/1875 [==============================] - 42s 22ms/step - loss: 0.0894 - accuracy: 0.9744 - val_loss: 0.0795 - val_accuracy: 0.9751\n",
            "Epoch 3/10\n",
            "1875/1875 [==============================] - 35s 18ms/step - loss: 0.0646 - accuracy: 0.9810 - val_loss: 0.0590 - val_accuracy: 0.9817\n",
            "Epoch 4/10\n",
            "1875/1875 [==============================] - 37s 20ms/step - loss: 0.0530 - accuracy: 0.9844 - val_loss: 0.0609 - val_accuracy: 0.9812\n",
            "Epoch 5/10\n",
            "1875/1875 [==============================] - 42s 23ms/step - loss: 0.0438 - accuracy: 0.9872 - val_loss: 0.0518 - val_accuracy: 0.9843\n",
            "Epoch 6/10\n",
            "1875/1875 [==============================] - 42s 22ms/step - loss: 0.0382 - accuracy: 0.9880 - val_loss: 0.0490 - val_accuracy: 0.9847\n",
            "Epoch 7/10\n",
            "1875/1875 [==============================] - 42s 23ms/step - loss: 0.0320 - accuracy: 0.9901 - val_loss: 0.0502 - val_accuracy: 0.9834\n",
            "Epoch 8/10\n",
            "1875/1875 [==============================] - 45s 24ms/step - loss: 0.0278 - accuracy: 0.9913 - val_loss: 0.0529 - val_accuracy: 0.9829\n",
            "Epoch 9/10\n",
            "1875/1875 [==============================] - 42s 22ms/step - loss: 0.0233 - accuracy: 0.9926 - val_loss: 0.0557 - val_accuracy: 0.9840\n",
            "Epoch 10/10\n",
            "1875/1875 [==============================] - 33s 18ms/step - loss: 0.0195 - accuracy: 0.9945 - val_loss: 0.0562 - val_accuracy: 0.9828\n"
          ]
        }
      ]
    },
    {
      "cell_type": "code",
      "source": [
        "#모델의 학습된 가중치를 사용하여 손실과 평가지표 계산\n",
        "model.evaluate(x_valid_in, y_valid)"
      ],
      "metadata": {
        "colab": {
          "base_uri": "https://localhost:8080/"
        },
        "id": "yIsB7bED9x9V",
        "outputId": "f25f7d41-9285-41aa-ae5f-3ddb49138d68"
      },
      "execution_count": null,
      "outputs": [
        {
          "output_type": "stream",
          "name": "stdout",
          "text": [
            "313/313 [==============================] - 3s 8ms/step - loss: 0.0562 - accuracy: 0.9828\n"
          ]
        },
        {
          "output_type": "execute_result",
          "data": {
            "text/plain": [
              "[0.056242436170578, 0.9828000068664551]"
            ]
          },
          "metadata": {},
          "execution_count": 10
        }
      ]
    },
    {
      "cell_type": "code",
      "source": [
        "#예측 오차와 정확도 그래프로\n",
        "def plot_loss_acc(history, epoch):\n",
        "    loss, val_loss = history.history['loss'], history.history['val_loss']\n",
        "    acc, val_acc = history.history['accuracy'], history.history['val_accuracy']\n",
        "    \n",
        "    fig, axes = plt.subplots(1,2,figsize=(12,4))\n",
        "    \n",
        "    axes[0].plot(range(1, epoch+1), loss, label = 'Training')\n",
        "    axes[0].plot(range(1, epoch+1), val_loss, label = \"Validation\")\n",
        "    axes[0].legend(loc='best')\n",
        "    axes[0].set_title('Loss')\n",
        "\n",
        "    axes[1].plot(range(1, epoch+1), acc, label = 'Training')\n",
        "    axes[1].plot(range(1, epoch+1), val_acc, label = \"Validation\")\n",
        "    axes[1].legend(loc='best')\n",
        "    axes[1].set_title('Accuracy')\n",
        "    \n",
        "    plt.show()\n",
        "    \n",
        "plot_loss_acc(history, 10) # 4이후부터 과대적합"
      ],
      "metadata": {
        "colab": {
          "base_uri": "https://localhost:8080/",
          "height": 281
        },
        "id": "9nXq3oyv99LT",
        "outputId": "2d38ec30-50ec-4595-e5aa-d3ed9f9369f5"
      },
      "execution_count": null,
      "outputs": [
        {
          "output_type": "display_data",
          "data": {
            "text/plain": [
              "<Figure size 864x288 with 2 Axes>"
            ],
            "image/png": "[encoded data removed]"
          },
          "metadata": {
            "needs_background": "light"
          }
        }
      ]
    },
    {
      "cell_type": "markdown",
      "source": [
        "###2-3 모델 구조 파악\n"
      ],
      "metadata": {
        "id": "4N0EsyzO-T1N"
      }
    },
    {
      "cell_type": "code",
      "source": [
        "#모델 구조\n",
        "model.summary()"
      ],
      "metadata": {
        "colab": {
          "base_uri": "https://localhost:8080/"
        },
        "id": "CLRcJjLx-Sfj",
        "outputId": "076c2bab-b15a-4a39-f94c-c9f606f4dab2"
      },
      "execution_count": null,
      "outputs": [
        {
          "output_type": "stream",
          "name": "stdout",
          "text": [
            "Model: \"sequential\"\n",
            "_________________________________________________________________\n",
            " Layer (type)                Output Shape              Param #   \n",
            "=================================================================\n",
            " conv (Conv2D)               (None, 26, 26, 32)        320       \n",
            "                                                                 \n",
            " pool (MaxPooling2D)         (None, 13, 13, 32)        0         \n",
            "                                                                 \n",
            " flatten (Flatten)           (None, 5408)              0         \n",
            "                                                                 \n",
            " dense (Dense)               (None, 10)                54090     \n",
            "                                                                 \n",
            "=================================================================\n",
            "Total params: 54,410\n",
            "Trainable params: 54,410\n",
            "Non-trainable params: 0\n",
            "_________________________________________________________________\n"
          ]
        }
      ]
    },
    {
      "cell_type": "code",
      "source": [
        "#입력 텐서 형태\n",
        "model.input"
      ],
      "metadata": {
        "colab": {
          "base_uri": "https://localhost:8080/"
        },
        "id": "mmuwnVsI-ddm",
        "outputId": "d8416b9e-6c22-4daa-f1a4-677f07024ce7"
      },
      "execution_count": null,
      "outputs": [
        {
          "output_type": "execute_result",
          "data": {
            "text/plain": [
              "<KerasTensor: shape=(None, 28, 28, 1) dtype=float32 (created by layer 'conv_input')>"
            ]
          },
          "metadata": {},
          "execution_count": 13
        }
      ]
    },
    {
      "cell_type": "code",
      "source": [
        "#출력 텐서 형태\n",
        "model.output"
      ],
      "metadata": {
        "colab": {
          "base_uri": "https://localhost:8080/"
        },
        "id": "ycXdfbwj-mgH",
        "outputId": "9089d84a-ecbd-4cac-f8fe-75e1bfaeeb2b"
      },
      "execution_count": null,
      "outputs": [
        {
          "output_type": "execute_result",
          "data": {
            "text/plain": [
              "<KerasTensor: shape=(None, 10) dtype=float32 (created by layer 'dense')>"
            ]
          },
          "metadata": {},
          "execution_count": 14
        }
      ]
    },
    {
      "cell_type": "code",
      "source": [
        "#레이어\n",
        "model.layers"
      ],
      "metadata": {
        "colab": {
          "base_uri": "https://localhost:8080/"
        },
        "id": "c2-LyNdx-p1R",
        "outputId": "fd6e1f9a-ffd7-4350-93c2-9173d4e0daf2"
      },
      "execution_count": null,
      "outputs": [
        {
          "output_type": "execute_result",
          "data": {
            "text/plain": [
              "[<keras.layers.convolutional.conv2d.Conv2D at 0x7f108453b6d0>,\n",
              " <keras.layers.pooling.max_pooling2d.MaxPooling2D at 0x7f108453bdf0>,\n",
              " <keras.layers.reshaping.flatten.Flatten at 0x7f108453be80>,\n",
              " <keras.layers.core.dense.Dense at 0x7f10ec0eccd0>]"
            ]
          },
          "metadata": {},
          "execution_count": 15
        }
      ]
    },
    {
      "cell_type": "code",
      "source": [
        "#첫번째 레이어\n",
        "model.layers[0]"
      ],
      "metadata": {
        "colab": {
          "base_uri": "https://localhost:8080/"
        },
        "id": "jvFSg4gw-sZ2",
        "outputId": "37c63d67-48db-4b39-8d5c-8f4436e28561"
      },
      "execution_count": null,
      "outputs": [
        {
          "output_type": "execute_result",
          "data": {
            "text/plain": [
              "<keras.layers.convolutional.conv2d.Conv2D at 0x7f108453b6d0>"
            ]
          },
          "metadata": {},
          "execution_count": 19
        }
      ]
    },
    {
      "cell_type": "code",
      "source": [
        "#첫번째 레이어 입력\n",
        "model.layers[0].input"
      ],
      "metadata": {
        "colab": {
          "base_uri": "https://localhost:8080/"
        },
        "id": "cyU28M2n-xmM",
        "outputId": "0b96c696-89d5-458b-d118-d004f67ee025"
      },
      "execution_count": null,
      "outputs": [
        {
          "output_type": "execute_result",
          "data": {
            "text/plain": [
              "<KerasTensor: shape=(None, 28, 28, 1) dtype=float32 (created by layer 'conv_input')>"
            ]
          },
          "metadata": {},
          "execution_count": 20
        }
      ]
    },
    {
      "cell_type": "code",
      "source": [
        "#첫번째 레이어 출력\n",
        "model.layers[0].output"
      ],
      "metadata": {
        "colab": {
          "base_uri": "https://localhost:8080/"
        },
        "id": "qquJ3vwa_jTM",
        "outputId": "6831aecf-f994-4f08-f059-25a827ae1483"
      },
      "execution_count": null,
      "outputs": [
        {
          "output_type": "execute_result",
          "data": {
            "text/plain": [
              "<KerasTensor: shape=(None, 26, 26, 32) dtype=float32 (created by layer 'conv')>"
            ]
          },
          "metadata": {},
          "execution_count": 21
        }
      ]
    },
    {
      "cell_type": "code",
      "source": [
        "#첫번째 레이어 가중치 - 합성곱 필터 커널 행렬의 가중치, 각 커널의 상수항\n",
        "model.layers[0].weights"
      ],
      "metadata": {
        "colab": {
          "base_uri": "https://localhost:8080/"
        },
        "id": "PGY-X3qG_mrf",
        "outputId": "220277c4-baa0-4080-fb90-cda6dd187aec"
      },
      "execution_count": null,
      "outputs": [
        {
          "output_type": "execute_result",
          "data": {
            "text/plain": [
              "[<tf.Variable 'conv/kernel:0' shape=(3, 3, 1, 32) dtype=float32, numpy=\n",
              " array([[[[-1.5150702 , -0.1524036 ,  0.18185388,  0.17843886,\n",
              "            0.33390832,  0.40636015,  0.35388693, -0.11600509,\n",
              "           -0.77325433,  0.38113886, -0.60977924,  0.35724467,\n",
              "           -1.0385202 ,  0.2139338 , -0.41969708, -0.3455717 ,\n",
              "           -0.9151152 , -0.07297441,  0.3651903 ,  0.36433753,\n",
              "           -0.54644126,  0.27873886, -0.11817159, -0.45720094,\n",
              "           -0.93724185,  0.19169156, -0.08779652,  0.09808005,\n",
              "            0.16177331, -0.4852427 ,  0.12239453, -0.7664227 ]],\n",
              " \n",
              "         [[-0.9496863 ,  0.21489865,  0.7375497 , -0.180851  ,\n",
              "            0.21022147,  0.24007231,  0.4791919 ,  0.0752819 ,\n",
              "            0.0386845 , -0.06943044,  0.2365819 ,  0.09941396,\n",
              "           -1.0800991 , -0.27037144, -0.74464655,  0.11975917,\n",
              "           -0.41742527, -0.29938677,  0.53015506,  0.10031971,\n",
              "           -0.06848641,  0.24106798,  0.21597457, -0.74518836,\n",
              "           -0.59974164,  0.23678075,  0.56247663,  0.34892026,\n",
              "            0.36021158, -0.00389872, -0.1239906 , -0.38692796]],\n",
              " \n",
              "         [[-0.474658  , -0.04545273,  0.6881695 ,  0.1002487 ,\n",
              "           -0.06523924, -0.50850856,  0.0321082 , -0.26744786,\n",
              "           -0.01838007, -0.97934073,  0.468888  , -0.4372947 ,\n",
              "           -1.0888013 , -0.10034364, -0.7397078 ,  0.24791792,\n",
              "            0.37817088, -0.00309172, -0.27465382, -0.58701366,\n",
              "            0.28004274, -0.41583845,  0.20149484, -0.85003936,\n",
              "            0.793365  , -0.4251047 , -0.00391312,  0.47267482,\n",
              "            0.00398199,  0.2517052 , -0.11084169, -0.05485406]]],\n",
              " \n",
              " \n",
              "        [[[-0.7858293 , -0.02141848, -0.6185172 , -0.1801234 ,\n",
              "           -0.23603687, -0.27393475, -0.56720126,  0.19474155,\n",
              "            0.19244237,  0.7560314 , -0.9195945 ,  0.09019312,\n",
              "            0.3517723 , -0.42674205,  0.17211404,  0.38991788,\n",
              "           -0.5767051 ,  0.37905708,  0.6567713 ,  0.1119016 ,\n",
              "           -0.558321  ,  0.10140011,  0.04535154,  0.4496013 ,\n",
              "           -1.127903  ,  0.09512753, -0.7034275 ,  0.15042621,\n",
              "           -0.62501574,  0.10600051,  0.29883632,  0.02339445]],\n",
              " \n",
              "         [[ 0.344791  ,  0.38184452, -0.06180333, -0.23816141,\n",
              "            0.11211312,  0.15480201,  0.07401213,  0.11739139,\n",
              "            0.53749883, -0.06450017,  0.19563524,  0.22057264,\n",
              "            0.28406346, -0.23474826,  0.2837005 ,  0.23893286,\n",
              "            0.17303672,  0.23799564,  0.16877863,  0.4127254 ,\n",
              "            0.46546996,  0.06492496,  0.12875767,  0.3916677 ,\n",
              "           -0.48323968,  0.40610647,  0.37496462,  0.49225327,\n",
              "            0.09641536,  0.30513734,  0.44974047,  0.5585021 ]],\n",
              " \n",
              "         [[ 0.16389363, -0.44124392,  0.24491113,  0.16854292,\n",
              "           -0.22805052,  0.13873726,  0.25485173, -0.2356965 ,\n",
              "           -0.05551072, -0.7670204 ,  0.36152497, -0.159707  ,\n",
              "           -0.9326501 ,  0.33228183, -0.0344537 ,  0.14680812,\n",
              "            0.5844946 ,  0.30897775, -0.96424776, -0.12657875,\n",
              "            0.30404934, -0.55406415, -0.32553267, -0.05989144,\n",
              "            0.7178415 ,  0.22713256,  0.15375847,  0.14036806,\n",
              "           -0.13301617,  0.00403481,  0.19702256,  0.37169477]]],\n",
              " \n",
              " \n",
              "        [[[ 0.1007423 , -0.19248207, -0.9732751 ,  0.31065264,\n",
              "           -0.10595126, -0.24028218, -0.90897477,  0.2989015 ,\n",
              "           -0.02318331,  0.63501674, -0.49634573, -0.24087462,\n",
              "            0.6864527 ,  0.30654976,  0.4473211 , -0.03125601,\n",
              "           -0.05114894, -0.07285321, -0.05786959, -0.5153093 ,\n",
              "            0.06840248, -0.07499512,  0.13045941,  0.11122362,\n",
              "           -0.7472423 , -0.55840224, -0.5370323 , -0.86223096,\n",
              "           -0.04401765,  0.274096  , -0.49956173,  0.29704544]],\n",
              " \n",
              "         [[ 0.5464747 ,  0.47270563, -0.7029651 ,  0.1195362 ,\n",
              "            0.285073  ,  0.15192915, -0.74250066,  0.17457741,\n",
              "            0.12274507,  0.25817084,  0.08023755,  0.17626548,\n",
              "            0.45240912,  0.26732734,  0.44182315, -0.48256126,\n",
              "            0.23997019, -0.24163236, -0.68382525,  0.20886038,\n",
              "            0.5254687 ,  0.5015075 ,  0.06835045,  0.32754877,\n",
              "           -0.57643336, -0.28253937,  0.12584475, -0.8991096 ,\n",
              "            0.00358937, -0.10097665, -0.15735134,  0.08530138]],\n",
              " \n",
              "         [[ 0.48262656, -0.310253  , -0.1271214 ,  0.09855538,\n",
              "            0.297685  ,  0.25184068, -0.17780448, -0.7459421 ,\n",
              "           -0.75083256, -0.09304659,  0.33991653,  0.43265483,\n",
              "           -0.17262125, -0.0951884 ,  0.30996573, -0.47299653,\n",
              "            0.08882635, -0.03136346, -1.1591048 ,  0.4250086 ,\n",
              "           -0.32537216,  0.32048377,  0.12201571,  0.25178006,\n",
              "            0.4829812 ,  0.301337  ,  0.20394205, -0.8733619 ,\n",
              "            0.24909137, -0.35652047,  0.05447225, -0.5782231 ]]]],\n",
              "       dtype=float32)>,\n",
              " <tf.Variable 'conv/bias:0' shape=(32,) dtype=float32, numpy=\n",
              " array([-0.00116405, -0.08338337, -0.08207726, -0.29596248, -0.37447128,\n",
              "        -0.27118793, -0.18148187, -0.01801361, -0.0060199 , -0.26395044,\n",
              "        -0.1783026 , -0.47870603,  0.21455929, -0.15442696, -0.05326355,\n",
              "        -0.04620951, -0.11630322, -0.15925744, -0.0222556 , -0.4125985 ,\n",
              "        -0.25446546, -0.46526122, -0.34362018, -0.1225557 , -0.01071518,\n",
              "        -0.31819218, -0.40614456, -0.01224889, -0.24659656, -0.24717364,\n",
              "        -0.18997253, -0.00476687], dtype=float32)>]"
            ]
          },
          "metadata": {},
          "execution_count": 22
        }
      ]
    },
    {
      "cell_type": "code",
      "source": [
        "#첫번째 레이어 커널 가중치\n",
        "model.layers[0].kernel"
      ],
      "metadata": {
        "colab": {
          "base_uri": "https://localhost:8080/"
        },
        "id": "JMg8upNW_ocQ",
        "outputId": "231cae9c-bd2a-473c-a197-31b55d604498"
      },
      "execution_count": null,
      "outputs": [
        {
          "output_type": "execute_result",
          "data": {
            "text/plain": [
              "<tf.Variable 'conv/kernel:0' shape=(3, 3, 1, 32) dtype=float32, numpy=\n",
              "array([[[[-1.5150702 , -0.1524036 ,  0.18185388,  0.17843886,\n",
              "           0.33390832,  0.40636015,  0.35388693, -0.11600509,\n",
              "          -0.77325433,  0.38113886, -0.60977924,  0.35724467,\n",
              "          -1.0385202 ,  0.2139338 , -0.41969708, -0.3455717 ,\n",
              "          -0.9151152 , -0.07297441,  0.3651903 ,  0.36433753,\n",
              "          -0.54644126,  0.27873886, -0.11817159, -0.45720094,\n",
              "          -0.93724185,  0.19169156, -0.08779652,  0.09808005,\n",
              "           0.16177331, -0.4852427 ,  0.12239453, -0.7664227 ]],\n",
              "\n",
              "        [[-0.9496863 ,  0.21489865,  0.7375497 , -0.180851  ,\n",
              "           0.21022147,  0.24007231,  0.4791919 ,  0.0752819 ,\n",
              "           0.0386845 , -0.06943044,  0.2365819 ,  0.09941396,\n",
              "          -1.0800991 , -0.27037144, -0.74464655,  0.11975917,\n",
              "          -0.41742527, -0.29938677,  0.53015506,  0.10031971,\n",
              "          -0.06848641,  0.24106798,  0.21597457, -0.74518836,\n",
              "          -0.59974164,  0.23678075,  0.56247663,  0.34892026,\n",
              "           0.36021158, -0.00389872, -0.1239906 , -0.38692796]],\n",
              "\n",
              "        [[-0.474658  , -0.04545273,  0.6881695 ,  0.1002487 ,\n",
              "          -0.06523924, -0.50850856,  0.0321082 , -0.26744786,\n",
              "          -0.01838007, -0.97934073,  0.468888  , -0.4372947 ,\n",
              "          -1.0888013 , -0.10034364, -0.7397078 ,  0.24791792,\n",
              "           0.37817088, -0.00309172, -0.27465382, -0.58701366,\n",
              "           0.28004274, -0.41583845,  0.20149484, -0.85003936,\n",
              "           0.793365  , -0.4251047 , -0.00391312,  0.47267482,\n",
              "           0.00398199,  0.2517052 , -0.11084169, -0.05485406]]],\n",
              "\n",
              "\n",
              "       [[[-0.7858293 , -0.02141848, -0.6185172 , -0.1801234 ,\n",
              "          -0.23603687, -0.27393475, -0.56720126,  0.19474155,\n",
              "           0.19244237,  0.7560314 , -0.9195945 ,  0.09019312,\n",
              "           0.3517723 , -0.42674205,  0.17211404,  0.38991788,\n",
              "          -0.5767051 ,  0.37905708,  0.6567713 ,  0.1119016 ,\n",
              "          -0.558321  ,  0.10140011,  0.04535154,  0.4496013 ,\n",
              "          -1.127903  ,  0.09512753, -0.7034275 ,  0.15042621,\n",
              "          -0.62501574,  0.10600051,  0.29883632,  0.02339445]],\n",
              "\n",
              "        [[ 0.344791  ,  0.38184452, -0.06180333, -0.23816141,\n",
              "           0.11211312,  0.15480201,  0.07401213,  0.11739139,\n",
              "           0.53749883, -0.06450017,  0.19563524,  0.22057264,\n",
              "           0.28406346, -0.23474826,  0.2837005 ,  0.23893286,\n",
              "           0.17303672,  0.23799564,  0.16877863,  0.4127254 ,\n",
              "           0.46546996,  0.06492496,  0.12875767,  0.3916677 ,\n",
              "          -0.48323968,  0.40610647,  0.37496462,  0.49225327,\n",
              "           0.09641536,  0.30513734,  0.44974047,  0.5585021 ]],\n",
              "\n",
              "        [[ 0.16389363, -0.44124392,  0.24491113,  0.16854292,\n",
              "          -0.22805052,  0.13873726,  0.25485173, -0.2356965 ,\n",
              "          -0.05551072, -0.7670204 ,  0.36152497, -0.159707  ,\n",
              "          -0.9326501 ,  0.33228183, -0.0344537 ,  0.14680812,\n",
              "           0.5844946 ,  0.30897775, -0.96424776, -0.12657875,\n",
              "           0.30404934, -0.55406415, -0.32553267, -0.05989144,\n",
              "           0.7178415 ,  0.22713256,  0.15375847,  0.14036806,\n",
              "          -0.13301617,  0.00403481,  0.19702256,  0.37169477]]],\n",
              "\n",
              "\n",
              "       [[[ 0.1007423 , -0.19248207, -0.9732751 ,  0.31065264,\n",
              "          -0.10595126, -0.24028218, -0.90897477,  0.2989015 ,\n",
              "          -0.02318331,  0.63501674, -0.49634573, -0.24087462,\n",
              "           0.6864527 ,  0.30654976,  0.4473211 , -0.03125601,\n",
              "          -0.05114894, -0.07285321, -0.05786959, -0.5153093 ,\n",
              "           0.06840248, -0.07499512,  0.13045941,  0.11122362,\n",
              "          -0.7472423 , -0.55840224, -0.5370323 , -0.86223096,\n",
              "          -0.04401765,  0.274096  , -0.49956173,  0.29704544]],\n",
              "\n",
              "        [[ 0.5464747 ,  0.47270563, -0.7029651 ,  0.1195362 ,\n",
              "           0.285073  ,  0.15192915, -0.74250066,  0.17457741,\n",
              "           0.12274507,  0.25817084,  0.08023755,  0.17626548,\n",
              "           0.45240912,  0.26732734,  0.44182315, -0.48256126,\n",
              "           0.23997019, -0.24163236, -0.68382525,  0.20886038,\n",
              "           0.5254687 ,  0.5015075 ,  0.06835045,  0.32754877,\n",
              "          -0.57643336, -0.28253937,  0.12584475, -0.8991096 ,\n",
              "           0.00358937, -0.10097665, -0.15735134,  0.08530138]],\n",
              "\n",
              "        [[ 0.48262656, -0.310253  , -0.1271214 ,  0.09855538,\n",
              "           0.297685  ,  0.25184068, -0.17780448, -0.7459421 ,\n",
              "          -0.75083256, -0.09304659,  0.33991653,  0.43265483,\n",
              "          -0.17262125, -0.0951884 ,  0.30996573, -0.47299653,\n",
              "           0.08882635, -0.03136346, -1.1591048 ,  0.4250086 ,\n",
              "          -0.32537216,  0.32048377,  0.12201571,  0.25178006,\n",
              "           0.4829812 ,  0.301337  ,  0.20394205, -0.8733619 ,\n",
              "           0.24909137, -0.35652047,  0.05447225, -0.5782231 ]]]],\n",
              "      dtype=float32)>"
            ]
          },
          "metadata": {},
          "execution_count": 23
        }
      ]
    },
    {
      "cell_type": "code",
      "source": [
        "#첫번째 레이어 bias 가중치\n",
        "model.layers[0].bias"
      ],
      "metadata": {
        "colab": {
          "base_uri": "https://localhost:8080/"
        },
        "id": "mwFn2fVB_pua",
        "outputId": "020d56bf-2599-4122-91e8-55a79261768f"
      },
      "execution_count": null,
      "outputs": [
        {
          "output_type": "execute_result",
          "data": {
            "text/plain": [
              "<tf.Variable 'conv/bias:0' shape=(32,) dtype=float32, numpy=\n",
              "array([-0.00116405, -0.08338337, -0.08207726, -0.29596248, -0.37447128,\n",
              "       -0.27118793, -0.18148187, -0.01801361, -0.0060199 , -0.26395044,\n",
              "       -0.1783026 , -0.47870603,  0.21455929, -0.15442696, -0.05326355,\n",
              "       -0.04620951, -0.11630322, -0.15925744, -0.0222556 , -0.4125985 ,\n",
              "       -0.25446546, -0.46526122, -0.34362018, -0.1225557 , -0.01071518,\n",
              "       -0.31819218, -0.40614456, -0.01224889, -0.24659656, -0.24717364,\n",
              "       -0.18997253, -0.00476687], dtype=float32)>"
            ]
          },
          "metadata": {},
          "execution_count": 24
        }
      ]
    },
    {
      "cell_type": "code",
      "source": [
        "#레이어 이름으로 레이어 선택\n",
        "model.get_layer('conv')"
      ],
      "metadata": {
        "colab": {
          "base_uri": "https://localhost:8080/"
        },
        "id": "FPTvw-J4AJg8",
        "outputId": "fca0c665-53af-4c0e-9804-350d99083262"
      },
      "execution_count": null,
      "outputs": [
        {
          "output_type": "execute_result",
          "data": {
            "text/plain": [
              "<keras.layers.convolutional.conv2d.Conv2D at 0x7f108453b6d0>"
            ]
          },
          "metadata": {},
          "execution_count": 25
        }
      ]
    },
    {
      "cell_type": "code",
      "source": [
        "#샘플 이미지에 레이어별 출력을 리스트에 추가\n",
        "activator = tf.keras.Model(inputs=model.input, #입력 데이터\n",
        "                           outputs=[layer.output for layer in model.layers[:2]]) #첫번째, 두번째 레이어의 출력을 최종 출력으로 갖는 activator 모델\n",
        "activations = activator.predict(x_train_in[0][tf.newaxis,...]) #첫번째 샘플에 대하여 각 레이어의 출력 예측\n",
        "\n",
        "len(activations)"
      ],
      "metadata": {
        "colab": {
          "base_uri": "https://localhost:8080/"
        },
        "id": "SeA_M76iAPaB",
        "outputId": "4813d7de-f436-4590-a8cb-7d2fe3ebcdb2"
      },
      "execution_count": null,
      "outputs": [
        {
          "output_type": "stream",
          "name": "stdout",
          "text": [
            "1/1 [==============================] - 0s 77ms/step\n"
          ]
        },
        {
          "output_type": "execute_result",
          "data": {
            "text/plain": [
              "2"
            ]
          },
          "metadata": {},
          "execution_count": 26
        }
      ]
    },
    {
      "cell_type": "code",
      "source": [
        "#첫번째 레이어 conv 출력층\n",
        "conv_activation = activations[0]\n",
        "conv_activation.shape"
      ],
      "metadata": {
        "colab": {
          "base_uri": "https://localhost:8080/"
        },
        "id": "fbGOhfsxAyYK",
        "outputId": "ae4500f1-d5fc-42e5-a5be-6120d65f4946"
      },
      "execution_count": null,
      "outputs": [
        {
          "output_type": "execute_result",
          "data": {
            "text/plain": [
              "(1, 26, 26, 32)"
            ]
          },
          "metadata": {},
          "execution_count": 27
        }
      ]
    },
    {
      "cell_type": "code",
      "source": [
        "#특성맵 이미지 커널별로 구분하여 시각화\n",
        "fig, axes = plt.subplots(4,8)\n",
        "fig.set_size_inches(10,5)\n",
        "\n",
        "for i in range(32):\n",
        "    axes[i//8, i%8].matshow(conv_activation[0,:,:,i], cmap='viridis')\n",
        "    axes[i//8, i%8].set_title('kernel %s'%str(i), fontsize=10)\n",
        "    plt.setp(axes[i//8, i%8].get_xticklabels(), visible = False)\n",
        "    plt.setp(axes[i//8, i%8].get_yticklabels(), visible = False)\n",
        "    \n",
        "plt.tight_layout()\n",
        "plt.show()\n",
        "#출ㄹ력 이미지의 특징 조금씩 차이남 - 각 커널은 입력 이미지로부터 서로 다른 피처를 추출하는 역할함"
      ],
      "metadata": {
        "id": "lzvJ5T98A5k0",
        "colab": {
          "base_uri": "https://localhost:8080/",
          "height": 369
        },
        "outputId": "214fd052-a4bc-40e8-a46c-f454b4a35e47"
      },
      "execution_count": 28,
      "outputs": [
        {
          "output_type": "display_data",
          "data": {
            "text/plain": [
              "<Figure size 720x360 with 32 Axes>"
            ],
            "image/png": "[encoded data removed]"
          },
          "metadata": {}
        }
      ]
    },
    {
      "cell_type": "code",
      "source": [
        "#두번째 레이어 출력층 - 최대 풀링 레이어\n",
        "pooling_activation = activations[1]\n",
        "print(pooling_activation.shape)"
      ],
      "metadata": {
        "colab": {
          "base_uri": "https://localhost:8080/"
        },
        "id": "YsBDgRCxBaJz",
        "outputId": "c281bee3-ad37-47db-f3a7-5ffc2c6389b5"
      },
      "execution_count": 29,
      "outputs": [
        {
          "output_type": "stream",
          "name": "stdout",
          "text": [
            "(1, 13, 13, 32)\n"
          ]
        }
      ]
    },
    {
      "cell_type": "code",
      "source": [
        "fig, axes = plt.subplots(4,8)\n",
        "fig.set_size_inches(10,5)\n",
        "\n",
        "for i in range(32):\n",
        "    axes[i//8, i%8].matshow(pooling_activation[0,:,:,i], cmap='viridis')\n",
        "    axes[i//8, i%8].set_title('kernel %s'%str(i), fontsize=10)\n",
        "    plt.setp(axes[i//8, i%8].get_xticklabels(), visible = False)\n",
        "    plt.setp(axes[i//8, i%8].get_yticklabels(), visible = False)\n",
        "    \n",
        "plt.tight_layout()\n",
        "plt.show()\n",
        "#화소 크기 보다 굵어짐 - 최댓값으로 고정하기 때문에 픽셀 수를 줄이면서 특징 더욱 강하게 드러냄"
      ],
      "metadata": {
        "colab": {
          "base_uri": "https://localhost:8080/",
          "height": 369
        },
        "id": "YnA1PpiNBoOj",
        "outputId": "dbd0cf32-0924-4bd0-ae8b-ace0e541a698"
      },
      "execution_count": 30,
      "outputs": [
        {
          "output_type": "display_data",
          "data": {
            "text/plain": [
              "<Figure size 720x360 with 32 Axes>"
            ],
            "image/png": "[encoded data removed]"
          },
          "metadata": {}
        }
      ]
    },
    {
      "cell_type": "markdown",
      "source": [
        "##03 복잡한 모델 생성"
      ],
      "metadata": {
        "id": "mjdqlSbTB4a4"
      }
    },
    {
      "cell_type": "markdown",
      "source": [
        "###3-1 데이터셋 준비"
      ],
      "metadata": {
        "id": "z9QrGaffCB5q"
      }
    },
    {
      "cell_type": "code",
      "source": [
        "mnist = tf.keras.datasets.mnist\n",
        "(x_train, y_train), (x_valid, y_valid) = mnist.load_data()\n",
        "\n",
        "print(x_train.shape, y_train.shape) \n",
        "print(x_valid.shape, y_valid.shape)"
      ],
      "metadata": {
        "colab": {
          "base_uri": "https://localhost:8080/"
        },
        "id": "oANE0YgABy6X",
        "outputId": "aa999000-625e-45bf-ba83-6c602f1ccc88"
      },
      "execution_count": 33,
      "outputs": [
        {
          "output_type": "stream",
          "name": "stdout",
          "text": [
            "(60000, 28, 28) (60000,)\n",
            "(10000, 28, 28) (10000,)\n"
          ]
        }
      ]
    },
    {
      "cell_type": "code",
      "source": [
        "#숫자 맞추는 정답 외에 홀수 짝수 판단하는 y_odds 추가\n",
        "\n",
        "y_train_odd=[]\n",
        "for y in y_train:\n",
        "  if y%2==0:\n",
        "    y_train_odd.append(0)\n",
        "  else:\n",
        "    y_train_odd.append(1)\n",
        "\n",
        "y_train_odd = np.array(y_train_odd)\n",
        "y_train_odd.shape"
      ],
      "metadata": {
        "colab": {
          "base_uri": "https://localhost:8080/"
        },
        "id": "xMhTASPhCb3M",
        "outputId": "59abb455-81ba-48bb-8855-a9ad22ae9b0a"
      },
      "execution_count": 34,
      "outputs": [
        {
          "output_type": "execute_result",
          "data": {
            "text/plain": [
              "(60000,)"
            ]
          },
          "metadata": {},
          "execution_count": 34
        }
      ]
    },
    {
      "cell_type": "code",
      "source": [
        "print(y_train[:10])\n",
        "print(y_train_odd[:10])"
      ],
      "metadata": {
        "colab": {
          "base_uri": "https://localhost:8080/"
        },
        "id": "wcbfdDWVDTV9",
        "outputId": "cbd641cb-ed4c-4a2f-cbfc-cfa1f85cbe16"
      },
      "execution_count": 35,
      "outputs": [
        {
          "output_type": "stream",
          "name": "stdout",
          "text": [
            "[5 0 4 1 9 2 1 3 1 4]\n",
            "[1 0 0 1 1 0 1 1 1 0]\n"
          ]
        }
      ]
    },
    {
      "cell_type": "code",
      "source": [
        "#검증 데이터셋에도\n",
        "y_valid_odd=[]\n",
        "for y in y_valid:\n",
        "  if y%2==0:\n",
        "    y_valid_odd.append(0)\n",
        "  else:\n",
        "    y_valid_odd.append(1)\n",
        "\n",
        "y_valid_odd = np.array(y_valid_odd)\n",
        "y_valid_odd.shape"
      ],
      "metadata": {
        "colab": {
          "base_uri": "https://localhost:8080/"
        },
        "id": "hd2FiZTIDV9A",
        "outputId": "c9b544ab-c6e2-4f9e-a868-51ed0e060b54"
      },
      "execution_count": 36,
      "outputs": [
        {
          "output_type": "execute_result",
          "data": {
            "text/plain": [
              "(10000,)"
            ]
          },
          "metadata": {},
          "execution_count": 36
        }
      ]
    },
    {
      "cell_type": "code",
      "source": [
        "# 정규화\n",
        "x_train = x_train/255.0\n",
        "x_valid = x_valid/255.0\n",
        "\n",
        "# 채널 추가\n",
        "x_train_in = tf.expand_dims(x_train, -1)  #원본 배열 입력하고 새롭게 추가하려는 축의 인덱스 지정하면 해당 인덱스에 새로운 축 추가 - 마지막에 모노 컬러 이미지이므로 채널 1개\n",
        "x_valid_in = tf.expand_dims(x_valid, -1)\n",
        "\n",
        "print(x_train_in.shape, x_valid_in.shape)"
      ],
      "metadata": {
        "colab": {
          "base_uri": "https://localhost:8080/"
        },
        "id": "Dn_BWRAwDge6",
        "outputId": "30be9490-63ef-4a37-957c-702759951b2f"
      },
      "execution_count": 37,
      "outputs": [
        {
          "output_type": "stream",
          "name": "stdout",
          "text": [
            "(60000, 28, 28, 1) (10000, 28, 28, 1)\n"
          ]
        }
      ]
    },
    {
      "cell_type": "markdown",
      "source": [
        "### 3-3 Fuctional API 다중 입력, 다중 출력 레이어 생성"
      ],
      "metadata": {
        "id": "xgjryWC5EIJo"
      }
    },
    {
      "cell_type": "code",
      "source": [
        "# Functional API를 이용하여 모델 생성\n",
        "inputs = tf.keras.layers.Input(shape=(28,28,1))  #conv와 flat_inputs 레이어의 입력으로 사용 - 2개의 출력 가짐 - 각각 다른 레이어의 입력으로 사용된\n",
        "\n",
        "conv = tf.keras.layers.Conv2D(32, (3,3), activation='relu')(inputs)\n",
        "pool = tf.keras.layers.MaxPooling2D((2,2))(conv)\n",
        "flat = tf.keras.layers.Flatten()(pool)\n",
        "\n",
        "flat_inputs = tf.keras.layers.Flatten()(inputs)\n",
        "concat = tf.keras.layers.Concatenate()([flat, flat_inputs])          #서로 다른 레이어들의 출력이 합쳐짐\n",
        "outputs = tf.keras.layers.Dense(10, activation='softmax')(concat)\n",
        "\n",
        "model = tf.keras.models.Model(inputs=inputs, outputs=outputs)\n",
        "model.summary()"
      ],
      "metadata": {
        "colab": {
          "base_uri": "https://localhost:8080/"
        },
        "id": "7Qofhjs3EGIQ",
        "outputId": "8c91e118-f121-47c0-af65-2b1a9fd8350d"
      },
      "execution_count": 38,
      "outputs": [
        {
          "output_type": "stream",
          "name": "stdout",
          "text": [
            "Model: \"model_1\"\n",
            "__________________________________________________________________________________________________\n",
            " Layer (type)                   Output Shape         Param #     Connected to                     \n",
            "==================================================================================================\n",
            " input_1 (InputLayer)           [(None, 28, 28, 1)]  0           []                               \n",
            "                                                                                                  \n",
            " conv2d (Conv2D)                (None, 26, 26, 32)   320         ['input_1[0][0]']                \n",
            "                                                                                                  \n",
            " max_pooling2d (MaxPooling2D)   (None, 13, 13, 32)   0           ['conv2d[0][0]']                 \n",
            "                                                                                                  \n",
            " flatten_1 (Flatten)            (None, 5408)         0           ['max_pooling2d[0][0]']          \n",
            "                                                                                                  \n",
            " flatten_2 (Flatten)            (None, 784)          0           ['input_1[0][0]']                \n",
            "                                                                                                  \n",
            " concatenate (Concatenate)      (None, 6192)         0           ['flatten_1[0][0]',              \n",
            "                                                                  'flatten_2[0][0]']              \n",
            "                                                                                                  \n",
            " dense_1 (Dense)                (None, 10)           61930       ['concatenate[0][0]']            \n",
            "                                                                                                  \n",
            "==================================================================================================\n",
            "Total params: 62,250\n",
            "Trainable params: 62,250\n",
            "Non-trainable params: 0\n",
            "__________________________________________________________________________________________________\n"
          ]
        }
      ]
    },
    {
      "cell_type": "code",
      "source": [
        "# 모델 구조 출력 및 이미지 파일로 저장\n",
        "from tensorflow.keras.utils import plot_model\n",
        "plot_model(model, show_shapes=True, show_layer_names=True, to_file='functional_cnn.png')"
      ],
      "metadata": {
        "colab": {
          "base_uri": "https://localhost:8080/",
          "height": 644
        },
        "id": "Zou6EjH-Etei",
        "outputId": "a73036f5-5079-4efb-ba2d-c7b2d2bbfa2a"
      },
      "execution_count": 39,
      "outputs": [
        {
          "output_type": "execute_result",
          "data": {
            "image/png": "[encoded data removed]",
            "text/plain": [
              "<IPython.core.display.Image object>"
            ]
          },
          "metadata": {},
          "execution_count": 39
        }
      ]
    },
    {
      "cell_type": "code",
      "source": [
        "#모델 컴파일\n",
        "model.compile(optimizer='adam', loss='sparse_categorical_crossentropy', metrics=['accuracy'])\n",
        "\n",
        "#모델 훈련\n",
        "history = model.fit(x_train_in, y_train, validation_data = (x_valid_in, y_valid),epochs=10)\n",
        "\n",
        "#모델 성능\n",
        "val_loss, val_acc = model.evaluate(x_valid_in, y_valid)\n",
        "print(val_loss, val_acc)"
      ],
      "metadata": {
        "colab": {
          "base_uri": "https://localhost:8080/"
        },
        "id": "MgR2IDjEFICf",
        "outputId": "69f25098-4e97-4464-804c-6743be727fe5"
      },
      "execution_count": 40,
      "outputs": [
        {
          "output_type": "stream",
          "name": "stdout",
          "text": [
            "Epoch 1/10\n",
            "1875/1875 [==============================] - 42s 22ms/step - loss: 0.2127 - accuracy: 0.9394 - val_loss: 0.0890 - val_accuracy: 0.9738\n",
            "Epoch 2/10\n",
            "1875/1875 [==============================] - 43s 23ms/step - loss: 0.0791 - accuracy: 0.9771 - val_loss: 0.0701 - val_accuracy: 0.9776\n",
            "Epoch 3/10\n",
            "1875/1875 [==============================] - 40s 21ms/step - loss: 0.0608 - accuracy: 0.9819 - val_loss: 0.0716 - val_accuracy: 0.9774\n",
            "Epoch 4/10\n",
            "1875/1875 [==============================] - 36s 19ms/step - loss: 0.0493 - accuracy: 0.9850 - val_loss: 0.0537 - val_accuracy: 0.9821\n",
            "Epoch 5/10\n",
            "1875/1875 [==============================] - 43s 23ms/step - loss: 0.0409 - accuracy: 0.9873 - val_loss: 0.0557 - val_accuracy: 0.9819\n",
            "Epoch 6/10\n",
            "1875/1875 [==============================] - 42s 22ms/step - loss: 0.0343 - accuracy: 0.9894 - val_loss: 0.0649 - val_accuracy: 0.9799\n",
            "Epoch 7/10\n",
            "1875/1875 [==============================] - 39s 21ms/step - loss: 0.0283 - accuracy: 0.9915 - val_loss: 0.0544 - val_accuracy: 0.9831\n",
            "Epoch 8/10\n",
            "1875/1875 [==============================] - 42s 23ms/step - loss: 0.0240 - accuracy: 0.9927 - val_loss: 0.0599 - val_accuracy: 0.9815\n",
            "Epoch 9/10\n",
            "1875/1875 [==============================] - 40s 21ms/step - loss: 0.0201 - accuracy: 0.9937 - val_loss: 0.0687 - val_accuracy: 0.9806\n",
            "Epoch 10/10\n",
            "1875/1875 [==============================] - 39s 21ms/step - loss: 0.0174 - accuracy: 0.9945 - val_loss: 0.0580 - val_accuracy: 0.9845\n",
            "313/313 [==============================] - 3s 11ms/step - loss: 0.0580 - accuracy: 0.9845\n",
            "0.05795006826519966 0.984499990940094\n"
          ]
        }
      ]
    },
    {
      "cell_type": "markdown",
      "source": [
        "### 3-3 다중 출력 분류 모델"
      ],
      "metadata": {
        "id": "QcaeuANcFR4V"
      }
    },
    {
      "cell_type": "code",
      "source": [
        "inputs = tf.keras.layers.Input(shape=(28,28,1), name='inputs')\n",
        "\n",
        "conv = tf.keras.layers.Conv2D(32, (3,3), activation='relu', name='conv2d_layer')(inputs)\n",
        "pool = tf.keras.layers.MaxPooling2D((2,2), name='maxpool_layer')(conv)\n",
        "flat = tf.keras.layers.Flatten(name='flaten_layer')(pool)\n",
        "\n",
        "flat_inputs = tf.keras.layers.Flatten()(inputs)\n",
        "concat = tf.keras.layers.Concatenate()([flat, flat_inputs])\n",
        "digit_outputs = tf.keras.layers.Dense(10, activation='softmax', name='digit_dense')(concat) #어떤 숫자인지 분류\n",
        "odd_outputs = tf.keras.layers.Dense(1, activation='sigmoid', name='odd_dense')(flat_inputs) #홀짝 분류\n",
        "\n",
        "model = tf.keras.models.Model(inputs=inputs, outputs=[digit_outputs, odd_outputs])\n",
        "model.summary()"
      ],
      "metadata": {
        "colab": {
          "base_uri": "https://localhost:8080/"
        },
        "id": "6HKvsXa3FQDn",
        "outputId": "21867899-dae5-498c-982d-214936a803b0"
      },
      "execution_count": 41,
      "outputs": [
        {
          "output_type": "stream",
          "name": "stdout",
          "text": [
            "Model: \"model_2\"\n",
            "__________________________________________________________________________________________________\n",
            " Layer (type)                   Output Shape         Param #     Connected to                     \n",
            "==================================================================================================\n",
            " inputs (InputLayer)            [(None, 28, 28, 1)]  0           []                               \n",
            "                                                                                                  \n",
            " conv2d_layer (Conv2D)          (None, 26, 26, 32)   320         ['inputs[0][0]']                 \n",
            "                                                                                                  \n",
            " maxpool_layer (MaxPooling2D)   (None, 13, 13, 32)   0           ['conv2d_layer[0][0]']           \n",
            "                                                                                                  \n",
            " flaten_layer (Flatten)         (None, 5408)         0           ['maxpool_layer[0][0]']          \n",
            "                                                                                                  \n",
            " flatten_3 (Flatten)            (None, 784)          0           ['inputs[0][0]']                 \n",
            "                                                                                                  \n",
            " concatenate_1 (Concatenate)    (None, 6192)         0           ['flaten_layer[0][0]',           \n",
            "                                                                  'flatten_3[0][0]']              \n",
            "                                                                                                  \n",
            " digit_dense (Dense)            (None, 10)           61930       ['concatenate_1[0][0]']          \n",
            "                                                                                                  \n",
            " odd_dense (Dense)              (None, 1)            785         ['flatten_3[0][0]']              \n",
            "                                                                                                  \n",
            "==================================================================================================\n",
            "Total params: 63,035\n",
            "Trainable params: 63,035\n",
            "Non-trainable params: 0\n",
            "__________________________________________________________________________________________________\n"
          ]
        }
      ]
    },
    {
      "cell_type": "code",
      "source": [
        "#입력, 출력\n",
        "print(model.input)\n",
        "print(model.output)"
      ],
      "metadata": {
        "colab": {
          "base_uri": "https://localhost:8080/"
        },
        "id": "2BJR1SDbFfZb",
        "outputId": "be636ed4-e25d-478f-f371-8c7910021d98"
      },
      "execution_count": 42,
      "outputs": [
        {
          "output_type": "stream",
          "name": "stdout",
          "text": [
            "KerasTensor(type_spec=TensorSpec(shape=(None, 28, 28, 1), dtype=tf.float32, name='inputs'), name='inputs', description=\"created by layer 'inputs'\")\n",
            "[<KerasTensor: shape=(None, 10) dtype=float32 (created by layer 'digit_dense')>, <KerasTensor: shape=(None, 1) dtype=float32 (created by layer 'odd_dense')>]\n"
          ]
        }
      ]
    },
    {
      "cell_type": "code",
      "source": [
        "plot_model(model, show_shapes=True, show_layer_names=True, to_file='multi_output_cnn.png')"
      ],
      "metadata": {
        "colab": {
          "base_uri": "https://localhost:8080/",
          "height": 644
        },
        "id": "QEYcSmWzFnRT",
        "outputId": "48e3ef32-187d-4a09-e0f7-97e78d9a2f21"
      },
      "execution_count": 43,
      "outputs": [
        {
          "output_type": "execute_result",
          "data": {
            "image/png": "[encoded data removed]",
            "text/plain": [
              "<IPython.core.display.Image object>"
            ]
          },
          "metadata": {},
          "execution_count": 43
        }
      ]
    },
    {
      "cell_type": "code",
      "source": [
        "#각 레이어를 key 값으로 해당 레이어레 적용할 옵션들 딕셔너리 형태로 지정\n",
        "#모델 컴파일\n",
        "model.compile(optimizer='adam', loss={'digit_dense':'sparse_categorical_crossentropy',\n",
        "                                      'odd_dense':'binary_crossentropy'},\n",
        "              loss_weights={'digit_dense':1, 'odd_dense':0.5},\n",
        "              # loss = 1.0*sparse_categorical_crossentropy + 0.5*binary_crossentropy\n",
        "              metrics=['accuracy'])\n",
        "\n",
        "#모델 훈련\n",
        "history = model.fit({'inputs':x_train_in},{'digit_dense':y_train, 'odd_dense':y_train_odd},\n",
        "                    validation_data = ({'inputs':x_valid_in}, {'digit_dense':y_valid,'odd_dense':y_valid_odd}),\n",
        "                    epochs=10)"
      ],
      "metadata": {
        "colab": {
          "base_uri": "https://localhost:8080/"
        },
        "id": "zTLpNg2JFpZ_",
        "outputId": "96cfc4d3-cc64-4123-ec00-5696e0362123"
      },
      "execution_count": 44,
      "outputs": [
        {
          "output_type": "stream",
          "name": "stdout",
          "text": [
            "Epoch 1/10\n",
            "1875/1875 [==============================] - 39s 20ms/step - loss: 0.3679 - digit_dense_loss: 0.2065 - odd_dense_loss: 0.3227 - digit_dense_accuracy: 0.9401 - odd_dense_accuracy: 0.8659 - val_loss: 0.2264 - val_digit_dense_loss: 0.0893 - val_odd_dense_loss: 0.2743 - val_digit_dense_accuracy: 0.9732 - val_odd_dense_accuracy: 0.8906\n",
            "Epoch 2/10\n",
            "1875/1875 [==============================] - 43s 23ms/step - loss: 0.2172 - digit_dense_loss: 0.0812 - odd_dense_loss: 0.2721 - digit_dense_accuracy: 0.9759 - odd_dense_accuracy: 0.8912 - val_loss: 0.2021 - val_digit_dense_loss: 0.0704 - val_odd_dense_loss: 0.2634 - val_digit_dense_accuracy: 0.9778 - val_odd_dense_accuracy: 0.8978\n",
            "Epoch 3/10\n",
            "1875/1875 [==============================] - 47s 25ms/step - loss: 0.1928 - digit_dense_loss: 0.0613 - odd_dense_loss: 0.2630 - digit_dense_accuracy: 0.9817 - odd_dense_accuracy: 0.8959 - val_loss: 0.1934 - val_digit_dense_loss: 0.0631 - val_odd_dense_loss: 0.2605 - val_digit_dense_accuracy: 0.9796 - val_odd_dense_accuracy: 0.8978\n",
            "Epoch 4/10\n",
            "1875/1875 [==============================] - 44s 24ms/step - loss: 0.1799 - digit_dense_loss: 0.0504 - odd_dense_loss: 0.2592 - digit_dense_accuracy: 0.9844 - odd_dense_accuracy: 0.8978 - val_loss: 0.1929 - val_digit_dense_loss: 0.0637 - val_odd_dense_loss: 0.2584 - val_digit_dense_accuracy: 0.9789 - val_odd_dense_accuracy: 0.9001\n",
            "Epoch 5/10\n",
            "1875/1875 [==============================] - 42s 22ms/step - loss: 0.1699 - digit_dense_loss: 0.0414 - odd_dense_loss: 0.2571 - digit_dense_accuracy: 0.9871 - odd_dense_accuracy: 0.8989 - val_loss: 0.1832 - val_digit_dense_loss: 0.0545 - val_odd_dense_loss: 0.2573 - val_digit_dense_accuracy: 0.9838 - val_odd_dense_accuracy: 0.9001\n",
            "Epoch 6/10\n",
            "1875/1875 [==============================] - 42s 22ms/step - loss: 0.1620 - digit_dense_loss: 0.0341 - odd_dense_loss: 0.2558 - digit_dense_accuracy: 0.9893 - odd_dense_accuracy: 0.8998 - val_loss: 0.1878 - val_digit_dense_loss: 0.0599 - val_odd_dense_loss: 0.2559 - val_digit_dense_accuracy: 0.9816 - val_odd_dense_accuracy: 0.9009\n",
            "Epoch 7/10\n",
            "1875/1875 [==============================] - 42s 22ms/step - loss: 0.1558 - digit_dense_loss: 0.0283 - odd_dense_loss: 0.2550 - digit_dense_accuracy: 0.9913 - odd_dense_accuracy: 0.9003 - val_loss: 0.1832 - val_digit_dense_loss: 0.0549 - val_odd_dense_loss: 0.2565 - val_digit_dense_accuracy: 0.9828 - val_odd_dense_accuracy: 0.9012\n",
            "Epoch 8/10\n",
            "1875/1875 [==============================] - 37s 20ms/step - loss: 0.1515 - digit_dense_loss: 0.0243 - odd_dense_loss: 0.2544 - digit_dense_accuracy: 0.9925 - odd_dense_accuracy: 0.9003 - val_loss: 0.1844 - val_digit_dense_loss: 0.0567 - val_odd_dense_loss: 0.2556 - val_digit_dense_accuracy: 0.9829 - val_odd_dense_accuracy: 0.9026\n",
            "Epoch 9/10\n",
            "1875/1875 [==============================] - 45s 24ms/step - loss: 0.1474 - digit_dense_loss: 0.0206 - odd_dense_loss: 0.2535 - digit_dense_accuracy: 0.9934 - odd_dense_accuracy: 0.9006 - val_loss: 0.1902 - val_digit_dense_loss: 0.0603 - val_odd_dense_loss: 0.2600 - val_digit_dense_accuracy: 0.9835 - val_odd_dense_accuracy: 0.9021\n",
            "Epoch 10/10\n",
            "1875/1875 [==============================] - 44s 23ms/step - loss: 0.1449 - digit_dense_loss: 0.0183 - odd_dense_loss: 0.2533 - digit_dense_accuracy: 0.9942 - odd_dense_accuracy: 0.9014 - val_loss: 0.1881 - val_digit_dense_loss: 0.0600 - val_odd_dense_loss: 0.2564 - val_digit_dense_accuracy: 0.9834 - val_odd_dense_accuracy: 0.9017\n"
          ]
        }
      ]
    },
    {
      "cell_type": "code",
      "source": [
        "#모델 성능\n",
        "model.evaluate({'inputs':x_train_in},{'digit_dense':y_train, 'odd_dense':y_train_odd})"
      ],
      "metadata": {
        "colab": {
          "base_uri": "https://localhost:8080/"
        },
        "id": "WiE14vxMGIcQ",
        "outputId": "0c7baada-93b7-426a-ac28-0616bca0ac29"
      },
      "execution_count": 45,
      "outputs": [
        {
          "output_type": "stream",
          "name": "stdout",
          "text": [
            "1875/1875 [==============================] - 20s 11ms/step - loss: 0.1378 - digit_dense_loss: 0.0117 - odd_dense_loss: 0.2521 - digit_dense_accuracy: 0.9968 - odd_dense_accuracy: 0.9025\n"
          ]
        },
        {
          "output_type": "execute_result",
          "data": {
            "text/plain": [
              "[0.13777987658977509,\n",
              " 0.01171291433274746,\n",
              " 0.2521341145038605,\n",
              " 0.9968166947364807,\n",
              " 0.9024666547775269]"
            ]
          },
          "metadata": {},
          "execution_count": 45
        }
      ]
    },
    {
      "cell_type": "code",
      "source": [
        "#샘플 이미지 출력\n",
        "import matplotlib.pyplot as plt\n",
        "\n",
        "def plot_image(data, idx):\n",
        "  plt.figure(figsize=(5,5))\n",
        "  plt.imshow(data[idx])\n",
        "  plt.axis('off')\n",
        "  plt.show()\n",
        "\n",
        "plot_image(x_valid, 0)"
      ],
      "metadata": {
        "colab": {
          "base_uri": "https://localhost:8080/",
          "height": 303
        },
        "id": "g9kt69KKGL9j",
        "outputId": "8faf1a4b-2026-4743-faf2-96d118d09dbe"
      },
      "execution_count": 46,
      "outputs": [
        {
          "output_type": "display_data",
          "data": {
            "text/plain": [
              "<Figure size 360x360 with 1 Axes>"
            ],
            "image/png": "[encoded data removed]"
          },
          "metadata": {
            "needs_background": "light"
          }
        }
      ]
    },
    {
      "cell_type": "code",
      "source": [
        "#예측 확률\n",
        "digit_preds, odd_preds = model.predict(x_valid_in)\n",
        "print(digit_preds[0])\n",
        "print(odd_preds[0])"
      ],
      "metadata": {
        "colab": {
          "base_uri": "https://localhost:8080/"
        },
        "id": "LQOfoIjHGRcb",
        "outputId": "c473b065-889a-4889-9a70-3211e3f2e128"
      },
      "execution_count": 47,
      "outputs": [
        {
          "output_type": "stream",
          "name": "stdout",
          "text": [
            "313/313 [==============================] - 4s 11ms/step\n",
            "[2.3242302e-12 2.7805117e-10 2.9934669e-10 1.2895933e-07 1.3299647e-11\n",
            " 7.4020637e-14 4.9033569e-22 9.9999982e-01 1.8909119e-09 6.1689881e-10]\n",
            "[0.99950093]\n"
          ]
        }
      ]
    },
    {
      "cell_type": "code",
      "source": [
        "#예측 확률 정답 레이블로 변환\n",
        "digit_labels = np.argmax(digit_preds, axis=-1)\n",
        "digit_labels[0:10]\n",
        "\n",
        "odd_labels = (odd_preds >0.5).astype(np.int).reshape(1, -1)[0]\n",
        "odd_labels[0:10]"
      ],
      "metadata": {
        "colab": {
          "base_uri": "https://localhost:8080/"
        },
        "id": "yayXB5MJGXyw",
        "outputId": "f5b44987-0b99-4b4d-b148-a971e2f4db20"
      },
      "execution_count": 48,
      "outputs": [
        {
          "output_type": "execute_result",
          "data": {
            "text/plain": [
              "array([7, 2, 1, 0, 4, 1, 4, 9, 6, 9])"
            ]
          },
          "metadata": {},
          "execution_count": 48
        }
      ]
    },
    {
      "cell_type": "markdown",
      "source": [
        "###3-4 전이학습 Transfer Learning\n",
        "- 기존에 학습된 모델을 활용해 새로운 모델 재구성"
      ],
      "metadata": {
        "id": "-6MVcl8MGj9c"
      }
    },
    {
      "cell_type": "code",
      "source": [
        "#앞의 모델에서 flatten_layer 출력을 추출\n",
        "base_model_output = model.get_layer('flaten_layer').output # 오타\n",
        "\n",
        "#앞의 출력을 출력으로 하는 모델 정의\n",
        "base_model = tf.keras.models.Model(inputs=model.input, outputs=base_model_output, name='base')\n",
        "base_model.summary()"
      ],
      "metadata": {
        "colab": {
          "base_uri": "https://localhost:8080/"
        },
        "id": "krwZXQwaGcLv",
        "outputId": "ddc2ddf7-893b-4d07-8d03-277b8cef5df5"
      },
      "execution_count": 49,
      "outputs": [
        {
          "output_type": "stream",
          "name": "stdout",
          "text": [
            "Model: \"base\"\n",
            "_________________________________________________________________\n",
            " Layer (type)                Output Shape              Param #   \n",
            "=================================================================\n",
            " inputs (InputLayer)         [(None, 28, 28, 1)]       0         \n",
            "                                                                 \n",
            " conv2d_layer (Conv2D)       (None, 26, 26, 32)        320       \n",
            "                                                                 \n",
            " maxpool_layer (MaxPooling2D  (None, 13, 13, 32)       0         \n",
            " )                                                               \n",
            "                                                                 \n",
            " flaten_layer (Flatten)      (None, 5408)              0         \n",
            "                                                                 \n",
            "=================================================================\n",
            "Total params: 320\n",
            "Trainable params: 320\n",
            "Non-trainable params: 0\n",
            "_________________________________________________________________\n"
          ]
        }
      ]
    },
    {
      "cell_type": "code",
      "source": [
        "plot_model(base_model, show_shapes=True, show_layer_names=True, to_file='base_model.png')"
      ],
      "metadata": {
        "colab": {
          "base_uri": "https://localhost:8080/",
          "height": 422
        },
        "id": "DLGsUX3gG6kM",
        "outputId": "84934f81-865d-4c60-f479-c388b22f94d1"
      },
      "execution_count": 50,
      "outputs": [
        {
          "output_type": "execute_result",
          "data": {
            "image/png": "[encoded data removed]",
            "text/plain": [
              "<IPython.core.display.Image object>"
            ]
          },
          "metadata": {},
          "execution_count": 50
        }
      ]
    },
    {
      "cell_type": "code",
      "source": [
        "digit_model = tf.keras.Sequential([\n",
        "    base_model, \n",
        "    tf.keras.layers.Dense(10, activation='softmax'), # 최종 분류기 역할 Dense 레이어\n",
        "])\n",
        "\n",
        "digit_model.summary()"
      ],
      "metadata": {
        "colab": {
          "base_uri": "https://localhost:8080/"
        },
        "id": "ZwsaXY2tG8hi",
        "outputId": "00429621-1435-4758-e8b3-839a4efae6c4"
      },
      "execution_count": 51,
      "outputs": [
        {
          "output_type": "stream",
          "name": "stdout",
          "text": [
            "Model: \"sequential_1\"\n",
            "_________________________________________________________________\n",
            " Layer (type)                Output Shape              Param #   \n",
            "=================================================================\n",
            " base (Functional)           (None, 5408)              320       \n",
            "                                                                 \n",
            " dense_2 (Dense)             (None, 10)                54090     \n",
            "                                                                 \n",
            "=================================================================\n",
            "Total params: 54,410\n",
            "Trainable params: 54,410\n",
            "Non-trainable params: 0\n",
            "_________________________________________________________________\n"
          ]
        }
      ]
    },
    {
      "cell_type": "code",
      "source": [
        "plot_model(digit_model, show_shapes=True, show_layer_names=True, to_file='digit_model.png')"
      ],
      "metadata": {
        "colab": {
          "base_uri": "https://localhost:8080/",
          "height": 312
        },
        "id": "ksrDUCPLHKuc",
        "outputId": "93ceb737-0d55-4e6b-9197-6ce01626dd77"
      },
      "execution_count": 52,
      "outputs": [
        {
          "output_type": "execute_result",
          "data": {
            "image/png": "[encoded data removed]",
            "text/plain": [
              "<IPython.core.display.Image object>"
            ]
          },
          "metadata": {},
          "execution_count": 52
        }
      ]
    },
    {
      "cell_type": "code",
      "source": [
        "digit_model.compile(optimizer='adam', loss='sparse_categorical_crossentropy',metrics=['accuracy'])\n",
        "\n",
        "history = digit_model.fit(x_train_in, y_train, validation_data = (x_valid_in, y_valid),epochs=10)"
      ],
      "metadata": {
        "colab": {
          "base_uri": "https://localhost:8080/"
        },
        "id": "ndXLwL1wHOax",
        "outputId": "0f6b18b7-e5a8-4200-b77d-e69e2faf9efa"
      },
      "execution_count": 53,
      "outputs": [
        {
          "output_type": "stream",
          "name": "stdout",
          "text": [
            "Epoch 1/10\n",
            "1875/1875 [==============================] - 40s 21ms/step - loss: 0.1294 - accuracy: 0.9647 - val_loss: 0.0729 - val_accuracy: 0.9761\n",
            "Epoch 2/10\n",
            "1875/1875 [==============================] - 34s 18ms/step - loss: 0.0580 - accuracy: 0.9831 - val_loss: 0.0575 - val_accuracy: 0.9811\n",
            "Epoch 3/10\n",
            "1875/1875 [==============================] - 34s 18ms/step - loss: 0.0440 - accuracy: 0.9866 - val_loss: 0.0514 - val_accuracy: 0.9849\n",
            "Epoch 4/10\n",
            "1875/1875 [==============================] - 34s 18ms/step - loss: 0.0349 - accuracy: 0.9891 - val_loss: 0.0475 - val_accuracy: 0.9842\n",
            "Epoch 5/10\n",
            "1875/1875 [==============================] - 35s 19ms/step - loss: 0.0281 - accuracy: 0.9912 - val_loss: 0.0606 - val_accuracy: 0.9810\n",
            "Epoch 6/10\n",
            "1875/1875 [==============================] - 34s 18ms/step - loss: 0.0234 - accuracy: 0.9931 - val_loss: 0.0512 - val_accuracy: 0.9826\n",
            "Epoch 7/10\n",
            "1875/1875 [==============================] - 34s 18ms/step - loss: 0.0193 - accuracy: 0.9943 - val_loss: 0.0558 - val_accuracy: 0.9811\n",
            "Epoch 8/10\n",
            "1875/1875 [==============================] - 34s 18ms/step - loss: 0.0157 - accuracy: 0.9949 - val_loss: 0.0535 - val_accuracy: 0.9832\n",
            "Epoch 9/10\n",
            "1875/1875 [==============================] - 35s 19ms/step - loss: 0.0139 - accuracy: 0.9956 - val_loss: 0.0582 - val_accuracy: 0.9821\n",
            "Epoch 10/10\n",
            "1875/1875 [==============================] - 34s 18ms/step - loss: 0.0113 - accuracy: 0.9966 - val_loss: 0.0624 - val_accuracy: 0.9845\n"
          ]
        }
      ]
    },
    {
      "cell_type": "code",
      "source": [
        "#베이스 모델의 가중치 고정(Freeze model)\n",
        "base_model_frozen = tf.keras.models.Model(inputs=model.input, outputs=base_model_output, name='base_frozen')\n",
        "base_model_frozen.trainable=False #모델의 파라미터 값이 고정되어 훈련의 통해 업데이트 되지 않음\n",
        "base_model_frozen.summary() #훈련 가능한 파라미터 개수 0개임을 확인할 수 있음"
      ],
      "metadata": {
        "colab": {
          "base_uri": "https://localhost:8080/"
        },
        "id": "uNoHeL25HVOf",
        "outputId": "fb1543c2-5e4f-4dd7-e26a-8d35073420b4"
      },
      "execution_count": 54,
      "outputs": [
        {
          "output_type": "stream",
          "name": "stdout",
          "text": [
            "Model: \"base_frozen\"\n",
            "_________________________________________________________________\n",
            " Layer (type)                Output Shape              Param #   \n",
            "=================================================================\n",
            " inputs (InputLayer)         [(None, 28, 28, 1)]       0         \n",
            "                                                                 \n",
            " conv2d_layer (Conv2D)       (None, 26, 26, 32)        320       \n",
            "                                                                 \n",
            " maxpool_layer (MaxPooling2D  (None, 13, 13, 32)       0         \n",
            " )                                                               \n",
            "                                                                 \n",
            " flaten_layer (Flatten)      (None, 5408)              0         \n",
            "                                                                 \n",
            "=================================================================\n",
            "Total params: 320\n",
            "Trainable params: 0\n",
            "Non-trainable params: 320\n",
            "_________________________________________________________________\n"
          ]
        }
      ]
    },
    {
      "cell_type": "code",
      "source": [
        "#Functional API 적용\n",
        "dense_output = tf.keras.layers.Dense(10, activation='softmax')(base_model_frozen.output)\n",
        "digit_model_frozen = tf.keras.models.Model(inputs = base_model_frozen.input,outputs=dense_output)\n",
        "digit_model_frozen.summary()  #훈련 가능한 파라미터는 Flatten 이전의 Conv2D의 파라미터 320개를 포함하지 않음"
      ],
      "metadata": {
        "colab": {
          "base_uri": "https://localhost:8080/"
        },
        "id": "UJMI-t_LHvJx",
        "outputId": "07db6576-215c-4372-8f3c-5c45ce3f23ec"
      },
      "execution_count": 56,
      "outputs": [
        {
          "output_type": "stream",
          "name": "stdout",
          "text": [
            "Model: \"model_3\"\n",
            "_________________________________________________________________\n",
            " Layer (type)                Output Shape              Param #   \n",
            "=================================================================\n",
            " inputs (InputLayer)         [(None, 28, 28, 1)]       0         \n",
            "                                                                 \n",
            " conv2d_layer (Conv2D)       (None, 26, 26, 32)        320       \n",
            "                                                                 \n",
            " maxpool_layer (MaxPooling2D  (None, 13, 13, 32)       0         \n",
            " )                                                               \n",
            "                                                                 \n",
            " flaten_layer (Flatten)      (None, 5408)              0         \n",
            "                                                                 \n",
            " dense_3 (Dense)             (None, 10)                54090     \n",
            "                                                                 \n",
            "=================================================================\n",
            "Total params: 54,410\n",
            "Trainable params: 54,090\n",
            "Non-trainable params: 320\n",
            "_________________________________________________________________\n"
          ]
        }
      ]
    },
    {
      "cell_type": "code",
      "source": [
        "digit_model_frozen.compile(optimizer='adam', loss='sparse_categorical_crossentropy', metrics=['accuracy'])\n",
        "\n",
        "history = digit_model_frozen.fit(x_train_in, y_train, validation_data = (x_valid_in, y_valid), epochs=10)"
      ],
      "metadata": {
        "colab": {
          "base_uri": "https://localhost:8080/"
        },
        "id": "vjynI9JHHzgD",
        "outputId": "3a170e03-2ecb-45e5-b4a0-c84a51e15aa9"
      },
      "execution_count": 57,
      "outputs": [
        {
          "output_type": "stream",
          "name": "stdout",
          "text": [
            "Epoch 1/10\n",
            "1875/1875 [==============================] - 20s 10ms/step - loss: 0.1178 - accuracy: 0.9684 - val_loss: 0.0592 - val_accuracy: 0.9816\n",
            "Epoch 2/10\n",
            "1875/1875 [==============================] - 19s 10ms/step - loss: 0.0484 - accuracy: 0.9861 - val_loss: 0.0496 - val_accuracy: 0.9829\n",
            "Epoch 3/10\n",
            "1875/1875 [==============================] - 20s 11ms/step - loss: 0.0354 - accuracy: 0.9893 - val_loss: 0.0547 - val_accuracy: 0.9835\n",
            "Epoch 4/10\n",
            "1875/1875 [==============================] - 19s 10ms/step - loss: 0.0273 - accuracy: 0.9911 - val_loss: 0.0549 - val_accuracy: 0.9836\n",
            "Epoch 5/10\n",
            "1875/1875 [==============================] - 18s 10ms/step - loss: 0.0217 - accuracy: 0.9933 - val_loss: 0.0469 - val_accuracy: 0.9852\n",
            "Epoch 6/10\n",
            "1875/1875 [==============================] - 19s 10ms/step - loss: 0.0174 - accuracy: 0.9948 - val_loss: 0.0459 - val_accuracy: 0.9846\n",
            "Epoch 7/10\n",
            "1875/1875 [==============================] - 19s 10ms/step - loss: 0.0145 - accuracy: 0.9959 - val_loss: 0.0511 - val_accuracy: 0.9837\n",
            "Epoch 8/10\n",
            "1875/1875 [==============================] - 20s 11ms/step - loss: 0.0121 - accuracy: 0.9964 - val_loss: 0.0549 - val_accuracy: 0.9823\n",
            "Epoch 9/10\n",
            "1875/1875 [==============================] - 19s 10ms/step - loss: 0.0103 - accuracy: 0.9971 - val_loss: 0.0520 - val_accuracy: 0.9838\n",
            "Epoch 10/10\n",
            "1875/1875 [==============================] - 19s 10ms/step - loss: 0.0078 - accuracy: 0.9980 - val_loss: 0.0583 - val_accuracy: 0.9830\n"
          ]
        }
      ]
    },
    {
      "cell_type": "code",
      "source": [
        "#특정 레이어만 지정해서 파라미터 업데이트 되지 않도록 고정 Freeze layer\n",
        "base_model_frozen2 = tf.keras.models.Model(inputs = model.input,\n",
        "                                           outputs=base_model.output,\n",
        "                                           name='base_frozen')\n",
        "base_model_frozen2.get_layer('conv2d_layer').trainable=False\n",
        "base_model_frozen2.summary()"
      ],
      "metadata": {
        "colab": {
          "base_uri": "https://localhost:8080/"
        },
        "id": "58hfsmC1IY9G",
        "outputId": "07653eb0-1fb9-4711-8fd1-5d0022b0518c"
      },
      "execution_count": 58,
      "outputs": [
        {
          "output_type": "stream",
          "name": "stdout",
          "text": [
            "Model: \"base_frozen\"\n",
            "_________________________________________________________________\n",
            " Layer (type)                Output Shape              Param #   \n",
            "=================================================================\n",
            " inputs (InputLayer)         [(None, 28, 28, 1)]       0         \n",
            "                                                                 \n",
            " conv2d_layer (Conv2D)       (None, 26, 26, 32)        320       \n",
            "                                                                 \n",
            " maxpool_layer (MaxPooling2D  (None, 13, 13, 32)       0         \n",
            " )                                                               \n",
            "                                                                 \n",
            " flaten_layer (Flatten)      (None, 5408)              0         \n",
            "                                                                 \n",
            "=================================================================\n",
            "Total params: 320\n",
            "Trainable params: 0\n",
            "Non-trainable params: 320\n",
            "_________________________________________________________________\n"
          ]
        }
      ]
    },
    {
      "cell_type": "code",
      "source": [
        "dense_output2 = tf.keras.layers.Dense(10, activation='softmax')(base_model_frozen2.output) #새로운 분류기 역할 Dense 연결해서 모델 구성\n",
        "digit_model_frozen2 = tf.keras.models.Model(inputs = base_model_frozen2.input,\n",
        "                                           outputs=dense_output2)\n",
        "digit_model_frozen2.summary()"
      ],
      "metadata": {
        "colab": {
          "base_uri": "https://localhost:8080/"
        },
        "id": "40h55ks-IlpB",
        "outputId": "a323b952-639a-4e8d-af9a-eb362045020c"
      },
      "execution_count": 59,
      "outputs": [
        {
          "output_type": "stream",
          "name": "stdout",
          "text": [
            "Model: \"model_4\"\n",
            "_________________________________________________________________\n",
            " Layer (type)                Output Shape              Param #   \n",
            "=================================================================\n",
            " inputs (InputLayer)         [(None, 28, 28, 1)]       0         \n",
            "                                                                 \n",
            " conv2d_layer (Conv2D)       (None, 26, 26, 32)        320       \n",
            "                                                                 \n",
            " maxpool_layer (MaxPooling2D  (None, 13, 13, 32)       0         \n",
            " )                                                               \n",
            "                                                                 \n",
            " flaten_layer (Flatten)      (None, 5408)              0         \n",
            "                                                                 \n",
            " dense_4 (Dense)             (None, 10)                54090     \n",
            "                                                                 \n",
            "=================================================================\n",
            "Total params: 54,410\n",
            "Trainable params: 54,090\n",
            "Non-trainable params: 320\n",
            "_________________________________________________________________\n"
          ]
        }
      ]
    },
    {
      "cell_type": "code",
      "source": [
        "digit_model_frozen2.compile(optimizer='adam', loss='sparse_categorical_crossentropy', metrics=['accuracy'])\n",
        "\n",
        "history = digit_model_frozen2.fit(x_train_in, y_train, validation_data = (x_valid_in, y_valid), epochs=10)"
      ],
      "metadata": {
        "colab": {
          "base_uri": "https://localhost:8080/"
        },
        "id": "VBwcUKfgIzK2",
        "outputId": "f203109d-c562-479a-d415-0f189249ec91"
      },
      "execution_count": 60,
      "outputs": [
        {
          "output_type": "stream",
          "name": "stdout",
          "text": [
            "Epoch 1/10\n",
            "1875/1875 [==============================] - 20s 10ms/step - loss: 0.1160 - accuracy: 0.9693 - val_loss: 0.0534 - val_accuracy: 0.9836\n",
            "Epoch 2/10\n",
            "1875/1875 [==============================] - 20s 11ms/step - loss: 0.0481 - accuracy: 0.9862 - val_loss: 0.0500 - val_accuracy: 0.9832\n",
            "Epoch 3/10\n",
            "1875/1875 [==============================] - 18s 10ms/step - loss: 0.0353 - accuracy: 0.9897 - val_loss: 0.0531 - val_accuracy: 0.9844\n",
            "Epoch 4/10\n",
            "1875/1875 [==============================] - 19s 10ms/step - loss: 0.0280 - accuracy: 0.9917 - val_loss: 0.0463 - val_accuracy: 0.9844\n",
            "Epoch 5/10\n",
            "1875/1875 [==============================] - 20s 10ms/step - loss: 0.0215 - accuracy: 0.9935 - val_loss: 0.0509 - val_accuracy: 0.9839\n",
            "Epoch 6/10\n",
            "1875/1875 [==============================] - 19s 10ms/step - loss: 0.0177 - accuracy: 0.9948 - val_loss: 0.0577 - val_accuracy: 0.9825\n",
            "Epoch 7/10\n",
            "1875/1875 [==============================] - 19s 10ms/step - loss: 0.0145 - accuracy: 0.9958 - val_loss: 0.0597 - val_accuracy: 0.9825\n",
            "Epoch 8/10\n",
            "1875/1875 [==============================] - 19s 10ms/step - loss: 0.0125 - accuracy: 0.9963 - val_loss: 0.0547 - val_accuracy: 0.9850\n",
            "Epoch 9/10\n",
            "1875/1875 [==============================] - 19s 10ms/step - loss: 0.0099 - accuracy: 0.9972 - val_loss: 0.0594 - val_accuracy: 0.9833\n",
            "Epoch 10/10\n",
            "1875/1875 [==============================] - 19s 10ms/step - loss: 0.0087 - accuracy: 0.9977 - val_loss: 0.0593 - val_accuracy: 0.9835\n"
          ]
        }
      ]
    }
  ]
}
{
  "cells": [
    {
      "cell_type": "markdown",
      "metadata": {
        "id": "view-in-github",
        "colab_type": "text"
      },
      "source": [
        "<a href=\"https://colab.research.google.com/github/sooonsyk/ESAA-22-2/blob/main/22_2_OB4_project1.ipynb\" target=\"_parent\"><img src=\"https://colab.research.google.com/assets/colab-badge.svg\" alt=\"Open In Colab\"/></a>"
      ]
    },
    {
      "cell_type": "code",
      "execution_count": 1,
      "metadata": {
        "id": "5cz9jjgMGVO2"
      },
      "outputs": [],
      "source": [
        "import pandas as pd\n",
        "\n",
        "submission = pd.read_csv('sample_submission.csv')\n",
        "train = pd.read_csv('train.csv')\n",
        "test = pd.read_csv('test.csv')"
      ]
    },
    {
      "cell_type": "code",
      "execution_count": null,
      "metadata": {
        "colab": {
          "base_uri": "https://localhost:8080/"
        },
        "id": "pxs3qXEsGlW4",
        "outputId": "82aae932-e0e1-4fa1-afe4-e63cb183cc1b"
      },
      "outputs": [
        {
          "name": "stdout",
          "output_type": "stream",
          "text": [
            "<class 'pandas.core.frame.DataFrame'>\n",
            "RangeIndex: 31684 entries, 0 to 31683\n",
            "Data columns (total 5 columns):\n",
            " #   Column        Non-Null Count  Dtype \n",
            "---  ------        --------------  ----- \n",
            " 0   index         31684 non-null  int64 \n",
            " 1   송하인_격자공간고유번호  31684 non-null  int64 \n",
            " 2   수하인_격자공간고유번호  31684 non-null  int64 \n",
            " 3   물품_카테고리       31684 non-null  object\n",
            " 4   운송장_건수        31684 non-null  int64 \n",
            "dtypes: int64(4), object(1)\n",
            "memory usage: 1.2+ MB\n"
          ]
        }
      ],
      "source": [
        "train.info()"
      ]
    },
    {
      "cell_type": "code",
      "execution_count": null,
      "metadata": {
        "colab": {
          "base_uri": "https://localhost:8080/"
        },
        "id": "Rhy_HmQyWTzM",
        "outputId": "2e73f1d5-d316-46b2-c5ea-f68b3c557b09"
      },
      "outputs": [
        {
          "name": "stdout",
          "output_type": "stream",
          "text": [
            "<class 'pandas.core.frame.DataFrame'>\n",
            "RangeIndex: 7920 entries, 0 to 7919\n",
            "Data columns (total 4 columns):\n",
            " #   Column        Non-Null Count  Dtype \n",
            "---  ------        --------------  ----- \n",
            " 0   index         7920 non-null   int64 \n",
            " 1   송하인_격자공간고유번호  7920 non-null   int64 \n",
            " 2   수하인_격자공간고유번호  7920 non-null   int64 \n",
            " 3   물품_카테고리       7920 non-null   object\n",
            "dtypes: int64(3), object(1)\n",
            "memory usage: 247.6+ KB\n"
          ]
        }
      ],
      "source": [
        "test.info()"
      ]
    },
    {
      "cell_type": "markdown",
      "metadata": {
        "id": "Gggpju_4HV4e"
      },
      "source": [
        "## **index 칼럼 drop**"
      ]
    },
    {
      "cell_type": "code",
      "execution_count": 2,
      "metadata": {
        "id": "fdSUJqZDHajx"
      },
      "outputs": [],
      "source": [
        "train.drop('index', axis=1, inplace=True)"
      ]
    },
    {
      "cell_type": "code",
      "execution_count": 3,
      "metadata": {
        "id": "fif21TXFckx0"
      },
      "outputs": [],
      "source": [
        "test.drop('index', axis=1, inplace=True)"
      ]
    },
    {
      "cell_type": "markdown",
      "metadata": {
        "id": "bpbf-IwbHeQb"
      },
      "source": [
        "## **격자번호 문자열 변환**"
      ]
    },
    {
      "cell_type": "code",
      "execution_count": 4,
      "metadata": {
        "id": "gJ2j-tiKan8S"
      },
      "outputs": [],
      "source": [
        "train['송하인_격자공간고유번호'] = train['송하인_격자공간고유번호'].astype(str)\n",
        "train['수하인_격자공간고유번호'] = train['수하인_격자공간고유번호'].astype(str)"
      ]
    },
    {
      "cell_type": "code",
      "execution_count": 5,
      "metadata": {
        "id": "arJCJjkMcS1H"
      },
      "outputs": [],
      "source": [
        "test['송하인_격자공간고유번호'] = test['송하인_격자공간고유번호'].astype(str)\n",
        "test['수하인_격자공간고유번호'] = test['수하인_격자공간고유번호'].astype(str)"
      ]
    },
    {
      "cell_type": "markdown",
      "metadata": {
        "id": "o1jcihYhNxYH"
      },
      "source": [
        "##**4,5,6,10,14,15 가 0인가**"
      ]
    },
    {
      "cell_type": "markdown",
      "metadata": {
        "id": "3df-lpucN27U"
      },
      "source": [
        "- 송하인"
      ]
    },
    {
      "cell_type": "code",
      "execution_count": null,
      "metadata": {
        "colab": {
          "base_uri": "https://localhost:8080/"
        },
        "id": "1SOoUBruO0or",
        "outputId": "294e8a67-900f-4084-dc64-586107c74d06"
      },
      "outputs": [
        {
          "data": {
            "text/plain": [
              "000    29499\n",
              "001      804\n",
              "100      481\n",
              "500      393\n",
              "300      338\n",
              "900      121\n",
              "700       48\n",
              "Name: 송하인_격자공간고유번호, dtype: int64"
            ]
          },
          "execution_count": 8,
          "metadata": {},
          "output_type": "execute_result"
        }
      ],
      "source": [
        "train.iloc[:,0].str[4:7].value_counts()"
      ]
    },
    {
      "cell_type": "code",
      "execution_count": null,
      "metadata": {
        "colab": {
          "base_uri": "https://localhost:8080/"
        },
        "id": "LoWxN_REO0os",
        "outputId": "f87cfa09-caae-4816-c1a5-dd2056145a12"
      },
      "outputs": [
        {
          "data": {
            "text/plain": [
              "0    31684\n",
              "Name: 송하인_격자공간고유번호, dtype: int64"
            ]
          },
          "execution_count": 9,
          "metadata": {},
          "output_type": "execute_result"
        }
      ],
      "source": [
        "train.iloc[:,0].str[5].value_counts()"
      ]
    },
    {
      "cell_type": "code",
      "execution_count": null,
      "metadata": {
        "colab": {
          "base_uri": "https://localhost:8080/"
        },
        "id": "I9E8jIhsO0os",
        "outputId": "28c023bb-4874-4bc3-bd2f-c0c0581dbd2a"
      },
      "outputs": [
        {
          "data": {
            "text/plain": [
              "0    31500\n",
              "1      184\n",
              "Name: 송하인_격자공간고유번호, dtype: int64"
            ]
          },
          "execution_count": 10,
          "metadata": {},
          "output_type": "execute_result"
        }
      ],
      "source": [
        "train.iloc[:,0].str[10].value_counts()"
      ]
    },
    {
      "cell_type": "code",
      "execution_count": null,
      "metadata": {
        "colab": {
          "base_uri": "https://localhost:8080/"
        },
        "id": "vTBn0wCSO0os",
        "outputId": "f5ce975c-a02e-467b-d4f1-e1316c053eff"
      },
      "outputs": [
        {
          "data": {
            "text/plain": [
              "00    31684\n",
              "Name: 송하인_격자공간고유번호, dtype: int64"
            ]
          },
          "execution_count": 11,
          "metadata": {},
          "output_type": "execute_result"
        }
      ],
      "source": [
        "train.iloc[:,0].str[14:16].value_counts()"
      ]
    },
    {
      "cell_type": "markdown",
      "metadata": {
        "id": "3sRR8tTgN93E"
      },
      "source": [
        "- 5, 14, 15 번째는 전부 0"
      ]
    },
    {
      "cell_type": "markdown",
      "metadata": {
        "id": "X3cqzu-nONf1"
      },
      "source": [
        "- 수하인"
      ]
    },
    {
      "cell_type": "code",
      "execution_count": null,
      "metadata": {
        "colab": {
          "base_uri": "https://localhost:8080/"
        },
        "id": "sb6HV4uuN84u",
        "outputId": "f4eba083-d253-44cb-e40d-7c45434401fc"
      },
      "outputs": [
        {
          "data": {
            "text/plain": [
              "000    25933\n",
              "500     1731\n",
              "300     1604\n",
              "100     1502\n",
              "700      620\n",
              "001      169\n",
              "900      125\n",
              "Name: 수하인_격자공간고유번호, dtype: int64"
            ]
          },
          "execution_count": 12,
          "metadata": {},
          "output_type": "execute_result"
        }
      ],
      "source": [
        "train.iloc[:,1].str[4:7].value_counts()"
      ]
    },
    {
      "cell_type": "code",
      "execution_count": null,
      "metadata": {
        "colab": {
          "base_uri": "https://localhost:8080/"
        },
        "id": "WJxA8A_xOS36",
        "outputId": "dffec79e-088d-4088-9bab-f713839ad13f"
      },
      "outputs": [
        {
          "data": {
            "text/plain": [
              "0    31684\n",
              "Name: 수하인_격자공간고유번호, dtype: int64"
            ]
          },
          "execution_count": 13,
          "metadata": {},
          "output_type": "execute_result"
        }
      ],
      "source": [
        "train.iloc[:,1].str[5].value_counts()"
      ]
    },
    {
      "cell_type": "code",
      "execution_count": null,
      "metadata": {
        "colab": {
          "base_uri": "https://localhost:8080/"
        },
        "id": "tjkdRE3MOVLb",
        "outputId": "c58e4ff6-9960-4d13-fe47-494a02e45361"
      },
      "outputs": [
        {
          "data": {
            "text/plain": [
              "0    31367\n",
              "1      317\n",
              "Name: 수하인_격자공간고유번호, dtype: int64"
            ]
          },
          "execution_count": 14,
          "metadata": {},
          "output_type": "execute_result"
        }
      ],
      "source": [
        "train.iloc[:,1].str[10].value_counts()"
      ]
    },
    {
      "cell_type": "code",
      "execution_count": null,
      "metadata": {
        "colab": {
          "base_uri": "https://localhost:8080/"
        },
        "id": "rlqoySSSOdkh",
        "outputId": "0ce8fe85-43bf-4c61-eccf-97c28f116b10"
      },
      "outputs": [
        {
          "data": {
            "text/plain": [
              "00    31684\n",
              "Name: 수하인_격자공간고유번호, dtype: int64"
            ]
          },
          "execution_count": 15,
          "metadata": {},
          "output_type": "execute_result"
        }
      ],
      "source": [
        "train.iloc[:,1].str[14:16].value_counts()"
      ]
    },
    {
      "cell_type": "markdown",
      "metadata": {
        "id": "0sJOoUdlOiKw"
      },
      "source": [
        "- 마찬가지로 5, 14, 15 전부 0"
      ]
    },
    {
      "cell_type": "markdown",
      "metadata": {
        "id": "xMyBpN-UQlnw"
      },
      "source": [
        "##**칼럼 생성**"
      ]
    },
    {
      "cell_type": "code",
      "execution_count": null,
      "metadata": {
        "colab": {
          "base_uri": "https://localhost:8080/"
        },
        "id": "IFQSI5EAOhMg",
        "outputId": "ddc163f4-e7a8-4b31-b675-65a611369bbd"
      },
      "outputs": [
        {
          "data": {
            "text/plain": [
              "50110    13030\n",
              "50130    10431\n",
              "41480     1199\n",
              "41410      472\n",
              "41590      394\n",
              "         ...  \n",
              "47920        1\n",
              "31170        1\n",
              "42190        1\n",
              "42750        1\n",
              "46720        1\n",
              "Name: 송하인_격자공간고유번호, Length: 237, dtype: int64"
            ]
          },
          "execution_count": 16,
          "metadata": {},
          "output_type": "execute_result"
        }
      ],
      "source": [
        "train.iloc[:,0].str[:5].value_counts()"
      ]
    },
    {
      "cell_type": "code",
      "execution_count": null,
      "metadata": {
        "colab": {
          "base_uri": "https://localhost:8080/"
        },
        "id": "qOTko4LiQyjO",
        "outputId": "65ba2b5d-5619-4148-a0eb-c7f7e1607bc6"
      },
      "outputs": [
        {
          "data": {
            "text/plain": [
              "0078    3911\n",
              "0610    1812\n",
              "0731    1403\n",
              "0137    1190\n",
              "0821     745\n",
              "        ... \n",
              "0756       1\n",
              "0520       1\n",
              "0261       1\n",
              "1031       1\n",
              "1383       1\n",
              "Name: 송하인_격자공간고유번호, Length: 835, dtype: int64"
            ]
          },
          "execution_count": 17,
          "metadata": {},
          "output_type": "execute_result"
        }
      ],
      "source": [
        "train.iloc[:,0].str[6:10].value_counts()"
      ]
    },
    {
      "cell_type": "code",
      "execution_count": null,
      "metadata": {
        "id": "3ifcKzmTaRrg"
      },
      "outputs": [],
      "source": []
    },
    {
      "cell_type": "code",
      "execution_count": 6,
      "metadata": {
        "id": "pesBu3wiXfT7"
      },
      "outputs": [],
      "source": [
        "train['송하인_시도'] = train.iloc[:,0].str[:2]\n",
        "train['송하인_시군구'] = train.iloc[:,0].str[:5]\n",
        "train['송하인_동'] = train.iloc[:,0].str[:10]\n",
        "train['송하인_기타'] = train.iloc[:,0].str[10:14]\n",
        "\n",
        "train['수하인_시도'] = train.iloc[:,1].str[:2]\n",
        "train['수하인_시군구'] = train.iloc[:,1].str[:5]\n",
        "train['수하인_동'] = train.iloc[:,1].str[:10]\n",
        "train['수하인_기타'] = train.iloc[:,1].str[10:14]"
      ]
    },
    {
      "cell_type": "code",
      "execution_count": 7,
      "metadata": {
        "id": "xUunYrumaHzO"
      },
      "outputs": [],
      "source": [
        "train.drop(['송하인_격자공간고유번호','수하인_격자공간고유번호'], axis=1, inplace=True)"
      ]
    },
    {
      "cell_type": "code",
      "execution_count": null,
      "metadata": {
        "id": "x_ynhwc-bEmu"
      },
      "outputs": [],
      "source": []
    },
    {
      "cell_type": "code",
      "execution_count": 8,
      "metadata": {
        "id": "qoJ56hLFcBia"
      },
      "outputs": [],
      "source": [
        "test['송하인_시도'] = test.iloc[:,0].str[:2]\n",
        "test['송하인_시군구'] = test.iloc[:,0].str[:5]\n",
        "test['송하인_동'] = test.iloc[:,0].str[:10]\n",
        "test['송하인_기타'] = test.iloc[:,0].str[10:14]\n",
        "\n",
        "test['수하인_시도'] = test.iloc[:,1].str[:2]\n",
        "test['수하인_시군구'] = test.iloc[:,1].str[:5]\n",
        "test['수하인_동'] = test.iloc[:,1].str[:10]\n",
        "test['수하인_기타'] = test.iloc[:,1].str[10:14]"
      ]
    },
    {
      "cell_type": "code",
      "execution_count": 9,
      "metadata": {
        "id": "lfRHmTeKcBib"
      },
      "outputs": [],
      "source": [
        "test.drop(['송하인_격자공간고유번호','수하인_격자공간고유번호'], axis=1, inplace=True)"
      ]
    },
    {
      "cell_type": "code",
      "execution_count": null,
      "metadata": {
        "colab": {
          "base_uri": "https://localhost:8080/"
        },
        "id": "BORF65EJc3l-",
        "outputId": "6265a3d9-a5ca-4d05-ffc9-97d2de8e875d"
      },
      "outputs": [
        {
          "name": "stdout",
          "output_type": "stream",
          "text": [
            "<class 'pandas.core.frame.DataFrame'>\n",
            "RangeIndex: 31684 entries, 0 to 31683\n",
            "Data columns (total 10 columns):\n",
            " #   Column   Non-Null Count  Dtype \n",
            "---  ------   --------------  ----- \n",
            " 0   물품_카테고리  31684 non-null  object\n",
            " 1   운송장_건수   31684 non-null  int64 \n",
            " 2   송하인_시도   31684 non-null  object\n",
            " 3   송하인_시군구  31684 non-null  object\n",
            " 4   송하인_동    31684 non-null  object\n",
            " 5   송하인_기타   31684 non-null  object\n",
            " 6   수하인_시도   31684 non-null  object\n",
            " 7   수하인_시군구  31684 non-null  object\n",
            " 8   수하인_동    31684 non-null  object\n",
            " 9   수하인_기타   31684 non-null  object\n",
            "dtypes: int64(1), object(9)\n",
            "memory usage: 2.4+ MB\n"
          ]
        }
      ],
      "source": [
        "train.info()"
      ]
    },
    {
      "cell_type": "code",
      "execution_count": null,
      "metadata": {
        "colab": {
          "base_uri": "https://localhost:8080/"
        },
        "id": "kmIrTqJxc6it",
        "outputId": "3499113e-8409-4a6e-8224-bde527cc7798"
      },
      "outputs": [
        {
          "name": "stdout",
          "output_type": "stream",
          "text": [
            "<class 'pandas.core.frame.DataFrame'>\n",
            "RangeIndex: 7920 entries, 0 to 7919\n",
            "Data columns (total 9 columns):\n",
            " #   Column   Non-Null Count  Dtype \n",
            "---  ------   --------------  ----- \n",
            " 0   물품_카테고리  7920 non-null   object\n",
            " 1   송하인_시도   7920 non-null   object\n",
            " 2   송하인_시군구  7920 non-null   object\n",
            " 3   송하인_동    7920 non-null   object\n",
            " 4   송하인_기타   7920 non-null   object\n",
            " 5   수하인_시도   7920 non-null   object\n",
            " 6   수하인_시군구  7920 non-null   object\n",
            " 7   수하인_동    7920 non-null   object\n",
            " 8   수하인_기타   7920 non-null   object\n",
            "dtypes: object(9)\n",
            "memory usage: 557.0+ KB\n"
          ]
        }
      ],
      "source": [
        "test.info()"
      ]
    },
    {
      "cell_type": "markdown",
      "metadata": {
        "id": "is18nEx8JON5"
      },
      "source": [
        "## **라벨 인코딩**"
      ]
    },
    {
      "cell_type": "code",
      "execution_count": null,
      "metadata": {
        "id": "YUKfV8ZPJREu"
      },
      "outputs": [],
      "source": [
        "features = ['물품_카테고리', '송하인_시도', '송하인_시군구', '송하인_동', '수하인_시도', '수하인_시군구', '수하인_동']"
      ]
    },
    {
      "cell_type": "code",
      "execution_count": 10,
      "metadata": {
        "id": "0x6XfRnmio6q"
      },
      "outputs": [],
      "source": [
        "from sklearn.preprocessing import LabelEncoder"
      ]
    },
    {
      "cell_type": "code",
      "execution_count": 11,
      "metadata": {
        "id": "4qo0S7iPi39K"
      },
      "outputs": [],
      "source": [
        "le1 = LabelEncoder()\n",
        "\n",
        "le1.fit(train['물품_카테고리'])\n",
        "\n",
        "train['물품_카테고리'] = le1.transform(train['물품_카테고리'])\n",
        "test['물품_카테고리'] = le1.transform(test['물품_카테고리'])"
      ]
    },
    {
      "cell_type": "code",
      "execution_count": null,
      "metadata": {
        "id": "JrUD-O_BjNGT"
      },
      "outputs": [],
      "source": []
    },
    {
      "cell_type": "code",
      "execution_count": null,
      "metadata": {
        "id": "Un-8RM4uM51E"
      },
      "outputs": [],
      "source": []
    },
    {
      "cell_type": "markdown",
      "metadata": {
        "id": "qUOxPOW3pgc4"
      },
      "source": []
    },
    {
      "cell_type": "code",
      "execution_count": 12,
      "metadata": {
        "id": "DNGZoKSFkrNN"
      },
      "outputs": [],
      "source": [
        "X_train = train.drop('운송장_건수', axis=1)\n",
        "y_train = train['운송장_건수']\n",
        "X_test = test"
      ]
    },
    {
      "cell_type": "markdown",
      "metadata": {
        "id": "MnxZEzFSkYAm"
      },
      "source": [
        "##**결정 트리**\n"
      ]
    },
    {
      "cell_type": "code",
      "execution_count": null,
      "metadata": {
        "id": "SvuoVMQmkaj0"
      },
      "outputs": [],
      "source": [
        "from sklearn.tree import DecisionTreeClassifier\n",
        "\n",
        "dt_clf = DecisionTreeClassifier()"
      ]
    },
    {
      "cell_type": "code",
      "execution_count": null,
      "metadata": {
        "colab": {
          "base_uri": "https://localhost:8080/"
        },
        "id": "yJ_g6WCNlFCE",
        "outputId": "4c2e477c-d794-4cd2-a006-32b367081280"
      },
      "outputs": [
        {
          "name": "stdout",
          "output_type": "stream",
          "text": [
            "Fitting 3 folds for each of 405 candidates, totalling 1215 fits\n"
          ]
        },
        {
          "name": "stderr",
          "output_type": "stream",
          "text": [
            "/usr/local/lib/python3.7/dist-packages/sklearn/model_selection/_split.py:680: UserWarning: The least populated class in y has only 1 members, which is less than n_splits=3.\n",
            "  UserWarning,\n"
          ]
        },
        {
          "name": "stdout",
          "output_type": "stream",
          "text": [
            "0.5544754491125258\n",
            "{'max_depth': 20, 'max_features': 5, 'max_leaf_nodes': 10, 'min_samples_leaf': 10, 'min_samples_split': 6}\n"
          ]
        }
      ],
      "source": [
        "from sklearn.model_selection import GridSearchCV\n",
        "\n",
        "params = {\n",
        "    'max_depth' : [2, 6, 10, 16, 20],\n",
        "    'min_samples_leaf' : [2, 6, 10],\n",
        "    'min_samples_split' :[2, 6, 10],\n",
        "    'max_features' : [3,5,7],\n",
        "    'max_leaf_nodes' : [2, 6, 10]\n",
        "}\n",
        "\n",
        "dt_grid = GridSearchCV(dt_clf, param_grid=params, scoring='accuracy', cv=3, verbose=1)\n",
        "dt_grid.fit(X_train, y_train)\n",
        "print(dt_grid.best_score_)\n",
        "print(dt_grid.best_params_)"
      ]
    },
    {
      "cell_type": "code",
      "execution_count": null,
      "metadata": {
        "id": "tmndPeZKls3w"
      },
      "outputs": [],
      "source": [
        "dt_clf = DecisionTreeClassifier(max_depth= 20, max_features= 5, max_leaf_nodes= 10, min_samples_leaf = 10, min_samples_split = 6)\n",
        "dt_clf.fit(X_train, y_train)\n",
        "y_pred_dt = dt_clf.predict(X_test)"
      ]
    },
    {
      "cell_type": "markdown",
      "metadata": {
        "id": "dpCElHsyqFrb"
      },
      "source": [
        "##**랜덤 포레스트**"
      ]
    },
    {
      "cell_type": "code",
      "execution_count": null,
      "metadata": {
        "id": "4j4b6l8PqL0H"
      },
      "outputs": [],
      "source": [
        "from sklearn.ensemble import RandomForestClassifier\n",
        "\n",
        "rf_clf = RandomForestClassifier()"
      ]
    },
    {
      "cell_type": "code",
      "execution_count": null,
      "metadata": {
        "colab": {
          "base_uri": "https://localhost:8080/"
        },
        "id": "hGvFDGQArT4o",
        "outputId": "f9d462ec-3431-4b83-aefb-668f164c695a"
      },
      "outputs": [
        {
          "data": {
            "text/plain": [
              "dict_keys(['bootstrap', 'ccp_alpha', 'class_weight', 'criterion', 'max_depth', 'max_features', 'max_leaf_nodes', 'max_samples', 'min_impurity_decrease', 'min_samples_leaf', 'min_samples_split', 'min_weight_fraction_leaf', 'n_estimators', 'n_jobs', 'oob_score', 'random_state', 'verbose', 'warm_start'])"
            ]
          },
          "execution_count": 32,
          "metadata": {},
          "output_type": "execute_result"
        }
      ],
      "source": [
        "rf_clf.get_params().keys()"
      ]
    },
    {
      "cell_type": "code",
      "execution_count": null,
      "metadata": {
        "colab": {
          "base_uri": "https://localhost:8080/"
        },
        "id": "xll2Vmsyqdtq",
        "outputId": "2bdb6925-95f5-474c-8f19-cba3012dc955"
      },
      "outputs": [
        {
          "name": "stderr",
          "output_type": "stream",
          "text": [
            "/usr/local/lib/python3.7/dist-packages/sklearn/model_selection/_split.py:680: UserWarning: The least populated class in y has only 1 members, which is less than n_splits=3.\n",
            "  UserWarning,\n"
          ]
        },
        {
          "name": "stdout",
          "output_type": "stream",
          "text": [
            "0.5546016938065863\n",
            "{'max_depth': 8, 'min_samples_leaf': 12, 'min_samples_split': 8, 'n_estimators': 100}\n"
          ]
        }
      ],
      "source": [
        "params = {\n",
        "    'n_estimators' : [50, 100, 200],\n",
        "    'max_depth' : [6, 8, 10, 12],\n",
        "    'min_samples_leaf' : [8, 12, 18],\n",
        "    'min_samples_split' : [8, 16, 20]\n",
        "}\n",
        "\n",
        "rf_grid = GridSearchCV(rf_clf, param_grid = params, cv=3)\n",
        "rf_grid.fit(X_train, y_train)\n",
        "\n",
        "print(rf_grid.best_score_)\n",
        "print(rf_grid.best_params_)"
      ]
    },
    {
      "cell_type": "code",
      "execution_count": null,
      "metadata": {
        "id": "pimawwaQwN8Y"
      },
      "outputs": [],
      "source": [
        "rf_clf = RandomForestClassifier(max_depth = 8, min_samples_leaf = 12, min_samples_split = 8, n_estimators = 300)\n",
        "rf_clf.fit(X_train, y_train)\n",
        "y_pred_rf = rf_clf.predict(X_test)"
      ]
    },
    {
      "cell_type": "markdown",
      "metadata": {
        "id": "cgcLU7Ofr_Et"
      },
      "source": [
        "##**에이다부스트**"
      ]
    },
    {
      "cell_type": "code",
      "execution_count": null,
      "metadata": {
        "id": "Y0wMMCForxWh"
      },
      "outputs": [],
      "source": [
        "from sklearn.ensemble import AdaBoostClassifier\n",
        "\n",
        "ada_clf = AdaBoostClassifier()"
      ]
    },
    {
      "cell_type": "code",
      "execution_count": null,
      "metadata": {
        "colab": {
          "base_uri": "https://localhost:8080/"
        },
        "id": "zFJhC1OoxFl1",
        "outputId": "e147d25a-8b1b-4f41-ed5c-bd3ca492ae49"
      },
      "outputs": [
        {
          "data": {
            "text/plain": [
              "dict_keys(['algorithm', 'base_estimator', 'learning_rate', 'n_estimators', 'random_state'])"
            ]
          },
          "execution_count": 40,
          "metadata": {},
          "output_type": "execute_result"
        }
      ],
      "source": [
        "ada_clf.get_params().keys()"
      ]
    },
    {
      "cell_type": "code",
      "execution_count": null,
      "metadata": {
        "colab": {
          "base_uri": "https://localhost:8080/"
        },
        "id": "7mGmxb4Gtjxw",
        "outputId": "1ee67e5a-f9b3-40e7-ddf8-8e95529692b6"
      },
      "outputs": [
        {
          "name": "stderr",
          "output_type": "stream",
          "text": [
            "/usr/local/lib/python3.7/dist-packages/sklearn/model_selection/_split.py:680: UserWarning: The least populated class in y has only 1 members, which is less than n_splits=3.\n",
            "  UserWarning,\n"
          ]
        },
        {
          "name": "stdout",
          "output_type": "stream",
          "text": [
            "0.5543807611094956\n",
            "{'learning_rate': 0.2, 'n_estimators': 50}\n"
          ]
        }
      ],
      "source": [
        "params = {\n",
        "    'n_estimators' : [50, 200],\n",
        "    'learning_rate' : [0.2, 0.1, 0.05, 0.01],\n",
        "}\n",
        "\n",
        "ada_grid = GridSearchCV(ada_clf, param_grid = params, cv=3)\n",
        "ada_grid.fit(X_train, y_train)\n",
        "\n",
        "print(ada_grid.best_score_)\n",
        "print(ada_grid.best_params_)"
      ]
    },
    {
      "cell_type": "code",
      "execution_count": null,
      "metadata": {
        "id": "wqhA-Qzsz3zk"
      },
      "outputs": [],
      "source": [
        "ada_clf = AdaBoostClassifier(learning_rate=0.2, n_estimators = 300)\n",
        "ada_clf.fit(X_train, y_train)\n",
        "y_pred_ada = ada_clf.predict(X_test)"
      ]
    },
    {
      "cell_type": "markdown",
      "metadata": {
        "id": "hk_QRyDVsBCO"
      },
      "source": [
        "##**GBM**"
      ]
    },
    {
      "cell_type": "code",
      "execution_count": 13,
      "metadata": {
        "id": "UT64zRsauWbr"
      },
      "outputs": [],
      "source": [
        "from sklearn.ensemble import GradientBoostingClassifier\n",
        "\n",
        "gbm_clf = GradientBoostingClassifier()"
      ]
    },
    {
      "cell_type": "code",
      "execution_count": 14,
      "metadata": {
        "colab": {
          "base_uri": "https://localhost:8080/"
        },
        "id": "ZgpPG42Nugv2",
        "outputId": "d7dc2574-883a-434c-d9b6-dae003d45bbe"
      },
      "outputs": [
        {
          "output_type": "stream",
          "name": "stdout",
          "text": [
            "Fitting 3 folds for each of 4 candidates, totalling 12 fits\n"
          ]
        },
        {
          "output_type": "stream",
          "name": "stderr",
          "text": [
            "/usr/local/lib/python3.7/dist-packages/sklearn/model_selection/_split.py:680: UserWarning: The least populated class in y has only 1 members, which is less than n_splits=3.\n",
            "  UserWarning,\n"
          ]
        },
        {
          "output_type": "stream",
          "name": "stdout",
          "text": [
            "[CV] END ....learning_rate=0.2, max_depth=6, n_estimators=50; total time= 6.4min\n",
            "[CV] END ....learning_rate=0.2, max_depth=6, n_estimators=50; total time= 6.4min\n",
            "[CV] END ....learning_rate=0.2, max_depth=6, n_estimators=50; total time= 6.4min\n",
            "[CV] END ...learning_rate=0.2, max_depth=10, n_estimators=50; total time= 9.5min\n",
            "[CV] END ...learning_rate=0.2, max_depth=10, n_estimators=50; total time= 9.6min\n",
            "[CV] END ...learning_rate=0.2, max_depth=10, n_estimators=50; total time= 9.5min\n",
            "[CV] END ....learning_rate=0.1, max_depth=6, n_estimators=50; total time= 6.7min\n",
            "[CV] END ....learning_rate=0.1, max_depth=6, n_estimators=50; total time= 6.9min\n",
            "[CV] END ....learning_rate=0.1, max_depth=6, n_estimators=50; total time= 6.7min\n",
            "[CV] END ...learning_rate=0.1, max_depth=10, n_estimators=50; total time= 9.6min\n",
            "[CV] END ...learning_rate=0.1, max_depth=10, n_estimators=50; total time=10.1min\n",
            "[CV] END ...learning_rate=0.1, max_depth=10, n_estimators=50; total time=10.1min\n",
            "0.5119617938360376\n",
            "{'learning_rate': 0.1, 'max_depth': 6, 'n_estimators': 50}\n"
          ]
        }
      ],
      "source": [
        "from sklearn.model_selection import GridSearchCV\n",
        "\n",
        "params = {\n",
        "    'n_estimators' : [50],\n",
        "    'learning_rate' : [0.2, 0.1],\n",
        "    'max_depth' : [6, 10]#,\n",
        "    #'min_samples_split' : [8, 16]\n",
        "}\n",
        "\n",
        "gbm_grid = GridSearchCV(gbm_clf, param_grid = params, cv=3, verbose=2)\n",
        "gbm_grid.fit(X_train, y_train)\n",
        "\n",
        "print(gbm_grid.best_score_)\n",
        "print(gbm_grid.best_params_)"
      ]
    },
    {
      "cell_type": "code",
      "execution_count": 15,
      "metadata": {
        "id": "qgbCobw440jQ"
      },
      "outputs": [],
      "source": [
        "gbm_clf = GradientBoostingClassifier(learning_rate = 0.1, max_depth = 6, n_estimators = 300)\n",
        "gbm_clf.fit(X_train, y_train)\n",
        "y_pred_gbm = gbm_clf.predict(X_test)"
      ]
    },
    {
      "cell_type": "code",
      "source": [],
      "metadata": {
        "id": "UmMGcRz8eVIc"
      },
      "execution_count": null,
      "outputs": []
    }
  ],
  "metadata": {
    "colab": {
      "collapsed_sections": [],
      "provenance": [],
      "authorship_tag": "ABX9TyO5BTqAKI/QGEW6eGIez8o7",
      "include_colab_link": true
    },
    "kernelspec": {
      "display_name": "Python 3",
      "name": "python3"
    },
    "language_info": {
      "name": "python"
    }
  },
  "nbformat": 4,
  "nbformat_minor": 0
}
{
 "cells": [
  {
   "cell_type": "markdown",
   "id": "b20a2c6f",
   "metadata": {},
   "source": [
    "파이썬 머신러닝 완벽 가이드 ch9. 8 pg.607~624\n",
    "## 08. 파이썬 추천 시스템 패키지 - Surprise"
   ]
  },
  {
   "cell_type": "markdown",
   "id": "81a72919",
   "metadata": {},
   "source": [
    "### Surprise 패키지 소개\n",
    "\n",
    "- 파이썬 기반의 추천 시스템 구축을 위한 전용 패키지\n",
    "- 다양한 추천 알고리즘을 쉽게 적용해 추천 시스템을 구축할 수 있음\n",
    "- 핵심 API가 사이킷런과 유사한 이름으로 작성됨"
   ]
  },
  {
   "cell_type": "code",
   "execution_count": 1,
   "id": "c5058af8",
   "metadata": {},
   "outputs": [
    {
     "name": "stdout",
     "output_type": "stream",
     "text": [
      "Requirement already satisfied: surprise in /Library/Frameworks/Python.framework/Versions/3.9/lib/python3.9/site-packages (0.1)\n",
      "Requirement already satisfied: scikit-surprise in /Library/Frameworks/Python.framework/Versions/3.9/lib/python3.9/site-packages (from surprise) (1.1.3)\n",
      "Requirement already satisfied: joblib>=1.0.0 in /Library/Frameworks/Python.framework/Versions/3.9/lib/python3.9/site-packages (from scikit-surprise->surprise) (1.2.0)\n",
      "Requirement already satisfied: numpy>=1.17.3 in /Library/Frameworks/Python.framework/Versions/3.9/lib/python3.9/site-packages (from scikit-surprise->surprise) (1.23.4)\n",
      "Requirement already satisfied: scipy>=1.3.2 in /Library/Frameworks/Python.framework/Versions/3.9/lib/python3.9/site-packages (from scikit-surprise->surprise) (1.9.3)\n"
     ]
    }
   ],
   "source": [
    "!pip install surprise"
   ]
  },
  {
   "cell_type": "markdown",
   "id": "3e1dd91c",
   "metadata": {},
   "source": [
    "### Surprise를 이용한 추천 시스템 구축\n",
    "- 예제 - 추천 데이터를 학습용과 테스트용 데이터 세트로 분리한 뒤 SVD 행렬 분해를 통한 잠재 요인 협업 필터링 수행"
   ]
  },
  {
   "cell_type": "code",
   "execution_count": 2,
   "id": "5099c304",
   "metadata": {},
   "outputs": [],
   "source": [
    "from surprise import SVD\n",
    "from surprise import Dataset #Surprise에서 데이터 로딩은 Dataset 클래스를 이용해서만 가능\n",
    "from surprise import accuracy\n",
    "from surprise.model_selection import train_test_split"
   ]
  },
  {
   "cell_type": "markdown",
   "id": "41140307",
   "metadata": {},
   "source": [
    "- 주요 데이터가 사용자 아이디, 아이템 아이디, 평점 데이터가row 레벨 형태로 돼있는 포맷의 데이터만 처리함"
   ]
  },
  {
   "cell_type": "code",
   "execution_count": 3,
   "id": "72504035",
   "metadata": {},
   "outputs": [],
   "source": [
    "#MovieLens 사이트에서 제공하는 과거 버전의 데이터세트를 가져오는 API 제공\n",
    "data = Dataset.load_builtin('ml-100k') \n",
    "trainset, testset = train_test_split(data, test_size = .25, random_state = 0)"
   ]
  },
  {
   "cell_type": "code",
   "execution_count": 4,
   "id": "afde4825",
   "metadata": {},
   "outputs": [
    {
     "data": {
      "text/plain": [
       "<surprise.prediction_algorithms.matrix_factorization.SVD at 0x7fe739804910>"
      ]
     },
     "execution_count": 4,
     "metadata": {},
     "output_type": "execute_result"
    }
   ],
   "source": [
    "#SVD로 잠재 요인 협업 필터링 수행\n",
    "algo = SVD()  #알고리즘 객체 생성\n",
    "algo.fit(trainset)"
   ]
  },
  {
   "cell_type": "markdown",
   "id": "aca66bac",
   "metadata": {},
   "source": [
    "- 추천 예측 메서드\n",
    "  - test() : 사용자-아이템 평점 데이터 세트 전체에 대해서 추천 예측, 입력된 데이터 세트에 대해 추천 데이터 세트 만들어줌\n",
    "  - predict()  : 개별 사용자와 영화에 대한 추천 평점 반환\n",
    "  "
   ]
  },
  {
   "cell_type": "code",
   "execution_count": 5,
   "id": "7396b1fc",
   "metadata": {},
   "outputs": [
    {
     "name": "stdout",
     "output_type": "stream",
     "text": [
      "prediction type :  <class 'list'>  size: 25000\n",
      "prediction 결과의 최초 5개 추출\n"
     ]
    },
    {
     "data": {
      "text/plain": [
       "[Prediction(uid='120', iid='282', r_ui=4.0, est=3.758398559178154, details={'was_impossible': False}),\n",
       " Prediction(uid='882', iid='291', r_ui=4.0, est=3.8908669282728736, details={'was_impossible': False}),\n",
       " Prediction(uid='535', iid='507', r_ui=5.0, est=3.940938399891338, details={'was_impossible': False}),\n",
       " Prediction(uid='697', iid='244', r_ui=5.0, est=3.4336761610289543, details={'was_impossible': False}),\n",
       " Prediction(uid='751', iid='385', r_ui=4.0, est=3.5592241327189638, details={'was_impossible': False})]"
      ]
     },
     "execution_count": 5,
     "metadata": {},
     "output_type": "execute_result"
    }
   ],
   "source": [
    "#test()\n",
    "predictions = algo.test(testset)\n",
    "print('prediction type : ', type(predictions), ' size:', len(predictions))\n",
    "print('prediction 결과의 최초 5개 추출')\n",
    "predictions[:5]"
   ]
  },
  {
   "cell_type": "markdown",
   "id": "1263f47a",
   "metadata": {},
   "source": [
    "    - SVD 알고리즘 객체의 test() 메서드의 호출 결과는 파이썬 리스트, 크기는 입력 인자 데이터 세트의 크기와 같은 25000개로 Prediction 객체를 가짐\n",
    "        - Prediction 객체 : Surprise 패키지에서 제공하는 데이터 타입, 추천 예측 평점 데이터를 튜플 형태로 가짐\n",
    "            - was_impossible이 True 면 예측값ㅇ르 생성할 수 없는 데이터 의미"
   ]
  },
  {
   "cell_type": "code",
   "execution_count": 6,
   "id": "df74807f",
   "metadata": {},
   "outputs": [
    {
     "data": {
      "text/plain": [
       "[('120', '282', 3.758398559178154),\n",
       " ('882', '291', 3.8908669282728736),\n",
       " ('535', '507', 3.940938399891338)]"
      ]
     },
     "execution_count": 6,
     "metadata": {},
     "output_type": "execute_result"
    }
   ],
   "source": [
    "[(pred.uid, pred.iid, pred.est) for pred in predictions[:3]]"
   ]
  },
  {
   "cell_type": "code",
   "execution_count": 7,
   "id": "89ca9ef2",
   "metadata": {},
   "outputs": [
    {
     "name": "stdout",
     "output_type": "stream",
     "text": [
      "user: 196        item: 302        r_ui = None   est = 4.22   {'was_impossible': False}\n"
     ]
    }
   ],
   "source": [
    "#predict()\n",
    "\n",
    "#사용자 아이디, 아이템 아이디는 문자열로 입력해야함\n",
    "uid = str(196)\n",
    "iid = str(302)\n",
    "pred = algo.predict(uid, iid)\n",
    "print(pred)"
   ]
  },
  {
   "cell_type": "markdown",
   "id": "1e4e014a",
   "metadata": {},
   "source": [
    "    - 개별 사용자와 아이템 정보를 입력하면 추천 예측 평점을 est로 반환\n",
    "    - test() 메서드는 입력 데이터 세트의 모든 사용자와 아이템 아이디에 대해서 predict() 반복적으로 수행한 결과라고 이해"
   ]
  },
  {
   "cell_type": "code",
   "execution_count": 8,
   "id": "6958befd",
   "metadata": {},
   "outputs": [
    {
     "name": "stdout",
     "output_type": "stream",
     "text": [
      "RMSE: 0.9505\n"
     ]
    },
    {
     "data": {
      "text/plain": [
       "0.9504616550158783"
      ]
     },
     "execution_count": 8,
     "metadata": {},
     "output_type": "execute_result"
    }
   ],
   "source": [
    "#accuracy - rmse, mse\n",
    "accuracy.rmse(predictions)"
   ]
  },
  {
   "cell_type": "markdown",
   "id": "73dc68ec",
   "metadata": {},
   "source": [
    "### Surprise 주요 모듈 소개\n",
    "#### Dataset\n",
    "- load_builtin(name='ml-100k') : 무비렌즈 아카이브 FTP 서버에서 무비렌즈 데이터를 내려받음, ml-100k, ml-1M 내려 받을 수 있음\n",
    "- load_from_file(file_path, reader) : OS 파일에서 데이터를 로딩할 때 사용, 파일명, 파일포맷 지정\n",
    "- load_from_df(df, reader) : 판다스의 DataFrame에서 데이터 로딩, DataFrame 역시 반드시 사용자 아이디, 아이템 아이디, 평점 순으로 칼럼이 정해져 있어야 함, DataFrame 객체, 파일 포맷 지정\n",
    "#### OS 파일 데이터를 Surprise 데이터 세트로 로딩\n",
    "- 로딩되는 데이터 파일에 칼럼명을 가지는 헤더 문자열이 있으면 안 됨\n"
   ]
  },
  {
   "cell_type": "code",
   "execution_count": 14,
   "id": "ad28ed99",
   "metadata": {},
   "outputs": [],
   "source": [
    "import pandas as pd\n",
    "\n",
    "ratings = pd.read_csv('/Users/sooyeon/Downloads/archive (4)/ratings.csv')\n",
    "#ratings_noh.csv 파일로 언로드시 인덱스와 헤더를 모두 제거한 새로운 파일 생성\n",
    "ratings.to_csv('/Users/sooyeon/Downloads/archive (4)/ratings_noh.csv', index=False, header=False)"
   ]
  },
  {
   "cell_type": "markdown",
   "id": "998a8e32",
   "metadata": {},
   "source": [
    "- load_from_file() 적용하기 전에 Reader 클래스를 이용해 데이터 파일의 파싱 포맷 정의해야 함\n",
    "    - 생성자에 각 필드의 칼럼명과 칼럼 분리문자, 최소~최대 평점 입력해서 객체 생성"
   ]
  },
  {
   "cell_type": "code",
   "execution_count": 16,
   "id": "dc2710e2",
   "metadata": {},
   "outputs": [],
   "source": [
    "from surprise import Reader\n",
    "\n",
    "reader = Reader(line_format='user item rating timestamp', sep=',', rating_scale=(0.5,5))\n",
    "data = Dataset.load_from_file('/Users/sooyeon/Downloads/archive (4)/ratings_noh.csv', reader=reader)"
   ]
  },
  {
   "cell_type": "code",
   "execution_count": 17,
   "id": "e6abc7cd",
   "metadata": {},
   "outputs": [
    {
     "name": "stdout",
     "output_type": "stream",
     "text": [
      "RMSE: 0.8682\n"
     ]
    },
    {
     "data": {
      "text/plain": [
       "0.8681952927143516"
      ]
     },
     "execution_count": 17,
     "metadata": {},
     "output_type": "execute_result"
    }
   ],
   "source": [
    "trainset, testset = train_test_split(data, test_size=.25, random_state=0)\n",
    "\n",
    "algo = SVD(n_factors=50, random_state=0)\n",
    "\n",
    "#학습 데이터 세트로 학습하고 나서 테스트 데이터 세트로 평점 예측 후 RMSE 평가\n",
    "algo.fit(trainset)\n",
    "predictions = algo.test(testset)\n",
    "accuracy.rmse(predictions)"
   ]
  },
  {
   "cell_type": "markdown",
   "id": "9219db24",
   "metadata": {},
   "source": [
    "#### 판다스 DataFrame에서 Surprise 데이터 세트로 로딩\n",
    "- DataFrame 역시 사용자 아이디, 아이템 아이디, 평점 칼럼 순서 지켜야 함"
   ]
  },
  {
   "cell_type": "code",
   "execution_count": 18,
   "id": "83813c32",
   "metadata": {},
   "outputs": [
    {
     "name": "stdout",
     "output_type": "stream",
     "text": [
      "RMSE: 0.8682\n"
     ]
    },
    {
     "data": {
      "text/plain": [
       "0.8681952927143516"
      ]
     },
     "execution_count": 18,
     "metadata": {},
     "output_type": "execute_result"
    }
   ],
   "source": [
    "ratings = pd.read_csv('/Users/sooyeon/Downloads/archive (4)/ratings.csv')\n",
    "reader = Reader(rating_scale=(0.5,5.0))\n",
    "\n",
    "#ratings DataFrame 에서 칼럼은 사용자 아이디, 아이템 아이디, 평점 순서\n",
    "data = Dataset.load_from_df(ratings[['userId', 'movieId', 'rating']], reader)\n",
    "trainset, testset = train_test_split(data, test_size=.25, random_state=0)\n",
    "\n",
    "algo = SVD(n_factors=50, random_state=0)\n",
    "algo.fit(trainset)\n",
    "predictions = algo.test(testset)\n",
    "accuracy.rmse(predictions)"
   ]
  },
  {
   "cell_type": "markdown",
   "id": "3c9547fc",
   "metadata": {},
   "source": [
    "### Surprise 추천 알고리즘 클래스\n",
    "- KNNBasic : 최근접 이웃 협업 필터링 위한 KNN 알고리즘\n",
    "- BaeslineOnly : 사용자 Bias와 아이템 Bias를 감안한 SGD 베이스라인 알고리즘\n",
    "- SVD : 행렬 분해를 통한 잠재 요인 협업 필터링을 위한 SVD 알고리즘\n",
    "    - 비용 함수 : 사용자 baseline 편향성을 감안한 평점 예측에 regularization 적용한 것\n",
    "        - n_factors : 잠재 요인 K의 개수, 디폴트 100, 커질수록 정확도가 높아질 수 있으나 과적합 문제가 발생할 수 있음\n",
    "        - n_epochs : SGD 수행 시 반복 횟수, 디폴트 20\n",
    "        - biased(bool) : 베이스라인 사용자 편향 적용 여부, 디폴트 True\n",
    "    \n"
   ]
  },
  {
   "cell_type": "markdown",
   "id": "a0bfe9d9",
   "metadata": {},
   "source": [
    "### 베이스라인 평점\n",
    "- 각 개인이 평점을 부여하는 성형을 반영해 평점을 계산하는 방식\n",
    "- 보통 $ 전체 평균 평점 + 사용자 편향 점수 + 아이템 편향 점수 $ 로 계산\n",
    "    - 전체 평균 평점 = 모든 사용자의 아이템에 대한 평점을 평균한 값\n",
    "    - 사용자 편향 점수 = 사용자별 아이템 평점 평균 값 - 전체 평균 평점\n",
    "    - 아이템 편향 점수 = 아이템별 평점 평균 값 - 전체 평균 평점"
   ]
  },
  {
   "cell_type": "markdown",
   "id": "e1180d16",
   "metadata": {},
   "source": [
    "### 교차 검증과 하이퍼 파라미터 튜닝\n",
    "- 사이킷런과 유사한 cross_validate()와 GridSearchCV 클래스 제공"
   ]
  },
  {
   "cell_type": "code",
   "execution_count": 20,
   "id": "095a54de",
   "metadata": {},
   "outputs": [
    {
     "name": "stdout",
     "output_type": "stream",
     "text": [
      "Evaluating RMSE, MAE of algorithm SVD on 5 split(s).\n",
      "\n",
      "                  Fold 1  Fold 2  Fold 3  Fold 4  Fold 5  Mean    Std     \n",
      "RMSE (testset)    0.8738  0.8691  0.8664  0.8755  0.8780  0.8726  0.0042  \n",
      "MAE (testset)     0.6721  0.6697  0.6679  0.6719  0.6736  0.6711  0.0020  \n",
      "Fit time          0.47    0.51    0.49    0.47    0.49    0.48    0.01    \n",
      "Test time         0.08    0.14    0.08    0.08    0.09    0.09    0.02    \n"
     ]
    },
    {
     "data": {
      "text/plain": [
       "{'test_rmse': array([0.87382872, 0.86911587, 0.86643131, 0.87553848, 0.87798113]),\n",
       " 'test_mae': array([0.67209898, 0.66973409, 0.6679362 , 0.67188237, 0.67363159]),\n",
       " 'fit_time': (0.4722902774810791,\n",
       "  0.506854772567749,\n",
       "  0.48555779457092285,\n",
       "  0.4662809371948242,\n",
       "  0.49326395988464355),\n",
       " 'test_time': (0.08236384391784668,\n",
       "  0.13798308372497559,\n",
       "  0.08178019523620605,\n",
       "  0.0829932689666748,\n",
       "  0.08505797386169434)}"
      ]
     },
     "execution_count": 20,
     "metadata": {},
     "output_type": "execute_result"
    }
   ],
   "source": [
    "#cross_validate\n",
    "from surprise.model_selection import cross_validate\n",
    "\n",
    "algo = SVD(random_state=0)\n",
    "cross_validate(algo, data, measures=['RMSE', 'MAE'], cv=5, verbose=True)"
   ]
  },
  {
   "cell_type": "markdown",
   "id": "88ef977e",
   "metadata": {},
   "source": [
    "    - 폴드별 성능 평가 수치와 전체 폴드의 평균 성능 평가 수치 함께 보여줌"
   ]
  },
  {
   "cell_type": "code",
   "execution_count": 22,
   "id": "efd4096b",
   "metadata": {},
   "outputs": [
    {
     "name": "stdout",
     "output_type": "stream",
     "text": [
      "0.8781396160762761\n",
      "{'n_epochs': 20, 'n_factors': 50}\n"
     ]
    }
   ],
   "source": [
    "#GridSearchCV\n",
    "from surprise.model_selection import GridSearchCV\n",
    "\n",
    "#최적화할 파라미터를 딕셔너리 형태로 지정\n",
    "param_grid = {'n_epochs':[20, 40, 60], 'n_factors':[50,100,200]}\n",
    "\n",
    "#CV를 3개 폴드 세트로 지정, 성능 평가는 rmse, mse로 수행하도록 GridSearchCV 구성\n",
    "gs = GridSearchCV(SVD, param_grid, measures=['rmse','mae'], cv=3)\n",
    "gs.fit(data)\n",
    "\n",
    "#최고 RMSE Evaluation 점수와 그때의 하이퍼 파라미터\n",
    "print(gs.best_score['rmse'])\n",
    "print(gs.best_params['rmse'])"
   ]
  },
  {
   "cell_type": "markdown",
   "id": "b6f299db",
   "metadata": {},
   "source": [
    "### Surprise를 이용한 개인화 영화 추천 시스템 구축\n",
    "- 특정 사용자가 아직 평점을 매기지 않은 영화 중에서 개인 취향에 가장 적절한 영화 추천\n",
    "- ratings.csv 데이터 전체를 학습 데이터로 사용\n",
    "    - Surprise는 데이터 세트를 train_test_split()을 이용해 내부에서 사용한 TrainSet 클래스 객체로 변환하지 않으면 fit()을 통해 학습할 수가 없음\n",
    "    - DatasetAutoFolds 클래스 이용"
   ]
  },
  {
   "cell_type": "code",
   "execution_count": 23,
   "id": "8bb0bfa4",
   "metadata": {},
   "outputs": [],
   "source": [
    "from surprise.dataset import DatasetAutoFolds\n",
    "\n",
    "reader = Reader(line_format='user item rating timestamp', sep=',', rating_scale=(0.5, 5))\n",
    "#DatasetAutoFolds 클래스를 ratings_noh.csv 파일 기반으로 생성\n",
    "data_folds = DatasetAutoFolds(ratings_file='/Users/sooyeon/Downloads/archive (4)/ratings_noh.csv', reader=reader)\n",
    "\n",
    "#전체 데이터를 학습 데이터로 생성\n",
    "trainset = data_folds.build_full_trainset()"
   ]
  },
  {
   "cell_type": "code",
   "execution_count": null,
   "id": "b4c3caa1",
   "metadata": {},
   "outputs": [],
   "source": [
    "algo = SVD(n_epochs=20, n_factors=50, random_state=0)\n",
    "algo.fit(trainset)"
   ]
  },
  {
   "cell_type": "code",
   "execution_count": 24,
   "id": "a244d1b3",
   "metadata": {},
   "outputs": [
    {
     "name": "stdout",
     "output_type": "stream",
     "text": [
      "사용자 아이디 9는 영화 아이디 42의 평점 없음\n",
      "    movieId                   title              genres\n",
      "38       42  Dead Presidents (1995)  Action|Crime|Drama\n"
     ]
    }
   ],
   "source": [
    "#userId = 9\n",
    "\n",
    "#영화에 대한 상세 속성 정보 DataFrame 로딩\n",
    "movies = pd.read_csv('/Users/sooyeon/Downloads/archive (4)/movies.csv')\n",
    "\n",
    "#userId=9 의 movieId 데이터를 추출해 movieId=42 데이터가 있는지 확인\n",
    "movieIds = ratings[ratings['userId']==9]['movieId']\n",
    "\n",
    "if movieIds[movieIds==42].count()==0:\n",
    "    print('사용자 아이디 9는 영화 아이디 42의 평점 없음')\n",
    "    \n",
    "print(movies[movies['movieId']==42])"
   ]
  },
  {
   "cell_type": "code",
   "execution_count": 25,
   "id": "ebff4b1b",
   "metadata": {},
   "outputs": [
    {
     "name": "stdout",
     "output_type": "stream",
     "text": [
      "user: 9          item: 42         r_ui = None   est = 3.50   {'was_impossible': False}\n"
     ]
    }
   ],
   "source": [
    "uid = str(9)\n",
    "iid = str(42)\n",
    "\n",
    "pred = algo.predict(uid, iid, verbose=True)"
   ]
  },
  {
   "cell_type": "code",
   "execution_count": 26,
   "id": "5deb9626",
   "metadata": {},
   "outputs": [
    {
     "name": "stdout",
     "output_type": "stream",
     "text": [
      "평점 매긴 영화 수: 46 추천 대상 영화 수 :  9696 전체 영화 수 : 9742\n"
     ]
    }
   ],
   "source": [
    "#사용자가 평점을 매기지 않은 전체 영화 추출\n",
    "def get_unseen_surprise(ratings, movies, userId):\n",
    "    #입력값으로 들어온 userId에 해당하는 사용자가 평점을 매긴 모든 영화를 리스트로 생성\n",
    "    seen_movies = ratings[ratings['userId']==userId]['movieId'].tolist()\n",
    "    \n",
    "    #모든 영화의 movieId를 리스트로 생성\n",
    "    total_movies = movies['movieId'].tolist()\n",
    "    \n",
    "    #모든 영화의 movieId 중 이미 평점을 매긴 영화의 movieId를 제외한 후 리스트로 생성\n",
    "    unseen_movies = [movie for movie in total_movies if movie not in seen_movies]\n",
    "    print('평점 매긴 영화 수:', len(seen_movies), '추천 대상 영화 수 : ', len(unseen_movies), \n",
    "          '전체 영화 수 :', len(total_movies))\n",
    "    \n",
    "    return unseen_movies\n",
    "\n",
    "unseen_movies = get_unseen_surprise(ratings, movies, 9)"
   ]
  },
  {
   "cell_type": "code",
   "execution_count": 27,
   "id": "ae5541a5",
   "metadata": {},
   "outputs": [
    {
     "name": "stdout",
     "output_type": "stream",
     "text": [
      "평점 매긴 영화 수: 46 추천 대상 영화 수 :  9696 전체 영화 수 : 9742\n",
      "##### Top-10 추천 영화 리스트 #####\n",
      "Toy Story (1995) : 3.5032292454350493\n",
      "Jumanji (1995) : 3.5032292454350493\n",
      "Grumpier Old Men (1995) : 3.5032292454350493\n",
      "Waiting to Exhale (1995) : 3.5032292454350493\n",
      "Father of the Bride Part II (1995) : 3.5032292454350493\n",
      "Heat (1995) : 3.5032292454350493\n",
      "Sabrina (1995) : 3.5032292454350493\n",
      "Tom and Huck (1995) : 3.5032292454350493\n",
      "Sudden Death (1995) : 3.5032292454350493\n",
      "GoldenEye (1995) : 3.5032292454350493\n"
     ]
    }
   ],
   "source": [
    "#추천 대상 영화 모두를 대상으로 추천 알고리즘 객체의 predict() 메소드를 호출하고 그 결과인 Prediction 객체를 리스트 객체로 저장\n",
    "#저장된 리스트의 Prediction 객체를 예측 평점이 높은 순으로 다시 정렬한 뒤 top-n개의 영화 아이디, 영화 제목, 예측 평점 정보 추출해 반환\n",
    "def recomm_movie_by_surprise(algo, userId, unseen_movies, top_n=10):\n",
    "    \n",
    "  # 알고리즘 객체의 predict() 메서드를 평점이 없는 영화에 반복 수행한 후 결과를 list 객체로 저장\n",
    "  predictions = [algo.predict(str(userId), str(movieId)) for movieId in unseen_movies]\n",
    "    \n",
    "  # predictions list 객체는 surprise의 Predictions 객체를 원소로 가지고 있음\n",
    "  # [Prediction(uid='9', iid='1', est=3.69), Prediction(uid='9', iid='2', est=2.98),,,,]\n",
    "\n",
    "  # 이를 est 값으로 정렬하기 위해서 아래의 sortkey_est 함수를 정의함\n",
    "  # sortkey_est 함수는 list 객체에서 sort() 함수의 키 값으로 사용되어 정렬 수행\n",
    "  def sortkey_est(pred):\n",
    "    return pred.est\n",
    "\n",
    "  # sortkey_est() 반환값의 내림차순으로 정렬 수행하고 top_n개의 최상위 값 추출\n",
    "  predictions.sort(key=sortkey_est, reverse=True)\n",
    "  top_predictions = predictions[:top_n]\n",
    "\n",
    "  # top_n으로 추출된 영화의 정보 추출. 영화 아이디, 추천 예상 평점, 제목 추출\n",
    "  top_movie_ids = [int(pred.iid) for pred in top_predictions]\n",
    "  top_movie_rating = [pred.est for pred in top_predictions]\n",
    "  top_movie_titles = movies[movies.movieId.isin(top_movie_ids)]['title'] \n",
    "\n",
    "  top_movie_preds = [(id, title, rating) for id, title, rating in \n",
    "                     zip(top_movie_ids, top_movie_titles, top_movie_rating)]\n",
    "\n",
    "  return top_movie_preds\n",
    "\n",
    "unseen_movies = get_unseen_surprise(ratings, movies, 9)\n",
    "top_movie_preds = recomm_movie_by_surprise(algo, 9, unseen_movies, top_n=10)\n",
    "\n",
    "print ('##### Top-10 추천 영화 리스트 #####')\n",
    "\n",
    "for top_movie in top_movie_preds:\n",
    "  print(top_movie[1], \":\", top_movie[2])"
   ]
  }
 ],
 "metadata": {
  "kernelspec": {
   "display_name": "Python 3 (ipykernel)",
   "language": "python",
   "name": "python3"
  },
  "language_info": {
   "codemirror_mode": {
    "name": "ipython",
    "version": 3
   },
   "file_extension": ".py",
   "mimetype": "text/x-python",
   "name": "python",
   "nbconvert_exporter": "python",
   "pygments_lexer": "ipython3",
   "version": "3.9.6"
  }
 },
 "nbformat": 4,
 "nbformat_minor": 5
}

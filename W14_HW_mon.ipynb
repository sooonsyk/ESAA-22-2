{
  "cells": [
    {
      "cell_type": "markdown",
      "metadata": {
        "id": "view-in-github",
        "colab_type": "text"
      },
      "source": [
        "<a href=\"https://colab.research.google.com/github/sooonsyk/ESAA-22-2/blob/main/W14_HW_mon.ipynb\" target=\"_parent\"><img src=\"https://colab.research.google.com/assets/colab-badge.svg\" alt=\"Open In Colab\"/></a>"
      ]
    },
    {
      "cell_type": "markdown",
      "id": "745ff6b0",
      "metadata": {
        "id": "745ff6b0"
      },
      "source": [
        "파이썬 딥러닝 텐서플로 ch3. 1\\~4 pg. 50\\~95\n",
        "# 3. 케라스 Keras"
      ]
    },
    {
      "cell_type": "markdown",
      "id": "9502498e",
      "metadata": {
        "id": "9502498e"
      },
      "source": [
        "## 딥러닝 준비\n",
        "### 1-1 주요 용어\n",
        "1. 하이퍼 파라미터 : 머신러닝 모델을 훈련할 때 사용자가 직접 설정해주는 설정 값\n",
        "2. 과소적합 vs 과대적합 : 모델이 충분히 학습되지 않은 경우/학습데이터를 지나치게 반복 학습하게 되어 과하게 적합된 상태\n",
        "3. 에포크 : 딥러닝 모델이 반복 훈련을 할 때 데이터셋을 전부 학습에 사용하는 1회의 훈련 루프를 1에포크라함\n",
        "4. 손실함수 : 예측값고 정답값의 차이 또는 오차, 딥러닝 모델에 적용하는 손실함수는 사용자가 정의해야 함, 분류나 회귀 모델에 따라 손실함수를 다르게 적용하는 것이 일반적\n",
        "    - 지도 학습 이진 분류 = binary_crossentropy, 출력층의 활서와 함수가 sigmoid인 경우\n",
        "    - 지도 학습 다중 분류 = categorical_crossentropy, 다중 분류 대상 클래스가 one hot vector 인 경우 사용\n",
        "                     = sparse_categorical_crossentropy , 정답 클래스가 원핫 인코딩이 아닌 레이블값으로 표현되어 서로 다른 숫자로 구분된 경우\n",
        "        - 출력층의 활성함수로 sotfmax 사용\n",
        "    - 회귀 : 평균 제곱 오차, 평균 절대값 오차, 후버 등\n",
        "5. 경사하강법 : 딥러닝 모델을 훈련할 때, 모델 내부의 가중치에 대한 미분 값을 구하고 목적 함수 값이 낮아지는 방향으로 차감하면서 결국 최소 함수 값을 갖도록 하는 방법\n",
        "    $Loss = 1/2\\Sigma(y-\\haty)^2$\n",
        "    - 1/2 는 가중치에 대한 그래디언트를 계산하기 쉽도록 추가된 상수 값\n",
        "    "
      ]
    },
    {
      "cell_type": "code",
      "execution_count": 15,
      "id": "83eada7d",
      "metadata": {
        "colab": {
          "base_uri": "https://localhost:8080/",
          "height": 446
        },
        "id": "83eada7d",
        "outputId": "2611a973-01c1-4fe1-8c74-b1739502338a"
      },
      "outputs": [
        {
          "output_type": "display_data",
          "data": {
            "text/plain": [
              "<Figure size 720x504 with 1 Axes>"
            ],
            "image/png": "[encoded data removed]"
          },
          "metadata": {
            "needs_background": "light"
          }
        },
        {
          "output_type": "stream",
          "name": "stdout",
          "text": [
            "w : 0.3, b:0.5\n"
          ]
        }
      ],
      "source": [
        "#y = wx + b 의 단순 선형 회귀 수식이 주어졌을 때, 손실함수를 최소로 하는 w와 b를 구하는 과정 구현\n",
        "import numpy as np\n",
        "import matplotlib.pyplot as plt\n",
        "\n",
        "#샘플에 활용할 데이터셋 만들기\n",
        "def make_linear(w=0.5, b=0.8, size=50, noise=0.1):\n",
        "    x = np.random.rand(size)\n",
        "    y = w*x + b\n",
        "    noise = np.random.uniform(-abs(noise), abs(noise), size=y.shape)  #노이즈 추가\n",
        "    yy = y + noise\n",
        "    plt.figure(figsize=(10,7))\n",
        "    plt.plot(x, y, color='r', label=f'y={w}*x + {b}')\n",
        "    plt.scatter(x, yy, label='data')\n",
        "    plt.legend(fontsize=20)\n",
        "    plt.show()\n",
        "    print(f'w : {w}, b:{b}')\n",
        "    return x, yy\n",
        "\n",
        "x, y = make_linear(w=0.3, b=0.5, size=100, noise=0.01)"
      ]
    },
    {
      "cell_type": "code",
      "execution_count": 16,
      "id": "129eb097",
      "metadata": {
        "colab": {
          "base_uri": "https://localhost:8080/"
        },
        "id": "129eb097",
        "outputId": "1de294f3-6396-4f47-a5fc-e4e8a1e88dff"
      },
      "outputs": [
        {
          "output_type": "stream",
          "name": "stdout",
          "text": [
            " 0 w = 0.73274, b=0.59756 error=32.49037\n",
            " 5 w = 0.55951, b=0.37416 error=0.31586\n",
            "10 w = 0.51620, b=0.39288 error=0.21949\n",
            "15 w = 0.48088, b=0.41031 error=0.15384\n",
            "20 w = 0.45137, b=0.42488 error=0.10798\n",
            "25 w = 0.42671, b=0.43707 error=0.07595\n",
            "30 w = 0.40609, b=0.44725 error=0.05357\n",
            "35 w = 0.38886, b=0.45576 error=0.03794\n",
            "40 w = 0.37446, b=0.46287 error=0.02702\n",
            "45 w = 0.36243, b=0.46882 error=0.01940\n",
            "50 w = 0.35237, b=0.47379 error=0.01407\n",
            "55 w = 0.34396, b=0.47794 error=0.01035\n",
            "60 w = 0.33694, b=0.48141 error=0.00775\n",
            "65 w = 0.33107, b=0.48431 error=0.00593\n",
            "------------------------------------------------------------\n",
            "69 w = 0.32802, b=0.48582 error=0.00488\n"
          ]
        }
      ],
      "source": [
        "#최대 반복 횟수\n",
        "num_epoch =1000\n",
        "\n",
        "#학습률 learning rate\n",
        "learning_rate = 0.005\n",
        "\n",
        "#에러 기록\n",
        "errors = []\n",
        "\n",
        "#random한 값으로 w, b 초기화\n",
        "w = np.random.uniform(low=0.0, high=1.0)\n",
        "b = np.random.uniform(low=0.0, high=1.0)\n",
        "\n",
        "for epoch in range(num_epoch):\n",
        "    #가설함수 정의\n",
        "    y_hat = w*x + b\n",
        "    \n",
        "    #loss function 정의\n",
        "    error = 0.5*((y_hat-y)**2).sum()\n",
        "    \n",
        "    #오차가 0.005 이내로 수렵하면 종료\n",
        "    if error < 0.005:\n",
        "        break\n",
        "        \n",
        "    #gradient 미분 계산 \n",
        "    w = w-learning_rate * ((y_hat-y)*x).sum()\n",
        "    b = b-learning_rate * (y_hat-y).sum()\n",
        "    \n",
        "    errors.append(error)\n",
        "    \n",
        "    if epoch % 5 == 0:\n",
        "        print('{0:2} w = {1:.5f}, b={2:.5f} error={3:.5f}'.format(epoch, w, b, error))\n",
        "        \n",
        "print('----' * 15)\n",
        "print('{0:2} w = {1:.5f}, b={2:.5f} error={3:.5f}'.format(epoch, w, b, error))"
      ]
    },
    {
      "cell_type": "code",
      "execution_count": 17,
      "id": "71297aa0",
      "metadata": {
        "colab": {
          "base_uri": "https://localhost:8080/",
          "height": 442
        },
        "id": "71297aa0",
        "outputId": "59a93041-d0e8-48f8-c278-5093086819d2"
      },
      "outputs": [
        {
          "output_type": "display_data",
          "data": {
            "text/plain": [
              "<Figure size 720x504 with 1 Axes>"
            ],
            "image/png": "[encoded data removed]"
          },
          "metadata": {
            "needs_background": "light"
          }
        }
      ],
      "source": [
        "plt.figure(figsize=(10,7))\n",
        "plt.plot(errors)\n",
        "plt.xlabel('Epochs')\n",
        "plt.ylabel('Error')\n",
        "plt.show()"
      ]
    },
    {
      "cell_type": "markdown",
      "id": "8bce21a8",
      "metadata": {
        "id": "8bce21a8"
      },
      "source": [
        "### 1-2 딥러닝 프로세스\n",
        "1. 데이터 전처리 : 데이터를 모델에 주입하기 전에 데이터를 가공하는 단계\n",
        "2. 모델 생성 : 모델의 구조를 정의하고 생성하는 단계\n",
        "3. 모델 컴파일 : 생성된 모델 훈련에 사용할 손실함수, 옵티마이저, 평가지표 등을 결정\n",
        "4. 모델 훈련 : fit()함수에 모델 훈련에 필요한 정보를 매개변수로 전달\n",
        "5. 모델 검증 : 모델을 훈련할 때 사용하지 않은 검증 데이터셋을 모델에 입력하고 모델의 예측 값을 정답과 비교하여 평가지표 계산, 검증 결과를 바탕으로 성능 평가가 이루어지고 다시 모델 생성 단계로 돌아가 모델을 수정하고 재평가하는 단계 반복\n",
        "6. 모델 예측 : 테스트셋에 대하여 예측"
      ]
    },
    {
      "cell_type": "markdown",
      "id": "1702358d",
      "metadata": {
        "id": "1702358d"
      },
      "source": [
        "## 2. 단순 신경망 훈련\n",
        "### 2-1 선형 회귀\n",
        "- 회귀 분석 : 하나 이상의 독립변수들이 종속변수에 미치는 영향을 추정하는 통계 기법\n",
        "- 단순선형회귀 : 하나의 X가 Y에 미치는 영향 추정\n",
        "\n",
        "### 2-2 뉴런 \n",
        "- 뉴런 : 인공 신경망 모델을 구성하는 하나의 신겨으 노드라고도 불림\n",
        "- 신경망은 여러 개의 레이어를 가지며 1개의 레이어는 1개 이상의 뉴런으로 구성, 뉴런의 내부에는 가중치가 존재하고 모델이 훈련을 진행하면서 오차 역전파를 통해 뉴런의 가중치가 업데이트 됨\n",
        "    - 역전파 알고리즘 : 신경망 모델의 파라미터들에 대한 그래디언트를 계산하는 방법 의미, 역전파는 신경망을 구성하는 각 레이어와 관련된 손실함수를 미분한 결과인 그래디언트를 출력층에서 입력층 순으로 역으로 계산하고 저장함\n",
        "    \n",
        "### 2-3 Dense 레이어\n",
        "- Dense 레이어 : 심층 신경망 모델을 구성하는 가장 기본 레이어, 각 레이어와 레이어 사이에 모든 뉴런이 서로 연결되어 있기 때문에 완전 연결층이라고도 부름\n",
        "    - Dense 레이어를 구성하는 노드 개수와 활성화 함수 지정할 수 있음"
      ]
    },
    {
      "cell_type": "code",
      "execution_count": 18,
      "id": "03cf755e",
      "metadata": {
        "colab": {
          "base_uri": "https://localhost:8080/"
        },
        "id": "03cf755e",
        "outputId": "d779e353-e672-44d4-adc5-7e8f393ea28c"
      },
      "outputs": [
        {
          "output_type": "execute_result",
          "data": {
            "text/plain": [
              "<keras.layers.core.dense.Dense at 0x7f9422b72990>"
            ]
          },
          "metadata": {},
          "execution_count": 18
        }
      ],
      "source": [
        "import tensorflow as tf\n",
        "\n",
        "#10개의 node로 이루어진 Dense 레이어\n",
        "tf.keras.layers.Dense(10)\n",
        "\n",
        "#ReLU 활성화 함수 적용\n",
        "tf.keras.layers.Dense(10, activation='relu')"
      ]
    },
    {
      "cell_type": "markdown",
      "id": "511b9fb6",
      "metadata": {
        "id": "511b9fb6"
      },
      "source": [
        "### 2-4 데이터셋 만들기"
      ]
    },
    {
      "cell_type": "code",
      "execution_count": 19,
      "id": "d02aef02",
      "metadata": {
        "colab": {
          "base_uri": "https://localhost:8080/"
        },
        "id": "d02aef02",
        "outputId": "32093ad4-8425-46bd-ef82-94557f7d542a"
      },
      "outputs": [
        {
          "output_type": "stream",
          "name": "stdout",
          "text": [
            "[1 2 3 4 5]\n",
            "[ 5  8 11 14 17]\n"
          ]
        }
      ],
      "source": [
        "import numpy as np\n",
        "\n",
        "#샘플 데이터셋 생성\n",
        "x = np.arange(1,6)\n",
        "\n",
        "#y = 3x + 2\n",
        "y = 3 * x + 2\n",
        "print(x)\n",
        "print(y)"
      ]
    },
    {
      "cell_type": "code",
      "execution_count": 20,
      "id": "f33ff69d",
      "metadata": {
        "colab": {
          "base_uri": "https://localhost:8080/",
          "height": 281
        },
        "id": "f33ff69d",
        "outputId": "a9751c57-575f-4e93-f93b-256f30d5ac5a"
      },
      "outputs": [
        {
          "output_type": "display_data",
          "data": {
            "text/plain": [
              "<Figure size 432x288 with 1 Axes>"
            ],
            "image/png": "[encoded data removed]"
          },
          "metadata": {
            "needs_background": "light"
          }
        }
      ],
      "source": [
        "#시각화\n",
        "import matplotlib.pyplot as plt\n",
        "\n",
        "plt.plot(x,y)\n",
        "plt.title('y = 3x +2')\n",
        "plt.show()"
      ]
    },
    {
      "cell_type": "markdown",
      "id": "9516556c",
      "metadata": {
        "id": "9516556c"
      },
      "source": [
        "### 2-5 Sequential API\n",
        "- 텐서플로 케라스는 세가지 방식으로 모델 생성 가능\n",
        "- Sequential API : 층을 이어 붙이듯 시퀀스에 맞게 일렬로 연결하는 방식, 입력 레이어부터 출력 레이어까지 순서 가짐, 레이어 개수 제한 없음\n",
        "    - 2개 이상의 다중 입력이나 다중 출력을 갖는 복잡한 구조 만들 수 없음 - Functional API 사용해야 함\n",
        "1. 모델 구조 - 두가지로 구성할 수 있음\n",
        "  - 리스트형 정의로 Sequential 클래스 함수에 파이썬 리스트 형태로 여러 개의 층 입력 \n",
        "  - add 함수로 레이어 추가로 Sequential 클래스 객체를 먼저 만든 후에 생성된 모델 인스턴스에 층을 추가하는 방식"
      ]
    },
    {
      "cell_type": "code",
      "execution_count": 21,
      "id": "d5a779fd",
      "metadata": {
        "id": "d5a779fd"
      },
      "outputs": [],
      "source": [
        "import tensorflow as tf\n",
        "\n",
        "#리스트형\n",
        "model = tf.keras.Sequential([\n",
        "    tf.keras.layers.Dense(10),\n",
        "    tf.keras.layers.Dense(5),\n",
        "    tf.keras.layers.Dense(1)\n",
        "])"
      ]
    },
    {
      "cell_type": "code",
      "execution_count": 22,
      "id": "ebf8a8f9",
      "metadata": {
        "id": "ebf8a8f9"
      },
      "outputs": [],
      "source": [
        "#add 함수로 layer 추가\n",
        "model = tf.keras.Sequential()\n",
        "model.add(tf.keras.layers.Dense(10))\n",
        "model.add(tf.keras.layers.Dense(5))\n",
        "model.add(tf.keras.layers.Dense(1))"
      ]
    },
    {
      "cell_type": "markdown",
      "source": [
        "2. 입력 데이터 형태\n",
        "- 반드시 첫 번째 층은 input_shape 매개변수를 지정해야 함, 주입할 데이터 셋의 shape을 tuple 혹은 list로 지정할 수 있음"
      ],
      "metadata": {
        "id": "RSqz8yFAla3e"
      },
      "id": "RSqz8yFAla3e"
    },
    {
      "cell_type": "code",
      "source": [
        "model = tf.keras.Sequential([\n",
        "    #입력 데이터의 shape=(150,4)인 경우 input_shape 지정 - 150개의 샘플에 대해서 4개의 입력 변수가 존재한다는 의미\n",
        "    tf.keras.layers.Dense(10, input_shape=[4]),\n",
        "    tf.keras.layers.Dense(5),\n",
        "    tf.keras.layers.Dense(1)\n",
        "])"
      ],
      "metadata": {
        "id": "e0p5Fev-laSz"
      },
      "id": "e0p5Fev-laSz",
      "execution_count": 23,
      "outputs": []
    },
    {
      "cell_type": "markdown",
      "source": [
        "3. 단순선형회귀 모델 정의\n",
        "- 1개의 뉴런을 가지는 Dense 레이어 한 개 사용, 1개의 뉴런은 기울기에 해당하는 w와 상수항에 해당하는 b를 매개변수로 가짐\n",
        "- Dense 레이어는 use_bias=True가 기본 설정되어 상수항 b가 추가됨"
      ],
      "metadata": {
        "id": "W9ys-zPinJBd"
      },
      "id": "W9ys-zPinJBd"
    },
    {
      "cell_type": "code",
      "source": [
        "#단순선형회귀 모델 생성\n",
        "model = tf.keras.Sequential([\n",
        "    tf.keras.layers.Dense(1, input_shape=[1]) #뉴런 1개, 입력 변수 x 1개\n",
        "])"
      ],
      "metadata": {
        "id": "3s1B9GqWl6It"
      },
      "id": "3s1B9GqWl6It",
      "execution_count": 24,
      "outputs": []
    },
    {
      "cell_type": "markdown",
      "source": [
        "### 2-6 모델 요약"
      ],
      "metadata": {
        "id": "vqJAAENYnwXf"
      },
      "id": "vqJAAENYnwXf"
    },
    {
      "cell_type": "code",
      "source": [
        "#모델 요약 내용 확인\n",
        "model.summary()"
      ],
      "metadata": {
        "colab": {
          "base_uri": "https://localhost:8080/"
        },
        "id": "cDaZ-ukynv5s",
        "outputId": "87281647-8ab3-428e-d3fb-b36c27c25ee0"
      },
      "id": "cDaZ-ukynv5s",
      "execution_count": 25,
      "outputs": [
        {
          "output_type": "stream",
          "name": "stdout",
          "text": [
            "Model: \"sequential_7\"\n",
            "_________________________________________________________________\n",
            " Layer (type)                Output Shape              Param #   \n",
            "=================================================================\n",
            " dense_21 (Dense)            (None, 1)                 2         \n",
            "                                                                 \n",
            "=================================================================\n",
            "Total params: 2\n",
            "Trainable params: 2\n",
            "Non-trainable params: 0\n",
            "_________________________________________________________________\n"
          ]
        }
      ]
    },
    {
      "cell_type": "markdown",
      "source": [
        "  - Total params : 모델 내부에 존재하는 모든 파라미터의 합계 표기\n",
        "  - Trainable params : 모델 훈련 시 업데이트 할 파라미터의 총 개수 - w,b로 두 개\n",
        "  - Non-trainable params : 훈련 시 업데이트하지 않을 파라미터의 총 개수"
      ],
      "metadata": {
        "id": "qIHIOQQlocq6"
      },
      "id": "qIHIOQQlocq6"
    },
    {
      "cell_type": "markdown",
      "source": [
        "###2-7 컴파일\n",
        "- 모델의 훈련 과정에서 적용할 옵티마이저, 손실함수, 평가지표 등을 정의함\n",
        "- 클래스 인스턴스, 함수 혹은 사전 정의된 문자열로 지정할 수 있음 - 문자열로 지정하면 기본 하이퍼파라미터 사용"
      ],
      "metadata": {
        "id": "aOzBdyNUo35k"
      },
      "id": "aOzBdyNUo35k"
    },
    {
      "cell_type": "code",
      "source": [
        "#긴 문자열 지정\n",
        "model.compile(optimizer='sgd', loss='mean_squared_error', metrics=['mean_squared_error', 'mean_absolute_error'])"
      ],
      "metadata": {
        "id": "0q_zHEPWoapX"
      },
      "id": "0q_zHEPWoapX",
      "execution_count": 26,
      "outputs": []
    },
    {
      "cell_type": "code",
      "source": [
        "#짧은 문자열 지정\n",
        "model.compile(optimizer='sgd', loss='mse', metrics=['mse','mae'])"
      ],
      "metadata": {
        "id": "HNWMXBJrpWdz"
      },
      "id": "HNWMXBJrpWdz",
      "execution_count": 27,
      "outputs": []
    },
    {
      "cell_type": "code",
      "source": [
        "#클래스 인스턴스 지정\n",
        "model.compile(optimizer = tf.keras.optimizers.SGD(lr=0.005), #확률적 경사 하강법\n",
        "              loss = tf.keras.losses.MeanAbsoluteError(),\n",
        "              metrics = [tf.keras.metrics.MeanAbsoluteError(),\n",
        "                         tf.keras.metrics.MeanSquaredError()\n",
        "                         ])"
      ],
      "metadata": {
        "colab": {
          "base_uri": "https://localhost:8080/"
        },
        "id": "M-cIhgOzpnb5",
        "outputId": "6982e1b0-af90-4ec4-8cc6-aaa6af94f156"
      },
      "id": "M-cIhgOzpnb5",
      "execution_count": 28,
      "outputs": [
        {
          "output_type": "stream",
          "name": "stderr",
          "text": [
            "/usr/local/lib/python3.7/dist-packages/keras/optimizers/optimizer_v2/gradient_descent.py:108: UserWarning: The `lr` argument is deprecated, use `learning_rate` instead.\n",
            "  super(SGD, self).__init__(name, **kwargs)\n"
          ]
        }
      ]
    },
    {
      "cell_type": "code",
      "source": [
        "#컴파일\n",
        "model.compile(optimizer='sgd', loss='mse', metrics=['mae'])"
      ],
      "metadata": {
        "id": "-k5PBl-jqgFj"
      },
      "id": "-k5PBl-jqgFj",
      "execution_count": 29,
      "outputs": []
    },
    {
      "cell_type": "markdown",
      "source": [
        "### 2-8 훈련"
      ],
      "metadata": {
        "id": "TqODcX2MqFp5"
      },
      "id": "TqODcX2MqFp5"
    },
    {
      "cell_type": "code",
      "source": [
        "#훈련\n",
        "model.fit(x, y, epochs=5)"
      ],
      "metadata": {
        "colab": {
          "base_uri": "https://localhost:8080/"
        },
        "id": "pRO3R9_Ap_9e",
        "outputId": "6ad7997f-9c5f-4684-915a-b516959e7951"
      },
      "id": "pRO3R9_Ap_9e",
      "execution_count": 30,
      "outputs": [
        {
          "output_type": "stream",
          "name": "stdout",
          "text": [
            "Epoch 1/5\n",
            "1/1 [==============================] - 0s 434ms/step - loss: 148.5721 - mae: 11.3620\n",
            "Epoch 2/5\n",
            "1/1 [==============================] - 0s 31ms/step - loss: 86.6636 - mae: 8.7151\n",
            "Epoch 3/5\n",
            "1/1 [==============================] - 0s 12ms/step - loss: 50.5858 - mae: 6.6944\n",
            "Epoch 4/5\n",
            "1/1 [==============================] - 0s 12ms/step - loss: 29.5609 - mae: 5.1517\n",
            "Epoch 5/5\n",
            "1/1 [==============================] - 0s 10ms/step - loss: 17.3081 - mae: 3.9739\n"
          ]
        },
        {
          "output_type": "execute_result",
          "data": {
            "text/plain": [
              "<keras.callbacks.History at 0x7f942241f610>"
            ]
          },
          "metadata": {},
          "execution_count": 30
        }
      ]
    },
    {
      "cell_type": "code",
      "source": [
        "#단순 선형회귀 모델 생성\n",
        "model = tf.keras.Sequential([\n",
        "    tf.keras.layers.Dense(1, input_shape=[1])\n",
        "])\n",
        "\n",
        "#컴파일\n",
        "model.compile(optimizer='sgd', loss='mse', metrics=['mae'])\n",
        "\n",
        "#훈련\n",
        "history  = model.fit(x, y, epochs=1200)"
      ],
      "metadata": {
        "colab": {
          "base_uri": "https://localhost:8080/"
        },
        "id": "xAlbN80pq42j",
        "outputId": "16be3781-8b12-4d11-e566-b52c1a840098"
      },
      "id": "xAlbN80pq42j",
      "execution_count": 31,
      "outputs": [
        {
          "output_type": "stream",
          "name": "stdout",
          "text": [
            "Epoch 1/1200\n",
            "1/1 [==============================] - 1s 675ms/step - loss: 130.4618 - mae: 10.6664\n",
            "Epoch 2/1200\n",
            "1/1 [==============================] - 0s 15ms/step - loss: 76.1194 - mae: 8.1864\n",
            "Epoch 3/1200\n",
            "1/1 [==============================] - 0s 9ms/step - loss: 44.4508 - mae: 6.2932\n",
            "Epoch 4/1200\n",
            "1/1 [==============================] - 0s 10ms/step - loss: 25.9953 - mae: 4.8477\n",
            "Epoch 5/1200\n",
            "1/1 [==============================] - 0s 9ms/step - loss: 15.2397 - mae: 3.7442\n",
            "Epoch 6/1200\n",
            "1/1 [==============================] - 0s 10ms/step - loss: 8.9712 - mae: 2.9016\n",
            "Epoch 7/1200\n",
            "1/1 [==============================] - 0s 7ms/step - loss: 5.3177 - mae: 2.2582\n",
            "Epoch 8/1200\n",
            "1/1 [==============================] - 0s 8ms/step - loss: 3.1880 - mae: 1.7669\n",
            "Epoch 9/1200\n",
            "1/1 [==============================] - 0s 9ms/step - loss: 1.9463 - mae: 1.3917\n",
            "Epoch 10/1200\n",
            "1/1 [==============================] - 0s 8ms/step - loss: 1.2221 - mae: 1.1052\n",
            "Epoch 11/1200\n",
            "1/1 [==============================] - 0s 8ms/step - loss: 0.7995 - mae: 0.8863\n",
            "Epoch 12/1200\n",
            "1/1 [==============================] - 0s 8ms/step - loss: 0.5526 - mae: 0.7191\n",
            "Epoch 13/1200\n",
            "1/1 [==============================] - 0s 10ms/step - loss: 0.4081 - mae: 0.5912\n",
            "Epoch 14/1200\n",
            "1/1 [==============================] - 0s 7ms/step - loss: 0.3234 - mae: 0.4935\n",
            "Epoch 15/1200\n",
            "1/1 [==============================] - 0s 9ms/step - loss: 0.2734 - mae: 0.4284\n",
            "Epoch 16/1200\n",
            "1/1 [==============================] - 0s 8ms/step - loss: 0.2437 - mae: 0.4071\n",
            "Epoch 17/1200\n",
            "1/1 [==============================] - 0s 11ms/step - loss: 0.2259 - mae: 0.3906\n",
            "Epoch 18/1200\n",
            "1/1 [==============================] - 0s 7ms/step - loss: 0.2149 - mae: 0.3777\n",
            "Epoch 19/1200\n",
            "1/1 [==============================] - 0s 9ms/step - loss: 0.2079 - mae: 0.3704\n",
            "Epoch 20/1200\n",
            "1/1 [==============================] - 0s 9ms/step - loss: 0.2033 - mae: 0.3723\n",
            "Epoch 21/1200\n",
            "1/1 [==============================] - 0s 9ms/step - loss: 0.2000 - mae: 0.3735\n",
            "Epoch 22/1200\n",
            "1/1 [==============================] - 0s 7ms/step - loss: 0.1976 - mae: 0.3740\n",
            "Epoch 23/1200\n",
            "1/1 [==============================] - 0s 9ms/step - loss: 0.1956 - mae: 0.3742\n",
            "Epoch 24/1200\n",
            "1/1 [==============================] - 0s 17ms/step - loss: 0.1939 - mae: 0.3740\n",
            "Epoch 25/1200\n",
            "1/1 [==============================] - 0s 12ms/step - loss: 0.1924 - mae: 0.3735\n",
            "Epoch 26/1200\n",
            "1/1 [==============================] - 0s 9ms/step - loss: 0.1910 - mae: 0.3729\n",
            "Epoch 27/1200\n",
            "1/1 [==============================] - 0s 11ms/step - loss: 0.1896 - mae: 0.3721\n",
            "Epoch 28/1200\n",
            "1/1 [==============================] - 0s 9ms/step - loss: 0.1883 - mae: 0.3712\n",
            "Epoch 29/1200\n",
            "1/1 [==============================] - 0s 10ms/step - loss: 0.1870 - mae: 0.3702\n",
            "Epoch 30/1200\n",
            "1/1 [==============================] - 0s 10ms/step - loss: 0.1857 - mae: 0.3692\n",
            "Epoch 31/1200\n",
            "1/1 [==============================] - 0s 11ms/step - loss: 0.1845 - mae: 0.3681\n",
            "Epoch 32/1200\n",
            "1/1 [==============================] - 0s 8ms/step - loss: 0.1832 - mae: 0.3670\n",
            "Epoch 33/1200\n",
            "1/1 [==============================] - 0s 9ms/step - loss: 0.1820 - mae: 0.3658\n",
            "Epoch 34/1200\n",
            "1/1 [==============================] - 0s 11ms/step - loss: 0.1808 - mae: 0.3647\n",
            "Epoch 35/1200\n",
            "1/1 [==============================] - 0s 12ms/step - loss: 0.1795 - mae: 0.3635\n",
            "Epoch 36/1200\n",
            "1/1 [==============================] - 0s 10ms/step - loss: 0.1783 - mae: 0.3623\n",
            "Epoch 37/1200\n",
            "1/1 [==============================] - 0s 7ms/step - loss: 0.1771 - mae: 0.3611\n",
            "Epoch 38/1200\n",
            "1/1 [==============================] - 0s 9ms/step - loss: 0.1759 - mae: 0.3599\n",
            "Epoch 39/1200\n",
            "1/1 [==============================] - 0s 9ms/step - loss: 0.1747 - mae: 0.3587\n",
            "Epoch 40/1200\n",
            "1/1 [==============================] - 0s 9ms/step - loss: 0.1736 - mae: 0.3575\n",
            "Epoch 41/1200\n",
            "1/1 [==============================] - 0s 12ms/step - loss: 0.1724 - mae: 0.3563\n",
            "Epoch 42/1200\n",
            "1/1 [==============================] - 0s 10ms/step - loss: 0.1712 - mae: 0.3551\n",
            "Epoch 43/1200\n",
            "1/1 [==============================] - 0s 9ms/step - loss: 0.1701 - mae: 0.3539\n",
            "Epoch 44/1200\n",
            "1/1 [==============================] - 0s 9ms/step - loss: 0.1689 - mae: 0.3527\n",
            "Epoch 45/1200\n",
            "1/1 [==============================] - 0s 10ms/step - loss: 0.1678 - mae: 0.3516\n",
            "Epoch 46/1200\n",
            "1/1 [==============================] - 0s 9ms/step - loss: 0.1666 - mae: 0.3504\n",
            "Epoch 47/1200\n",
            "1/1 [==============================] - 0s 11ms/step - loss: 0.1655 - mae: 0.3492\n",
            "Epoch 48/1200\n",
            "1/1 [==============================] - 0s 8ms/step - loss: 0.1644 - mae: 0.3480\n",
            "Epoch 49/1200\n",
            "1/1 [==============================] - 0s 9ms/step - loss: 0.1633 - mae: 0.3468\n",
            "Epoch 50/1200\n",
            "1/1 [==============================] - 0s 10ms/step - loss: 0.1622 - mae: 0.3457\n",
            "Epoch 51/1200\n",
            "1/1 [==============================] - 0s 9ms/step - loss: 0.1611 - mae: 0.3445\n",
            "Epoch 52/1200\n",
            "1/1 [==============================] - 0s 10ms/step - loss: 0.1600 - mae: 0.3433\n",
            "Epoch 53/1200\n",
            "1/1 [==============================] - 0s 9ms/step - loss: 0.1589 - mae: 0.3422\n",
            "Epoch 54/1200\n",
            "1/1 [==============================] - 0s 11ms/step - loss: 0.1579 - mae: 0.3410\n",
            "Epoch 55/1200\n",
            "1/1 [==============================] - 0s 8ms/step - loss: 0.1568 - mae: 0.3399\n",
            "Epoch 56/1200\n",
            "1/1 [==============================] - 0s 88ms/step - loss: 0.1557 - mae: 0.3387\n",
            "Epoch 57/1200\n",
            "1/1 [==============================] - 0s 5ms/step - loss: 0.1547 - mae: 0.3376\n",
            "Epoch 58/1200\n",
            "1/1 [==============================] - 0s 12ms/step - loss: 0.1536 - mae: 0.3364\n",
            "Epoch 59/1200\n",
            "1/1 [==============================] - 0s 7ms/step - loss: 0.1526 - mae: 0.3353\n",
            "Epoch 60/1200\n",
            "1/1 [==============================] - 0s 7ms/step - loss: 0.1516 - mae: 0.3342\n",
            "Epoch 61/1200\n",
            "1/1 [==============================] - 0s 7ms/step - loss: 0.1505 - mae: 0.3330\n",
            "Epoch 62/1200\n",
            "1/1 [==============================] - 0s 8ms/step - loss: 0.1495 - mae: 0.3319\n",
            "Epoch 63/1200\n",
            "1/1 [==============================] - 0s 8ms/step - loss: 0.1485 - mae: 0.3308\n",
            "Epoch 64/1200\n",
            "1/1 [==============================] - 0s 11ms/step - loss: 0.1475 - mae: 0.3297\n",
            "Epoch 65/1200\n",
            "1/1 [==============================] - 0s 7ms/step - loss: 0.1465 - mae: 0.3285\n",
            "Epoch 66/1200\n",
            "1/1 [==============================] - 0s 7ms/step - loss: 0.1455 - mae: 0.3274\n",
            "Epoch 67/1200\n",
            "1/1 [==============================] - 0s 12ms/step - loss: 0.1445 - mae: 0.3263\n",
            "Epoch 68/1200\n",
            "1/1 [==============================] - 0s 7ms/step - loss: 0.1436 - mae: 0.3252\n",
            "Epoch 69/1200\n",
            "1/1 [==============================] - 0s 7ms/step - loss: 0.1426 - mae: 0.3241\n",
            "Epoch 70/1200\n",
            "1/1 [==============================] - 0s 7ms/step - loss: 0.1416 - mae: 0.3230\n",
            "Epoch 71/1200\n",
            "1/1 [==============================] - 0s 12ms/step - loss: 0.1407 - mae: 0.3219\n",
            "Epoch 72/1200\n",
            "1/1 [==============================] - 0s 7ms/step - loss: 0.1397 - mae: 0.3209\n",
            "Epoch 73/1200\n",
            "1/1 [==============================] - 0s 7ms/step - loss: 0.1388 - mae: 0.3198\n",
            "Epoch 74/1200\n",
            "1/1 [==============================] - 0s 10ms/step - loss: 0.1379 - mae: 0.3187\n",
            "Epoch 75/1200\n",
            "1/1 [==============================] - 0s 7ms/step - loss: 0.1369 - mae: 0.3176\n",
            "Epoch 76/1200\n",
            "1/1 [==============================] - 0s 7ms/step - loss: 0.1360 - mae: 0.3165\n",
            "Epoch 77/1200\n",
            "1/1 [==============================] - 0s 10ms/step - loss: 0.1351 - mae: 0.3155\n",
            "Epoch 78/1200\n",
            "1/1 [==============================] - 0s 7ms/step - loss: 0.1342 - mae: 0.3144\n",
            "Epoch 79/1200\n",
            "1/1 [==============================] - 0s 9ms/step - loss: 0.1333 - mae: 0.3133\n",
            "Epoch 80/1200\n",
            "1/1 [==============================] - 0s 7ms/step - loss: 0.1324 - mae: 0.3123\n",
            "Epoch 81/1200\n",
            "1/1 [==============================] - 0s 18ms/step - loss: 0.1315 - mae: 0.3112\n",
            "Epoch 82/1200\n",
            "1/1 [==============================] - 0s 6ms/step - loss: 0.1306 - mae: 0.3102\n",
            "Epoch 83/1200\n",
            "1/1 [==============================] - 0s 7ms/step - loss: 0.1297 - mae: 0.3091\n",
            "Epoch 84/1200\n",
            "1/1 [==============================] - 0s 7ms/step - loss: 0.1288 - mae: 0.3081\n",
            "Epoch 85/1200\n",
            "1/1 [==============================] - 0s 14ms/step - loss: 0.1280 - mae: 0.3070\n",
            "Epoch 86/1200\n",
            "1/1 [==============================] - 0s 7ms/step - loss: 0.1271 - mae: 0.3060\n",
            "Epoch 87/1200\n",
            "1/1 [==============================] - 0s 7ms/step - loss: 0.1262 - mae: 0.3050\n",
            "Epoch 88/1200\n",
            "1/1 [==============================] - 0s 8ms/step - loss: 0.1254 - mae: 0.3039\n",
            "Epoch 89/1200\n",
            "1/1 [==============================] - 0s 12ms/step - loss: 0.1245 - mae: 0.3029\n",
            "Epoch 90/1200\n",
            "1/1 [==============================] - 0s 19ms/step - loss: 0.1237 - mae: 0.3019\n",
            "Epoch 91/1200\n",
            "1/1 [==============================] - 0s 23ms/step - loss: 0.1229 - mae: 0.3009\n",
            "Epoch 92/1200\n",
            "1/1 [==============================] - 0s 13ms/step - loss: 0.1220 - mae: 0.2998\n",
            "Epoch 93/1200\n",
            "1/1 [==============================] - 0s 17ms/step - loss: 0.1212 - mae: 0.2988\n",
            "Epoch 94/1200\n",
            "1/1 [==============================] - 0s 8ms/step - loss: 0.1204 - mae: 0.2978\n",
            "Epoch 95/1200\n",
            "1/1 [==============================] - 0s 7ms/step - loss: 0.1196 - mae: 0.2968\n",
            "Epoch 96/1200\n",
            "1/1 [==============================] - 0s 15ms/step - loss: 0.1188 - mae: 0.2958\n",
            "Epoch 97/1200\n",
            "1/1 [==============================] - 0s 8ms/step - loss: 0.1180 - mae: 0.2948\n",
            "Epoch 98/1200\n",
            "1/1 [==============================] - 0s 7ms/step - loss: 0.1172 - mae: 0.2938\n",
            "Epoch 99/1200\n",
            "1/1 [==============================] - 0s 11ms/step - loss: 0.1164 - mae: 0.2928\n",
            "Epoch 100/1200\n",
            "1/1 [==============================] - 0s 7ms/step - loss: 0.1156 - mae: 0.2918\n",
            "Epoch 101/1200\n",
            "1/1 [==============================] - 0s 8ms/step - loss: 0.1148 - mae: 0.2908\n",
            "Epoch 102/1200\n",
            "1/1 [==============================] - 0s 10ms/step - loss: 0.1140 - mae: 0.2899\n",
            "Epoch 103/1200\n",
            "1/1 [==============================] - 0s 11ms/step - loss: 0.1133 - mae: 0.2889\n",
            "Epoch 104/1200\n",
            "1/1 [==============================] - 0s 9ms/step - loss: 0.1125 - mae: 0.2879\n",
            "Epoch 105/1200\n",
            "1/1 [==============================] - 0s 8ms/step - loss: 0.1117 - mae: 0.2869\n",
            "Epoch 106/1200\n",
            "1/1 [==============================] - 0s 9ms/step - loss: 0.1110 - mae: 0.2860\n",
            "Epoch 107/1200\n",
            "1/1 [==============================] - 0s 9ms/step - loss: 0.1102 - mae: 0.2850\n",
            "Epoch 108/1200\n",
            "1/1 [==============================] - 0s 8ms/step - loss: 0.1095 - mae: 0.2840\n",
            "Epoch 109/1200\n",
            "1/1 [==============================] - 0s 9ms/step - loss: 0.1088 - mae: 0.2831\n",
            "Epoch 110/1200\n",
            "1/1 [==============================] - 0s 8ms/step - loss: 0.1080 - mae: 0.2821\n",
            "Epoch 111/1200\n",
            "1/1 [==============================] - 0s 9ms/step - loss: 0.1073 - mae: 0.2812\n",
            "Epoch 112/1200\n",
            "1/1 [==============================] - 0s 11ms/step - loss: 0.1066 - mae: 0.2802\n",
            "Epoch 113/1200\n",
            "1/1 [==============================] - 0s 7ms/step - loss: 0.1059 - mae: 0.2793\n",
            "Epoch 114/1200\n",
            "1/1 [==============================] - 0s 7ms/step - loss: 0.1051 - mae: 0.2783\n",
            "Epoch 115/1200\n",
            "1/1 [==============================] - 0s 7ms/step - loss: 0.1044 - mae: 0.2774\n",
            "Epoch 116/1200\n",
            "1/1 [==============================] - 0s 9ms/step - loss: 0.1037 - mae: 0.2764\n",
            "Epoch 117/1200\n",
            "1/1 [==============================] - 0s 7ms/step - loss: 0.1030 - mae: 0.2755\n",
            "Epoch 118/1200\n",
            "1/1 [==============================] - 0s 14ms/step - loss: 0.1023 - mae: 0.2746\n",
            "Epoch 119/1200\n",
            "1/1 [==============================] - 0s 10ms/step - loss: 0.1016 - mae: 0.2736\n",
            "Epoch 120/1200\n",
            "1/1 [==============================] - 0s 8ms/step - loss: 0.1010 - mae: 0.2727\n",
            "Epoch 121/1200\n",
            "1/1 [==============================] - 0s 8ms/step - loss: 0.1003 - mae: 0.2718\n",
            "Epoch 122/1200\n",
            "1/1 [==============================] - 0s 8ms/step - loss: 0.0996 - mae: 0.2709\n",
            "Epoch 123/1200\n",
            "1/1 [==============================] - 0s 8ms/step - loss: 0.0989 - mae: 0.2700\n",
            "Epoch 124/1200\n",
            "1/1 [==============================] - 0s 11ms/step - loss: 0.0983 - mae: 0.2690\n",
            "Epoch 125/1200\n",
            "1/1 [==============================] - 0s 7ms/step - loss: 0.0976 - mae: 0.2681\n",
            "Epoch 126/1200\n",
            "1/1 [==============================] - 0s 8ms/step - loss: 0.0969 - mae: 0.2672\n",
            "Epoch 127/1200\n",
            "1/1 [==============================] - 0s 7ms/step - loss: 0.0963 - mae: 0.2663\n",
            "Epoch 128/1200\n",
            "1/1 [==============================] - 0s 9ms/step - loss: 0.0956 - mae: 0.2654\n",
            "Epoch 129/1200\n",
            "1/1 [==============================] - 0s 6ms/step - loss: 0.0950 - mae: 0.2645\n",
            "Epoch 130/1200\n",
            "1/1 [==============================] - 0s 7ms/step - loss: 0.0943 - mae: 0.2636\n",
            "Epoch 131/1200\n",
            "1/1 [==============================] - 0s 7ms/step - loss: 0.0937 - mae: 0.2627\n",
            "Epoch 132/1200\n",
            "1/1 [==============================] - 0s 8ms/step - loss: 0.0931 - mae: 0.2619\n",
            "Epoch 133/1200\n",
            "1/1 [==============================] - 0s 11ms/step - loss: 0.0924 - mae: 0.2610\n",
            "Epoch 134/1200\n",
            "1/1 [==============================] - 0s 12ms/step - loss: 0.0918 - mae: 0.2601\n",
            "Epoch 135/1200\n",
            "1/1 [==============================] - 0s 8ms/step - loss: 0.0912 - mae: 0.2592\n",
            "Epoch 136/1200\n",
            "1/1 [==============================] - 0s 9ms/step - loss: 0.0906 - mae: 0.2583\n",
            "Epoch 137/1200\n",
            "1/1 [==============================] - 0s 6ms/step - loss: 0.0900 - mae: 0.2575\n",
            "Epoch 138/1200\n",
            "1/1 [==============================] - 0s 6ms/step - loss: 0.0894 - mae: 0.2566\n",
            "Epoch 139/1200\n",
            "1/1 [==============================] - 0s 8ms/step - loss: 0.0888 - mae: 0.2557\n",
            "Epoch 140/1200\n",
            "1/1 [==============================] - 0s 8ms/step - loss: 0.0882 - mae: 0.2549\n",
            "Epoch 141/1200\n",
            "1/1 [==============================] - 0s 6ms/step - loss: 0.0876 - mae: 0.2540\n",
            "Epoch 142/1200\n",
            "1/1 [==============================] - 0s 8ms/step - loss: 0.0870 - mae: 0.2531\n",
            "Epoch 143/1200\n",
            "1/1 [==============================] - 0s 6ms/step - loss: 0.0864 - mae: 0.2523\n",
            "Epoch 144/1200\n",
            "1/1 [==============================] - 0s 9ms/step - loss: 0.0858 - mae: 0.2514\n",
            "Epoch 145/1200\n",
            "1/1 [==============================] - 0s 7ms/step - loss: 0.0852 - mae: 0.2506\n",
            "Epoch 146/1200\n",
            "1/1 [==============================] - 0s 8ms/step - loss: 0.0846 - mae: 0.2497\n",
            "Epoch 147/1200\n",
            "1/1 [==============================] - 0s 8ms/step - loss: 0.0841 - mae: 0.2489\n",
            "Epoch 148/1200\n",
            "1/1 [==============================] - 0s 9ms/step - loss: 0.0835 - mae: 0.2480\n",
            "Epoch 149/1200\n",
            "1/1 [==============================] - 0s 9ms/step - loss: 0.0829 - mae: 0.2472\n",
            "Epoch 150/1200\n",
            "1/1 [==============================] - 0s 8ms/step - loss: 0.0824 - mae: 0.2464\n",
            "Epoch 151/1200\n",
            "1/1 [==============================] - 0s 7ms/step - loss: 0.0818 - mae: 0.2455\n",
            "Epoch 152/1200\n",
            "1/1 [==============================] - 0s 8ms/step - loss: 0.0813 - mae: 0.2447\n",
            "Epoch 153/1200\n",
            "1/1 [==============================] - 0s 10ms/step - loss: 0.0807 - mae: 0.2439\n",
            "Epoch 154/1200\n",
            "1/1 [==============================] - 0s 7ms/step - loss: 0.0802 - mae: 0.2431\n",
            "Epoch 155/1200\n",
            "1/1 [==============================] - 0s 7ms/step - loss: 0.0796 - mae: 0.2422\n",
            "Epoch 156/1200\n",
            "1/1 [==============================] - 0s 8ms/step - loss: 0.0791 - mae: 0.2414\n",
            "Epoch 157/1200\n",
            "1/1 [==============================] - 0s 8ms/step - loss: 0.0786 - mae: 0.2406\n",
            "Epoch 158/1200\n",
            "1/1 [==============================] - 0s 8ms/step - loss: 0.0780 - mae: 0.2398\n",
            "Epoch 159/1200\n",
            "1/1 [==============================] - 0s 8ms/step - loss: 0.0775 - mae: 0.2390\n",
            "Epoch 160/1200\n",
            "1/1 [==============================] - 0s 8ms/step - loss: 0.0770 - mae: 0.2382\n",
            "Epoch 161/1200\n",
            "1/1 [==============================] - 0s 9ms/step - loss: 0.0765 - mae: 0.2374\n",
            "Epoch 162/1200\n",
            "1/1 [==============================] - 0s 8ms/step - loss: 0.0760 - mae: 0.2366\n",
            "Epoch 163/1200\n",
            "1/1 [==============================] - 0s 8ms/step - loss: 0.0754 - mae: 0.2358\n",
            "Epoch 164/1200\n",
            "1/1 [==============================] - 0s 8ms/step - loss: 0.0749 - mae: 0.2350\n",
            "Epoch 165/1200\n",
            "1/1 [==============================] - 0s 13ms/step - loss: 0.0744 - mae: 0.2342\n",
            "Epoch 166/1200\n",
            "1/1 [==============================] - 0s 8ms/step - loss: 0.0739 - mae: 0.2334\n",
            "Epoch 167/1200\n",
            "1/1 [==============================] - 0s 8ms/step - loss: 0.0734 - mae: 0.2326\n",
            "Epoch 168/1200\n",
            "1/1 [==============================] - 0s 7ms/step - loss: 0.0729 - mae: 0.2318\n",
            "Epoch 169/1200\n",
            "1/1 [==============================] - 0s 11ms/step - loss: 0.0724 - mae: 0.2310\n",
            "Epoch 170/1200\n",
            "1/1 [==============================] - 0s 7ms/step - loss: 0.0719 - mae: 0.2302\n",
            "Epoch 171/1200\n",
            "1/1 [==============================] - 0s 7ms/step - loss: 0.0715 - mae: 0.2295\n",
            "Epoch 172/1200\n",
            "1/1 [==============================] - 0s 8ms/step - loss: 0.0710 - mae: 0.2287\n",
            "Epoch 173/1200\n",
            "1/1 [==============================] - 0s 8ms/step - loss: 0.0705 - mae: 0.2279\n",
            "Epoch 174/1200\n",
            "1/1 [==============================] - 0s 8ms/step - loss: 0.0700 - mae: 0.2271\n",
            "Epoch 175/1200\n",
            "1/1 [==============================] - 0s 16ms/step - loss: 0.0696 - mae: 0.2264\n",
            "Epoch 176/1200\n",
            "1/1 [==============================] - 0s 10ms/step - loss: 0.0691 - mae: 0.2256\n",
            "Epoch 177/1200\n",
            "1/1 [==============================] - 0s 7ms/step - loss: 0.0686 - mae: 0.2248\n",
            "Epoch 178/1200\n",
            "1/1 [==============================] - 0s 7ms/step - loss: 0.0682 - mae: 0.2241\n",
            "Epoch 179/1200\n",
            "1/1 [==============================] - 0s 8ms/step - loss: 0.0677 - mae: 0.2233\n",
            "Epoch 180/1200\n",
            "1/1 [==============================] - 0s 8ms/step - loss: 0.0672 - mae: 0.2226\n",
            "Epoch 181/1200\n",
            "1/1 [==============================] - 0s 14ms/step - loss: 0.0668 - mae: 0.2218\n",
            "Epoch 182/1200\n",
            "1/1 [==============================] - 0s 7ms/step - loss: 0.0663 - mae: 0.2211\n",
            "Epoch 183/1200\n",
            "1/1 [==============================] - 0s 7ms/step - loss: 0.0659 - mae: 0.2203\n",
            "Epoch 184/1200\n",
            "1/1 [==============================] - 0s 7ms/step - loss: 0.0654 - mae: 0.2196\n",
            "Epoch 185/1200\n",
            "1/1 [==============================] - 0s 7ms/step - loss: 0.0650 - mae: 0.2188\n",
            "Epoch 186/1200\n",
            "1/1 [==============================] - 0s 8ms/step - loss: 0.0646 - mae: 0.2181\n",
            "Epoch 187/1200\n",
            "1/1 [==============================] - 0s 14ms/step - loss: 0.0641 - mae: 0.2173\n",
            "Epoch 188/1200\n",
            "1/1 [==============================] - 0s 8ms/step - loss: 0.0637 - mae: 0.2166\n",
            "Epoch 189/1200\n",
            "1/1 [==============================] - 0s 8ms/step - loss: 0.0633 - mae: 0.2159\n",
            "Epoch 190/1200\n",
            "1/1 [==============================] - 0s 7ms/step - loss: 0.0628 - mae: 0.2152\n",
            "Epoch 191/1200\n",
            "1/1 [==============================] - 0s 7ms/step - loss: 0.0624 - mae: 0.2144\n",
            "Epoch 192/1200\n",
            "1/1 [==============================] - 0s 7ms/step - loss: 0.0620 - mae: 0.2137\n",
            "Epoch 193/1200\n",
            "1/1 [==============================] - 0s 8ms/step - loss: 0.0616 - mae: 0.2130\n",
            "Epoch 194/1200\n",
            "1/1 [==============================] - 0s 7ms/step - loss: 0.0612 - mae: 0.2123\n",
            "Epoch 195/1200\n",
            "1/1 [==============================] - 0s 7ms/step - loss: 0.0607 - mae: 0.2115\n",
            "Epoch 196/1200\n",
            "1/1 [==============================] - 0s 6ms/step - loss: 0.0603 - mae: 0.2108\n",
            "Epoch 197/1200\n",
            "1/1 [==============================] - 0s 10ms/step - loss: 0.0599 - mae: 0.2101\n",
            "Epoch 198/1200\n",
            "1/1 [==============================] - 0s 6ms/step - loss: 0.0595 - mae: 0.2094\n",
            "Epoch 199/1200\n",
            "1/1 [==============================] - 0s 7ms/step - loss: 0.0591 - mae: 0.2087\n",
            "Epoch 200/1200\n",
            "1/1 [==============================] - 0s 7ms/step - loss: 0.0587 - mae: 0.2080\n",
            "Epoch 201/1200\n",
            "1/1 [==============================] - 0s 8ms/step - loss: 0.0583 - mae: 0.2073\n",
            "Epoch 202/1200\n",
            "1/1 [==============================] - 0s 8ms/step - loss: 0.0579 - mae: 0.2066\n",
            "Epoch 203/1200\n",
            "1/1 [==============================] - 0s 8ms/step - loss: 0.0575 - mae: 0.2059\n",
            "Epoch 204/1200\n",
            "1/1 [==============================] - 0s 18ms/step - loss: 0.0571 - mae: 0.2052\n",
            "Epoch 205/1200\n",
            "1/1 [==============================] - 0s 8ms/step - loss: 0.0568 - mae: 0.2045\n",
            "Epoch 206/1200\n",
            "1/1 [==============================] - 0s 7ms/step - loss: 0.0564 - mae: 0.2038\n",
            "Epoch 207/1200\n",
            "1/1 [==============================] - 0s 8ms/step - loss: 0.0560 - mae: 0.2031\n",
            "Epoch 208/1200\n",
            "1/1 [==============================] - 0s 9ms/step - loss: 0.0556 - mae: 0.2024\n",
            "Epoch 209/1200\n",
            "1/1 [==============================] - 0s 8ms/step - loss: 0.0552 - mae: 0.2017\n",
            "Epoch 210/1200\n",
            "1/1 [==============================] - 0s 9ms/step - loss: 0.0549 - mae: 0.2011\n",
            "Epoch 211/1200\n",
            "1/1 [==============================] - 0s 8ms/step - loss: 0.0545 - mae: 0.2004\n",
            "Epoch 212/1200\n",
            "1/1 [==============================] - 0s 8ms/step - loss: 0.0541 - mae: 0.1997\n",
            "Epoch 213/1200\n",
            "1/1 [==============================] - 0s 8ms/step - loss: 0.0538 - mae: 0.1990\n",
            "Epoch 214/1200\n",
            "1/1 [==============================] - 0s 14ms/step - loss: 0.0534 - mae: 0.1984\n",
            "Epoch 215/1200\n",
            "1/1 [==============================] - 0s 7ms/step - loss: 0.0530 - mae: 0.1977\n",
            "Epoch 216/1200\n",
            "1/1 [==============================] - 0s 7ms/step - loss: 0.0527 - mae: 0.1970\n",
            "Epoch 217/1200\n",
            "1/1 [==============================] - 0s 7ms/step - loss: 0.0523 - mae: 0.1964\n",
            "Epoch 218/1200\n",
            "1/1 [==============================] - 0s 7ms/step - loss: 0.0520 - mae: 0.1957\n",
            "Epoch 219/1200\n",
            "1/1 [==============================] - 0s 8ms/step - loss: 0.0516 - mae: 0.1950\n",
            "Epoch 220/1200\n",
            "1/1 [==============================] - 0s 8ms/step - loss: 0.0513 - mae: 0.1944\n",
            "Epoch 221/1200\n",
            "1/1 [==============================] - 0s 8ms/step - loss: 0.0509 - mae: 0.1937\n",
            "Epoch 222/1200\n",
            "1/1 [==============================] - 0s 8ms/step - loss: 0.0506 - mae: 0.1931\n",
            "Epoch 223/1200\n",
            "1/1 [==============================] - 0s 8ms/step - loss: 0.0502 - mae: 0.1924\n",
            "Epoch 224/1200\n",
            "1/1 [==============================] - 0s 8ms/step - loss: 0.0499 - mae: 0.1918\n",
            "Epoch 225/1200\n",
            "1/1 [==============================] - 0s 8ms/step - loss: 0.0496 - mae: 0.1911\n",
            "Epoch 226/1200\n",
            "1/1 [==============================] - 0s 12ms/step - loss: 0.0492 - mae: 0.1905\n",
            "Epoch 227/1200\n",
            "1/1 [==============================] - 0s 12ms/step - loss: 0.0489 - mae: 0.1898\n",
            "Epoch 228/1200\n",
            "1/1 [==============================] - 0s 8ms/step - loss: 0.0486 - mae: 0.1892\n",
            "Epoch 229/1200\n",
            "1/1 [==============================] - 0s 7ms/step - loss: 0.0482 - mae: 0.1885\n",
            "Epoch 230/1200\n",
            "1/1 [==============================] - 0s 8ms/step - loss: 0.0479 - mae: 0.1879\n",
            "Epoch 231/1200\n",
            "1/1 [==============================] - 0s 8ms/step - loss: 0.0476 - mae: 0.1873\n",
            "Epoch 232/1200\n",
            "1/1 [==============================] - 0s 8ms/step - loss: 0.0473 - mae: 0.1866\n",
            "Epoch 233/1200\n",
            "1/1 [==============================] - 0s 8ms/step - loss: 0.0470 - mae: 0.1860\n",
            "Epoch 234/1200\n",
            "1/1 [==============================] - 0s 8ms/step - loss: 0.0466 - mae: 0.1854\n",
            "Epoch 235/1200\n",
            "1/1 [==============================] - 0s 8ms/step - loss: 0.0463 - mae: 0.1847\n",
            "Epoch 236/1200\n",
            "1/1 [==============================] - 0s 8ms/step - loss: 0.0460 - mae: 0.1841\n",
            "Epoch 237/1200\n",
            "1/1 [==============================] - 0s 10ms/step - loss: 0.0457 - mae: 0.1835\n",
            "Epoch 238/1200\n",
            "1/1 [==============================] - 0s 8ms/step - loss: 0.0454 - mae: 0.1829\n",
            "Epoch 239/1200\n",
            "1/1 [==============================] - 0s 7ms/step - loss: 0.0451 - mae: 0.1823\n",
            "Epoch 240/1200\n",
            "1/1 [==============================] - 0s 8ms/step - loss: 0.0448 - mae: 0.1816\n",
            "Epoch 241/1200\n",
            "1/1 [==============================] - 0s 8ms/step - loss: 0.0445 - mae: 0.1810\n",
            "Epoch 242/1200\n",
            "1/1 [==============================] - 0s 8ms/step - loss: 0.0442 - mae: 0.1804\n",
            "Epoch 243/1200\n",
            "1/1 [==============================] - 0s 7ms/step - loss: 0.0439 - mae: 0.1798\n",
            "Epoch 244/1200\n",
            "1/1 [==============================] - 0s 9ms/step - loss: 0.0436 - mae: 0.1792\n",
            "Epoch 245/1200\n",
            "1/1 [==============================] - 0s 8ms/step - loss: 0.0433 - mae: 0.1786\n",
            "Epoch 246/1200\n",
            "1/1 [==============================] - 0s 17ms/step - loss: 0.0430 - mae: 0.1780\n",
            "Epoch 247/1200\n",
            "1/1 [==============================] - 0s 7ms/step - loss: 0.0427 - mae: 0.1774\n",
            "Epoch 248/1200\n",
            "1/1 [==============================] - 0s 6ms/step - loss: 0.0424 - mae: 0.1768\n",
            "Epoch 249/1200\n",
            "1/1 [==============================] - 0s 7ms/step - loss: 0.0421 - mae: 0.1762\n",
            "Epoch 250/1200\n",
            "1/1 [==============================] - 0s 7ms/step - loss: 0.0418 - mae: 0.1756\n",
            "Epoch 251/1200\n",
            "1/1 [==============================] - 0s 8ms/step - loss: 0.0416 - mae: 0.1750\n",
            "Epoch 252/1200\n",
            "1/1 [==============================] - 0s 8ms/step - loss: 0.0413 - mae: 0.1744\n",
            "Epoch 253/1200\n",
            "1/1 [==============================] - 0s 8ms/step - loss: 0.0410 - mae: 0.1738\n",
            "Epoch 254/1200\n",
            "1/1 [==============================] - 0s 8ms/step - loss: 0.0407 - mae: 0.1732\n",
            "Epoch 255/1200\n",
            "1/1 [==============================] - 0s 8ms/step - loss: 0.0405 - mae: 0.1726\n",
            "Epoch 256/1200\n",
            "1/1 [==============================] - 0s 11ms/step - loss: 0.0402 - mae: 0.1721\n",
            "Epoch 257/1200\n",
            "1/1 [==============================] - 0s 7ms/step - loss: 0.0399 - mae: 0.1715\n",
            "Epoch 258/1200\n",
            "1/1 [==============================] - 0s 7ms/step - loss: 0.0396 - mae: 0.1709\n",
            "Epoch 259/1200\n",
            "1/1 [==============================] - 0s 6ms/step - loss: 0.0394 - mae: 0.1703\n",
            "Epoch 260/1200\n",
            "1/1 [==============================] - 0s 9ms/step - loss: 0.0391 - mae: 0.1697\n",
            "Epoch 261/1200\n",
            "1/1 [==============================] - 0s 7ms/step - loss: 0.0388 - mae: 0.1692\n",
            "Epoch 262/1200\n",
            "1/1 [==============================] - 0s 8ms/step - loss: 0.0386 - mae: 0.1686\n",
            "Epoch 263/1200\n",
            "1/1 [==============================] - 0s 6ms/step - loss: 0.0383 - mae: 0.1680\n",
            "Epoch 264/1200\n",
            "1/1 [==============================] - 0s 207ms/step - loss: 0.0381 - mae: 0.1675\n",
            "Epoch 265/1200\n",
            "1/1 [==============================] - 0s 29ms/step - loss: 0.0378 - mae: 0.1669\n",
            "Epoch 266/1200\n",
            "1/1 [==============================] - 0s 71ms/step - loss: 0.0376 - mae: 0.1663\n",
            "Epoch 267/1200\n",
            "1/1 [==============================] - 0s 7ms/step - loss: 0.0373 - mae: 0.1658\n",
            "Epoch 268/1200\n",
            "1/1 [==============================] - 0s 6ms/step - loss: 0.0370 - mae: 0.1652\n",
            "Epoch 269/1200\n",
            "1/1 [==============================] - 0s 7ms/step - loss: 0.0368 - mae: 0.1646\n",
            "Epoch 270/1200\n",
            "1/1 [==============================] - 0s 7ms/step - loss: 0.0365 - mae: 0.1641\n",
            "Epoch 271/1200\n",
            "1/1 [==============================] - 0s 8ms/step - loss: 0.0363 - mae: 0.1635\n",
            "Epoch 272/1200\n",
            "1/1 [==============================] - 0s 8ms/step - loss: 0.0361 - mae: 0.1630\n",
            "Epoch 273/1200\n",
            "1/1 [==============================] - 0s 7ms/step - loss: 0.0358 - mae: 0.1624\n",
            "Epoch 274/1200\n",
            "1/1 [==============================] - 0s 13ms/step - loss: 0.0356 - mae: 0.1619\n",
            "Epoch 275/1200\n",
            "1/1 [==============================] - 0s 7ms/step - loss: 0.0353 - mae: 0.1613\n",
            "Epoch 276/1200\n",
            "1/1 [==============================] - 0s 7ms/step - loss: 0.0351 - mae: 0.1608\n",
            "Epoch 277/1200\n",
            "1/1 [==============================] - 0s 6ms/step - loss: 0.0349 - mae: 0.1602\n",
            "Epoch 278/1200\n",
            "1/1 [==============================] - 0s 6ms/step - loss: 0.0346 - mae: 0.1597\n",
            "Epoch 279/1200\n",
            "1/1 [==============================] - 0s 9ms/step - loss: 0.0344 - mae: 0.1592\n",
            "Epoch 280/1200\n",
            "1/1 [==============================] - 0s 10ms/step - loss: 0.0342 - mae: 0.1586\n",
            "Epoch 281/1200\n",
            "1/1 [==============================] - 0s 10ms/step - loss: 0.0339 - mae: 0.1581\n",
            "Epoch 282/1200\n",
            "1/1 [==============================] - 0s 7ms/step - loss: 0.0337 - mae: 0.1576\n",
            "Epoch 283/1200\n",
            "1/1 [==============================] - 0s 7ms/step - loss: 0.0335 - mae: 0.1570\n",
            "Epoch 284/1200\n",
            "1/1 [==============================] - 0s 7ms/step - loss: 0.0332 - mae: 0.1565\n",
            "Epoch 285/1200\n",
            "1/1 [==============================] - 0s 7ms/step - loss: 0.0330 - mae: 0.1560\n",
            "Epoch 286/1200\n",
            "1/1 [==============================] - 0s 11ms/step - loss: 0.0328 - mae: 0.1554\n",
            "Epoch 287/1200\n",
            "1/1 [==============================] - 0s 7ms/step - loss: 0.0326 - mae: 0.1549\n",
            "Epoch 288/1200\n",
            "1/1 [==============================] - 0s 9ms/step - loss: 0.0324 - mae: 0.1544\n",
            "Epoch 289/1200\n",
            "1/1 [==============================] - 0s 7ms/step - loss: 0.0321 - mae: 0.1539\n",
            "Epoch 290/1200\n",
            "1/1 [==============================] - 0s 7ms/step - loss: 0.0319 - mae: 0.1533\n",
            "Epoch 291/1200\n",
            "1/1 [==============================] - 0s 7ms/step - loss: 0.0317 - mae: 0.1528\n",
            "Epoch 292/1200\n",
            "1/1 [==============================] - 0s 7ms/step - loss: 0.0315 - mae: 0.1523\n",
            "Epoch 293/1200\n",
            "1/1 [==============================] - 0s 7ms/step - loss: 0.0313 - mae: 0.1518\n",
            "Epoch 294/1200\n",
            "1/1 [==============================] - 0s 7ms/step - loss: 0.0311 - mae: 0.1513\n",
            "Epoch 295/1200\n",
            "1/1 [==============================] - 0s 10ms/step - loss: 0.0309 - mae: 0.1508\n",
            "Epoch 296/1200\n",
            "1/1 [==============================] - 0s 8ms/step - loss: 0.0306 - mae: 0.1503\n",
            "Epoch 297/1200\n",
            "1/1 [==============================] - 0s 8ms/step - loss: 0.0304 - mae: 0.1498\n",
            "Epoch 298/1200\n",
            "1/1 [==============================] - 0s 7ms/step - loss: 0.0302 - mae: 0.1492\n",
            "Epoch 299/1200\n",
            "1/1 [==============================] - 0s 8ms/step - loss: 0.0300 - mae: 0.1487\n",
            "Epoch 300/1200\n",
            "1/1 [==============================] - 0s 7ms/step - loss: 0.0298 - mae: 0.1482\n",
            "Epoch 301/1200\n",
            "1/1 [==============================] - 0s 13ms/step - loss: 0.0296 - mae: 0.1477\n",
            "Epoch 302/1200\n",
            "1/1 [==============================] - 0s 7ms/step - loss: 0.0294 - mae: 0.1472\n",
            "Epoch 303/1200\n",
            "1/1 [==============================] - 0s 8ms/step - loss: 0.0292 - mae: 0.1467\n",
            "Epoch 304/1200\n",
            "1/1 [==============================] - 0s 7ms/step - loss: 0.0290 - mae: 0.1462\n",
            "Epoch 305/1200\n",
            "1/1 [==============================] - 0s 8ms/step - loss: 0.0288 - mae: 0.1457\n",
            "Epoch 306/1200\n",
            "1/1 [==============================] - 0s 8ms/step - loss: 0.0286 - mae: 0.1453\n",
            "Epoch 307/1200\n",
            "1/1 [==============================] - 0s 7ms/step - loss: 0.0284 - mae: 0.1448\n",
            "Epoch 308/1200\n",
            "1/1 [==============================] - 0s 8ms/step - loss: 0.0283 - mae: 0.1443\n",
            "Epoch 309/1200\n",
            "1/1 [==============================] - 0s 11ms/step - loss: 0.0281 - mae: 0.1438\n",
            "Epoch 310/1200\n",
            "1/1 [==============================] - 0s 7ms/step - loss: 0.0279 - mae: 0.1433\n",
            "Epoch 311/1200\n",
            "1/1 [==============================] - 0s 8ms/step - loss: 0.0277 - mae: 0.1428\n",
            "Epoch 312/1200\n",
            "1/1 [==============================] - 0s 12ms/step - loss: 0.0275 - mae: 0.1423\n",
            "Epoch 313/1200\n",
            "1/1 [==============================] - 0s 9ms/step - loss: 0.0273 - mae: 0.1419\n",
            "Epoch 314/1200\n",
            "1/1 [==============================] - 0s 14ms/step - loss: 0.0271 - mae: 0.1414\n",
            "Epoch 315/1200\n",
            "1/1 [==============================] - 0s 7ms/step - loss: 0.0269 - mae: 0.1409\n",
            "Epoch 316/1200\n",
            "1/1 [==============================] - 0s 7ms/step - loss: 0.0268 - mae: 0.1404\n",
            "Epoch 317/1200\n",
            "1/1 [==============================] - 0s 7ms/step - loss: 0.0266 - mae: 0.1399\n",
            "Epoch 318/1200\n",
            "1/1 [==============================] - 0s 11ms/step - loss: 0.0264 - mae: 0.1395\n",
            "Epoch 319/1200\n",
            "1/1 [==============================] - 0s 8ms/step - loss: 0.0262 - mae: 0.1390\n",
            "Epoch 320/1200\n",
            "1/1 [==============================] - 0s 8ms/step - loss: 0.0260 - mae: 0.1385\n",
            "Epoch 321/1200\n",
            "1/1 [==============================] - 0s 8ms/step - loss: 0.0259 - mae: 0.1381\n",
            "Epoch 322/1200\n",
            "1/1 [==============================] - 0s 9ms/step - loss: 0.0257 - mae: 0.1376\n",
            "Epoch 323/1200\n",
            "1/1 [==============================] - 0s 9ms/step - loss: 0.0255 - mae: 0.1371\n",
            "Epoch 324/1200\n",
            "1/1 [==============================] - 0s 8ms/step - loss: 0.0254 - mae: 0.1367\n",
            "Epoch 325/1200\n",
            "1/1 [==============================] - 0s 13ms/step - loss: 0.0252 - mae: 0.1362\n",
            "Epoch 326/1200\n",
            "1/1 [==============================] - 0s 7ms/step - loss: 0.0250 - mae: 0.1357\n",
            "Epoch 327/1200\n",
            "1/1 [==============================] - 0s 7ms/step - loss: 0.0248 - mae: 0.1353\n",
            "Epoch 328/1200\n",
            "1/1 [==============================] - 0s 7ms/step - loss: 0.0247 - mae: 0.1348\n",
            "Epoch 329/1200\n",
            "1/1 [==============================] - 0s 7ms/step - loss: 0.0245 - mae: 0.1344\n",
            "Epoch 330/1200\n",
            "1/1 [==============================] - 0s 9ms/step - loss: 0.0243 - mae: 0.1339\n",
            "Epoch 331/1200\n",
            "1/1 [==============================] - 0s 7ms/step - loss: 0.0242 - mae: 0.1335\n",
            "Epoch 332/1200\n",
            "1/1 [==============================] - 0s 9ms/step - loss: 0.0240 - mae: 0.1330\n",
            "Epoch 333/1200\n",
            "1/1 [==============================] - 0s 8ms/step - loss: 0.0239 - mae: 0.1326\n",
            "Epoch 334/1200\n",
            "1/1 [==============================] - 0s 8ms/step - loss: 0.0237 - mae: 0.1321\n",
            "Epoch 335/1200\n",
            "1/1 [==============================] - 0s 8ms/step - loss: 0.0235 - mae: 0.1317\n",
            "Epoch 336/1200\n",
            "1/1 [==============================] - 0s 8ms/step - loss: 0.0234 - mae: 0.1312\n",
            "Epoch 337/1200\n",
            "1/1 [==============================] - 0s 8ms/step - loss: 0.0232 - mae: 0.1308\n",
            "Epoch 338/1200\n",
            "1/1 [==============================] - 0s 8ms/step - loss: 0.0231 - mae: 0.1303\n",
            "Epoch 339/1200\n",
            "1/1 [==============================] - 0s 8ms/step - loss: 0.0229 - mae: 0.1299\n",
            "Epoch 340/1200\n",
            "1/1 [==============================] - 0s 9ms/step - loss: 0.0227 - mae: 0.1295\n",
            "Epoch 341/1200\n",
            "1/1 [==============================] - 0s 7ms/step - loss: 0.0226 - mae: 0.1290\n",
            "Epoch 342/1200\n",
            "1/1 [==============================] - 0s 8ms/step - loss: 0.0224 - mae: 0.1286\n",
            "Epoch 343/1200\n",
            "1/1 [==============================] - 0s 7ms/step - loss: 0.0223 - mae: 0.1281\n",
            "Epoch 344/1200\n",
            "1/1 [==============================] - 0s 7ms/step - loss: 0.0221 - mae: 0.1277\n",
            "Epoch 345/1200\n",
            "1/1 [==============================] - 0s 10ms/step - loss: 0.0220 - mae: 0.1273\n",
            "Epoch 346/1200\n",
            "1/1 [==============================] - 0s 7ms/step - loss: 0.0218 - mae: 0.1269\n",
            "Epoch 347/1200\n",
            "1/1 [==============================] - 0s 7ms/step - loss: 0.0217 - mae: 0.1264\n",
            "Epoch 348/1200\n",
            "1/1 [==============================] - 0s 8ms/step - loss: 0.0215 - mae: 0.1260\n",
            "Epoch 349/1200\n",
            "1/1 [==============================] - 0s 7ms/step - loss: 0.0214 - mae: 0.1256\n",
            "Epoch 350/1200\n",
            "1/1 [==============================] - 0s 7ms/step - loss: 0.0213 - mae: 0.1251\n",
            "Epoch 351/1200\n",
            "1/1 [==============================] - 0s 7ms/step - loss: 0.0211 - mae: 0.1247\n",
            "Epoch 352/1200\n",
            "1/1 [==============================] - 0s 12ms/step - loss: 0.0210 - mae: 0.1243\n",
            "Epoch 353/1200\n",
            "1/1 [==============================] - 0s 7ms/step - loss: 0.0208 - mae: 0.1239\n",
            "Epoch 354/1200\n",
            "1/1 [==============================] - 0s 7ms/step - loss: 0.0207 - mae: 0.1235\n",
            "Epoch 355/1200\n",
            "1/1 [==============================] - 0s 8ms/step - loss: 0.0206 - mae: 0.1230\n",
            "Epoch 356/1200\n",
            "1/1 [==============================] - 0s 8ms/step - loss: 0.0204 - mae: 0.1226\n",
            "Epoch 357/1200\n",
            "1/1 [==============================] - 0s 9ms/step - loss: 0.0203 - mae: 0.1222\n",
            "Epoch 358/1200\n",
            "1/1 [==============================] - 0s 8ms/step - loss: 0.0201 - mae: 0.1218\n",
            "Epoch 359/1200\n",
            "1/1 [==============================] - 0s 8ms/step - loss: 0.0200 - mae: 0.1214\n",
            "Epoch 360/1200\n",
            "1/1 [==============================] - 0s 10ms/step - loss: 0.0199 - mae: 0.1210\n",
            "Epoch 361/1200\n",
            "1/1 [==============================] - 0s 8ms/step - loss: 0.0197 - mae: 0.1206\n",
            "Epoch 362/1200\n",
            "1/1 [==============================] - 0s 8ms/step - loss: 0.0196 - mae: 0.1202\n",
            "Epoch 363/1200\n",
            "1/1 [==============================] - 0s 8ms/step - loss: 0.0195 - mae: 0.1198\n",
            "Epoch 364/1200\n",
            "1/1 [==============================] - 0s 8ms/step - loss: 0.0193 - mae: 0.1194\n",
            "Epoch 365/1200\n",
            "1/1 [==============================] - 0s 11ms/step - loss: 0.0192 - mae: 0.1189\n",
            "Epoch 366/1200\n",
            "1/1 [==============================] - 0s 7ms/step - loss: 0.0191 - mae: 0.1185\n",
            "Epoch 367/1200\n",
            "1/1 [==============================] - 0s 7ms/step - loss: 0.0189 - mae: 0.1181\n",
            "Epoch 368/1200\n",
            "1/1 [==============================] - 0s 7ms/step - loss: 0.0188 - mae: 0.1177\n",
            "Epoch 369/1200\n",
            "1/1 [==============================] - 0s 7ms/step - loss: 0.0187 - mae: 0.1173\n",
            "Epoch 370/1200\n",
            "1/1 [==============================] - 0s 7ms/step - loss: 0.0186 - mae: 0.1169\n",
            "Epoch 371/1200\n",
            "1/1 [==============================] - 0s 7ms/step - loss: 0.0184 - mae: 0.1166\n",
            "Epoch 372/1200\n",
            "1/1 [==============================] - 0s 7ms/step - loss: 0.0183 - mae: 0.1162\n",
            "Epoch 373/1200\n",
            "1/1 [==============================] - 0s 11ms/step - loss: 0.0182 - mae: 0.1158\n",
            "Epoch 374/1200\n",
            "1/1 [==============================] - 0s 8ms/step - loss: 0.0181 - mae: 0.1154\n",
            "Epoch 375/1200\n",
            "1/1 [==============================] - 0s 9ms/step - loss: 0.0179 - mae: 0.1150\n",
            "Epoch 376/1200\n",
            "1/1 [==============================] - 0s 11ms/step - loss: 0.0178 - mae: 0.1146\n",
            "Epoch 377/1200\n",
            "1/1 [==============================] - 0s 7ms/step - loss: 0.0177 - mae: 0.1142\n",
            "Epoch 378/1200\n",
            "1/1 [==============================] - 0s 8ms/step - loss: 0.0176 - mae: 0.1138\n",
            "Epoch 379/1200\n",
            "1/1 [==============================] - 0s 8ms/step - loss: 0.0175 - mae: 0.1134\n",
            "Epoch 380/1200\n",
            "1/1 [==============================] - 0s 14ms/step - loss: 0.0173 - mae: 0.1131\n",
            "Epoch 381/1200\n",
            "1/1 [==============================] - 0s 9ms/step - loss: 0.0172 - mae: 0.1127\n",
            "Epoch 382/1200\n",
            "1/1 [==============================] - 0s 7ms/step - loss: 0.0171 - mae: 0.1123\n",
            "Epoch 383/1200\n",
            "1/1 [==============================] - 0s 7ms/step - loss: 0.0170 - mae: 0.1119\n",
            "Epoch 384/1200\n",
            "1/1 [==============================] - 0s 8ms/step - loss: 0.0169 - mae: 0.1115\n",
            "Epoch 385/1200\n",
            "1/1 [==============================] - 0s 8ms/step - loss: 0.0168 - mae: 0.1112\n",
            "Epoch 386/1200\n",
            "1/1 [==============================] - 0s 7ms/step - loss: 0.0167 - mae: 0.1108\n",
            "Epoch 387/1200\n",
            "1/1 [==============================] - 0s 6ms/step - loss: 0.0165 - mae: 0.1104\n",
            "Epoch 388/1200\n",
            "1/1 [==============================] - 0s 7ms/step - loss: 0.0164 - mae: 0.1100\n",
            "Epoch 389/1200\n",
            "1/1 [==============================] - 0s 10ms/step - loss: 0.0163 - mae: 0.1097\n",
            "Epoch 390/1200\n",
            "1/1 [==============================] - 0s 6ms/step - loss: 0.0162 - mae: 0.1093\n",
            "Epoch 391/1200\n",
            "1/1 [==============================] - 0s 6ms/step - loss: 0.0161 - mae: 0.1089\n",
            "Epoch 392/1200\n",
            "1/1 [==============================] - 0s 12ms/step - loss: 0.0160 - mae: 0.1086\n",
            "Epoch 393/1200\n",
            "1/1 [==============================] - 0s 10ms/step - loss: 0.0159 - mae: 0.1082\n",
            "Epoch 394/1200\n",
            "1/1 [==============================] - 0s 11ms/step - loss: 0.0158 - mae: 0.1078\n",
            "Epoch 395/1200\n",
            "1/1 [==============================] - 0s 11ms/step - loss: 0.0157 - mae: 0.1075\n",
            "Epoch 396/1200\n",
            "1/1 [==============================] - 0s 6ms/step - loss: 0.0156 - mae: 0.1071\n",
            "Epoch 397/1200\n",
            "1/1 [==============================] - 0s 6ms/step - loss: 0.0155 - mae: 0.1067\n",
            "Epoch 398/1200\n",
            "1/1 [==============================] - 0s 7ms/step - loss: 0.0154 - mae: 0.1064\n",
            "Epoch 399/1200\n",
            "1/1 [==============================] - 0s 10ms/step - loss: 0.0153 - mae: 0.1060\n",
            "Epoch 400/1200\n",
            "1/1 [==============================] - 0s 11ms/step - loss: 0.0152 - mae: 0.1057\n",
            "Epoch 401/1200\n",
            "1/1 [==============================] - 0s 9ms/step - loss: 0.0150 - mae: 0.1053\n",
            "Epoch 402/1200\n",
            "1/1 [==============================] - 0s 8ms/step - loss: 0.0149 - mae: 0.1049\n",
            "Epoch 403/1200\n",
            "1/1 [==============================] - 0s 10ms/step - loss: 0.0148 - mae: 0.1046\n",
            "Epoch 404/1200\n",
            "1/1 [==============================] - 0s 6ms/step - loss: 0.0147 - mae: 0.1042\n",
            "Epoch 405/1200\n",
            "1/1 [==============================] - 0s 6ms/step - loss: 0.0146 - mae: 0.1039\n",
            "Epoch 406/1200\n",
            "1/1 [==============================] - 0s 8ms/step - loss: 0.0145 - mae: 0.1035\n",
            "Epoch 407/1200\n",
            "1/1 [==============================] - 0s 7ms/step - loss: 0.0144 - mae: 0.1032\n",
            "Epoch 408/1200\n",
            "1/1 [==============================] - 0s 7ms/step - loss: 0.0144 - mae: 0.1028\n",
            "Epoch 409/1200\n",
            "1/1 [==============================] - 0s 8ms/step - loss: 0.0143 - mae: 0.1025\n",
            "Epoch 410/1200\n",
            "1/1 [==============================] - 0s 7ms/step - loss: 0.0142 - mae: 0.1021\n",
            "Epoch 411/1200\n",
            "1/1 [==============================] - 0s 15ms/step - loss: 0.0141 - mae: 0.1018\n",
            "Epoch 412/1200\n",
            "1/1 [==============================] - 0s 12ms/step - loss: 0.0140 - mae: 0.1014\n",
            "Epoch 413/1200\n",
            "1/1 [==============================] - 0s 8ms/step - loss: 0.0139 - mae: 0.1011\n",
            "Epoch 414/1200\n",
            "1/1 [==============================] - 0s 9ms/step - loss: 0.0138 - mae: 0.1008\n",
            "Epoch 415/1200\n",
            "1/1 [==============================] - 0s 7ms/step - loss: 0.0137 - mae: 0.1004\n",
            "Epoch 416/1200\n",
            "1/1 [==============================] - 0s 7ms/step - loss: 0.0136 - mae: 0.1001\n",
            "Epoch 417/1200\n",
            "1/1 [==============================] - 0s 8ms/step - loss: 0.0135 - mae: 0.0997\n",
            "Epoch 418/1200\n",
            "1/1 [==============================] - 0s 11ms/step - loss: 0.0134 - mae: 0.0994\n",
            "Epoch 419/1200\n",
            "1/1 [==============================] - 0s 6ms/step - loss: 0.0133 - mae: 0.0991\n",
            "Epoch 420/1200\n",
            "1/1 [==============================] - 0s 7ms/step - loss: 0.0132 - mae: 0.0987\n",
            "Epoch 421/1200\n",
            "1/1 [==============================] - 0s 7ms/step - loss: 0.0131 - mae: 0.0984\n",
            "Epoch 422/1200\n",
            "1/1 [==============================] - 0s 8ms/step - loss: 0.0131 - mae: 0.0981\n",
            "Epoch 423/1200\n",
            "1/1 [==============================] - 0s 11ms/step - loss: 0.0130 - mae: 0.0977\n",
            "Epoch 424/1200\n",
            "1/1 [==============================] - 0s 7ms/step - loss: 0.0129 - mae: 0.0974\n",
            "Epoch 425/1200\n",
            "1/1 [==============================] - 0s 7ms/step - loss: 0.0128 - mae: 0.0971\n",
            "Epoch 426/1200\n",
            "1/1 [==============================] - 0s 8ms/step - loss: 0.0127 - mae: 0.0967\n",
            "Epoch 427/1200\n",
            "1/1 [==============================] - 0s 9ms/step - loss: 0.0126 - mae: 0.0964\n",
            "Epoch 428/1200\n",
            "1/1 [==============================] - 0s 9ms/step - loss: 0.0125 - mae: 0.0961\n",
            "Epoch 429/1200\n",
            "1/1 [==============================] - 0s 6ms/step - loss: 0.0124 - mae: 0.0958\n",
            "Epoch 430/1200\n",
            "1/1 [==============================] - 0s 9ms/step - loss: 0.0124 - mae: 0.0954\n",
            "Epoch 431/1200\n",
            "1/1 [==============================] - 0s 129ms/step - loss: 0.0123 - mae: 0.0951\n",
            "Epoch 432/1200\n",
            "1/1 [==============================] - 0s 10ms/step - loss: 0.0122 - mae: 0.0948\n",
            "Epoch 433/1200\n",
            "1/1 [==============================] - 0s 8ms/step - loss: 0.0121 - mae: 0.0945\n",
            "Epoch 434/1200\n",
            "1/1 [==============================] - 0s 12ms/step - loss: 0.0120 - mae: 0.0942\n",
            "Epoch 435/1200\n",
            "1/1 [==============================] - 0s 7ms/step - loss: 0.0120 - mae: 0.0938\n",
            "Epoch 436/1200\n",
            "1/1 [==============================] - 0s 7ms/step - loss: 0.0119 - mae: 0.0935\n",
            "Epoch 437/1200\n",
            "1/1 [==============================] - 0s 7ms/step - loss: 0.0118 - mae: 0.0932\n",
            "Epoch 438/1200\n",
            "1/1 [==============================] - 0s 9ms/step - loss: 0.0117 - mae: 0.0929\n",
            "Epoch 439/1200\n",
            "1/1 [==============================] - 0s 6ms/step - loss: 0.0116 - mae: 0.0926\n",
            "Epoch 440/1200\n",
            "1/1 [==============================] - 0s 9ms/step - loss: 0.0116 - mae: 0.0923\n",
            "Epoch 441/1200\n",
            "1/1 [==============================] - 0s 7ms/step - loss: 0.0115 - mae: 0.0920\n",
            "Epoch 442/1200\n",
            "1/1 [==============================] - 0s 8ms/step - loss: 0.0114 - mae: 0.0916\n",
            "Epoch 443/1200\n",
            "1/1 [==============================] - 0s 7ms/step - loss: 0.0113 - mae: 0.0913\n",
            "Epoch 444/1200\n",
            "1/1 [==============================] - 0s 9ms/step - loss: 0.0112 - mae: 0.0910\n",
            "Epoch 445/1200\n",
            "1/1 [==============================] - 0s 9ms/step - loss: 0.0112 - mae: 0.0907\n",
            "Epoch 446/1200\n",
            "1/1 [==============================] - 0s 8ms/step - loss: 0.0111 - mae: 0.0904\n",
            "Epoch 447/1200\n",
            "1/1 [==============================] - 0s 11ms/step - loss: 0.0110 - mae: 0.0901\n",
            "Epoch 448/1200\n",
            "1/1 [==============================] - 0s 9ms/step - loss: 0.0109 - mae: 0.0898\n",
            "Epoch 449/1200\n",
            "1/1 [==============================] - 0s 9ms/step - loss: 0.0109 - mae: 0.0895\n",
            "Epoch 450/1200\n",
            "1/1 [==============================] - 0s 7ms/step - loss: 0.0108 - mae: 0.0892\n",
            "Epoch 451/1200\n",
            "1/1 [==============================] - 0s 9ms/step - loss: 0.0107 - mae: 0.0889\n",
            "Epoch 452/1200\n",
            "1/1 [==============================] - 0s 11ms/step - loss: 0.0107 - mae: 0.0886\n",
            "Epoch 453/1200\n",
            "1/1 [==============================] - 0s 7ms/step - loss: 0.0106 - mae: 0.0883\n",
            "Epoch 454/1200\n",
            "1/1 [==============================] - 0s 7ms/step - loss: 0.0105 - mae: 0.0880\n",
            "Epoch 455/1200\n",
            "1/1 [==============================] - 0s 8ms/step - loss: 0.0104 - mae: 0.0877\n",
            "Epoch 456/1200\n",
            "1/1 [==============================] - 0s 10ms/step - loss: 0.0104 - mae: 0.0874\n",
            "Epoch 457/1200\n",
            "1/1 [==============================] - 0s 9ms/step - loss: 0.0103 - mae: 0.0871\n",
            "Epoch 458/1200\n",
            "1/1 [==============================] - 0s 11ms/step - loss: 0.0102 - mae: 0.0868\n",
            "Epoch 459/1200\n",
            "1/1 [==============================] - 0s 7ms/step - loss: 0.0102 - mae: 0.0865\n",
            "Epoch 460/1200\n",
            "1/1 [==============================] - 0s 8ms/step - loss: 0.0101 - mae: 0.0862\n",
            "Epoch 461/1200\n",
            "1/1 [==============================] - 0s 8ms/step - loss: 0.0100 - mae: 0.0859\n",
            "Epoch 462/1200\n",
            "1/1 [==============================] - 0s 8ms/step - loss: 0.0100 - mae: 0.0856\n",
            "Epoch 463/1200\n",
            "1/1 [==============================] - 0s 12ms/step - loss: 0.0099 - mae: 0.0854\n",
            "Epoch 464/1200\n",
            "1/1 [==============================] - 0s 8ms/step - loss: 0.0098 - mae: 0.0851\n",
            "Epoch 465/1200\n",
            "1/1 [==============================] - 0s 9ms/step - loss: 0.0098 - mae: 0.0848\n",
            "Epoch 466/1200\n",
            "1/1 [==============================] - 0s 8ms/step - loss: 0.0097 - mae: 0.0845\n",
            "Epoch 467/1200\n",
            "1/1 [==============================] - 0s 13ms/step - loss: 0.0096 - mae: 0.0842\n",
            "Epoch 468/1200\n",
            "1/1 [==============================] - 0s 7ms/step - loss: 0.0096 - mae: 0.0839\n",
            "Epoch 469/1200\n",
            "1/1 [==============================] - 0s 8ms/step - loss: 0.0095 - mae: 0.0836\n",
            "Epoch 470/1200\n",
            "1/1 [==============================] - 0s 9ms/step - loss: 0.0094 - mae: 0.0834\n",
            "Epoch 471/1200\n",
            "1/1 [==============================] - 0s 8ms/step - loss: 0.0094 - mae: 0.0831\n",
            "Epoch 472/1200\n",
            "1/1 [==============================] - 0s 9ms/step - loss: 0.0093 - mae: 0.0828\n",
            "Epoch 473/1200\n",
            "1/1 [==============================] - 0s 8ms/step - loss: 0.0092 - mae: 0.0825\n",
            "Epoch 474/1200\n",
            "1/1 [==============================] - 0s 8ms/step - loss: 0.0092 - mae: 0.0822\n",
            "Epoch 475/1200\n",
            "1/1 [==============================] - 0s 15ms/step - loss: 0.0091 - mae: 0.0820\n",
            "Epoch 476/1200\n",
            "1/1 [==============================] - 0s 12ms/step - loss: 0.0091 - mae: 0.0817\n",
            "Epoch 477/1200\n",
            "1/1 [==============================] - 0s 9ms/step - loss: 0.0090 - mae: 0.0814\n",
            "Epoch 478/1200\n",
            "1/1 [==============================] - 0s 9ms/step - loss: 0.0089 - mae: 0.0811\n",
            "Epoch 479/1200\n",
            "1/1 [==============================] - 0s 8ms/step - loss: 0.0089 - mae: 0.0808\n",
            "Epoch 480/1200\n",
            "1/1 [==============================] - 0s 14ms/step - loss: 0.0088 - mae: 0.0806\n",
            "Epoch 481/1200\n",
            "1/1 [==============================] - 0s 8ms/step - loss: 0.0088 - mae: 0.0803\n",
            "Epoch 482/1200\n",
            "1/1 [==============================] - 0s 8ms/step - loss: 0.0087 - mae: 0.0800\n",
            "Epoch 483/1200\n",
            "1/1 [==============================] - 0s 8ms/step - loss: 0.0086 - mae: 0.0798\n",
            "Epoch 484/1200\n",
            "1/1 [==============================] - 0s 9ms/step - loss: 0.0086 - mae: 0.0795\n",
            "Epoch 485/1200\n",
            "1/1 [==============================] - 0s 8ms/step - loss: 0.0085 - mae: 0.0792\n",
            "Epoch 486/1200\n",
            "1/1 [==============================] - 0s 8ms/step - loss: 0.0085 - mae: 0.0790\n",
            "Epoch 487/1200\n",
            "1/1 [==============================] - 0s 13ms/step - loss: 0.0084 - mae: 0.0787\n",
            "Epoch 488/1200\n",
            "1/1 [==============================] - 0s 7ms/step - loss: 0.0083 - mae: 0.0784\n",
            "Epoch 489/1200\n",
            "1/1 [==============================] - 0s 7ms/step - loss: 0.0083 - mae: 0.0782\n",
            "Epoch 490/1200\n",
            "1/1 [==============================] - 0s 7ms/step - loss: 0.0082 - mae: 0.0779\n",
            "Epoch 491/1200\n",
            "1/1 [==============================] - 0s 8ms/step - loss: 0.0082 - mae: 0.0776\n",
            "Epoch 492/1200\n",
            "1/1 [==============================] - 0s 10ms/step - loss: 0.0081 - mae: 0.0774\n",
            "Epoch 493/1200\n",
            "1/1 [==============================] - 0s 10ms/step - loss: 0.0081 - mae: 0.0771\n",
            "Epoch 494/1200\n",
            "1/1 [==============================] - 0s 7ms/step - loss: 0.0080 - mae: 0.0768\n",
            "Epoch 495/1200\n",
            "1/1 [==============================] - 0s 10ms/step - loss: 0.0080 - mae: 0.0766\n",
            "Epoch 496/1200\n",
            "1/1 [==============================] - 0s 8ms/step - loss: 0.0079 - mae: 0.0763\n",
            "Epoch 497/1200\n",
            "1/1 [==============================] - 0s 8ms/step - loss: 0.0079 - mae: 0.0761\n",
            "Epoch 498/1200\n",
            "1/1 [==============================] - 0s 8ms/step - loss: 0.0078 - mae: 0.0758\n",
            "Epoch 499/1200\n",
            "1/1 [==============================] - 0s 8ms/step - loss: 0.0077 - mae: 0.0756\n",
            "Epoch 500/1200\n",
            "1/1 [==============================] - 0s 8ms/step - loss: 0.0077 - mae: 0.0753\n",
            "Epoch 501/1200\n",
            "1/1 [==============================] - 0s 10ms/step - loss: 0.0076 - mae: 0.0750\n",
            "Epoch 502/1200\n",
            "1/1 [==============================] - 0s 7ms/step - loss: 0.0076 - mae: 0.0748\n",
            "Epoch 503/1200\n",
            "1/1 [==============================] - 0s 8ms/step - loss: 0.0075 - mae: 0.0745\n",
            "Epoch 504/1200\n",
            "1/1 [==============================] - 0s 7ms/step - loss: 0.0075 - mae: 0.0743\n",
            "Epoch 505/1200\n",
            "1/1 [==============================] - 0s 8ms/step - loss: 0.0074 - mae: 0.0740\n",
            "Epoch 506/1200\n",
            "1/1 [==============================] - 0s 8ms/step - loss: 0.0074 - mae: 0.0738\n",
            "Epoch 507/1200\n",
            "1/1 [==============================] - 0s 8ms/step - loss: 0.0073 - mae: 0.0735\n",
            "Epoch 508/1200\n",
            "1/1 [==============================] - 0s 8ms/step - loss: 0.0073 - mae: 0.0733\n",
            "Epoch 509/1200\n",
            "1/1 [==============================] - 0s 8ms/step - loss: 0.0072 - mae: 0.0730\n",
            "Epoch 510/1200\n",
            "1/1 [==============================] - 0s 8ms/step - loss: 0.0072 - mae: 0.0728\n",
            "Epoch 511/1200\n",
            "1/1 [==============================] - 0s 8ms/step - loss: 0.0071 - mae: 0.0725\n",
            "Epoch 512/1200\n",
            "1/1 [==============================] - 0s 7ms/step - loss: 0.0071 - mae: 0.0723\n",
            "Epoch 513/1200\n",
            "1/1 [==============================] - 0s 10ms/step - loss: 0.0070 - mae: 0.0721\n",
            "Epoch 514/1200\n",
            "1/1 [==============================] - 0s 166ms/step - loss: 0.0070 - mae: 0.0718\n",
            "Epoch 515/1200\n",
            "1/1 [==============================] - 0s 10ms/step - loss: 0.0070 - mae: 0.0716\n",
            "Epoch 516/1200\n",
            "1/1 [==============================] - 0s 8ms/step - loss: 0.0069 - mae: 0.0713\n",
            "Epoch 517/1200\n",
            "1/1 [==============================] - 0s 8ms/step - loss: 0.0069 - mae: 0.0711\n",
            "Epoch 518/1200\n",
            "1/1 [==============================] - 0s 8ms/step - loss: 0.0068 - mae: 0.0708\n",
            "Epoch 519/1200\n",
            "1/1 [==============================] - 0s 8ms/step - loss: 0.0068 - mae: 0.0706\n",
            "Epoch 520/1200\n",
            "1/1 [==============================] - 0s 7ms/step - loss: 0.0067 - mae: 0.0704\n",
            "Epoch 521/1200\n",
            "1/1 [==============================] - 0s 7ms/step - loss: 0.0067 - mae: 0.0701\n",
            "Epoch 522/1200\n",
            "1/1 [==============================] - 0s 10ms/step - loss: 0.0066 - mae: 0.0699\n",
            "Epoch 523/1200\n",
            "1/1 [==============================] - 0s 7ms/step - loss: 0.0066 - mae: 0.0697\n",
            "Epoch 524/1200\n",
            "1/1 [==============================] - 0s 8ms/step - loss: 0.0065 - mae: 0.0694\n",
            "Epoch 525/1200\n",
            "1/1 [==============================] - 0s 8ms/step - loss: 0.0065 - mae: 0.0692\n",
            "Epoch 526/1200\n",
            "1/1 [==============================] - 0s 8ms/step - loss: 0.0065 - mae: 0.0690\n",
            "Epoch 527/1200\n",
            "1/1 [==============================] - 0s 8ms/step - loss: 0.0064 - mae: 0.0687\n",
            "Epoch 528/1200\n",
            "1/1 [==============================] - 0s 8ms/step - loss: 0.0064 - mae: 0.0685\n",
            "Epoch 529/1200\n",
            "1/1 [==============================] - 0s 10ms/step - loss: 0.0063 - mae: 0.0683\n",
            "Epoch 530/1200\n",
            "1/1 [==============================] - 0s 9ms/step - loss: 0.0063 - mae: 0.0680\n",
            "Epoch 531/1200\n",
            "1/1 [==============================] - 0s 8ms/step - loss: 0.0062 - mae: 0.0678\n",
            "Epoch 532/1200\n",
            "1/1 [==============================] - 0s 16ms/step - loss: 0.0062 - mae: 0.0676\n",
            "Epoch 533/1200\n",
            "1/1 [==============================] - 0s 8ms/step - loss: 0.0062 - mae: 0.0673\n",
            "Epoch 534/1200\n",
            "1/1 [==============================] - 0s 8ms/step - loss: 0.0061 - mae: 0.0671\n",
            "Epoch 535/1200\n",
            "1/1 [==============================] - 0s 8ms/step - loss: 0.0061 - mae: 0.0669\n",
            "Epoch 536/1200\n",
            "1/1 [==============================] - 0s 10ms/step - loss: 0.0060 - mae: 0.0667\n",
            "Epoch 537/1200\n",
            "1/1 [==============================] - 0s 8ms/step - loss: 0.0060 - mae: 0.0664\n",
            "Epoch 538/1200\n",
            "1/1 [==============================] - 0s 8ms/step - loss: 0.0059 - mae: 0.0662\n",
            "Epoch 539/1200\n",
            "1/1 [==============================] - 0s 20ms/step - loss: 0.0059 - mae: 0.0660\n",
            "Epoch 540/1200\n",
            "1/1 [==============================] - 0s 10ms/step - loss: 0.0059 - mae: 0.0658\n",
            "Epoch 541/1200\n",
            "1/1 [==============================] - 0s 9ms/step - loss: 0.0058 - mae: 0.0655\n",
            "Epoch 542/1200\n",
            "1/1 [==============================] - 0s 43ms/step - loss: 0.0058 - mae: 0.0653\n",
            "Epoch 543/1200\n",
            "1/1 [==============================] - 0s 68ms/step - loss: 0.0058 - mae: 0.0651\n",
            "Epoch 544/1200\n",
            "1/1 [==============================] - 0s 11ms/step - loss: 0.0057 - mae: 0.0649\n",
            "Epoch 545/1200\n",
            "1/1 [==============================] - 0s 121ms/step - loss: 0.0057 - mae: 0.0647\n",
            "Epoch 546/1200\n",
            "1/1 [==============================] - 0s 15ms/step - loss: 0.0056 - mae: 0.0644\n",
            "Epoch 547/1200\n",
            "1/1 [==============================] - 0s 14ms/step - loss: 0.0056 - mae: 0.0642\n",
            "Epoch 548/1200\n",
            "1/1 [==============================] - 0s 22ms/step - loss: 0.0056 - mae: 0.0640\n",
            "Epoch 549/1200\n",
            "1/1 [==============================] - 0s 14ms/step - loss: 0.0055 - mae: 0.0638\n",
            "Epoch 550/1200\n",
            "1/1 [==============================] - 0s 9ms/step - loss: 0.0055 - mae: 0.0636\n",
            "Epoch 551/1200\n",
            "1/1 [==============================] - 0s 12ms/step - loss: 0.0054 - mae: 0.0634\n",
            "Epoch 552/1200\n",
            "1/1 [==============================] - 0s 7ms/step - loss: 0.0054 - mae: 0.0631\n",
            "Epoch 553/1200\n",
            "1/1 [==============================] - 0s 8ms/step - loss: 0.0054 - mae: 0.0629\n",
            "Epoch 554/1200\n",
            "1/1 [==============================] - 0s 13ms/step - loss: 0.0053 - mae: 0.0627\n",
            "Epoch 555/1200\n",
            "1/1 [==============================] - 0s 8ms/step - loss: 0.0053 - mae: 0.0625\n",
            "Epoch 556/1200\n",
            "1/1 [==============================] - 0s 9ms/step - loss: 0.0053 - mae: 0.0623\n",
            "Epoch 557/1200\n",
            "1/1 [==============================] - 0s 7ms/step - loss: 0.0052 - mae: 0.0621\n",
            "Epoch 558/1200\n",
            "1/1 [==============================] - 0s 8ms/step - loss: 0.0052 - mae: 0.0619\n",
            "Epoch 559/1200\n",
            "1/1 [==============================] - 0s 20ms/step - loss: 0.0052 - mae: 0.0617\n",
            "Epoch 560/1200\n",
            "1/1 [==============================] - 0s 13ms/step - loss: 0.0051 - mae: 0.0615\n",
            "Epoch 561/1200\n",
            "1/1 [==============================] - 0s 10ms/step - loss: 0.0051 - mae: 0.0612\n",
            "Epoch 562/1200\n",
            "1/1 [==============================] - 0s 9ms/step - loss: 0.0051 - mae: 0.0610\n",
            "Epoch 563/1200\n",
            "1/1 [==============================] - 0s 12ms/step - loss: 0.0050 - mae: 0.0608\n",
            "Epoch 564/1200\n",
            "1/1 [==============================] - 0s 6ms/step - loss: 0.0050 - mae: 0.0606\n",
            "Epoch 565/1200\n",
            "1/1 [==============================] - 0s 7ms/step - loss: 0.0050 - mae: 0.0604\n",
            "Epoch 566/1200\n",
            "1/1 [==============================] - 0s 7ms/step - loss: 0.0049 - mae: 0.0602\n",
            "Epoch 567/1200\n",
            "1/1 [==============================] - 0s 6ms/step - loss: 0.0049 - mae: 0.0600\n",
            "Epoch 568/1200\n",
            "1/1 [==============================] - 0s 7ms/step - loss: 0.0049 - mae: 0.0598\n",
            "Epoch 569/1200\n",
            "1/1 [==============================] - 0s 7ms/step - loss: 0.0048 - mae: 0.0596\n",
            "Epoch 570/1200\n",
            "1/1 [==============================] - 0s 7ms/step - loss: 0.0048 - mae: 0.0594\n",
            "Epoch 571/1200\n",
            "1/1 [==============================] - 0s 7ms/step - loss: 0.0048 - mae: 0.0592\n",
            "Epoch 572/1200\n",
            "1/1 [==============================] - 0s 6ms/step - loss: 0.0047 - mae: 0.0590\n",
            "Epoch 573/1200\n",
            "1/1 [==============================] - 0s 9ms/step - loss: 0.0047 - mae: 0.0588\n",
            "Epoch 574/1200\n",
            "1/1 [==============================] - 0s 7ms/step - loss: 0.0047 - mae: 0.0586\n",
            "Epoch 575/1200\n",
            "1/1 [==============================] - 0s 6ms/step - loss: 0.0046 - mae: 0.0584\n",
            "Epoch 576/1200\n",
            "1/1 [==============================] - 0s 6ms/step - loss: 0.0046 - mae: 0.0582\n",
            "Epoch 577/1200\n",
            "1/1 [==============================] - 0s 8ms/step - loss: 0.0046 - mae: 0.0580\n",
            "Epoch 578/1200\n",
            "1/1 [==============================] - 0s 9ms/step - loss: 0.0045 - mae: 0.0578\n",
            "Epoch 579/1200\n",
            "1/1 [==============================] - 0s 15ms/step - loss: 0.0045 - mae: 0.0576\n",
            "Epoch 580/1200\n",
            "1/1 [==============================] - 0s 6ms/step - loss: 0.0045 - mae: 0.0574\n",
            "Epoch 581/1200\n",
            "1/1 [==============================] - 0s 7ms/step - loss: 0.0044 - mae: 0.0572\n",
            "Epoch 582/1200\n",
            "1/1 [==============================] - 0s 8ms/step - loss: 0.0044 - mae: 0.0570\n",
            "Epoch 583/1200\n",
            "1/1 [==============================] - 0s 7ms/step - loss: 0.0044 - mae: 0.0568\n",
            "Epoch 584/1200\n",
            "1/1 [==============================] - 0s 7ms/step - loss: 0.0044 - mae: 0.0567\n",
            "Epoch 585/1200\n",
            "1/1 [==============================] - 0s 9ms/step - loss: 0.0043 - mae: 0.0565\n",
            "Epoch 586/1200\n",
            "1/1 [==============================] - 0s 7ms/step - loss: 0.0043 - mae: 0.0563\n",
            "Epoch 587/1200\n",
            "1/1 [==============================] - 0s 7ms/step - loss: 0.0043 - mae: 0.0561\n",
            "Epoch 588/1200\n",
            "1/1 [==============================] - 0s 9ms/step - loss: 0.0042 - mae: 0.0559\n",
            "Epoch 589/1200\n",
            "1/1 [==============================] - 0s 6ms/step - loss: 0.0042 - mae: 0.0557\n",
            "Epoch 590/1200\n",
            "1/1 [==============================] - 0s 6ms/step - loss: 0.0042 - mae: 0.0555\n",
            "Epoch 591/1200\n",
            "1/1 [==============================] - 0s 8ms/step - loss: 0.0042 - mae: 0.0553\n",
            "Epoch 592/1200\n",
            "1/1 [==============================] - 0s 7ms/step - loss: 0.0041 - mae: 0.0551\n",
            "Epoch 593/1200\n",
            "1/1 [==============================] - 0s 6ms/step - loss: 0.0041 - mae: 0.0550\n",
            "Epoch 594/1200\n",
            "1/1 [==============================] - 0s 7ms/step - loss: 0.0041 - mae: 0.0548\n",
            "Epoch 595/1200\n",
            "1/1 [==============================] - 0s 11ms/step - loss: 0.0040 - mae: 0.0546\n",
            "Epoch 596/1200\n",
            "1/1 [==============================] - 0s 10ms/step - loss: 0.0040 - mae: 0.0544\n",
            "Epoch 597/1200\n",
            "1/1 [==============================] - 0s 10ms/step - loss: 0.0040 - mae: 0.0542\n",
            "Epoch 598/1200\n",
            "1/1 [==============================] - 0s 7ms/step - loss: 0.0040 - mae: 0.0540\n",
            "Epoch 599/1200\n",
            "1/1 [==============================] - 0s 8ms/step - loss: 0.0039 - mae: 0.0538\n",
            "Epoch 600/1200\n",
            "1/1 [==============================] - 0s 12ms/step - loss: 0.0039 - mae: 0.0537\n",
            "Epoch 601/1200\n",
            "1/1 [==============================] - 0s 9ms/step - loss: 0.0039 - mae: 0.0535\n",
            "Epoch 602/1200\n",
            "1/1 [==============================] - 0s 9ms/step - loss: 0.0039 - mae: 0.0533\n",
            "Epoch 603/1200\n",
            "1/1 [==============================] - 0s 10ms/step - loss: 0.0038 - mae: 0.0531\n",
            "Epoch 604/1200\n",
            "1/1 [==============================] - 0s 8ms/step - loss: 0.0038 - mae: 0.0529\n",
            "Epoch 605/1200\n",
            "1/1 [==============================] - 0s 7ms/step - loss: 0.0038 - mae: 0.0528\n",
            "Epoch 606/1200\n",
            "1/1 [==============================] - 0s 8ms/step - loss: 0.0038 - mae: 0.0526\n",
            "Epoch 607/1200\n",
            "1/1 [==============================] - 0s 8ms/step - loss: 0.0037 - mae: 0.0524\n",
            "Epoch 608/1200\n",
            "1/1 [==============================] - 0s 9ms/step - loss: 0.0037 - mae: 0.0522\n",
            "Epoch 609/1200\n",
            "1/1 [==============================] - 0s 12ms/step - loss: 0.0037 - mae: 0.0521\n",
            "Epoch 610/1200\n",
            "1/1 [==============================] - 0s 7ms/step - loss: 0.0037 - mae: 0.0519\n",
            "Epoch 611/1200\n",
            "1/1 [==============================] - 0s 7ms/step - loss: 0.0036 - mae: 0.0517\n",
            "Epoch 612/1200\n",
            "1/1 [==============================] - 0s 8ms/step - loss: 0.0036 - mae: 0.0515\n",
            "Epoch 613/1200\n",
            "1/1 [==============================] - 0s 8ms/step - loss: 0.0036 - mae: 0.0514\n",
            "Epoch 614/1200\n",
            "1/1 [==============================] - 0s 8ms/step - loss: 0.0036 - mae: 0.0512\n",
            "Epoch 615/1200\n",
            "1/1 [==============================] - 0s 8ms/step - loss: 0.0035 - mae: 0.0510\n",
            "Epoch 616/1200\n",
            "1/1 [==============================] - 0s 7ms/step - loss: 0.0035 - mae: 0.0508\n",
            "Epoch 617/1200\n",
            "1/1 [==============================] - 0s 11ms/step - loss: 0.0035 - mae: 0.0507\n",
            "Epoch 618/1200\n",
            "1/1 [==============================] - 0s 7ms/step - loss: 0.0035 - mae: 0.0505\n",
            "Epoch 619/1200\n",
            "1/1 [==============================] - 0s 8ms/step - loss: 0.0034 - mae: 0.0503\n",
            "Epoch 620/1200\n",
            "1/1 [==============================] - 0s 8ms/step - loss: 0.0034 - mae: 0.0502\n",
            "Epoch 621/1200\n",
            "1/1 [==============================] - 0s 7ms/step - loss: 0.0034 - mae: 0.0500\n",
            "Epoch 622/1200\n",
            "1/1 [==============================] - 0s 8ms/step - loss: 0.0034 - mae: 0.0498\n",
            "Epoch 623/1200\n",
            "1/1 [==============================] - 0s 9ms/step - loss: 0.0033 - mae: 0.0496\n",
            "Epoch 624/1200\n",
            "1/1 [==============================] - 0s 10ms/step - loss: 0.0033 - mae: 0.0495\n",
            "Epoch 625/1200\n",
            "1/1 [==============================] - 0s 14ms/step - loss: 0.0033 - mae: 0.0493\n",
            "Epoch 626/1200\n",
            "1/1 [==============================] - 0s 7ms/step - loss: 0.0033 - mae: 0.0491\n",
            "Epoch 627/1200\n",
            "1/1 [==============================] - 0s 7ms/step - loss: 0.0033 - mae: 0.0490\n",
            "Epoch 628/1200\n",
            "1/1 [==============================] - 0s 8ms/step - loss: 0.0032 - mae: 0.0488\n",
            "Epoch 629/1200\n",
            "1/1 [==============================] - 0s 9ms/step - loss: 0.0032 - mae: 0.0486\n",
            "Epoch 630/1200\n",
            "1/1 [==============================] - 0s 7ms/step - loss: 0.0032 - mae: 0.0485\n",
            "Epoch 631/1200\n",
            "1/1 [==============================] - 0s 8ms/step - loss: 0.0032 - mae: 0.0483\n",
            "Epoch 632/1200\n",
            "1/1 [==============================] - 0s 9ms/step - loss: 0.0031 - mae: 0.0482\n",
            "Epoch 633/1200\n",
            "1/1 [==============================] - 0s 8ms/step - loss: 0.0031 - mae: 0.0480\n",
            "Epoch 634/1200\n",
            "1/1 [==============================] - 0s 12ms/step - loss: 0.0031 - mae: 0.0478\n",
            "Epoch 635/1200\n",
            "1/1 [==============================] - 0s 8ms/step - loss: 0.0031 - mae: 0.0477\n",
            "Epoch 636/1200\n",
            "1/1 [==============================] - 0s 7ms/step - loss: 0.0031 - mae: 0.0475\n",
            "Epoch 637/1200\n",
            "1/1 [==============================] - 0s 8ms/step - loss: 0.0030 - mae: 0.0473\n",
            "Epoch 638/1200\n",
            "1/1 [==============================] - 0s 8ms/step - loss: 0.0030 - mae: 0.0472\n",
            "Epoch 639/1200\n",
            "1/1 [==============================] - 0s 7ms/step - loss: 0.0030 - mae: 0.0470\n",
            "Epoch 640/1200\n",
            "1/1 [==============================] - 0s 8ms/step - loss: 0.0030 - mae: 0.0469\n",
            "Epoch 641/1200\n",
            "1/1 [==============================] - 0s 7ms/step - loss: 0.0030 - mae: 0.0467\n",
            "Epoch 642/1200\n",
            "1/1 [==============================] - 0s 8ms/step - loss: 0.0029 - mae: 0.0466\n",
            "Epoch 643/1200\n",
            "1/1 [==============================] - 0s 11ms/step - loss: 0.0029 - mae: 0.0464\n",
            "Epoch 644/1200\n",
            "1/1 [==============================] - 0s 8ms/step - loss: 0.0029 - mae: 0.0462\n",
            "Epoch 645/1200\n",
            "1/1 [==============================] - 0s 7ms/step - loss: 0.0029 - mae: 0.0461\n",
            "Epoch 646/1200\n",
            "1/1 [==============================] - 0s 8ms/step - loss: 0.0029 - mae: 0.0459\n",
            "Epoch 647/1200\n",
            "1/1 [==============================] - 0s 8ms/step - loss: 0.0028 - mae: 0.0458\n",
            "Epoch 648/1200\n",
            "1/1 [==============================] - 0s 12ms/step - loss: 0.0028 - mae: 0.0456\n",
            "Epoch 649/1200\n",
            "1/1 [==============================] - 0s 7ms/step - loss: 0.0028 - mae: 0.0455\n",
            "Epoch 650/1200\n",
            "1/1 [==============================] - 0s 7ms/step - loss: 0.0028 - mae: 0.0453\n",
            "Epoch 651/1200\n",
            "1/1 [==============================] - 0s 7ms/step - loss: 0.0028 - mae: 0.0452\n",
            "Epoch 652/1200\n",
            "1/1 [==============================] - 0s 7ms/step - loss: 0.0027 - mae: 0.0450\n",
            "Epoch 653/1200\n",
            "1/1 [==============================] - 0s 7ms/step - loss: 0.0027 - mae: 0.0448\n",
            "Epoch 654/1200\n",
            "1/1 [==============================] - 0s 8ms/step - loss: 0.0027 - mae: 0.0447\n",
            "Epoch 655/1200\n",
            "1/1 [==============================] - 0s 8ms/step - loss: 0.0027 - mae: 0.0445\n",
            "Epoch 656/1200\n",
            "1/1 [==============================] - 0s 9ms/step - loss: 0.0027 - mae: 0.0444\n",
            "Epoch 657/1200\n",
            "1/1 [==============================] - 0s 6ms/step - loss: 0.0027 - mae: 0.0442\n",
            "Epoch 658/1200\n",
            "1/1 [==============================] - 0s 7ms/step - loss: 0.0026 - mae: 0.0441\n",
            "Epoch 659/1200\n",
            "1/1 [==============================] - 0s 7ms/step - loss: 0.0026 - mae: 0.0439\n",
            "Epoch 660/1200\n",
            "1/1 [==============================] - 0s 10ms/step - loss: 0.0026 - mae: 0.0438\n",
            "Epoch 661/1200\n",
            "1/1 [==============================] - 0s 8ms/step - loss: 0.0026 - mae: 0.0436\n",
            "Epoch 662/1200\n",
            "1/1 [==============================] - 0s 6ms/step - loss: 0.0026 - mae: 0.0435\n",
            "Epoch 663/1200\n",
            "1/1 [==============================] - 0s 8ms/step - loss: 0.0026 - mae: 0.0434\n",
            "Epoch 664/1200\n",
            "1/1 [==============================] - 0s 10ms/step - loss: 0.0025 - mae: 0.0432\n",
            "Epoch 665/1200\n",
            "1/1 [==============================] - 0s 6ms/step - loss: 0.0025 - mae: 0.0431\n",
            "Epoch 666/1200\n",
            "1/1 [==============================] - 0s 7ms/step - loss: 0.0025 - mae: 0.0429\n",
            "Epoch 667/1200\n",
            "1/1 [==============================] - 0s 6ms/step - loss: 0.0025 - mae: 0.0428\n",
            "Epoch 668/1200\n",
            "1/1 [==============================] - 0s 7ms/step - loss: 0.0025 - mae: 0.0426\n",
            "Epoch 669/1200\n",
            "1/1 [==============================] - 0s 7ms/step - loss: 0.0024 - mae: 0.0425\n",
            "Epoch 670/1200\n",
            "1/1 [==============================] - 0s 8ms/step - loss: 0.0024 - mae: 0.0423\n",
            "Epoch 671/1200\n",
            "1/1 [==============================] - 0s 6ms/step - loss: 0.0024 - mae: 0.0422\n",
            "Epoch 672/1200\n",
            "1/1 [==============================] - 0s 6ms/step - loss: 0.0024 - mae: 0.0421\n",
            "Epoch 673/1200\n",
            "1/1 [==============================] - 0s 14ms/step - loss: 0.0024 - mae: 0.0419\n",
            "Epoch 674/1200\n",
            "1/1 [==============================] - 0s 7ms/step - loss: 0.0024 - mae: 0.0418\n",
            "Epoch 675/1200\n",
            "1/1 [==============================] - 0s 7ms/step - loss: 0.0024 - mae: 0.0416\n",
            "Epoch 676/1200\n",
            "1/1 [==============================] - 0s 6ms/step - loss: 0.0023 - mae: 0.0415\n",
            "Epoch 677/1200\n",
            "1/1 [==============================] - 0s 7ms/step - loss: 0.0023 - mae: 0.0413\n",
            "Epoch 678/1200\n",
            "1/1 [==============================] - 0s 7ms/step - loss: 0.0023 - mae: 0.0412\n",
            "Epoch 679/1200\n",
            "1/1 [==============================] - 0s 7ms/step - loss: 0.0023 - mae: 0.0411\n",
            "Epoch 680/1200\n",
            "1/1 [==============================] - 0s 7ms/step - loss: 0.0023 - mae: 0.0409\n",
            "Epoch 681/1200\n",
            "1/1 [==============================] - 0s 71ms/step - loss: 0.0023 - mae: 0.0408\n",
            "Epoch 682/1200\n",
            "1/1 [==============================] - 0s 12ms/step - loss: 0.0022 - mae: 0.0407\n",
            "Epoch 683/1200\n",
            "1/1 [==============================] - 0s 11ms/step - loss: 0.0022 - mae: 0.0405\n",
            "Epoch 684/1200\n",
            "1/1 [==============================] - 0s 12ms/step - loss: 0.0022 - mae: 0.0404\n",
            "Epoch 685/1200\n",
            "1/1 [==============================] - 0s 10ms/step - loss: 0.0022 - mae: 0.0402\n",
            "Epoch 686/1200\n",
            "1/1 [==============================] - 0s 11ms/step - loss: 0.0022 - mae: 0.0401\n",
            "Epoch 687/1200\n",
            "1/1 [==============================] - 0s 9ms/step - loss: 0.0022 - mae: 0.0400\n",
            "Epoch 688/1200\n",
            "1/1 [==============================] - 0s 54ms/step - loss: 0.0022 - mae: 0.0398\n",
            "Epoch 689/1200\n",
            "1/1 [==============================] - 0s 31ms/step - loss: 0.0021 - mae: 0.0397\n",
            "Epoch 690/1200\n",
            "1/1 [==============================] - 0s 13ms/step - loss: 0.0021 - mae: 0.0396\n",
            "Epoch 691/1200\n",
            "1/1 [==============================] - 0s 6ms/step - loss: 0.0021 - mae: 0.0394\n",
            "Epoch 692/1200\n",
            "1/1 [==============================] - 0s 5ms/step - loss: 0.0021 - mae: 0.0393\n",
            "Epoch 693/1200\n",
            "1/1 [==============================] - 0s 9ms/step - loss: 0.0021 - mae: 0.0392\n",
            "Epoch 694/1200\n",
            "1/1 [==============================] - 0s 13ms/step - loss: 0.0021 - mae: 0.0390\n",
            "Epoch 695/1200\n",
            "1/1 [==============================] - 0s 6ms/step - loss: 0.0021 - mae: 0.0389\n",
            "Epoch 696/1200\n",
            "1/1 [==============================] - 0s 11ms/step - loss: 0.0020 - mae: 0.0388\n",
            "Epoch 697/1200\n",
            "1/1 [==============================] - 0s 9ms/step - loss: 0.0020 - mae: 0.0386\n",
            "Epoch 698/1200\n",
            "1/1 [==============================] - 0s 6ms/step - loss: 0.0020 - mae: 0.0385\n",
            "Epoch 699/1200\n",
            "1/1 [==============================] - 0s 11ms/step - loss: 0.0020 - mae: 0.0384\n",
            "Epoch 700/1200\n",
            "1/1 [==============================] - 0s 6ms/step - loss: 0.0020 - mae: 0.0382\n",
            "Epoch 701/1200\n",
            "1/1 [==============================] - 0s 6ms/step - loss: 0.0020 - mae: 0.0381\n",
            "Epoch 702/1200\n",
            "1/1 [==============================] - 0s 11ms/step - loss: 0.0020 - mae: 0.0380\n",
            "Epoch 703/1200\n",
            "1/1 [==============================] - 0s 6ms/step - loss: 0.0019 - mae: 0.0379\n",
            "Epoch 704/1200\n",
            "1/1 [==============================] - 0s 6ms/step - loss: 0.0019 - mae: 0.0377\n",
            "Epoch 705/1200\n",
            "1/1 [==============================] - 0s 5ms/step - loss: 0.0019 - mae: 0.0376\n",
            "Epoch 706/1200\n",
            "1/1 [==============================] - 0s 6ms/step - loss: 0.0019 - mae: 0.0375\n",
            "Epoch 707/1200\n",
            "1/1 [==============================] - 0s 6ms/step - loss: 0.0019 - mae: 0.0374\n",
            "Epoch 708/1200\n",
            "1/1 [==============================] - 0s 6ms/step - loss: 0.0019 - mae: 0.0372\n",
            "Epoch 709/1200\n",
            "1/1 [==============================] - 0s 8ms/step - loss: 0.0019 - mae: 0.0371\n",
            "Epoch 710/1200\n",
            "1/1 [==============================] - 0s 8ms/step - loss: 0.0019 - mae: 0.0370\n",
            "Epoch 711/1200\n",
            "1/1 [==============================] - 0s 7ms/step - loss: 0.0018 - mae: 0.0369\n",
            "Epoch 712/1200\n",
            "1/1 [==============================] - 0s 10ms/step - loss: 0.0018 - mae: 0.0367\n",
            "Epoch 713/1200\n",
            "1/1 [==============================] - 0s 6ms/step - loss: 0.0018 - mae: 0.0366\n",
            "Epoch 714/1200\n",
            "1/1 [==============================] - 0s 6ms/step - loss: 0.0018 - mae: 0.0365\n",
            "Epoch 715/1200\n",
            "1/1 [==============================] - 0s 11ms/step - loss: 0.0018 - mae: 0.0364\n",
            "Epoch 716/1200\n",
            "1/1 [==============================] - 0s 7ms/step - loss: 0.0018 - mae: 0.0362\n",
            "Epoch 717/1200\n",
            "1/1 [==============================] - 0s 6ms/step - loss: 0.0018 - mae: 0.0361\n",
            "Epoch 718/1200\n",
            "1/1 [==============================] - 0s 10ms/step - loss: 0.0018 - mae: 0.0360\n",
            "Epoch 719/1200\n",
            "1/1 [==============================] - 0s 7ms/step - loss: 0.0017 - mae: 0.0359\n",
            "Epoch 720/1200\n",
            "1/1 [==============================] - 0s 7ms/step - loss: 0.0017 - mae: 0.0357\n",
            "Epoch 721/1200\n",
            "1/1 [==============================] - 0s 12ms/step - loss: 0.0017 - mae: 0.0356\n",
            "Epoch 722/1200\n",
            "1/1 [==============================] - 0s 6ms/step - loss: 0.0017 - mae: 0.0355\n",
            "Epoch 723/1200\n",
            "1/1 [==============================] - 0s 8ms/step - loss: 0.0017 - mae: 0.0354\n",
            "Epoch 724/1200\n",
            "1/1 [==============================] - 0s 7ms/step - loss: 0.0017 - mae: 0.0353\n",
            "Epoch 725/1200\n",
            "1/1 [==============================] - 0s 16ms/step - loss: 0.0017 - mae: 0.0351\n",
            "Epoch 726/1200\n",
            "1/1 [==============================] - 0s 13ms/step - loss: 0.0017 - mae: 0.0350\n",
            "Epoch 727/1200\n",
            "1/1 [==============================] - 0s 10ms/step - loss: 0.0017 - mae: 0.0349\n",
            "Epoch 728/1200\n",
            "1/1 [==============================] - 0s 8ms/step - loss: 0.0016 - mae: 0.0348\n",
            "Epoch 729/1200\n",
            "1/1 [==============================] - 0s 7ms/step - loss: 0.0016 - mae: 0.0347\n",
            "Epoch 730/1200\n",
            "1/1 [==============================] - 0s 10ms/step - loss: 0.0016 - mae: 0.0346\n",
            "Epoch 731/1200\n",
            "1/1 [==============================] - 0s 7ms/step - loss: 0.0016 - mae: 0.0344\n",
            "Epoch 732/1200\n",
            "1/1 [==============================] - 0s 10ms/step - loss: 0.0016 - mae: 0.0343\n",
            "Epoch 733/1200\n",
            "1/1 [==============================] - 0s 7ms/step - loss: 0.0016 - mae: 0.0342\n",
            "Epoch 734/1200\n",
            "1/1 [==============================] - 0s 12ms/step - loss: 0.0016 - mae: 0.0341\n",
            "Epoch 735/1200\n",
            "1/1 [==============================] - 0s 7ms/step - loss: 0.0016 - mae: 0.0340\n",
            "Epoch 736/1200\n",
            "1/1 [==============================] - 0s 7ms/step - loss: 0.0016 - mae: 0.0339\n",
            "Epoch 737/1200\n",
            "1/1 [==============================] - 0s 6ms/step - loss: 0.0015 - mae: 0.0337\n",
            "Epoch 738/1200\n",
            "1/1 [==============================] - 0s 7ms/step - loss: 0.0015 - mae: 0.0336\n",
            "Epoch 739/1200\n",
            "1/1 [==============================] - 0s 10ms/step - loss: 0.0015 - mae: 0.0335\n",
            "Epoch 740/1200\n",
            "1/1 [==============================] - 0s 7ms/step - loss: 0.0015 - mae: 0.0334\n",
            "Epoch 741/1200\n",
            "1/1 [==============================] - 0s 6ms/step - loss: 0.0015 - mae: 0.0333\n",
            "Epoch 742/1200\n",
            "1/1 [==============================] - 0s 6ms/step - loss: 0.0015 - mae: 0.0332\n",
            "Epoch 743/1200\n",
            "1/1 [==============================] - 0s 8ms/step - loss: 0.0015 - mae: 0.0331\n",
            "Epoch 744/1200\n",
            "1/1 [==============================] - 0s 11ms/step - loss: 0.0015 - mae: 0.0330\n",
            "Epoch 745/1200\n",
            "1/1 [==============================] - 0s 7ms/step - loss: 0.0015 - mae: 0.0328\n",
            "Epoch 746/1200\n",
            "1/1 [==============================] - 0s 6ms/step - loss: 0.0015 - mae: 0.0327\n",
            "Epoch 747/1200\n",
            "1/1 [==============================] - 0s 12ms/step - loss: 0.0014 - mae: 0.0326\n",
            "Epoch 748/1200\n",
            "1/1 [==============================] - 0s 7ms/step - loss: 0.0014 - mae: 0.0325\n",
            "Epoch 749/1200\n",
            "1/1 [==============================] - 0s 6ms/step - loss: 0.0014 - mae: 0.0324\n",
            "Epoch 750/1200\n",
            "1/1 [==============================] - 0s 11ms/step - loss: 0.0014 - mae: 0.0323\n",
            "Epoch 751/1200\n",
            "1/1 [==============================] - 0s 6ms/step - loss: 0.0014 - mae: 0.0322\n",
            "Epoch 752/1200\n",
            "1/1 [==============================] - 0s 10ms/step - loss: 0.0014 - mae: 0.0321\n",
            "Epoch 753/1200\n",
            "1/1 [==============================] - 0s 6ms/step - loss: 0.0014 - mae: 0.0320\n",
            "Epoch 754/1200\n",
            "1/1 [==============================] - 0s 7ms/step - loss: 0.0014 - mae: 0.0319\n",
            "Epoch 755/1200\n",
            "1/1 [==============================] - 0s 9ms/step - loss: 0.0014 - mae: 0.0317\n",
            "Epoch 756/1200\n",
            "1/1 [==============================] - 0s 11ms/step - loss: 0.0014 - mae: 0.0316\n",
            "Epoch 757/1200\n",
            "1/1 [==============================] - 0s 8ms/step - loss: 0.0013 - mae: 0.0315\n",
            "Epoch 758/1200\n",
            "1/1 [==============================] - 0s 12ms/step - loss: 0.0013 - mae: 0.0314\n",
            "Epoch 759/1200\n",
            "1/1 [==============================] - 0s 6ms/step - loss: 0.0013 - mae: 0.0313\n",
            "Epoch 760/1200\n",
            "1/1 [==============================] - 0s 6ms/step - loss: 0.0013 - mae: 0.0312\n",
            "Epoch 761/1200\n",
            "1/1 [==============================] - 0s 10ms/step - loss: 0.0013 - mae: 0.0311\n",
            "Epoch 762/1200\n",
            "1/1 [==============================] - 0s 7ms/step - loss: 0.0013 - mae: 0.0310\n",
            "Epoch 763/1200\n",
            "1/1 [==============================] - 0s 6ms/step - loss: 0.0013 - mae: 0.0309\n",
            "Epoch 764/1200\n",
            "1/1 [==============================] - 0s 107ms/step - loss: 0.0013 - mae: 0.0308\n",
            "Epoch 765/1200\n",
            "1/1 [==============================] - 0s 6ms/step - loss: 0.0013 - mae: 0.0307\n",
            "Epoch 766/1200\n",
            "1/1 [==============================] - 0s 6ms/step - loss: 0.0013 - mae: 0.0306\n",
            "Epoch 767/1200\n",
            "1/1 [==============================] - 0s 6ms/step - loss: 0.0013 - mae: 0.0305\n",
            "Epoch 768/1200\n",
            "1/1 [==============================] - 0s 9ms/step - loss: 0.0013 - mae: 0.0304\n",
            "Epoch 769/1200\n",
            "1/1 [==============================] - 0s 6ms/step - loss: 0.0012 - mae: 0.0303\n",
            "Epoch 770/1200\n",
            "1/1 [==============================] - 0s 9ms/step - loss: 0.0012 - mae: 0.0302\n",
            "Epoch 771/1200\n",
            "1/1 [==============================] - 0s 6ms/step - loss: 0.0012 - mae: 0.0301\n",
            "Epoch 772/1200\n",
            "1/1 [==============================] - 0s 6ms/step - loss: 0.0012 - mae: 0.0300\n",
            "Epoch 773/1200\n",
            "1/1 [==============================] - 0s 12ms/step - loss: 0.0012 - mae: 0.0299\n",
            "Epoch 774/1200\n",
            "1/1 [==============================] - 0s 6ms/step - loss: 0.0012 - mae: 0.0298\n",
            "Epoch 775/1200\n",
            "1/1 [==============================] - 0s 6ms/step - loss: 0.0012 - mae: 0.0297\n",
            "Epoch 776/1200\n",
            "1/1 [==============================] - 0s 6ms/step - loss: 0.0012 - mae: 0.0296\n",
            "Epoch 777/1200\n",
            "1/1 [==============================] - 0s 10ms/step - loss: 0.0012 - mae: 0.0295\n",
            "Epoch 778/1200\n",
            "1/1 [==============================] - 0s 6ms/step - loss: 0.0012 - mae: 0.0294\n",
            "Epoch 779/1200\n",
            "1/1 [==============================] - 0s 6ms/step - loss: 0.0012 - mae: 0.0293\n",
            "Epoch 780/1200\n",
            "1/1 [==============================] - 0s 7ms/step - loss: 0.0012 - mae: 0.0292\n",
            "Epoch 781/1200\n",
            "1/1 [==============================] - 0s 11ms/step - loss: 0.0011 - mae: 0.0291\n",
            "Epoch 782/1200\n",
            "1/1 [==============================] - 0s 6ms/step - loss: 0.0011 - mae: 0.0290\n",
            "Epoch 783/1200\n",
            "1/1 [==============================] - 0s 6ms/step - loss: 0.0011 - mae: 0.0289\n",
            "Epoch 784/1200\n",
            "1/1 [==============================] - 0s 11ms/step - loss: 0.0011 - mae: 0.0288\n",
            "Epoch 785/1200\n",
            "1/1 [==============================] - 0s 6ms/step - loss: 0.0011 - mae: 0.0287\n",
            "Epoch 786/1200\n",
            "1/1 [==============================] - 0s 7ms/step - loss: 0.0011 - mae: 0.0286\n",
            "Epoch 787/1200\n",
            "1/1 [==============================] - 0s 12ms/step - loss: 0.0011 - mae: 0.0285\n",
            "Epoch 788/1200\n",
            "1/1 [==============================] - 0s 6ms/step - loss: 0.0011 - mae: 0.0284\n",
            "Epoch 789/1200\n",
            "1/1 [==============================] - 0s 9ms/step - loss: 0.0011 - mae: 0.0283\n",
            "Epoch 790/1200\n",
            "1/1 [==============================] - 0s 6ms/step - loss: 0.0011 - mae: 0.0282\n",
            "Epoch 791/1200\n",
            "1/1 [==============================] - 0s 11ms/step - loss: 0.0011 - mae: 0.0281\n",
            "Epoch 792/1200\n",
            "1/1 [==============================] - 0s 6ms/step - loss: 0.0011 - mae: 0.0280\n",
            "Epoch 793/1200\n",
            "1/1 [==============================] - 0s 6ms/step - loss: 0.0011 - mae: 0.0279\n",
            "Epoch 794/1200\n",
            "1/1 [==============================] - 0s 7ms/step - loss: 0.0011 - mae: 0.0278\n",
            "Epoch 795/1200\n",
            "1/1 [==============================] - 0s 12ms/step - loss: 0.0010 - mae: 0.0277\n",
            "Epoch 796/1200\n",
            "1/1 [==============================] - 0s 6ms/step - loss: 0.0010 - mae: 0.0276\n",
            "Epoch 797/1200\n",
            "1/1 [==============================] - 0s 6ms/step - loss: 0.0010 - mae: 0.0275\n",
            "Epoch 798/1200\n",
            "1/1 [==============================] - 0s 11ms/step - loss: 0.0010 - mae: 0.0274\n",
            "Epoch 799/1200\n",
            "1/1 [==============================] - 0s 11ms/step - loss: 0.0010 - mae: 0.0274\n",
            "Epoch 800/1200\n",
            "1/1 [==============================] - 0s 7ms/step - loss: 0.0010 - mae: 0.0273\n",
            "Epoch 801/1200\n",
            "1/1 [==============================] - 0s 7ms/step - loss: 0.0010 - mae: 0.0272\n",
            "Epoch 802/1200\n",
            "1/1 [==============================] - 0s 6ms/step - loss: 9.9521e-04 - mae: 0.0271\n",
            "Epoch 803/1200\n",
            "1/1 [==============================] - 0s 11ms/step - loss: 9.8849e-04 - mae: 0.0270\n",
            "Epoch 804/1200\n",
            "1/1 [==============================] - 0s 7ms/step - loss: 9.8182e-04 - mae: 0.0269\n",
            "Epoch 805/1200\n",
            "1/1 [==============================] - 0s 6ms/step - loss: 9.7519e-04 - mae: 0.0268\n",
            "Epoch 806/1200\n",
            "1/1 [==============================] - 0s 11ms/step - loss: 9.6859e-04 - mae: 0.0267\n",
            "Epoch 807/1200\n",
            "1/1 [==============================] - 0s 16ms/step - loss: 9.6207e-04 - mae: 0.0266\n",
            "Epoch 808/1200\n",
            "1/1 [==============================] - 0s 10ms/step - loss: 9.5558e-04 - mae: 0.0265\n",
            "Epoch 809/1200\n",
            "1/1 [==============================] - 0s 8ms/step - loss: 9.4912e-04 - mae: 0.0264\n",
            "Epoch 810/1200\n",
            "1/1 [==============================] - 0s 6ms/step - loss: 9.4273e-04 - mae: 0.0264\n",
            "Epoch 811/1200\n",
            "1/1 [==============================] - 0s 13ms/step - loss: 9.3634e-04 - mae: 0.0263\n",
            "Epoch 812/1200\n",
            "1/1 [==============================] - 0s 9ms/step - loss: 9.3004e-04 - mae: 0.0262\n",
            "Epoch 813/1200\n",
            "1/1 [==============================] - 0s 10ms/step - loss: 9.2374e-04 - mae: 0.0261\n",
            "Epoch 814/1200\n",
            "1/1 [==============================] - 0s 10ms/step - loss: 9.1750e-04 - mae: 0.0260\n",
            "Epoch 815/1200\n",
            "1/1 [==============================] - 0s 10ms/step - loss: 9.1132e-04 - mae: 0.0259\n",
            "Epoch 816/1200\n",
            "1/1 [==============================] - 0s 13ms/step - loss: 9.0517e-04 - mae: 0.0258\n",
            "Epoch 817/1200\n",
            "1/1 [==============================] - 0s 8ms/step - loss: 8.9907e-04 - mae: 0.0257\n",
            "Epoch 818/1200\n",
            "1/1 [==============================] - 0s 11ms/step - loss: 8.9300e-04 - mae: 0.0256\n",
            "Epoch 819/1200\n",
            "1/1 [==============================] - 0s 7ms/step - loss: 8.8696e-04 - mae: 0.0256\n",
            "Epoch 820/1200\n",
            "1/1 [==============================] - 0s 7ms/step - loss: 8.8098e-04 - mae: 0.0255\n",
            "Epoch 821/1200\n",
            "1/1 [==============================] - 0s 7ms/step - loss: 8.7503e-04 - mae: 0.0254\n",
            "Epoch 822/1200\n",
            "1/1 [==============================] - 0s 13ms/step - loss: 8.6912e-04 - mae: 0.0253\n",
            "Epoch 823/1200\n",
            "1/1 [==============================] - 0s 7ms/step - loss: 8.6325e-04 - mae: 0.0252\n",
            "Epoch 824/1200\n",
            "1/1 [==============================] - 0s 6ms/step - loss: 8.5742e-04 - mae: 0.0251\n",
            "Epoch 825/1200\n",
            "1/1 [==============================] - 0s 6ms/step - loss: 8.5164e-04 - mae: 0.0250\n",
            "Epoch 826/1200\n",
            "1/1 [==============================] - 0s 10ms/step - loss: 8.4588e-04 - mae: 0.0250\n",
            "Epoch 827/1200\n",
            "1/1 [==============================] - 0s 7ms/step - loss: 8.4017e-04 - mae: 0.0249\n",
            "Epoch 828/1200\n",
            "1/1 [==============================] - 0s 7ms/step - loss: 8.3450e-04 - mae: 0.0248\n",
            "Epoch 829/1200\n",
            "1/1 [==============================] - 0s 7ms/step - loss: 8.2887e-04 - mae: 0.0247\n",
            "Epoch 830/1200\n",
            "1/1 [==============================] - 0s 8ms/step - loss: 8.2327e-04 - mae: 0.0246\n",
            "Epoch 831/1200\n",
            "1/1 [==============================] - 0s 12ms/step - loss: 8.1771e-04 - mae: 0.0245\n",
            "Epoch 832/1200\n",
            "1/1 [==============================] - 0s 8ms/step - loss: 8.1218e-04 - mae: 0.0245\n",
            "Epoch 833/1200\n",
            "1/1 [==============================] - 0s 12ms/step - loss: 8.0671e-04 - mae: 0.0244\n",
            "Epoch 834/1200\n",
            "1/1 [==============================] - 0s 8ms/step - loss: 8.0126e-04 - mae: 0.0243\n",
            "Epoch 835/1200\n",
            "1/1 [==============================] - 0s 8ms/step - loss: 7.9584e-04 - mae: 0.0242\n",
            "Epoch 836/1200\n",
            "1/1 [==============================] - 0s 8ms/step - loss: 7.9049e-04 - mae: 0.0241\n",
            "Epoch 837/1200\n",
            "1/1 [==============================] - 0s 13ms/step - loss: 7.8514e-04 - mae: 0.0241\n",
            "Epoch 838/1200\n",
            "1/1 [==============================] - 0s 7ms/step - loss: 7.7984e-04 - mae: 0.0240\n",
            "Epoch 839/1200\n",
            "1/1 [==============================] - 0s 7ms/step - loss: 7.7457e-04 - mae: 0.0239\n",
            "Epoch 840/1200\n",
            "1/1 [==============================] - 0s 8ms/step - loss: 7.6935e-04 - mae: 0.0238\n",
            "Epoch 841/1200\n",
            "1/1 [==============================] - 0s 7ms/step - loss: 7.6417e-04 - mae: 0.0237\n",
            "Epoch 842/1200\n",
            "1/1 [==============================] - 0s 7ms/step - loss: 7.5901e-04 - mae: 0.0236\n",
            "Epoch 843/1200\n",
            "1/1 [==============================] - 0s 7ms/step - loss: 7.5389e-04 - mae: 0.0236\n",
            "Epoch 844/1200\n",
            "1/1 [==============================] - 0s 13ms/step - loss: 7.4878e-04 - mae: 0.0235\n",
            "Epoch 845/1200\n",
            "1/1 [==============================] - 0s 7ms/step - loss: 7.4372e-04 - mae: 0.0234\n",
            "Epoch 846/1200\n",
            "1/1 [==============================] - 0s 8ms/step - loss: 7.3871e-04 - mae: 0.0233\n",
            "Epoch 847/1200\n",
            "1/1 [==============================] - 0s 7ms/step - loss: 7.3374e-04 - mae: 0.0232\n",
            "Epoch 848/1200\n",
            "1/1 [==============================] - 0s 13ms/step - loss: 7.2878e-04 - mae: 0.0232\n",
            "Epoch 849/1200\n",
            "1/1 [==============================] - 0s 13ms/step - loss: 7.2385e-04 - mae: 0.0231\n",
            "Epoch 850/1200\n",
            "1/1 [==============================] - 0s 15ms/step - loss: 7.1897e-04 - mae: 0.0230\n",
            "Epoch 851/1200\n",
            "1/1 [==============================] - 0s 12ms/step - loss: 7.1411e-04 - mae: 0.0229\n",
            "Epoch 852/1200\n",
            "1/1 [==============================] - 0s 15ms/step - loss: 7.0928e-04 - mae: 0.0229\n",
            "Epoch 853/1200\n",
            "1/1 [==============================] - 0s 26ms/step - loss: 7.0450e-04 - mae: 0.0228\n",
            "Epoch 854/1200\n",
            "1/1 [==============================] - 0s 12ms/step - loss: 6.9975e-04 - mae: 0.0227\n",
            "Epoch 855/1200\n",
            "1/1 [==============================] - 0s 21ms/step - loss: 6.9502e-04 - mae: 0.0226\n",
            "Epoch 856/1200\n",
            "1/1 [==============================] - 0s 13ms/step - loss: 6.9032e-04 - mae: 0.0226\n",
            "Epoch 857/1200\n",
            "1/1 [==============================] - 0s 20ms/step - loss: 6.8567e-04 - mae: 0.0225\n",
            "Epoch 858/1200\n",
            "1/1 [==============================] - 0s 12ms/step - loss: 6.8103e-04 - mae: 0.0224\n",
            "Epoch 859/1200\n",
            "1/1 [==============================] - 0s 12ms/step - loss: 6.7645e-04 - mae: 0.0223\n",
            "Epoch 860/1200\n",
            "1/1 [==============================] - 0s 11ms/step - loss: 6.7187e-04 - mae: 0.0222\n",
            "Epoch 861/1200\n",
            "1/1 [==============================] - 0s 16ms/step - loss: 6.6733e-04 - mae: 0.0222\n",
            "Epoch 862/1200\n",
            "1/1 [==============================] - 0s 7ms/step - loss: 6.6283e-04 - mae: 0.0221\n",
            "Epoch 863/1200\n",
            "1/1 [==============================] - 0s 7ms/step - loss: 6.5835e-04 - mae: 0.0220\n",
            "Epoch 864/1200\n",
            "1/1 [==============================] - 0s 7ms/step - loss: 6.5390e-04 - mae: 0.0219\n",
            "Epoch 865/1200\n",
            "1/1 [==============================] - 0s 7ms/step - loss: 6.4951e-04 - mae: 0.0219\n",
            "Epoch 866/1200\n",
            "1/1 [==============================] - 0s 7ms/step - loss: 6.4511e-04 - mae: 0.0218\n",
            "Epoch 867/1200\n",
            "1/1 [==============================] - 0s 7ms/step - loss: 6.4075e-04 - mae: 0.0217\n",
            "Epoch 868/1200\n",
            "1/1 [==============================] - 0s 7ms/step - loss: 6.3643e-04 - mae: 0.0217\n",
            "Epoch 869/1200\n",
            "1/1 [==============================] - 0s 13ms/step - loss: 6.3213e-04 - mae: 0.0216\n",
            "Epoch 870/1200\n",
            "1/1 [==============================] - 0s 10ms/step - loss: 6.2786e-04 - mae: 0.0215\n",
            "Epoch 871/1200\n",
            "1/1 [==============================] - 0s 7ms/step - loss: 6.2363e-04 - mae: 0.0214\n",
            "Epoch 872/1200\n",
            "1/1 [==============================] - 0s 7ms/step - loss: 6.1942e-04 - mae: 0.0214\n",
            "Epoch 873/1200\n",
            "1/1 [==============================] - 0s 7ms/step - loss: 6.1525e-04 - mae: 0.0213\n",
            "Epoch 874/1200\n",
            "1/1 [==============================] - 0s 11ms/step - loss: 6.1108e-04 - mae: 0.0212\n",
            "Epoch 875/1200\n",
            "1/1 [==============================] - 0s 13ms/step - loss: 6.0697e-04 - mae: 0.0211\n",
            "Epoch 876/1200\n",
            "1/1 [==============================] - 0s 6ms/step - loss: 6.0286e-04 - mae: 0.0211\n",
            "Epoch 877/1200\n",
            "1/1 [==============================] - 0s 7ms/step - loss: 5.9879e-04 - mae: 0.0210\n",
            "Epoch 878/1200\n",
            "1/1 [==============================] - 0s 7ms/step - loss: 5.9475e-04 - mae: 0.0209\n",
            "Epoch 879/1200\n",
            "1/1 [==============================] - 0s 8ms/step - loss: 5.9074e-04 - mae: 0.0209\n",
            "Epoch 880/1200\n",
            "1/1 [==============================] - 0s 8ms/step - loss: 5.8675e-04 - mae: 0.0208\n",
            "Epoch 881/1200\n",
            "1/1 [==============================] - 0s 8ms/step - loss: 5.8279e-04 - mae: 0.0207\n",
            "Epoch 882/1200\n",
            "1/1 [==============================] - 0s 8ms/step - loss: 5.7886e-04 - mae: 0.0207\n",
            "Epoch 883/1200\n",
            "1/1 [==============================] - 0s 12ms/step - loss: 5.7496e-04 - mae: 0.0206\n",
            "Epoch 884/1200\n",
            "1/1 [==============================] - 0s 15ms/step - loss: 5.7106e-04 - mae: 0.0205\n",
            "Epoch 885/1200\n",
            "1/1 [==============================] - 0s 10ms/step - loss: 5.6721e-04 - mae: 0.0204\n",
            "Epoch 886/1200\n",
            "1/1 [==============================] - 0s 19ms/step - loss: 5.6338e-04 - mae: 0.0204\n",
            "Epoch 887/1200\n",
            "1/1 [==============================] - 0s 10ms/step - loss: 5.5958e-04 - mae: 0.0203\n",
            "Epoch 888/1200\n",
            "1/1 [==============================] - 0s 12ms/step - loss: 5.5579e-04 - mae: 0.0202\n",
            "Epoch 889/1200\n",
            "1/1 [==============================] - 0s 10ms/step - loss: 5.5204e-04 - mae: 0.0202\n",
            "Epoch 890/1200\n",
            "1/1 [==============================] - 0s 12ms/step - loss: 5.4831e-04 - mae: 0.0201\n",
            "Epoch 891/1200\n",
            "1/1 [==============================] - 0s 18ms/step - loss: 5.4462e-04 - mae: 0.0200\n",
            "Epoch 892/1200\n",
            "1/1 [==============================] - 0s 8ms/step - loss: 5.4093e-04 - mae: 0.0200\n",
            "Epoch 893/1200\n",
            "1/1 [==============================] - 0s 12ms/step - loss: 5.3729e-04 - mae: 0.0199\n",
            "Epoch 894/1200\n",
            "1/1 [==============================] - 0s 12ms/step - loss: 5.3365e-04 - mae: 0.0198\n",
            "Epoch 895/1200\n",
            "1/1 [==============================] - 0s 11ms/step - loss: 5.3006e-04 - mae: 0.0198\n",
            "Epoch 896/1200\n",
            "1/1 [==============================] - 0s 14ms/step - loss: 5.2647e-04 - mae: 0.0197\n",
            "Epoch 897/1200\n",
            "1/1 [==============================] - 0s 10ms/step - loss: 5.2293e-04 - mae: 0.0196\n",
            "Epoch 898/1200\n",
            "1/1 [==============================] - 0s 9ms/step - loss: 5.1940e-04 - mae: 0.0196\n",
            "Epoch 899/1200\n",
            "1/1 [==============================] - 0s 9ms/step - loss: 5.1589e-04 - mae: 0.0195\n",
            "Epoch 900/1200\n",
            "1/1 [==============================] - 0s 10ms/step - loss: 5.1241e-04 - mae: 0.0194\n",
            "Epoch 901/1200\n",
            "1/1 [==============================] - 0s 15ms/step - loss: 5.0895e-04 - mae: 0.0194\n",
            "Epoch 902/1200\n",
            "1/1 [==============================] - 0s 10ms/step - loss: 5.0552e-04 - mae: 0.0193\n",
            "Epoch 903/1200\n",
            "1/1 [==============================] - 0s 9ms/step - loss: 5.0210e-04 - mae: 0.0192\n",
            "Epoch 904/1200\n",
            "1/1 [==============================] - 0s 10ms/step - loss: 4.9872e-04 - mae: 0.0192\n",
            "Epoch 905/1200\n",
            "1/1 [==============================] - 0s 9ms/step - loss: 4.9533e-04 - mae: 0.0191\n",
            "Epoch 906/1200\n",
            "1/1 [==============================] - 0s 9ms/step - loss: 4.9200e-04 - mae: 0.0190\n",
            "Epoch 907/1200\n",
            "1/1 [==============================] - 0s 9ms/step - loss: 4.8869e-04 - mae: 0.0190\n",
            "Epoch 908/1200\n",
            "1/1 [==============================] - 0s 10ms/step - loss: 4.8538e-04 - mae: 0.0189\n",
            "Epoch 909/1200\n",
            "1/1 [==============================] - 0s 27ms/step - loss: 4.8210e-04 - mae: 0.0188\n",
            "Epoch 910/1200\n",
            "1/1 [==============================] - 0s 19ms/step - loss: 4.7885e-04 - mae: 0.0188\n",
            "Epoch 911/1200\n",
            "1/1 [==============================] - 0s 11ms/step - loss: 4.7561e-04 - mae: 0.0187\n",
            "Epoch 912/1200\n",
            "1/1 [==============================] - 0s 13ms/step - loss: 4.7240e-04 - mae: 0.0187\n",
            "Epoch 913/1200\n",
            "1/1 [==============================] - 0s 12ms/step - loss: 4.6921e-04 - mae: 0.0186\n",
            "Epoch 914/1200\n",
            "1/1 [==============================] - 0s 22ms/step - loss: 4.6604e-04 - mae: 0.0185\n",
            "Epoch 915/1200\n",
            "1/1 [==============================] - 0s 13ms/step - loss: 4.6290e-04 - mae: 0.0185\n",
            "Epoch 916/1200\n",
            "1/1 [==============================] - 0s 15ms/step - loss: 4.5977e-04 - mae: 0.0184\n",
            "Epoch 917/1200\n",
            "1/1 [==============================] - 0s 12ms/step - loss: 4.5668e-04 - mae: 0.0183\n",
            "Epoch 918/1200\n",
            "1/1 [==============================] - 0s 15ms/step - loss: 4.5359e-04 - mae: 0.0183\n",
            "Epoch 919/1200\n",
            "1/1 [==============================] - 0s 24ms/step - loss: 4.5053e-04 - mae: 0.0182\n",
            "Epoch 920/1200\n",
            "1/1 [==============================] - 0s 11ms/step - loss: 4.4748e-04 - mae: 0.0182\n",
            "Epoch 921/1200\n",
            "1/1 [==============================] - 0s 16ms/step - loss: 4.4446e-04 - mae: 0.0181\n",
            "Epoch 922/1200\n",
            "1/1 [==============================] - 0s 10ms/step - loss: 4.4147e-04 - mae: 0.0180\n",
            "Epoch 923/1200\n",
            "1/1 [==============================] - 0s 13ms/step - loss: 4.3847e-04 - mae: 0.0180\n",
            "Epoch 924/1200\n",
            "1/1 [==============================] - 0s 13ms/step - loss: 4.3553e-04 - mae: 0.0179\n",
            "Epoch 925/1200\n",
            "1/1 [==============================] - 0s 15ms/step - loss: 4.3258e-04 - mae: 0.0179\n",
            "Epoch 926/1200\n",
            "1/1 [==============================] - 0s 8ms/step - loss: 4.2965e-04 - mae: 0.0178\n",
            "Epoch 927/1200\n",
            "1/1 [==============================] - 0s 9ms/step - loss: 4.2676e-04 - mae: 0.0177\n",
            "Epoch 928/1200\n",
            "1/1 [==============================] - 0s 10ms/step - loss: 4.2388e-04 - mae: 0.0177\n",
            "Epoch 929/1200\n",
            "1/1 [==============================] - 0s 10ms/step - loss: 4.2102e-04 - mae: 0.0176\n",
            "Epoch 930/1200\n",
            "1/1 [==============================] - 0s 13ms/step - loss: 4.1818e-04 - mae: 0.0176\n",
            "Epoch 931/1200\n",
            "1/1 [==============================] - 0s 176ms/step - loss: 4.1535e-04 - mae: 0.0175\n",
            "Epoch 932/1200\n",
            "1/1 [==============================] - 0s 6ms/step - loss: 4.1255e-04 - mae: 0.0174\n",
            "Epoch 933/1200\n",
            "1/1 [==============================] - 0s 9ms/step - loss: 4.0976e-04 - mae: 0.0174\n",
            "Epoch 934/1200\n",
            "1/1 [==============================] - 0s 14ms/step - loss: 4.0700e-04 - mae: 0.0173\n",
            "Epoch 935/1200\n",
            "1/1 [==============================] - 0s 7ms/step - loss: 4.0425e-04 - mae: 0.0173\n",
            "Epoch 936/1200\n",
            "1/1 [==============================] - 0s 19ms/step - loss: 4.0151e-04 - mae: 0.0172\n",
            "Epoch 937/1200\n",
            "1/1 [==============================] - 0s 13ms/step - loss: 3.9881e-04 - mae: 0.0171\n",
            "Epoch 938/1200\n",
            "1/1 [==============================] - 0s 16ms/step - loss: 3.9612e-04 - mae: 0.0171\n",
            "Epoch 939/1200\n",
            "1/1 [==============================] - 0s 9ms/step - loss: 3.9345e-04 - mae: 0.0170\n",
            "Epoch 940/1200\n",
            "1/1 [==============================] - 0s 22ms/step - loss: 3.9079e-04 - mae: 0.0170\n",
            "Epoch 941/1200\n",
            "1/1 [==============================] - 0s 11ms/step - loss: 3.8814e-04 - mae: 0.0169\n",
            "Epoch 942/1200\n",
            "1/1 [==============================] - 0s 11ms/step - loss: 3.8553e-04 - mae: 0.0169\n",
            "Epoch 943/1200\n",
            "1/1 [==============================] - 0s 15ms/step - loss: 3.8293e-04 - mae: 0.0168\n",
            "Epoch 944/1200\n",
            "1/1 [==============================] - 0s 9ms/step - loss: 3.8035e-04 - mae: 0.0167\n",
            "Epoch 945/1200\n",
            "1/1 [==============================] - 0s 8ms/step - loss: 3.7778e-04 - mae: 0.0167\n",
            "Epoch 946/1200\n",
            "1/1 [==============================] - 0s 14ms/step - loss: 3.7523e-04 - mae: 0.0166\n",
            "Epoch 947/1200\n",
            "1/1 [==============================] - 0s 7ms/step - loss: 3.7269e-04 - mae: 0.0166\n",
            "Epoch 948/1200\n",
            "1/1 [==============================] - 0s 7ms/step - loss: 3.7018e-04 - mae: 0.0165\n",
            "Epoch 949/1200\n",
            "1/1 [==============================] - 0s 7ms/step - loss: 3.6769e-04 - mae: 0.0165\n",
            "Epoch 950/1200\n",
            "1/1 [==============================] - 0s 7ms/step - loss: 3.6520e-04 - mae: 0.0164\n",
            "Epoch 951/1200\n",
            "1/1 [==============================] - 0s 7ms/step - loss: 3.6273e-04 - mae: 0.0163\n",
            "Epoch 952/1200\n",
            "1/1 [==============================] - 0s 7ms/step - loss: 3.6029e-04 - mae: 0.0163\n",
            "Epoch 953/1200\n",
            "1/1 [==============================] - 0s 7ms/step - loss: 3.5785e-04 - mae: 0.0162\n",
            "Epoch 954/1200\n",
            "1/1 [==============================] - 0s 7ms/step - loss: 3.5543e-04 - mae: 0.0162\n",
            "Epoch 955/1200\n",
            "1/1 [==============================] - 0s 7ms/step - loss: 3.5304e-04 - mae: 0.0161\n",
            "Epoch 956/1200\n",
            "1/1 [==============================] - 0s 11ms/step - loss: 3.5066e-04 - mae: 0.0161\n",
            "Epoch 957/1200\n",
            "1/1 [==============================] - 0s 7ms/step - loss: 3.4829e-04 - mae: 0.0160\n",
            "Epoch 958/1200\n",
            "1/1 [==============================] - 0s 7ms/step - loss: 3.4593e-04 - mae: 0.0160\n",
            "Epoch 959/1200\n",
            "1/1 [==============================] - 0s 8ms/step - loss: 3.4360e-04 - mae: 0.0159\n",
            "Epoch 960/1200\n",
            "1/1 [==============================] - 0s 7ms/step - loss: 3.4127e-04 - mae: 0.0159\n",
            "Epoch 961/1200\n",
            "1/1 [==============================] - 0s 8ms/step - loss: 3.3898e-04 - mae: 0.0158\n",
            "Epoch 962/1200\n",
            "1/1 [==============================] - 0s 9ms/step - loss: 3.3669e-04 - mae: 0.0157\n",
            "Epoch 963/1200\n",
            "1/1 [==============================] - 0s 17ms/step - loss: 3.3441e-04 - mae: 0.0157\n",
            "Epoch 964/1200\n",
            "1/1 [==============================] - 0s 23ms/step - loss: 3.3215e-04 - mae: 0.0156\n",
            "Epoch 965/1200\n",
            "1/1 [==============================] - 0s 12ms/step - loss: 3.2992e-04 - mae: 0.0156\n",
            "Epoch 966/1200\n",
            "1/1 [==============================] - 0s 14ms/step - loss: 3.2769e-04 - mae: 0.0155\n",
            "Epoch 967/1200\n",
            "1/1 [==============================] - 0s 12ms/step - loss: 3.2548e-04 - mae: 0.0155\n",
            "Epoch 968/1200\n",
            "1/1 [==============================] - 0s 13ms/step - loss: 3.2328e-04 - mae: 0.0154\n",
            "Epoch 969/1200\n",
            "1/1 [==============================] - 0s 13ms/step - loss: 3.2110e-04 - mae: 0.0154\n",
            "Epoch 970/1200\n",
            "1/1 [==============================] - 0s 12ms/step - loss: 3.1894e-04 - mae: 0.0153\n",
            "Epoch 971/1200\n",
            "1/1 [==============================] - 0s 10ms/step - loss: 3.1678e-04 - mae: 0.0153\n",
            "Epoch 972/1200\n",
            "1/1 [==============================] - 0s 26ms/step - loss: 3.1465e-04 - mae: 0.0152\n",
            "Epoch 973/1200\n",
            "1/1 [==============================] - 0s 7ms/step - loss: 3.1252e-04 - mae: 0.0152\n",
            "Epoch 974/1200\n",
            "1/1 [==============================] - 0s 13ms/step - loss: 3.1041e-04 - mae: 0.0151\n",
            "Epoch 975/1200\n",
            "1/1 [==============================] - 0s 8ms/step - loss: 3.0832e-04 - mae: 0.0151\n",
            "Epoch 976/1200\n",
            "1/1 [==============================] - 0s 11ms/step - loss: 3.0624e-04 - mae: 0.0150\n",
            "Epoch 977/1200\n",
            "1/1 [==============================] - 0s 11ms/step - loss: 3.0417e-04 - mae: 0.0150\n",
            "Epoch 978/1200\n",
            "1/1 [==============================] - 0s 7ms/step - loss: 3.0211e-04 - mae: 0.0149\n",
            "Epoch 979/1200\n",
            "1/1 [==============================] - 0s 7ms/step - loss: 3.0007e-04 - mae: 0.0149\n",
            "Epoch 980/1200\n",
            "1/1 [==============================] - 0s 8ms/step - loss: 2.9805e-04 - mae: 0.0148\n",
            "Epoch 981/1200\n",
            "1/1 [==============================] - 0s 22ms/step - loss: 2.9604e-04 - mae: 0.0148\n",
            "Epoch 982/1200\n",
            "1/1 [==============================] - 0s 11ms/step - loss: 2.9404e-04 - mae: 0.0147\n",
            "Epoch 983/1200\n",
            "1/1 [==============================] - 0s 7ms/step - loss: 2.9205e-04 - mae: 0.0147\n",
            "Epoch 984/1200\n",
            "1/1 [==============================] - 0s 6ms/step - loss: 2.9008e-04 - mae: 0.0146\n",
            "Epoch 985/1200\n",
            "1/1 [==============================] - 0s 7ms/step - loss: 2.8813e-04 - mae: 0.0146\n",
            "Epoch 986/1200\n",
            "1/1 [==============================] - 0s 7ms/step - loss: 2.8617e-04 - mae: 0.0145\n",
            "Epoch 987/1200\n",
            "1/1 [==============================] - 0s 8ms/step - loss: 2.8424e-04 - mae: 0.0145\n",
            "Epoch 988/1200\n",
            "1/1 [==============================] - 0s 8ms/step - loss: 2.8232e-04 - mae: 0.0144\n",
            "Epoch 989/1200\n",
            "1/1 [==============================] - 0s 7ms/step - loss: 2.8042e-04 - mae: 0.0144\n",
            "Epoch 990/1200\n",
            "1/1 [==============================] - 0s 7ms/step - loss: 2.7853e-04 - mae: 0.0143\n",
            "Epoch 991/1200\n",
            "1/1 [==============================] - 0s 7ms/step - loss: 2.7665e-04 - mae: 0.0143\n",
            "Epoch 992/1200\n",
            "1/1 [==============================] - 0s 7ms/step - loss: 2.7478e-04 - mae: 0.0142\n",
            "Epoch 993/1200\n",
            "1/1 [==============================] - 0s 13ms/step - loss: 2.7292e-04 - mae: 0.0142\n",
            "Epoch 994/1200\n",
            "1/1 [==============================] - 0s 22ms/step - loss: 2.7108e-04 - mae: 0.0141\n",
            "Epoch 995/1200\n",
            "1/1 [==============================] - 0s 7ms/step - loss: 2.6925e-04 - mae: 0.0141\n",
            "Epoch 996/1200\n",
            "1/1 [==============================] - 0s 14ms/step - loss: 2.6743e-04 - mae: 0.0140\n",
            "Epoch 997/1200\n",
            "1/1 [==============================] - 0s 13ms/step - loss: 2.6562e-04 - mae: 0.0140\n",
            "Epoch 998/1200\n",
            "1/1 [==============================] - 0s 7ms/step - loss: 2.6384e-04 - mae: 0.0139\n",
            "Epoch 999/1200\n",
            "1/1 [==============================] - 0s 14ms/step - loss: 2.6205e-04 - mae: 0.0139\n",
            "Epoch 1000/1200\n",
            "1/1 [==============================] - 0s 12ms/step - loss: 2.6028e-04 - mae: 0.0138\n",
            "Epoch 1001/1200\n",
            "1/1 [==============================] - 0s 12ms/step - loss: 2.5853e-04 - mae: 0.0138\n",
            "Epoch 1002/1200\n",
            "1/1 [==============================] - 0s 27ms/step - loss: 2.5678e-04 - mae: 0.0138\n",
            "Epoch 1003/1200\n",
            "1/1 [==============================] - 0s 7ms/step - loss: 2.5505e-04 - mae: 0.0137\n",
            "Epoch 1004/1200\n",
            "1/1 [==============================] - 0s 18ms/step - loss: 2.5333e-04 - mae: 0.0137\n",
            "Epoch 1005/1200\n",
            "1/1 [==============================] - 0s 12ms/step - loss: 2.5162e-04 - mae: 0.0136\n",
            "Epoch 1006/1200\n",
            "1/1 [==============================] - 0s 7ms/step - loss: 2.4992e-04 - mae: 0.0136\n",
            "Epoch 1007/1200\n",
            "1/1 [==============================] - 0s 7ms/step - loss: 2.4824e-04 - mae: 0.0135\n",
            "Epoch 1008/1200\n",
            "1/1 [==============================] - 0s 12ms/step - loss: 2.4656e-04 - mae: 0.0135\n",
            "Epoch 1009/1200\n",
            "1/1 [==============================] - 0s 24ms/step - loss: 2.4489e-04 - mae: 0.0134\n",
            "Epoch 1010/1200\n",
            "1/1 [==============================] - 0s 7ms/step - loss: 2.4324e-04 - mae: 0.0134\n",
            "Epoch 1011/1200\n",
            "1/1 [==============================] - 0s 6ms/step - loss: 2.4160e-04 - mae: 0.0133\n",
            "Epoch 1012/1200\n",
            "1/1 [==============================] - 0s 6ms/step - loss: 2.3997e-04 - mae: 0.0133\n",
            "Epoch 1013/1200\n",
            "1/1 [==============================] - 0s 7ms/step - loss: 2.3835e-04 - mae: 0.0133\n",
            "Epoch 1014/1200\n",
            "1/1 [==============================] - 0s 150ms/step - loss: 2.3673e-04 - mae: 0.0132\n",
            "Epoch 1015/1200\n",
            "1/1 [==============================] - 0s 7ms/step - loss: 2.3513e-04 - mae: 0.0132\n",
            "Epoch 1016/1200\n",
            "1/1 [==============================] - 0s 6ms/step - loss: 2.3355e-04 - mae: 0.0131\n",
            "Epoch 1017/1200\n",
            "1/1 [==============================] - 0s 6ms/step - loss: 2.3197e-04 - mae: 0.0131\n",
            "Epoch 1018/1200\n",
            "1/1 [==============================] - 0s 7ms/step - loss: 2.3041e-04 - mae: 0.0130\n",
            "Epoch 1019/1200\n",
            "1/1 [==============================] - 0s 8ms/step - loss: 2.2884e-04 - mae: 0.0130\n",
            "Epoch 1020/1200\n",
            "1/1 [==============================] - 0s 17ms/step - loss: 2.2731e-04 - mae: 0.0129\n",
            "Epoch 1021/1200\n",
            "1/1 [==============================] - 0s 9ms/step - loss: 2.2577e-04 - mae: 0.0129\n",
            "Epoch 1022/1200\n",
            "1/1 [==============================] - 0s 8ms/step - loss: 2.2424e-04 - mae: 0.0129\n",
            "Epoch 1023/1200\n",
            "1/1 [==============================] - 0s 24ms/step - loss: 2.2274e-04 - mae: 0.0128\n",
            "Epoch 1024/1200\n",
            "1/1 [==============================] - 0s 12ms/step - loss: 2.2123e-04 - mae: 0.0128\n",
            "Epoch 1025/1200\n",
            "1/1 [==============================] - 0s 7ms/step - loss: 2.1974e-04 - mae: 0.0127\n",
            "Epoch 1026/1200\n",
            "1/1 [==============================] - 0s 15ms/step - loss: 2.1826e-04 - mae: 0.0127\n",
            "Epoch 1027/1200\n",
            "1/1 [==============================] - 0s 23ms/step - loss: 2.1678e-04 - mae: 0.0126\n",
            "Epoch 1028/1200\n",
            "1/1 [==============================] - 0s 7ms/step - loss: 2.1533e-04 - mae: 0.0126\n",
            "Epoch 1029/1200\n",
            "1/1 [==============================] - 0s 8ms/step - loss: 2.1387e-04 - mae: 0.0126\n",
            "Epoch 1030/1200\n",
            "1/1 [==============================] - 0s 16ms/step - loss: 2.1242e-04 - mae: 0.0125\n",
            "Epoch 1031/1200\n",
            "1/1 [==============================] - 0s 7ms/step - loss: 2.1099e-04 - mae: 0.0125\n",
            "Epoch 1032/1200\n",
            "1/1 [==============================] - 0s 33ms/step - loss: 2.0957e-04 - mae: 0.0124\n",
            "Epoch 1033/1200\n",
            "1/1 [==============================] - 0s 10ms/step - loss: 2.0816e-04 - mae: 0.0124\n",
            "Epoch 1034/1200\n",
            "1/1 [==============================] - 0s 7ms/step - loss: 2.0674e-04 - mae: 0.0123\n",
            "Epoch 1035/1200\n",
            "1/1 [==============================] - 0s 8ms/step - loss: 2.0535e-04 - mae: 0.0123\n",
            "Epoch 1036/1200\n",
            "1/1 [==============================] - 0s 9ms/step - loss: 2.0397e-04 - mae: 0.0123\n",
            "Epoch 1037/1200\n",
            "1/1 [==============================] - 0s 8ms/step - loss: 2.0259e-04 - mae: 0.0122\n",
            "Epoch 1038/1200\n",
            "1/1 [==============================] - 0s 8ms/step - loss: 2.0122e-04 - mae: 0.0122\n",
            "Epoch 1039/1200\n",
            "1/1 [==============================] - 0s 14ms/step - loss: 1.9986e-04 - mae: 0.0121\n",
            "Epoch 1040/1200\n",
            "1/1 [==============================] - 0s 7ms/step - loss: 1.9852e-04 - mae: 0.0121\n",
            "Epoch 1041/1200\n",
            "1/1 [==============================] - 0s 7ms/step - loss: 1.9717e-04 - mae: 0.0121\n",
            "Epoch 1042/1200\n",
            "1/1 [==============================] - 0s 8ms/step - loss: 1.9585e-04 - mae: 0.0120\n",
            "Epoch 1043/1200\n",
            "1/1 [==============================] - 0s 8ms/step - loss: 1.9452e-04 - mae: 0.0120\n",
            "Epoch 1044/1200\n",
            "1/1 [==============================] - 0s 8ms/step - loss: 1.9320e-04 - mae: 0.0119\n",
            "Epoch 1045/1200\n",
            "1/1 [==============================] - 0s 11ms/step - loss: 1.9189e-04 - mae: 0.0119\n",
            "Epoch 1046/1200\n",
            "1/1 [==============================] - 0s 9ms/step - loss: 1.9061e-04 - mae: 0.0119\n",
            "Epoch 1047/1200\n",
            "1/1 [==============================] - 0s 16ms/step - loss: 1.8932e-04 - mae: 0.0118\n",
            "Epoch 1048/1200\n",
            "1/1 [==============================] - 0s 7ms/step - loss: 1.8804e-04 - mae: 0.0118\n",
            "Epoch 1049/1200\n",
            "1/1 [==============================] - 0s 7ms/step - loss: 1.8677e-04 - mae: 0.0117\n",
            "Epoch 1050/1200\n",
            "1/1 [==============================] - 0s 7ms/step - loss: 1.8551e-04 - mae: 0.0117\n",
            "Epoch 1051/1200\n",
            "1/1 [==============================] - 0s 11ms/step - loss: 1.8426e-04 - mae: 0.0117\n",
            "Epoch 1052/1200\n",
            "1/1 [==============================] - 0s 14ms/step - loss: 1.8301e-04 - mae: 0.0116\n",
            "Epoch 1053/1200\n",
            "1/1 [==============================] - 0s 16ms/step - loss: 1.8177e-04 - mae: 0.0116\n",
            "Epoch 1054/1200\n",
            "1/1 [==============================] - 0s 11ms/step - loss: 1.8055e-04 - mae: 0.0115\n",
            "Epoch 1055/1200\n",
            "1/1 [==============================] - 0s 35ms/step - loss: 1.7933e-04 - mae: 0.0115\n",
            "Epoch 1056/1200\n",
            "1/1 [==============================] - 0s 40ms/step - loss: 1.7812e-04 - mae: 0.0115\n",
            "Epoch 1057/1200\n",
            "1/1 [==============================] - 0s 35ms/step - loss: 1.7692e-04 - mae: 0.0114\n",
            "Epoch 1058/1200\n",
            "1/1 [==============================] - 0s 84ms/step - loss: 1.7572e-04 - mae: 0.0114\n",
            "Epoch 1059/1200\n",
            "1/1 [==============================] - 0s 58ms/step - loss: 1.7455e-04 - mae: 0.0113\n",
            "Epoch 1060/1200\n",
            "1/1 [==============================] - 0s 30ms/step - loss: 1.7336e-04 - mae: 0.0113\n",
            "Epoch 1061/1200\n",
            "1/1 [==============================] - 0s 24ms/step - loss: 1.7219e-04 - mae: 0.0113\n",
            "Epoch 1062/1200\n",
            "1/1 [==============================] - 0s 32ms/step - loss: 1.7104e-04 - mae: 0.0112\n",
            "Epoch 1063/1200\n",
            "1/1 [==============================] - 0s 16ms/step - loss: 1.6987e-04 - mae: 0.0112\n",
            "Epoch 1064/1200\n",
            "1/1 [==============================] - 0s 67ms/step - loss: 1.6874e-04 - mae: 0.0111\n",
            "Epoch 1065/1200\n",
            "1/1 [==============================] - 0s 325ms/step - loss: 1.6760e-04 - mae: 0.0111\n",
            "Epoch 1066/1200\n",
            "1/1 [==============================] - 0s 34ms/step - loss: 1.6646e-04 - mae: 0.0111\n",
            "Epoch 1067/1200\n",
            "1/1 [==============================] - 0s 72ms/step - loss: 1.6534e-04 - mae: 0.0110\n",
            "Epoch 1068/1200\n",
            "1/1 [==============================] - 0s 14ms/step - loss: 1.6422e-04 - mae: 0.0110\n",
            "Epoch 1069/1200\n",
            "1/1 [==============================] - 0s 10ms/step - loss: 1.6311e-04 - mae: 0.0110\n",
            "Epoch 1070/1200\n",
            "1/1 [==============================] - 0s 9ms/step - loss: 1.6201e-04 - mae: 0.0109\n",
            "Epoch 1071/1200\n",
            "1/1 [==============================] - 0s 8ms/step - loss: 1.6092e-04 - mae: 0.0109\n",
            "Epoch 1072/1200\n",
            "1/1 [==============================] - 0s 11ms/step - loss: 1.5983e-04 - mae: 0.0109\n",
            "Epoch 1073/1200\n",
            "1/1 [==============================] - 0s 10ms/step - loss: 1.5876e-04 - mae: 0.0108\n",
            "Epoch 1074/1200\n",
            "1/1 [==============================] - 0s 10ms/step - loss: 1.5768e-04 - mae: 0.0108\n",
            "Epoch 1075/1200\n",
            "1/1 [==============================] - 0s 12ms/step - loss: 1.5662e-04 - mae: 0.0107\n",
            "Epoch 1076/1200\n",
            "1/1 [==============================] - 0s 9ms/step - loss: 1.5556e-04 - mae: 0.0107\n",
            "Epoch 1077/1200\n",
            "1/1 [==============================] - 0s 42ms/step - loss: 1.5452e-04 - mae: 0.0107\n",
            "Epoch 1078/1200\n",
            "1/1 [==============================] - 0s 15ms/step - loss: 1.5347e-04 - mae: 0.0106\n",
            "Epoch 1079/1200\n",
            "1/1 [==============================] - 0s 28ms/step - loss: 1.5243e-04 - mae: 0.0106\n",
            "Epoch 1080/1200\n",
            "1/1 [==============================] - 0s 20ms/step - loss: 1.5140e-04 - mae: 0.0106\n",
            "Epoch 1081/1200\n",
            "1/1 [==============================] - 0s 17ms/step - loss: 1.5038e-04 - mae: 0.0105\n",
            "Epoch 1082/1200\n",
            "1/1 [==============================] - 0s 23ms/step - loss: 1.4937e-04 - mae: 0.0105\n",
            "Epoch 1083/1200\n",
            "1/1 [==============================] - 0s 13ms/step - loss: 1.4836e-04 - mae: 0.0105\n",
            "Epoch 1084/1200\n",
            "1/1 [==============================] - 0s 14ms/step - loss: 1.4735e-04 - mae: 0.0104\n",
            "Epoch 1085/1200\n",
            "1/1 [==============================] - 0s 16ms/step - loss: 1.4636e-04 - mae: 0.0104\n",
            "Epoch 1086/1200\n",
            "1/1 [==============================] - 0s 21ms/step - loss: 1.4537e-04 - mae: 0.0103\n",
            "Epoch 1087/1200\n",
            "1/1 [==============================] - 0s 17ms/step - loss: 1.4439e-04 - mae: 0.0103\n",
            "Epoch 1088/1200\n",
            "1/1 [==============================] - 0s 9ms/step - loss: 1.4341e-04 - mae: 0.0103\n",
            "Epoch 1089/1200\n",
            "1/1 [==============================] - 0s 13ms/step - loss: 1.4245e-04 - mae: 0.0102\n",
            "Epoch 1090/1200\n",
            "1/1 [==============================] - 0s 12ms/step - loss: 1.4149e-04 - mae: 0.0102\n",
            "Epoch 1091/1200\n",
            "1/1 [==============================] - 0s 22ms/step - loss: 1.4054e-04 - mae: 0.0102\n",
            "Epoch 1092/1200\n",
            "1/1 [==============================] - 0s 15ms/step - loss: 1.3958e-04 - mae: 0.0101\n",
            "Epoch 1093/1200\n",
            "1/1 [==============================] - 0s 21ms/step - loss: 1.3864e-04 - mae: 0.0101\n",
            "Epoch 1094/1200\n",
            "1/1 [==============================] - 0s 11ms/step - loss: 1.3771e-04 - mae: 0.0101\n",
            "Epoch 1095/1200\n",
            "1/1 [==============================] - 0s 9ms/step - loss: 1.3677e-04 - mae: 0.0100\n",
            "Epoch 1096/1200\n",
            "1/1 [==============================] - 0s 9ms/step - loss: 1.3586e-04 - mae: 0.0100\n",
            "Epoch 1097/1200\n",
            "1/1 [==============================] - 0s 12ms/step - loss: 1.3494e-04 - mae: 0.0100\n",
            "Epoch 1098/1200\n",
            "1/1 [==============================] - 0s 8ms/step - loss: 1.3402e-04 - mae: 0.0099\n",
            "Epoch 1099/1200\n",
            "1/1 [==============================] - 0s 19ms/step - loss: 1.3311e-04 - mae: 0.0099\n",
            "Epoch 1100/1200\n",
            "1/1 [==============================] - 0s 21ms/step - loss: 1.3222e-04 - mae: 0.0099\n",
            "Epoch 1101/1200\n",
            "1/1 [==============================] - 0s 16ms/step - loss: 1.3133e-04 - mae: 0.0098\n",
            "Epoch 1102/1200\n",
            "1/1 [==============================] - 0s 14ms/step - loss: 1.3044e-04 - mae: 0.0098\n",
            "Epoch 1103/1200\n",
            "1/1 [==============================] - 0s 14ms/step - loss: 1.2957e-04 - mae: 0.0098\n",
            "Epoch 1104/1200\n",
            "1/1 [==============================] - 0s 7ms/step - loss: 1.2869e-04 - mae: 0.0097\n",
            "Epoch 1105/1200\n",
            "1/1 [==============================] - 0s 10ms/step - loss: 1.2782e-04 - mae: 0.0097\n",
            "Epoch 1106/1200\n",
            "1/1 [==============================] - 0s 13ms/step - loss: 1.2696e-04 - mae: 0.0097\n",
            "Epoch 1107/1200\n",
            "1/1 [==============================] - 0s 10ms/step - loss: 1.2609e-04 - mae: 0.0096\n",
            "Epoch 1108/1200\n",
            "1/1 [==============================] - 0s 15ms/step - loss: 1.2525e-04 - mae: 0.0096\n",
            "Epoch 1109/1200\n",
            "1/1 [==============================] - 0s 8ms/step - loss: 1.2440e-04 - mae: 0.0096\n",
            "Epoch 1110/1200\n",
            "1/1 [==============================] - 0s 9ms/step - loss: 1.2356e-04 - mae: 0.0095\n",
            "Epoch 1111/1200\n",
            "1/1 [==============================] - 0s 20ms/step - loss: 1.2273e-04 - mae: 0.0095\n",
            "Epoch 1112/1200\n",
            "1/1 [==============================] - 0s 8ms/step - loss: 1.2190e-04 - mae: 0.0095\n",
            "Epoch 1113/1200\n",
            "1/1 [==============================] - 0s 14ms/step - loss: 1.2108e-04 - mae: 0.0094\n",
            "Epoch 1114/1200\n",
            "1/1 [==============================] - 0s 15ms/step - loss: 1.2026e-04 - mae: 0.0094\n",
            "Epoch 1115/1200\n",
            "1/1 [==============================] - 0s 12ms/step - loss: 1.1945e-04 - mae: 0.0094\n",
            "Epoch 1116/1200\n",
            "1/1 [==============================] - 0s 13ms/step - loss: 1.1864e-04 - mae: 0.0093\n",
            "Epoch 1117/1200\n",
            "1/1 [==============================] - 0s 16ms/step - loss: 1.1784e-04 - mae: 0.0093\n",
            "Epoch 1118/1200\n",
            "1/1 [==============================] - 0s 17ms/step - loss: 1.1705e-04 - mae: 0.0093\n",
            "Epoch 1119/1200\n",
            "1/1 [==============================] - 0s 9ms/step - loss: 1.1625e-04 - mae: 0.0093\n",
            "Epoch 1120/1200\n",
            "1/1 [==============================] - 0s 12ms/step - loss: 1.1547e-04 - mae: 0.0092\n",
            "Epoch 1121/1200\n",
            "1/1 [==============================] - 0s 17ms/step - loss: 1.1469e-04 - mae: 0.0092\n",
            "Epoch 1122/1200\n",
            "1/1 [==============================] - 0s 17ms/step - loss: 1.1391e-04 - mae: 0.0092\n",
            "Epoch 1123/1200\n",
            "1/1 [==============================] - 0s 8ms/step - loss: 1.1315e-04 - mae: 0.0091\n",
            "Epoch 1124/1200\n",
            "1/1 [==============================] - 0s 10ms/step - loss: 1.1238e-04 - mae: 0.0091\n",
            "Epoch 1125/1200\n",
            "1/1 [==============================] - 0s 22ms/step - loss: 1.1162e-04 - mae: 0.0091\n",
            "Epoch 1126/1200\n",
            "1/1 [==============================] - 0s 20ms/step - loss: 1.1087e-04 - mae: 0.0090\n",
            "Epoch 1127/1200\n",
            "1/1 [==============================] - 0s 14ms/step - loss: 1.1012e-04 - mae: 0.0090\n",
            "Epoch 1128/1200\n",
            "1/1 [==============================] - 0s 8ms/step - loss: 1.0938e-04 - mae: 0.0090\n",
            "Epoch 1129/1200\n",
            "1/1 [==============================] - 0s 14ms/step - loss: 1.0864e-04 - mae: 0.0089\n",
            "Epoch 1130/1200\n",
            "1/1 [==============================] - 0s 10ms/step - loss: 1.0791e-04 - mae: 0.0089\n",
            "Epoch 1131/1200\n",
            "1/1 [==============================] - 0s 11ms/step - loss: 1.0718e-04 - mae: 0.0089\n",
            "Epoch 1132/1200\n",
            "1/1 [==============================] - 0s 10ms/step - loss: 1.0646e-04 - mae: 0.0089\n",
            "Epoch 1133/1200\n",
            "1/1 [==============================] - 0s 14ms/step - loss: 1.0574e-04 - mae: 0.0088\n",
            "Epoch 1134/1200\n",
            "1/1 [==============================] - 0s 14ms/step - loss: 1.0502e-04 - mae: 0.0088\n",
            "Epoch 1135/1200\n",
            "1/1 [==============================] - 0s 13ms/step - loss: 1.0431e-04 - mae: 0.0088\n",
            "Epoch 1136/1200\n",
            "1/1 [==============================] - 0s 13ms/step - loss: 1.0361e-04 - mae: 0.0087\n",
            "Epoch 1137/1200\n",
            "1/1 [==============================] - 0s 8ms/step - loss: 1.0291e-04 - mae: 0.0087\n",
            "Epoch 1138/1200\n",
            "1/1 [==============================] - 0s 14ms/step - loss: 1.0222e-04 - mae: 0.0087\n",
            "Epoch 1139/1200\n",
            "1/1 [==============================] - 0s 11ms/step - loss: 1.0153e-04 - mae: 0.0086\n",
            "Epoch 1140/1200\n",
            "1/1 [==============================] - 0s 15ms/step - loss: 1.0084e-04 - mae: 0.0086\n",
            "Epoch 1141/1200\n",
            "1/1 [==============================] - 0s 12ms/step - loss: 1.0016e-04 - mae: 0.0086\n",
            "Epoch 1142/1200\n",
            "1/1 [==============================] - 0s 12ms/step - loss: 9.9481e-05 - mae: 0.0086\n",
            "Epoch 1143/1200\n",
            "1/1 [==============================] - 0s 16ms/step - loss: 9.8808e-05 - mae: 0.0085\n",
            "Epoch 1144/1200\n",
            "1/1 [==============================] - 0s 18ms/step - loss: 9.8142e-05 - mae: 0.0085\n",
            "Epoch 1145/1200\n",
            "1/1 [==============================] - 0s 20ms/step - loss: 9.7487e-05 - mae: 0.0085\n",
            "Epoch 1146/1200\n",
            "1/1 [==============================] - 0s 16ms/step - loss: 9.6826e-05 - mae: 0.0084\n",
            "Epoch 1147/1200\n",
            "1/1 [==============================] - 0s 21ms/step - loss: 9.6171e-05 - mae: 0.0084\n",
            "Epoch 1148/1200\n",
            "1/1 [==============================] - 0s 39ms/step - loss: 9.5519e-05 - mae: 0.0084\n",
            "Epoch 1149/1200\n",
            "1/1 [==============================] - 0s 88ms/step - loss: 9.4881e-05 - mae: 0.0084\n",
            "Epoch 1150/1200\n",
            "1/1 [==============================] - 0s 66ms/step - loss: 9.4237e-05 - mae: 0.0083\n",
            "Epoch 1151/1200\n",
            "1/1 [==============================] - 0s 20ms/step - loss: 9.3597e-05 - mae: 0.0083\n",
            "Epoch 1152/1200\n",
            "1/1 [==============================] - 0s 15ms/step - loss: 9.2969e-05 - mae: 0.0083\n",
            "Epoch 1153/1200\n",
            "1/1 [==============================] - 0s 20ms/step - loss: 9.2345e-05 - mae: 0.0082\n",
            "Epoch 1154/1200\n",
            "1/1 [==============================] - 0s 13ms/step - loss: 9.1720e-05 - mae: 0.0082\n",
            "Epoch 1155/1200\n",
            "1/1 [==============================] - 0s 19ms/step - loss: 9.1103e-05 - mae: 0.0082\n",
            "Epoch 1156/1200\n",
            "1/1 [==============================] - 0s 22ms/step - loss: 9.0488e-05 - mae: 0.0082\n",
            "Epoch 1157/1200\n",
            "1/1 [==============================] - 0s 14ms/step - loss: 8.9874e-05 - mae: 0.0081\n",
            "Epoch 1158/1200\n",
            "1/1 [==============================] - 0s 20ms/step - loss: 8.9268e-05 - mae: 0.0081\n",
            "Epoch 1159/1200\n",
            "1/1 [==============================] - 0s 15ms/step - loss: 8.8668e-05 - mae: 0.0081\n",
            "Epoch 1160/1200\n",
            "1/1 [==============================] - 0s 11ms/step - loss: 8.8060e-05 - mae: 0.0081\n",
            "Epoch 1161/1200\n",
            "1/1 [==============================] - 0s 16ms/step - loss: 8.7473e-05 - mae: 0.0080\n",
            "Epoch 1162/1200\n",
            "1/1 [==============================] - 0s 13ms/step - loss: 8.6879e-05 - mae: 0.0080\n",
            "Epoch 1163/1200\n",
            "1/1 [==============================] - 0s 12ms/step - loss: 8.6295e-05 - mae: 0.0080\n",
            "Epoch 1164/1200\n",
            "1/1 [==============================] - 0s 7ms/step - loss: 8.5707e-05 - mae: 0.0079\n",
            "Epoch 1165/1200\n",
            "1/1 [==============================] - 0s 68ms/step - loss: 8.5128e-05 - mae: 0.0079\n",
            "Epoch 1166/1200\n",
            "1/1 [==============================] - 0s 15ms/step - loss: 8.4558e-05 - mae: 0.0079\n",
            "Epoch 1167/1200\n",
            "1/1 [==============================] - 0s 33ms/step - loss: 8.3988e-05 - mae: 0.0079\n",
            "Epoch 1168/1200\n",
            "1/1 [==============================] - 0s 32ms/step - loss: 8.3416e-05 - mae: 0.0078\n",
            "Epoch 1169/1200\n",
            "1/1 [==============================] - 0s 10ms/step - loss: 8.2859e-05 - mae: 0.0078\n",
            "Epoch 1170/1200\n",
            "1/1 [==============================] - 0s 12ms/step - loss: 8.2299e-05 - mae: 0.0078\n",
            "Epoch 1171/1200\n",
            "1/1 [==============================] - 0s 11ms/step - loss: 8.1741e-05 - mae: 0.0078\n",
            "Epoch 1172/1200\n",
            "1/1 [==============================] - 0s 12ms/step - loss: 8.1188e-05 - mae: 0.0077\n",
            "Epoch 1173/1200\n",
            "1/1 [==============================] - 0s 11ms/step - loss: 8.0641e-05 - mae: 0.0077\n",
            "Epoch 1174/1200\n",
            "1/1 [==============================] - 0s 12ms/step - loss: 8.0101e-05 - mae: 0.0077\n",
            "Epoch 1175/1200\n",
            "1/1 [==============================] - 0s 11ms/step - loss: 7.9554e-05 - mae: 0.0077\n",
            "Epoch 1176/1200\n",
            "1/1 [==============================] - 0s 19ms/step - loss: 7.9023e-05 - mae: 0.0076\n",
            "Epoch 1177/1200\n",
            "1/1 [==============================] - 0s 18ms/step - loss: 7.8486e-05 - mae: 0.0076\n",
            "Epoch 1178/1200\n",
            "1/1 [==============================] - 0s 15ms/step - loss: 7.7960e-05 - mae: 0.0076\n",
            "Epoch 1179/1200\n",
            "1/1 [==============================] - 0s 7ms/step - loss: 7.7424e-05 - mae: 0.0076\n",
            "Epoch 1180/1200\n",
            "1/1 [==============================] - 0s 20ms/step - loss: 7.6905e-05 - mae: 0.0075\n",
            "Epoch 1181/1200\n",
            "1/1 [==============================] - 0s 23ms/step - loss: 7.6385e-05 - mae: 0.0075\n",
            "Epoch 1182/1200\n",
            "1/1 [==============================] - 0s 13ms/step - loss: 7.5874e-05 - mae: 0.0075\n",
            "Epoch 1183/1200\n",
            "1/1 [==============================] - 0s 12ms/step - loss: 7.5360e-05 - mae: 0.0075\n",
            "Epoch 1184/1200\n",
            "1/1 [==============================] - 0s 8ms/step - loss: 7.4852e-05 - mae: 0.0074\n",
            "Epoch 1185/1200\n",
            "1/1 [==============================] - 0s 6ms/step - loss: 7.4346e-05 - mae: 0.0074\n",
            "Epoch 1186/1200\n",
            "1/1 [==============================] - 0s 6ms/step - loss: 7.3846e-05 - mae: 0.0074\n",
            "Epoch 1187/1200\n",
            "1/1 [==============================] - 0s 11ms/step - loss: 7.3346e-05 - mae: 0.0074\n",
            "Epoch 1188/1200\n",
            "1/1 [==============================] - 0s 12ms/step - loss: 7.2850e-05 - mae: 0.0073\n",
            "Epoch 1189/1200\n",
            "1/1 [==============================] - 0s 21ms/step - loss: 7.2359e-05 - mae: 0.0073\n",
            "Epoch 1190/1200\n",
            "1/1 [==============================] - 0s 10ms/step - loss: 7.1871e-05 - mae: 0.0073\n",
            "Epoch 1191/1200\n",
            "1/1 [==============================] - 0s 15ms/step - loss: 7.1389e-05 - mae: 0.0073\n",
            "Epoch 1192/1200\n",
            "1/1 [==============================] - 0s 58ms/step - loss: 7.0905e-05 - mae: 0.0072\n",
            "Epoch 1193/1200\n",
            "1/1 [==============================] - 0s 14ms/step - loss: 7.0426e-05 - mae: 0.0072\n",
            "Epoch 1194/1200\n",
            "1/1 [==============================] - 0s 8ms/step - loss: 6.9953e-05 - mae: 0.0072\n",
            "Epoch 1195/1200\n",
            "1/1 [==============================] - 0s 9ms/step - loss: 6.9478e-05 - mae: 0.0072\n",
            "Epoch 1196/1200\n",
            "1/1 [==============================] - 0s 8ms/step - loss: 6.9005e-05 - mae: 0.0071\n",
            "Epoch 1197/1200\n",
            "1/1 [==============================] - 0s 10ms/step - loss: 6.8540e-05 - mae: 0.0071\n",
            "Epoch 1198/1200\n",
            "1/1 [==============================] - 0s 9ms/step - loss: 6.8078e-05 - mae: 0.0071\n",
            "Epoch 1199/1200\n",
            "1/1 [==============================] - 0s 8ms/step - loss: 6.7620e-05 - mae: 0.0071\n",
            "Epoch 1200/1200\n",
            "1/1 [==============================] - 0s 10ms/step - loss: 6.7163e-05 - mae: 0.0070\n"
          ]
        }
      ]
    },
    {
      "cell_type": "code",
      "source": [
        "#20 epochs까지 loss 수렴에 대한 시각화\n",
        "plt.plot(history.history['loss'], label='loss')\n",
        "plt.plot(history.history['mae'], label='mae')\n",
        "plt.xlim(-1,20)\n",
        "plt.title('Loss')\n",
        "plt.legend()\n",
        "plt.show()"
      ],
      "metadata": {
        "colab": {
          "base_uri": "https://localhost:8080/",
          "height": 281
        },
        "id": "ndNDWAoorkHG",
        "outputId": "ffc7eb2e-f9dd-4f72-fe69-0c3eae6582f4"
      },
      "id": "ndNDWAoorkHG",
      "execution_count": 32,
      "outputs": [
        {
          "output_type": "display_data",
          "data": {
            "text/plain": [
              "<Figure size 432x288 with 1 Axes>"
            ],
            "image/png": "[encoded data removed]"
          },
          "metadata": {
            "needs_background": "light"
          }
        }
      ]
    },
    {
      "cell_type": "markdown",
      "source": [
        "### 2-9 검증\n",
        "- evaluate 메소드로 모델 성능 검증할 수 있음\n",
        "- 일반적으로 검증 데이터셋 입력해서 검증"
      ],
      "metadata": {
        "id": "QQ_PRWYPr-qK"
      },
      "id": "QQ_PRWYPr-qK"
    },
    {
      "cell_type": "code",
      "source": [
        "model.evaluate(x,y)"
      ],
      "metadata": {
        "colab": {
          "base_uri": "https://localhost:8080/"
        },
        "id": "t8XAIA4yr7VB",
        "outputId": "eb336167-2253-4af8-be57-907d68a8fab4"
      },
      "id": "t8XAIA4yr7VB",
      "execution_count": 33,
      "outputs": [
        {
          "output_type": "stream",
          "name": "stdout",
          "text": [
            "1/1 [==============================] - 0s 359ms/step - loss: 6.6708e-05 - mae: 0.0070\n"
          ]
        },
        {
          "output_type": "execute_result",
          "data": {
            "text/plain": [
              "[6.67077474645339e-05, 0.007010268978774548]"
            ]
          },
          "metadata": {},
          "execution_count": 33
        }
      ]
    },
    {
      "cell_type": "markdown",
      "source": [
        "### 2-10 예측"
      ],
      "metadata": {
        "id": "kl3lRJJOsSpV"
      },
      "id": "kl3lRJJOsSpV"
    },
    {
      "cell_type": "code",
      "source": [
        "model.predict([10])  #y=32"
      ],
      "metadata": {
        "colab": {
          "base_uri": "https://localhost:8080/"
        },
        "id": "t7FyL9ETsD3b",
        "outputId": "5d81da14-3dda-4dc9-df34-93f417acae80"
      },
      "id": "t7FyL9ETsD3b",
      "execution_count": 34,
      "outputs": [
        {
          "output_type": "stream",
          "name": "stdout",
          "text": [
            "1/1 [==============================] - 0s 232ms/step\n"
          ]
        },
        {
          "output_type": "execute_result",
          "data": {
            "text/plain": [
              "array([[32.033882]], dtype=float32)"
            ]
          },
          "metadata": {},
          "execution_count": 34
        }
      ]
    },
    {
      "cell_type": "markdown",
      "source": [
        "##3.심층 신경망으로 이미지 분류\n",
        "### 3-1 케라스 내장 데이터셋 로드"
      ],
      "metadata": {
        "id": "XXjF1q6js0fd"
      },
      "id": "XXjF1q6js0fd"
    },
    {
      "cell_type": "code",
      "source": [
        "import tensorflow as tf\n",
        "\n",
        "#케라스의 내장 데이터셋에서 mnist 데이터셋 로드\n",
        "mnist = tf.keras.datasets.mnist"
      ],
      "metadata": {
        "id": "e_ziG6zjswOd"
      },
      "id": "e_ziG6zjswOd",
      "execution_count": 35,
      "outputs": []
    },
    {
      "cell_type": "code",
      "source": [
        "#load_data()로 데이터셋 로드 - train, test 따로 제공\n",
        "(x_train, y_train),(x_test, y_test) = mnist.load_data()"
      ],
      "metadata": {
        "id": "Hf8PQK2ytRXi"
      },
      "id": "Hf8PQK2ytRXi",
      "execution_count": 37,
      "outputs": []
    },
    {
      "cell_type": "code",
      "source": [
        "#확인\n",
        "print('train set :', x_train.shape, y_train.shape)\n",
        "print('test set :', x_test.shape, y_test.shape)"
      ],
      "metadata": {
        "colab": {
          "base_uri": "https://localhost:8080/"
        },
        "id": "JPVm1Gn-tk1G",
        "outputId": "1761ef9c-b84f-4816-fbfe-675588a962b8"
      },
      "id": "JPVm1Gn-tk1G",
      "execution_count": 38,
      "outputs": [
        {
          "output_type": "stream",
          "name": "stdout",
          "text": [
            "train set : (60000, 28, 28) (60000,)\n",
            "test set : (10000, 28, 28) (10000,)\n"
          ]
        }
      ]
    },
    {
      "cell_type": "code",
      "source": [
        "#시각화\n",
        "\n",
        "#canvas 생성\n",
        "fig, axes = plt.subplots(3,5)\n",
        "fig.set_size_inches(8, 5)\n",
        "\n",
        "for i in range(15):\n",
        "  ax = axes[i//5, i%5]\n",
        "  #imshow로 이미지 시각화\n",
        "  ax.imshow(x_train[i], cmap='gray')\n",
        "  ax.axis('off')\n",
        "  ax.set_title(str(y_train[i]))\n",
        "\n",
        "plt.tight_layout()\n",
        "plt.show()"
      ],
      "metadata": {
        "colab": {
          "base_uri": "https://localhost:8080/",
          "height": 371
        },
        "id": "DRVmBtFyt3c-",
        "outputId": "b7e95b7f-30c1-456e-b2ed-752415bd0375"
      },
      "id": "DRVmBtFyt3c-",
      "execution_count": 39,
      "outputs": [
        {
          "output_type": "display_data",
          "data": {
            "text/plain": [
              "<Figure size 576x360 with 15 Axes>"
            ],
            "image/png": "[encoded data removed]"
          },
          "metadata": {
            "needs_background": "light"
          }
        }
      ]
    },
    {
      "cell_type": "markdown",
      "source": [
        "###3-2 데이터 전처리\n",
        "- x_train : 넘파이 배열, 배열의 각 원소는 이미지를 구성하는 하나의 픽셀값과 일대일 매칭\n",
        "- 입력 데이터 정규화하면 경사하강법의 수렴 속도가 빨라지고 국소 최적에 빠지는 현상 방지해줌"
      ],
      "metadata": {
        "id": "IJxMGXdEuagY"
      },
      "id": "IJxMGXdEuagY"
    },
    {
      "cell_type": "code",
      "source": [
        "x_train[0, 10:15, 10:15]"
      ],
      "metadata": {
        "colab": {
          "base_uri": "https://localhost:8080/"
        },
        "id": "NVa2Ps5puWVq",
        "outputId": "430bc165-c41a-47fa-f1e4-6494bef3ad9e"
      },
      "id": "NVa2Ps5puWVq",
      "execution_count": 40,
      "outputs": [
        {
          "output_type": "execute_result",
          "data": {
            "text/plain": [
              "array([[  1, 154, 253,  90,   0],\n",
              "       [  0, 139, 253, 190,   2],\n",
              "       [  0,  11, 190, 253,  70],\n",
              "       [  0,   0,  35, 241, 225],\n",
              "       [  0,   0,   0,  81, 240]], dtype=uint8)"
            ]
          },
          "metadata": {},
          "execution_count": 40
        }
      ]
    },
    {
      "cell_type": "code",
      "source": [
        "#픽셀 값의 최소/최댓값 확인\n",
        "print(f'정규화 전] 최소값 : {x_train.min()}, 최댓값 : {x_train.max()}')\n",
        "\n",
        "#데이터 정규화\n",
        "x_train = x_train/x_train.max()\n",
        "\n",
        "#정규화 후 최소/최댓값 확인\n",
        "print(f'정규화 후] 최소값 : {x_train.min()}, 최댓값 : {x_train.max()}')"
      ],
      "metadata": {
        "colab": {
          "base_uri": "https://localhost:8080/"
        },
        "id": "uJIPH_DGur2G",
        "outputId": "aab72025-bd76-45a0-9304-92b0e0fed492"
      },
      "id": "uJIPH_DGur2G",
      "execution_count": 41,
      "outputs": [
        {
          "output_type": "stream",
          "name": "stdout",
          "text": [
            "정규화 전] 최소값 : 0, 최댓값 : 255\n",
            "정규화 후] 최소값 : 0.0, 최댓값 : 1.0\n"
          ]
        }
      ]
    },
    {
      "cell_type": "code",
      "source": [
        "#test에도\n",
        "x_test = x_test/x_test.max()"
      ],
      "metadata": {
        "id": "Cvh8vwaCvGHh"
      },
      "id": "Cvh8vwaCvGHh",
      "execution_count": 42,
      "outputs": []
    },
    {
      "cell_type": "code",
      "source": [
        "#다시 확인\n",
        "x_train[0, 10:15, 10:15]"
      ],
      "metadata": {
        "colab": {
          "base_uri": "https://localhost:8080/"
        },
        "id": "eFoTpkNMvOj-",
        "outputId": "da95f77f-bb8b-4df8-b575-38993cb38fac"
      },
      "id": "eFoTpkNMvOj-",
      "execution_count": 43,
      "outputs": [
        {
          "output_type": "execute_result",
          "data": {
            "text/plain": [
              "array([[0.00392157, 0.60392157, 0.99215686, 0.35294118, 0.        ],\n",
              "       [0.        , 0.54509804, 0.99215686, 0.74509804, 0.00784314],\n",
              "       [0.        , 0.04313725, 0.74509804, 0.99215686, 0.2745098 ],\n",
              "       [0.        , 0.        , 0.1372549 , 0.94509804, 0.88235294],\n",
              "       [0.        , 0.        , 0.        , 0.31764706, 0.94117647]])"
            ]
          },
          "metadata": {},
          "execution_count": 43
        }
      ]
    },
    {
      "cell_type": "markdown",
      "source": [
        "### 3-3 Flatten 레이어\n",
        "- 2차원 입력은 Dense 레이어에 입력값으로 넣을 수 없음"
      ],
      "metadata": {
        "id": "YalD7Lr1vp_n"
      },
      "id": "YalD7Lr1vp_n"
    },
    {
      "cell_type": "code",
      "source": [
        "#1차원으로 전처리\n",
        "print(f'변경 전 shape : {x_train.shape}')\n",
        "print(f'1D로 shape 변경 후 : {x_train.reshape(60000,-1).shape}')"
      ],
      "metadata": {
        "colab": {
          "base_uri": "https://localhost:8080/"
        },
        "id": "GjBwl7y2vT6Y",
        "outputId": "fac77837-86ee-48dc-8fc9-c453818b4a34"
      },
      "id": "GjBwl7y2vT6Y",
      "execution_count": 44,
      "outputs": [
        {
          "output_type": "stream",
          "name": "stdout",
          "text": [
            "변경 전 shape : (60000, 28, 28)\n",
            "1D로 shape 변경 후 : (60000, 784)\n"
          ]
        }
      ]
    },
    {
      "cell_type": "code",
      "source": [
        "#Flatten 레이어 적용\n",
        "print(f'Flatten 적용 후 : {tf.keras.layers.Flatten()(x_train).shape}')"
      ],
      "metadata": {
        "colab": {
          "base_uri": "https://localhost:8080/"
        },
        "id": "R7O1ndlmwErX",
        "outputId": "0d611190-683a-4843-e109-5c3f8ce6b426"
      },
      "id": "R7O1ndlmwErX",
      "execution_count": 45,
      "outputs": [
        {
          "output_type": "stream",
          "name": "stdout",
          "text": [
            "Flatten 적용 후 : (60000, 784)\n"
          ]
        }
      ]
    },
    {
      "cell_type": "markdown",
      "source": [
        "### 3-4 활성화 함수\n",
        "- 활성화 함수 : 입력을 비선형 출력으로 변환해주는 함수, 일밙거으로 선형관계를 나타내는 함수에 비선형성을 추가하는 방법으로 표현하기도 함\n",
        "  - 비선형성을 추가하지 않고 선형 함수로만 층을 구성하면 모델 깊게 구성해도 결국 선형함수로 표현됨\n",
        "  - 시그모이드, 하이퍼볼릭 탄젠트, ReLU, Leaky ReLU"
      ],
      "metadata": {
        "id": "9pwVRRbewXLD"
      },
      "id": "9pwVRRbewXLD"
    },
    {
      "cell_type": "code",
      "source": [
        "#Dense레이어에 relu 활성화 함수 적용한 경우\n",
        "tf.keras.layers.Dense(128, activation='relu')"
      ],
      "metadata": {
        "colab": {
          "base_uri": "https://localhost:8080/"
        },
        "id": "j9WtN23LwV1V",
        "outputId": "9961e7f7-1385-4751-b47d-bce510442eb9"
      },
      "id": "j9WtN23LwV1V",
      "execution_count": 46,
      "outputs": [
        {
          "output_type": "execute_result",
          "data": {
            "text/plain": [
              "<keras.layers.core.dense.Dense at 0x7f941e150f10>"
            ]
          },
          "metadata": {},
          "execution_count": 46
        }
      ]
    },
    {
      "cell_type": "code",
      "source": [
        "#Dense레이어와 relu 활성화 함수 레이어를 별도 적용한 경우\n",
        "model = tf.keras.Sequential([\n",
        "    tf.keras.layers.Dense(128),\n",
        "    tf.keras.layers.Activation('relu')\n",
        "])"
      ],
      "metadata": {
        "id": "_E5-mmDsw7r5"
      },
      "id": "_E5-mmDsw7r5",
      "execution_count": null,
      "outputs": []
    },
    {
      "cell_type": "markdown",
      "source": [
        "### 3-5 입력과 출력\n",
        "- 첫번째 레이어의 입력 데이터의 형태 나타내는 input_shape 지정\n",
        "- 마지막 레이어는 출력층, 출력층의 노드 개수는 반드시 분류해야 할 클래스의 수와 동일해야함"
      ],
      "metadata": {
        "id": "d8d5qfQFxNdW"
      },
      "id": "d8d5qfQFxNdW"
    },
    {
      "cell_type": "code",
      "source": [
        "model = tf.keras.Sequential([\n",
        "    tf.keras.layers.Flatten(input_shape=(28,28)),\n",
        "    tf.keras.layers.Dense(256, activation='relu'),\n",
        "    tf.keras.layers.Dense(64, activation='relu'),\n",
        "    tf.keras.layers.Dense(32, activation='relu'),\n",
        "    tf.keras.layers.Dense(10, activation='softmax') #클래스 개수 = 노드 개수\n",
        "])"
      ],
      "metadata": {
        "id": "8lcaZfygxdz0"
      },
      "id": "8lcaZfygxdz0",
      "execution_count": 47,
      "outputs": []
    },
    {
      "cell_type": "code",
      "source": [
        "#출력층 노드=1, sigmoid\n",
        "tf.keras.layers.Dense(1, activation='sigmoid')\n",
        "\n",
        "#출력층 노드=2개이상, softmax\n",
        "tf.keras.layers.Dense(10, activation='softmax')"
      ],
      "metadata": {
        "colab": {
          "base_uri": "https://localhost:8080/"
        },
        "id": "gcYEpmOQx4OX",
        "outputId": "8b186d80-01a2-418f-aaad-3735613afe51"
      },
      "id": "gcYEpmOQx4OX",
      "execution_count": 48,
      "outputs": [
        {
          "output_type": "execute_result",
          "data": {
            "text/plain": [
              "<keras.layers.core.dense.Dense at 0x7f9421f953d0>"
            ]
          },
          "metadata": {},
          "execution_count": 48
        }
      ]
    },
    {
      "cell_type": "markdown",
      "source": [
        "### 3-6 손실함수"
      ],
      "metadata": {
        "id": "r8GR_l5LyQ43"
      },
      "id": "r8GR_l5LyQ43"
    },
    {
      "cell_type": "code",
      "source": [
        "#이진 분류\n",
        "model.compile(loss='binary_crossentropy')"
      ],
      "metadata": {
        "id": "LFm8A8KkyP2J"
      },
      "id": "LFm8A8KkyP2J",
      "execution_count": 49,
      "outputs": []
    },
    {
      "cell_type": "code",
      "source": [
        "#y가 원핫벡터\n",
        "model.compile(loss='categorical_crossentropy')\n",
        "\n",
        "#y가 원핫벡터 아닐 경우\n",
        "model.compile(loss='sparse_categorical_crossentropy')"
      ],
      "metadata": {
        "id": "QmiNcwzqyZr0"
      },
      "id": "QmiNcwzqyZr0",
      "execution_count": null,
      "outputs": []
    },
    {
      "cell_type": "markdown",
      "source": [
        "### 3-7 옵티마이저\n",
        "- 옵티마이저 : 손실을 낮추기 위해서 신경망의 가중치와 학습률과 같은 신경망의 속성을 변경하는 데 사용되는 최적화 방법"
      ],
      "metadata": {
        "id": "Omh65sPSy1ZW"
      },
      "id": "Omh65sPSy1ZW"
    },
    {
      "cell_type": "code",
      "source": [
        "#클래스 인스턴스로 지지ㅓㅇ\n",
        "adam = tf.keras.optimizers.Adam(lr=0.001)\n",
        "model.compile(optimizer=adam)\n",
        "\n",
        "#문자열로 지정\n",
        "model.compile(optimizer='adam')              "
      ],
      "metadata": {
        "colab": {
          "base_uri": "https://localhost:8080/"
        },
        "id": "bzTBEjMBzAhH",
        "outputId": "69a19e2a-9fc7-4f2b-a1c9-5ac10573e5d8"
      },
      "id": "bzTBEjMBzAhH",
      "execution_count": 50,
      "outputs": [
        {
          "output_type": "stream",
          "name": "stderr",
          "text": [
            "/usr/local/lib/python3.7/dist-packages/keras/optimizers/optimizer_v2/adam.py:110: UserWarning: The `lr` argument is deprecated, use `learning_rate` instead.\n",
            "  super(Adam, self).__init__(name, **kwargs)\n"
          ]
        }
      ]
    },
    {
      "cell_type": "markdown",
      "source": [
        "### 3-8 평가지표"
      ],
      "metadata": {
        "id": "y6PyW326zVQ6"
      },
      "id": "y6PyW326zVQ6"
    },
    {
      "cell_type": "code",
      "source": [
        "#클래스 인스턴스로 지정\n",
        "acc = tf.keras.metrics.SparseCategoricalAccuracy()\n",
        "\n",
        "model.compile(optimizer='adam', loss='sparse_categorical_crossentropy',\n",
        "              metrics=[acc])\n",
        "\n",
        "#문자열로 지정\n",
        "model.compile(optimizer='adam', loss='sparse_categorical_crossentropy',\n",
        "              metrics=['accuracy'])"
      ],
      "metadata": {
        "id": "07yGEJGPzT9M"
      },
      "id": "07yGEJGPzT9M",
      "execution_count": 51,
      "outputs": []
    },
    {
      "cell_type": "markdown",
      "source": [
        "### 3-9 훈련"
      ],
      "metadata": {
        "id": "xx3ITAczz1Vy"
      },
      "id": "xx3ITAczz1Vy"
    },
    {
      "cell_type": "code",
      "source": [
        "model.fit(x_train, y_train, \n",
        "          validation_data=(x_test, y_test),\n",
        "          epochs=10)"
      ],
      "metadata": {
        "colab": {
          "base_uri": "https://localhost:8080/"
        },
        "id": "YQ0ZRip_zv_p",
        "outputId": "b4b8172e-6693-4646-9147-ab7eac174265"
      },
      "id": "YQ0ZRip_zv_p",
      "execution_count": 52,
      "outputs": [
        {
          "output_type": "stream",
          "name": "stdout",
          "text": [
            "Epoch 1/10\n",
            "1875/1875 [==============================] - 12s 6ms/step - loss: 0.2222 - accuracy: 0.9344 - val_loss: 0.1365 - val_accuracy: 0.9569\n",
            "Epoch 2/10\n",
            "1875/1875 [==============================] - 13s 7ms/step - loss: 0.0911 - accuracy: 0.9717 - val_loss: 0.0787 - val_accuracy: 0.9762\n",
            "Epoch 3/10\n",
            "1875/1875 [==============================] - 13s 7ms/step - loss: 0.0668 - accuracy: 0.9789 - val_loss: 0.0805 - val_accuracy: 0.9744\n",
            "Epoch 4/10\n",
            "1875/1875 [==============================] - 14s 7ms/step - loss: 0.0497 - accuracy: 0.9839 - val_loss: 0.0768 - val_accuracy: 0.9749\n",
            "Epoch 5/10\n",
            "1875/1875 [==============================] - 11s 6ms/step - loss: 0.0389 - accuracy: 0.9877 - val_loss: 0.0791 - val_accuracy: 0.9773\n",
            "Epoch 6/10\n",
            "1875/1875 [==============================] - 13s 7ms/step - loss: 0.0337 - accuracy: 0.9891 - val_loss: 0.0736 - val_accuracy: 0.9783\n",
            "Epoch 7/10\n",
            "1875/1875 [==============================] - 12s 6ms/step - loss: 0.0288 - accuracy: 0.9903 - val_loss: 0.0978 - val_accuracy: 0.9760\n",
            "Epoch 8/10\n",
            "1875/1875 [==============================] - 11s 6ms/step - loss: 0.0234 - accuracy: 0.9922 - val_loss: 0.0969 - val_accuracy: 0.9767\n",
            "Epoch 9/10\n",
            "1875/1875 [==============================] - 12s 6ms/step - loss: 0.0244 - accuracy: 0.9922 - val_loss: 0.0872 - val_accuracy: 0.9770\n",
            "Epoch 10/10\n",
            "1875/1875 [==============================] - 11s 6ms/step - loss: 0.0187 - accuracy: 0.9942 - val_loss: 0.0996 - val_accuracy: 0.9753\n"
          ]
        },
        {
          "output_type": "execute_result",
          "data": {
            "text/plain": [
              "<keras.callbacks.History at 0x7f941e13b6d0>"
            ]
          },
          "metadata": {},
          "execution_count": 52
        }
      ]
    },
    {
      "cell_type": "markdown",
      "source": [
        "### 3-10 평가"
      ],
      "metadata": {
        "id": "yFm-sUgm0IaW"
      },
      "id": "yFm-sUgm0IaW"
    },
    {
      "cell_type": "code",
      "source": [
        "test_loss, test_acc = model.evaluate(x_test, y_test)\n",
        "print('검증 셋 정확도 :', test_acc)"
      ],
      "metadata": {
        "colab": {
          "base_uri": "https://localhost:8080/"
        },
        "id": "xYmKbzDi0Gjo",
        "outputId": "abac0670-4dab-4849-bf00-76b3cf4e9fc2"
      },
      "id": "xYmKbzDi0Gjo",
      "execution_count": 53,
      "outputs": [
        {
          "output_type": "stream",
          "name": "stdout",
          "text": [
            "313/313 [==============================] - 1s 4ms/step - loss: 0.0996 - accuracy: 0.9753\n",
            "검증 셋 정확도 : 0.9753000140190125\n"
          ]
        }
      ]
    },
    {
      "cell_type": "markdown",
      "source": [
        "### 3-11 예측"
      ],
      "metadata": {
        "id": "7o84XT0Z0UHk"
      },
      "id": "7o84XT0Z0UHk"
    },
    {
      "cell_type": "code",
      "source": [
        "predictions = model.predict(x_test)"
      ],
      "metadata": {
        "colab": {
          "base_uri": "https://localhost:8080/"
        },
        "id": "MCeiSx_a0ShM",
        "outputId": "8f959f1b-8a1c-4974-e6b0-24d235e3db3a"
      },
      "id": "MCeiSx_a0ShM",
      "execution_count": 54,
      "outputs": [
        {
          "output_type": "stream",
          "name": "stdout",
          "text": [
            "313/313 [==============================] - 1s 4ms/step\n"
          ]
        }
      ]
    },
    {
      "cell_type": "code",
      "source": [
        "predictions[0]"
      ],
      "metadata": {
        "colab": {
          "base_uri": "https://localhost:8080/"
        },
        "id": "2WuWciuG0ZDa",
        "outputId": "1fb2d5dc-0c82-4b1f-980c-0a95d0ffdb99"
      },
      "id": "2WuWciuG0ZDa",
      "execution_count": 55,
      "outputs": [
        {
          "output_type": "execute_result",
          "data": {
            "text/plain": [
              "array([3.4739369e-09, 1.7329010e-07, 9.7639422e-08, 1.5344683e-04,\n",
              "       9.4875841e-10, 1.1515571e-05, 1.3844772e-13, 9.9976778e-01,\n",
              "       1.2118579e-07, 6.6858782e-05], dtype=float32)"
            ]
          },
          "metadata": {},
          "execution_count": 55
        }
      ]
    },
    {
      "cell_type": "markdown",
      "source": [
        "  - 개별 클래스에 대한 분류 확률 값"
      ],
      "metadata": {
        "id": "MfHO5deD0cvp"
      },
      "id": "MfHO5deD0cvp"
    },
    {
      "cell_type": "code",
      "source": [
        "#0번 index에 대한 에측 클래스 출력\n",
        "print(np.argmax(predictions[0]))\n",
        "\n",
        "#첫 10개 index에 대한 에측 클래스 출력\n",
        "print(np.argmax(predictions[:10], axis=1))"
      ],
      "metadata": {
        "colab": {
          "base_uri": "https://localhost:8080/"
        },
        "id": "d3hs03pF0aRR",
        "outputId": "7bc93aee-3e4c-4e44-9e2c-8698b66a3e2e"
      },
      "id": "d3hs03pF0aRR",
      "execution_count": 56,
      "outputs": [
        {
          "output_type": "stream",
          "name": "stdout",
          "text": [
            "7\n",
            "[7 2 1 0 4 1 4 9 5 9]\n"
          ]
        }
      ]
    },
    {
      "cell_type": "code",
      "source": [
        "#15개 예측한 결과에 대한 시각화\n",
        "\n",
        "def get_one_result(idx):\n",
        "  img, y_true, y_pred, confidence = x_test[idx], y_test[idx], np.argmax(predictions[idx]), 100 * np.max(predictions[idx])\n",
        "  return img, y_true, y_pred, confidence\n",
        "\n",
        "#canvas 생성\n",
        "fig, axes = plt.subplots(3,5)\n",
        "fig.set_size_inches(12, 10)\n",
        "for i in range(15):\n",
        "  ax = axes[i//5, i%5]\n",
        "  img, y_true, y_pred, confidence = get_one_result(i)\n",
        "\n",
        "  ax.imshow(img, cmap='gray')\n",
        "  ax.set_xticks([])\n",
        "  ax.set_yticks([])\n",
        "  ax.set_title(f'True: {y_true}')\n",
        "  ax.set_xlabel(f'Predictions : {y_pred}\\nConfidence:({confidence:.2f} %)')\n",
        "\n",
        "plt.tight_layout()\n",
        "plt.show()"
      ],
      "metadata": {
        "colab": {
          "base_uri": "https://localhost:8080/",
          "height": 697
        },
        "id": "GVMg--qo0uHq",
        "outputId": "482b6ab8-71b8-45b1-caaa-e07c8824cf0d"
      },
      "id": "GVMg--qo0uHq",
      "execution_count": 57,
      "outputs": [
        {
          "output_type": "display_data",
          "data": {
            "text/plain": [
              "<Figure size 864x720 with 15 Axes>"
            ],
            "image/png": "[encoded data removed]"
          },
          "metadata": {}
        }
      ]
    },
    {
      "cell_type": "markdown",
      "source": [
        "##4. 모델 세부 설정"
      ],
      "metadata": {
        "id": "44_SJjdr2ftD"
      },
      "id": "44_SJjdr2ftD"
    },
    {
      "cell_type": "markdown",
      "source": [
        "### 4-1 초기값 설정"
      ],
      "metadata": {
        "id": "ow_9H1HB2mhG"
      },
      "id": "ow_9H1HB2mhG"
    },
    {
      "cell_type": "code",
      "source": [
        "dense = tf.keras.layers.Dense(256, activation='relu')\n",
        "dense.get_config()['kernel_initializer']"
      ],
      "metadata": {
        "colab": {
          "base_uri": "https://localhost:8080/"
        },
        "id": "H2ot9b9-1t8H",
        "outputId": "d0df0c25-1f19-4f5d-dc52-2cc53b91073c"
      },
      "id": "H2ot9b9-1t8H",
      "execution_count": 59,
      "outputs": [
        {
          "output_type": "execute_result",
          "data": {
            "text/plain": [
              "{'class_name': 'GlorotUniform', 'config': {'seed': None}}"
            ]
          },
          "metadata": {},
          "execution_count": 59
        }
      ]
    },
    {
      "cell_type": "code",
      "source": [
        "#문자열 초기화\n",
        "dense = tf.keras.layers.Dense(356, kernel_initializer='he_normal', activation='relu')\n",
        "print(dense.get_config()['kernel_initializer'])\n",
        "\n",
        "#클래스 인스턴스 초기화\n",
        "he_normal = tf.keras.initializers.HeNormal()\n",
        "dense = tf.keras.layers.Dense(256, kernel_initializer=he_normal, activation='relu')\n",
        "print(dense.get_config()['kernel_initializer'])"
      ],
      "metadata": {
        "colab": {
          "base_uri": "https://localhost:8080/"
        },
        "id": "lS3uvMYr2yYT",
        "outputId": "ea1f4c44-18d8-44cd-8975-177ed797a284"
      },
      "id": "lS3uvMYr2yYT",
      "execution_count": 61,
      "outputs": [
        {
          "output_type": "stream",
          "name": "stdout",
          "text": [
            "{'class_name': 'HeNormal', 'config': {'seed': None}}\n",
            "{'class_name': 'HeNormal', 'config': {'seed': None}}\n"
          ]
        }
      ]
    },
    {
      "cell_type": "markdown",
      "source": [
        "### 4-2 규제\n",
        "- 과대적합 해소하기 위해 L1, L2 규제 적용하기도 함"
      ],
      "metadata": {
        "id": "BqG1OYS34I3Z"
      },
      "id": "BqG1OYS34I3Z"
    },
    {
      "cell_type": "code",
      "source": [
        "#기본값\n",
        "dense = tf.keras.layers.Dense(256, activation='relu')\n",
        "dense.get_config()"
      ],
      "metadata": {
        "colab": {
          "base_uri": "https://localhost:8080/"
        },
        "id": "G5o7PjoG4Dz3",
        "outputId": "2a3744ea-43d0-4d98-9efe-04b5e4b58fb3"
      },
      "id": "G5o7PjoG4Dz3",
      "execution_count": 62,
      "outputs": [
        {
          "output_type": "execute_result",
          "data": {
            "text/plain": [
              "{'name': 'dense_35',\n",
              " 'trainable': True,\n",
              " 'dtype': 'float32',\n",
              " 'units': 256,\n",
              " 'activation': 'relu',\n",
              " 'use_bias': True,\n",
              " 'kernel_initializer': {'class_name': 'GlorotUniform',\n",
              "  'config': {'seed': None}},\n",
              " 'bias_initializer': {'class_name': 'Zeros', 'config': {}},\n",
              " 'kernel_regularizer': None,\n",
              " 'bias_regularizer': None,\n",
              " 'activity_regularizer': None,\n",
              " 'kernel_constraint': None,\n",
              " 'bias_constraint': None}"
            ]
          },
          "metadata": {},
          "execution_count": 62
        }
      ]
    },
    {
      "cell_type": "code",
      "source": [
        "#L1 규제 적용\n",
        "dense = tf.keras.layers.Dense(256, kernel_regularizer='l1', activation='relu')\n",
        "print(dense.get_config()['kernel_regularizer'])\n",
        "\n",
        "#클래스 인스턴스 적용, alpha=0.1\n",
        "regularizer = tf.keras.regularizers.l1(l1=0.1)\n",
        "dense = tf.keras.layers.Dense(256, kernel_regularizer=regularizer, activation='relu')\n",
        "print(dense.get_config()['kernel_regularizer'])"
      ],
      "metadata": {
        "colab": {
          "base_uri": "https://localhost:8080/"
        },
        "id": "BhEznKN34YRb",
        "outputId": "e4752e30-3ecd-4d7b-cac7-ba957646f3d2"
      },
      "id": "BhEznKN34YRb",
      "execution_count": 67,
      "outputs": [
        {
          "output_type": "stream",
          "name": "stdout",
          "text": [
            "{'class_name': 'L1', 'config': {'l1': 0.009999999776482582}}\n",
            "{'class_name': 'L1', 'config': {'l1': 0.10000000149011612}}\n"
          ]
        }
      ]
    },
    {
      "cell_type": "markdown",
      "source": [
        "### 4-3 드롭 아웃\n",
        "- 딥러닝의 가장 큰 난제 과대적합\n",
        "- 딥러닝 모델의 층이 넓고 깊어질 때 모델은 훈련에 주어진 샘플에 과하게 적합하도록 학습하는 경향이 있음\n",
        "- 모든 노드가 연결된ㄴ 것이 아니라 일부 신호를 임의로 삭제해서 과대적합 되는 것 방지\n",
        "- 훈련할 때만 드롭아웃 적용됨, 예측할 때는 모든 노드 사용"
      ],
      "metadata": {
        "id": "P2lIowUK5BN5"
      },
      "id": "P2lIowUK5BN5"
    },
    {
      "cell_type": "code",
      "source": [
        "#Dropout 25% 비율 적용 ( 25%의 노드가 삭제 )\n",
        "tf.keras.layers.Dropout(0.25)"
      ],
      "metadata": {
        "colab": {
          "base_uri": "https://localhost:8080/"
        },
        "id": "kDZDdxPc45CH",
        "outputId": "1c7f4910-7b26-49d9-ed16-1b7c7564df5f"
      },
      "id": "kDZDdxPc45CH",
      "execution_count": 68,
      "outputs": [
        {
          "output_type": "execute_result",
          "data": {
            "text/plain": [
              "<keras.layers.regularization.dropout.Dropout at 0x7f9422e986d0>"
            ]
          },
          "metadata": {},
          "execution_count": 68
        }
      ]
    },
    {
      "cell_type": "markdown",
      "source": [
        "### 4-4 배치 정규화\n",
        "- 배치 정규화 : 각 층에서 활성화 함수를 통과하기 전 미니 배치의 스케일을 정규화함, 다음 층으로 데이터가 전달되기 전에 스케일을 조정하기 때문에 보다 안정적인 훈련이 가능하고 성능을 크게 향상 시킬 수 있음\n"
      ],
      "metadata": {
        "id": "Q9BG9B6I8ZR1"
      },
      "id": "Q9BG9B6I8ZR1"
    },
    {
      "cell_type": "code",
      "source": [
        "#Model A : Dense + ReLU\n",
        "model_a = tf.keras.Sequential([\n",
        "    tf.keras.layers.Flatten(input_shape=(28,28)),\n",
        "    tf.keras.layers.Dense(64, activation='relu'),\n",
        "    tf.keras.layers.Dense(32, activation='relu'),\n",
        "    tf.keras.layers.Dense(10, activation='softmax')\n",
        "])\n",
        "model_a.summary()"
      ],
      "metadata": {
        "colab": {
          "base_uri": "https://localhost:8080/"
        },
        "id": "_bvU45Qo8X1R",
        "outputId": "98fcdc43-e054-402e-9374-327a84ef1817"
      },
      "id": "_bvU45Qo8X1R",
      "execution_count": 69,
      "outputs": [
        {
          "output_type": "stream",
          "name": "stdout",
          "text": [
            "Model: \"sequential_10\"\n",
            "_________________________________________________________________\n",
            " Layer (type)                Output Shape              Param #   \n",
            "=================================================================\n",
            " flatten_2 (Flatten)         (None, 784)               0         \n",
            "                                                                 \n",
            " dense_42 (Dense)            (None, 64)                50240     \n",
            "                                                                 \n",
            " dense_43 (Dense)            (None, 32)                2080      \n",
            "                                                                 \n",
            " dense_44 (Dense)            (None, 10)                330       \n",
            "                                                                 \n",
            "=================================================================\n",
            "Total params: 52,650\n",
            "Trainable params: 52,650\n",
            "Non-trainable params: 0\n",
            "_________________________________________________________________\n"
          ]
        }
      ]
    },
    {
      "cell_type": "code",
      "source": [
        "#Model B : Dense + BatchNorm + ReLU\n",
        "model_b = tf.keras.Sequential([\n",
        "    tf.keras.layers.Flatten(input_shape=(28,28)),\n",
        "    tf.keras.layers.Dense(64),\n",
        "    #배치 정규화 적용\n",
        "    tf.keras.layers.BatchNormalization(),\n",
        "    #배치 정규화 후 활성화 함수 적용\n",
        "    tf.keras.layers.Activation('relu'),\n",
        "\n",
        "    tf.keras.layers.Dense(32),\n",
        "    #배치 정규화 적용\n",
        "    tf.keras.layers.BatchNormalization(),\n",
        "    #배치 정규화 후 활성화 함수 적용\n",
        "    tf.keras.layers.Activation('relu'),\n",
        "\n",
        "    tf.keras.layers.Dense(10, activation='softmax')\n",
        "])\n",
        "model_b.summary()"
      ],
      "metadata": {
        "colab": {
          "base_uri": "https://localhost:8080/"
        },
        "id": "yIrO3ReR9Aq_",
        "outputId": "e32fbc4a-891d-4715-d6ab-b81f38783783"
      },
      "id": "yIrO3ReR9Aq_",
      "execution_count": 74,
      "outputs": [
        {
          "output_type": "stream",
          "name": "stdout",
          "text": [
            "Model: \"sequential_11\"\n",
            "_________________________________________________________________\n",
            " Layer (type)                Output Shape              Param #   \n",
            "=================================================================\n",
            " flatten_6 (Flatten)         (None, 784)               0         \n",
            "                                                                 \n",
            " dense_48 (Dense)            (None, 64)                50240     \n",
            "                                                                 \n",
            " batch_normalization_3 (Batc  (None, 64)               256       \n",
            " hNormalization)                                                 \n",
            "                                                                 \n",
            " activation_2 (Activation)   (None, 64)                0         \n",
            "                                                                 \n",
            " dense_49 (Dense)            (None, 32)                2080      \n",
            "                                                                 \n",
            " batch_normalization_4 (Batc  (None, 32)               128       \n",
            " hNormalization)                                                 \n",
            "                                                                 \n",
            " activation_3 (Activation)   (None, 32)                0         \n",
            "                                                                 \n",
            " dense_50 (Dense)            (None, 10)                330       \n",
            "                                                                 \n",
            "=================================================================\n",
            "Total params: 53,034\n",
            "Trainable params: 52,842\n",
            "Non-trainable params: 192\n",
            "_________________________________________________________________\n"
          ]
        }
      ]
    },
    {
      "cell_type": "markdown",
      "source": [
        "### 4-5 활성화 함수"
      ],
      "metadata": {
        "id": "AWUxLNJK-wZ7"
      },
      "id": "AWUxLNJK-wZ7"
    },
    {
      "cell_type": "code",
      "source": [
        "#LeakyReLu 기본 설정\n",
        "tf.keras.layers.LeakyReLU()\n",
        "\n",
        "#LeakyReLU, alpha=0.2로 변경\n",
        "tf.keras.layers.LeakyReLU(alpha=0.2) #인스턴스로 선언하여 하이퍼파라미터 적용"
      ],
      "metadata": {
        "colab": {
          "base_uri": "https://localhost:8080/"
        },
        "id": "LB2MxUKx-lk-",
        "outputId": "2a332107-1f5b-4f84-e63c-fb43257c122f"
      },
      "id": "LB2MxUKx-lk-",
      "execution_count": 75,
      "outputs": [
        {
          "output_type": "execute_result",
          "data": {
            "text/plain": [
              "<keras.layers.activation.leaky_relu.LeakyReLU at 0x7f9422e985d0>"
            ]
          },
          "metadata": {},
          "execution_count": 75
        }
      ]
    },
    {
      "cell_type": "code",
      "source": [
        "# Model C : Dense + BatchNorm + LeakyReLU(0.2)\n",
        "model_c = tf.keras.Sequential([\n",
        "    tf.keras.layers.Flatten(input_shape=(28,28)),\n",
        "    tf.keras.layers.Dense(64),\n",
        "    #배치 정규화 적용\n",
        "    tf.keras.layers.BatchNormalization(),\n",
        "    #LeakyReLU, alpha=0.2\n",
        "    tf.keras.layers.LeakyReLU(alpha = 0.2),\n",
        "\n",
        "    tf.keras.layers.Dense(32),\n",
        "    #배치 정규화 적용\n",
        "    tf.keras.layers.BatchNormalization(),\n",
        "    #배치 정규화 후 활성화 함수 적용\n",
        "    tf.keras.layers.LeakyReLU(alpha = 0.2),\n",
        "\n",
        "    tf.keras.layers.Dense(10, activation='softmax')\n",
        "])\n",
        "model_c.summary()"
      ],
      "metadata": {
        "colab": {
          "base_uri": "https://localhost:8080/"
        },
        "id": "Qn0wthzZ_EEh",
        "outputId": "c4d94604-d3f4-4742-c822-69992b6de292"
      },
      "id": "Qn0wthzZ_EEh",
      "execution_count": 77,
      "outputs": [
        {
          "output_type": "stream",
          "name": "stdout",
          "text": [
            "Model: \"sequential_12\"\n",
            "_________________________________________________________________\n",
            " Layer (type)                Output Shape              Param #   \n",
            "=================================================================\n",
            " flatten_8 (Flatten)         (None, 784)               0         \n",
            "                                                                 \n",
            " dense_52 (Dense)            (None, 64)                50240     \n",
            "                                                                 \n",
            " batch_normalization_6 (Batc  (None, 64)               256       \n",
            " hNormalization)                                                 \n",
            "                                                                 \n",
            " leaky_re_lu_2 (LeakyReLU)   (None, 64)                0         \n",
            "                                                                 \n",
            " dense_53 (Dense)            (None, 32)                2080      \n",
            "                                                                 \n",
            " batch_normalization_7 (Batc  (None, 32)               128       \n",
            " hNormalization)                                                 \n",
            "                                                                 \n",
            " leaky_re_lu_3 (LeakyReLU)   (None, 32)                0         \n",
            "                                                                 \n",
            " dense_54 (Dense)            (None, 10)                330       \n",
            "                                                                 \n",
            "=================================================================\n",
            "Total params: 53,034\n",
            "Trainable params: 52,842\n",
            "Non-trainable params: 192\n",
            "_________________________________________________________________\n"
          ]
        }
      ]
    },
    {
      "cell_type": "code",
      "source": [
        "#앞의 3개의 모델 동일한 조건으로 10번 epoch동안 훈련한 후 수렴 속도 확인\n",
        "model_a.compile(optimizer='adam', loss='sparse_categorical_crossentropy', metrics=['accuracy'])\n",
        "model_b.compile(optimizer='adam', loss='sparse_categorical_crossentropy', metrics=['accuracy'])\n",
        "model_c.compile(optimizer='adam', loss='sparse_categorical_crossentropy', metrics=['accuracy'])\n",
        "\n",
        "#Model A\n",
        "history_a = model_a.fit(x_train, y_train, validation_data=(x_test, y_test), epochs=10)\n",
        "\n",
        "#Model B\n",
        "history_b = model_b.fit(x_train, y_train, validation_data=(x_test, y_test), epochs=10)\n",
        "\n",
        "#Model C\n",
        "history_c = model_c.fit(x_train, y_train, validation_data=(x_test, y_test), epochs=10)\n"
      ],
      "metadata": {
        "colab": {
          "base_uri": "https://localhost:8080/"
        },
        "id": "OSOefkVp_gwJ",
        "outputId": "16f5852f-bd98-4919-c8c2-6dd8527b1262"
      },
      "id": "OSOefkVp_gwJ",
      "execution_count": 78,
      "outputs": [
        {
          "output_type": "stream",
          "name": "stdout",
          "text": [
            "Epoch 1/10\n",
            "1875/1875 [==============================] - 11s 6ms/step - loss: 0.2951 - accuracy: 0.9141 - val_loss: 0.1519 - val_accuracy: 0.9560\n",
            "Epoch 2/10\n",
            "1875/1875 [==============================] - 11s 6ms/step - loss: 0.1377 - accuracy: 0.9583 - val_loss: 0.1167 - val_accuracy: 0.9645\n",
            "Epoch 3/10\n",
            "1875/1875 [==============================] - 9s 5ms/step - loss: 0.1009 - accuracy: 0.9692 - val_loss: 0.1307 - val_accuracy: 0.9602\n",
            "Epoch 4/10\n",
            "1875/1875 [==============================] - 10s 5ms/step - loss: 0.0801 - accuracy: 0.9755 - val_loss: 0.0966 - val_accuracy: 0.9708\n",
            "Epoch 5/10\n",
            "1875/1875 [==============================] - 13s 7ms/step - loss: 0.0662 - accuracy: 0.9789 - val_loss: 0.1021 - val_accuracy: 0.9703\n",
            "Epoch 6/10\n",
            "1875/1875 [==============================] - 8s 4ms/step - loss: 0.0552 - accuracy: 0.9823 - val_loss: 0.0922 - val_accuracy: 0.9745\n",
            "Epoch 7/10\n",
            "1875/1875 [==============================] - 8s 4ms/step - loss: 0.0496 - accuracy: 0.9837 - val_loss: 0.1055 - val_accuracy: 0.9692\n",
            "Epoch 8/10\n",
            "1875/1875 [==============================] - 9s 5ms/step - loss: 0.0415 - accuracy: 0.9872 - val_loss: 0.0970 - val_accuracy: 0.9732\n",
            "Epoch 9/10\n",
            "1875/1875 [==============================] - 9s 5ms/step - loss: 0.0349 - accuracy: 0.9887 - val_loss: 0.0936 - val_accuracy: 0.9758\n",
            "Epoch 10/10\n",
            "1875/1875 [==============================] - 10s 5ms/step - loss: 0.0313 - accuracy: 0.9896 - val_loss: 0.0985 - val_accuracy: 0.9746\n",
            "Epoch 1/10\n",
            "1875/1875 [==============================] - 12s 6ms/step - loss: 0.3098 - accuracy: 0.9155 - val_loss: 0.1313 - val_accuracy: 0.9610\n",
            "Epoch 2/10\n",
            "1875/1875 [==============================] - 11s 6ms/step - loss: 0.1399 - accuracy: 0.9573 - val_loss: 0.0965 - val_accuracy: 0.9720\n",
            "Epoch 3/10\n",
            "1875/1875 [==============================] - 11s 6ms/step - loss: 0.1104 - accuracy: 0.9656 - val_loss: 0.0964 - val_accuracy: 0.9696\n",
            "Epoch 4/10\n",
            "1875/1875 [==============================] - 12s 6ms/step - loss: 0.0932 - accuracy: 0.9707 - val_loss: 0.0855 - val_accuracy: 0.9718\n",
            "Epoch 5/10\n",
            "1875/1875 [==============================] - 12s 7ms/step - loss: 0.0833 - accuracy: 0.9724 - val_loss: 0.0921 - val_accuracy: 0.9726\n",
            "Epoch 6/10\n",
            "1875/1875 [==============================] - 11s 6ms/step - loss: 0.0747 - accuracy: 0.9758 - val_loss: 0.0801 - val_accuracy: 0.9747\n",
            "Epoch 7/10\n",
            "1875/1875 [==============================] - 8s 4ms/step - loss: 0.0672 - accuracy: 0.9779 - val_loss: 0.0765 - val_accuracy: 0.9757\n",
            "Epoch 8/10\n",
            "1875/1875 [==============================] - 7s 4ms/step - loss: 0.0624 - accuracy: 0.9797 - val_loss: 0.0752 - val_accuracy: 0.9773\n",
            "Epoch 9/10\n",
            "1875/1875 [==============================] - 8s 4ms/step - loss: 0.0588 - accuracy: 0.9803 - val_loss: 0.0765 - val_accuracy: 0.9766\n",
            "Epoch 10/10\n",
            "1875/1875 [==============================] - 8s 4ms/step - loss: 0.0533 - accuracy: 0.9823 - val_loss: 0.0837 - val_accuracy: 0.9738\n",
            "Epoch 1/10\n",
            "1875/1875 [==============================] - 9s 4ms/step - loss: 0.3213 - accuracy: 0.9107 - val_loss: 0.1602 - val_accuracy: 0.9515\n",
            "Epoch 2/10\n",
            "1875/1875 [==============================] - 7s 4ms/step - loss: 0.1587 - accuracy: 0.9523 - val_loss: 0.1190 - val_accuracy: 0.9617\n",
            "Epoch 3/10\n",
            "1875/1875 [==============================] - 8s 4ms/step - loss: 0.1238 - accuracy: 0.9628 - val_loss: 0.0994 - val_accuracy: 0.9690\n",
            "Epoch 4/10\n",
            "1875/1875 [==============================] - 9s 5ms/step - loss: 0.1056 - accuracy: 0.9665 - val_loss: 0.0899 - val_accuracy: 0.9731\n",
            "Epoch 5/10\n",
            "1875/1875 [==============================] - 8s 4ms/step - loss: 0.0921 - accuracy: 0.9717 - val_loss: 0.0889 - val_accuracy: 0.9719\n",
            "Epoch 6/10\n",
            "1875/1875 [==============================] - 8s 4ms/step - loss: 0.0822 - accuracy: 0.9737 - val_loss: 0.0991 - val_accuracy: 0.9706\n",
            "Epoch 7/10\n",
            "1875/1875 [==============================] - 8s 4ms/step - loss: 0.0751 - accuracy: 0.9756 - val_loss: 0.0891 - val_accuracy: 0.9716\n",
            "Epoch 8/10\n",
            "1875/1875 [==============================] - 9s 5ms/step - loss: 0.0712 - accuracy: 0.9770 - val_loss: 0.0892 - val_accuracy: 0.9725\n",
            "Epoch 9/10\n",
            "1875/1875 [==============================] - 8s 4ms/step - loss: 0.0684 - accuracy: 0.9780 - val_loss: 0.0788 - val_accuracy: 0.9759\n",
            "Epoch 10/10\n",
            "1875/1875 [==============================] - 7s 4ms/step - loss: 0.0657 - accuracy: 0.9786 - val_loss: 0.0778 - val_accuracy: 0.9772\n"
          ]
        }
      ]
    },
    {
      "cell_type": "code",
      "source": [
        "#시각화\n",
        "\n",
        "plt.figure(figsize=(12,9))\n",
        "plt.plot(np.arange(1,11), history_a.history['val_loss'], color='navy', linestyle=':')\n",
        "plt.plot(np.arange(1,11), history_b.history['val_loss'], color='navy', linestyle='-.')\n",
        "plt.plot(np.arange(1,11), history_c.history['val_loss'], color='navy', linestyle='-')\n",
        "\n",
        "plt.title('Losses', fontsize=20)\n",
        "plt.xlabel('epochs')\n",
        "plt.ylabel('Losses')\n",
        "plt.legend(['ReLU', 'BatchNorm + ReLU', 'batchnorom + LeakyReLU'], fontsize=12)\n",
        "plt.show()"
      ],
      "metadata": {
        "colab": {
          "base_uri": "https://localhost:8080/",
          "height": 572
        },
        "id": "bTsZtxjNAINj",
        "outputId": "a8d8fd2c-bfec-4481-c743-62d4650c291d"
      },
      "id": "bTsZtxjNAINj",
      "execution_count": 79,
      "outputs": [
        {
          "output_type": "display_data",
          "data": {
            "text/plain": [
              "<Figure size 864x648 with 1 Axes>"
            ],
            "image/png": "[encoded data removed]"
          },
          "metadata": {
            "needs_background": "light"
          }
        }
      ]
    },
    {
      "cell_type": "code",
      "source": [],
      "metadata": {
        "id": "2phUcitQAv4s"
      },
      "id": "2phUcitQAv4s",
      "execution_count": null,
      "outputs": []
    }
  ],
  "metadata": {
    "kernelspec": {
      "display_name": "Python 3 (ipykernel)",
      "language": "python",
      "name": "python3"
    },
    "language_info": {
      "codemirror_mode": {
        "name": "ipython",
        "version": 3
      },
      "file_extension": ".py",
      "mimetype": "text/x-python",
      "name": "python",
      "nbconvert_exporter": "python",
      "pygments_lexer": "ipython3",
      "version": "3.9.6"
    },
    "colab": {
      "provenance": [],
      "include_colab_link": true
    }
  },
  "nbformat": 4,
  "nbformat_minor": 5
}